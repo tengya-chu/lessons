{
 "cells": [
  {
   "cell_type": "markdown",
   "metadata": {},
   "source": [
    "# Lesson 3.9: Measures of accuracy & Data Imbalance\n",
    "\n",
    "### Lesson Duration: 3 hours\n",
    "\n",
    "> Purpose: The purpose of this lesson is to dive deeper into the concepts of logistic regression including accuracy measures of the model and model assumptions. We will also introduce data imbalance in logistic regression problems and the methods to resolve the problem.\n",
    "\n",
    "---\n",
    "\n",
    "### Setup\n",
    "\n",
    "- All previous set up\n",
    "- Use the Jupyter notebook from the last lesson\n",
    "\n",
    "### Learning Objectives\n",
    "\n",
    "After this lesson, students will be able to:\n",
    "\n",
    "- Measure of accuracy for classification problems\n",
    "- Recognize the assumptions of logistic regression model\n",
    "- Test the assumptions of the model\n",
    "- Identify data imbalance and how to resolve the issue\n",
    "\n",
    "---\n",
    "\n",
    "### Lesson 1 key concepts (word doc added)\n",
    "\n",
    "\n",
    "> :clock10: 20 min\n",
    "\n",
    "Checking model accuracy\n",
    "\n",
    "- Confusion matrix\n",
    "- Precision, Recall\n",
    "- `ROC AUC` curve\n",
    "\n",
    ":exclamation: Note `ROC AUC` curves are defined for binary classification problems. \n",
    "\n",
    "Code Sample: Confusion Matrix"
   ]
  },
  {
   "cell_type": "markdown",
   "metadata": {},
   "source": [
    "We get first the logistic regression model of unit 2.09 (data already cleaned)"
   ]
  },
  {
   "cell_type": "code",
   "execution_count": 10,
   "metadata": {},
   "outputs": [],
   "source": [
    "import pickle"
   ]
  },
  {
   "cell_type": "code",
   "execution_count": 11,
   "metadata": {},
   "outputs": [],
   "source": [
    "with open(\"./files_for_lesson_and_activities/X.pickle\", 'rb') as fp:\n",
    "    X = pickle.load(fp)\n",
    "with open(\"./files_for_lesson_and_activities/y.pickle\", 'rb') as fp:\n",
    "    y = pickle.load(fp)"
   ]
  },
  {
   "cell_type": "code",
   "execution_count": 12,
   "metadata": {},
   "outputs": [],
   "source": [
    "from sklearn.model_selection import train_test_split\n",
    "X_train, X_test, y_train, y_test = train_test_split(X, y, test_size=0.4, random_state=100)"
   ]
  },
  {
   "cell_type": "code",
   "execution_count": 13,
   "metadata": {},
   "outputs": [],
   "source": [
    "from sklearn.linear_model import LogisticRegression\n",
    "classification = LogisticRegression(random_state=0, solver='lbfgs',\n",
    "                  multi_class='ovr', max_iter=500).fit(X_train, y_train)"
   ]
  },
  {
   "cell_type": "code",
   "execution_count": 14,
   "metadata": {},
   "outputs": [],
   "source": [
    "predictions = classification.predict(X_test)"
   ]
  },
  {
   "cell_type": "markdown",
   "metadata": {},
   "source": [
    "**Confusion matrix**"
   ]
  },
  {
   "cell_type": "code",
   "execution_count": 9,
   "metadata": {},
   "outputs": [
    {
     "data": {
      "text/plain": [
       "array([[24721,    77],\n",
       "       [ 3437,   231]], dtype=int64)"
      ]
     },
     "execution_count": 9,
     "metadata": {},
     "output_type": "execute_result"
    }
   ],
   "source": [
    "from sklearn.metrics import confusion_matrix\n",
    "confusion_matrix(y_test, predictions)"
   ]
  },
  {
   "cell_type": "markdown",
   "metadata": {},
   "source": [
    "**Use this [document](files_for_lesson_and_activities/accuracy_measures_classification_models.md)**"
   ]
  },
  {
   "cell_type": "markdown",
   "metadata": {},
   "source": [
    "Code Sample: ROC AUC"
   ]
  },
  {
   "cell_type": "code",
   "execution_count": 40,
   "metadata": {},
   "outputs": [
    {
     "data": {
      "text/plain": [
       "array([0.89729448, 0.10270552])"
      ]
     },
     "execution_count": 40,
     "metadata": {},
     "output_type": "execute_result"
    }
   ],
   "source": [
    "classification.predict_proba(X_test)[0, : ]"
   ]
  },
  {
   "cell_type": "code",
   "execution_count": 49,
   "metadata": {},
   "outputs": [],
   "source": [
    "from sklearn import metrics\n",
    "import matplotlib.pyplot as plt\n",
    "\n",
    "y_pred_proba = classification.predict_proba(X_test)[:, 1]\n",
    "\n"
   ]
  },
  {
   "cell_type": "code",
   "execution_count": 66,
   "metadata": {},
   "outputs": [],
   "source": [
    "predictions2 = []\n",
    "for i in range(len(y_pred_proba)): \n",
    "    if y_pred_proba[i] <= 0.7:\n",
    "        predictions2.append('A')\n",
    "    else:\n",
    "        predictions2.append('B')\n",
    "        "
   ]
  },
  {
   "cell_type": "code",
   "execution_count": 67,
   "metadata": {},
   "outputs": [
    {
     "data": {
      "text/plain": [
       "False"
      ]
     },
     "execution_count": 67,
     "metadata": {},
     "output_type": "execute_result"
    }
   ],
   "source": [
    "import numpy as np\n",
    "\n",
    "np.all(predictions == predictions2)"
   ]
  },
  {
   "cell_type": "code",
   "execution_count": 68,
   "metadata": {},
   "outputs": [
    {
     "data": {
      "text/plain": [
       "array([[24797,     1],\n",
       "       [ 3644,    24]], dtype=int64)"
      ]
     },
     "execution_count": 68,
     "metadata": {},
     "output_type": "execute_result"
    }
   ],
   "source": [
    "confusion_matrix(y_test, predictions2)"
   ]
  },
  {
   "cell_type": "code",
   "execution_count": 69,
   "metadata": {},
   "outputs": [
    {
     "data": {
      "text/plain": [
       "<matplotlib.legend.Legend at 0x1c27ef045c0>"
      ]
     },
     "execution_count": 69,
     "metadata": {},
     "output_type": "execute_result"
    },
    {
     "data": {
      "image/png": "[encoded data removed]",
      "text/plain": [
       "<Figure size 432x288 with 1 Axes>"
      ]
     },
     "metadata": {
      "needs_background": "light"
     },
     "output_type": "display_data"
    }
   ],
   "source": [
    "fpr, tpr, thresholds = metrics.roc_curve(y_test,  y_pred_proba, pos_label='B')\n",
    "auc = metrics.roc_auc_score(y_test, y_pred_proba)\n",
    "\n",
    "plt.plot([0,1], [0,1], linestyle='--', label='No Skill')\n",
    "plt.plot(fpr, tpr, marker='.', label='Logistic')\n",
    "plt.ylabel(\"TPR (True Positive Rate)\")\n",
    "plt.xlabel(\"FPR (False Positive Rate)\")\n",
    "plt.title(\"AUC - Receiver Operating Characteristics\")\n",
    "plt.legend()"
   ]
  },
  {
   "cell_type": "code",
   "execution_count": 33,
   "metadata": {},
   "outputs": [
    {
     "name": "stdout",
     "output_type": "stream",
     "text": [
      "AUC - Receiver Operating Characteristics: 0.76\n"
     ]
    }
   ],
   "source": [
    "auc = metrics.auc(fpr, tpr)\n",
    "print(f\"AUC - Receiver Operating Characteristics: {auc:.2f}\")"
   ]
  },
  {
   "cell_type": "markdown",
   "metadata": {},
   "source": [
    "# 3.09 Activity 1\n",
    "\n",
    "Why `ROC AUC` is a better alternative than accuracy for imbalanced datasets?"
   ]
  },
  {
   "cell_type": "markdown",
   "metadata": {},
   "source": [
    "### Solution"
   ]
  },
  {
   "cell_type": "markdown",
   "metadata": {},
   "source": [
    "`ROC` does not depend on the class distribution. This makes it useful for evaluating classifiers predicting rare events such as diseases or disasters. In contrast, evaluating performance using accuracy (TP + TN)/(TP + TN + FN + FP) would favor classifiers that always predict a negative outcome for rare events."
   ]
  },
  {
   "cell_type": "markdown",
   "metadata": {},
   "source": [
    "### Lesson 2 key concepts\n",
    "\n",
    "> :clock10: 20 min\n",
    "\n",
    "- Revisiting assumptions of linear regression\n",
    "- Some assumptions in linear regression that are not required for logistic regression\n",
    "- Assumptions of logistic regression model\n",
    "\n",
    ":Exclamation: Note to instructor: Students and instructor can use this [additional resource](https://www.lexjansen.com/wuss/2018/130_Final_Paper_PDF.pdf).\n",
    "\n",
    "<details>\n",
    "  <summary> Difference in assumptions between linear regression and logistic regression</summary>\n",
    "\n",
    "- Logistic regression does not need a linear relationship between the dependent and independent variables.\n",
    "- The independent variables do not need to be multivariate normal – although multivariate normality yields a more stable solution.\n",
    "- The error terms (the residuals) do not need to be multivariate normally distributed.\n",
    "- Homoscedasticity is not needed. Logistic regression does not need variances to be heteroscedastic for each level of the independent variable.\n",
    "\n",
    "More info: [][https://www.statisticssolutions.com/wp-content/uploads/wp-post-to-pdf-enhanced-cache/1/assumptions-of-logistic-regression.pdf]\n",
    "\n",
    "\n",
    "Assumptions of logistic regression\n",
    "\n",
    "- Binary logistic regression requires the dependent variable to be binary.\n",
    "- Since logistic regression assumes that `P(Y=1)` is the probability of the event occurring, it is necessary that the dependent variable is coded accordingly. That is, for a binary regression, the factor level 1 of the dependent variable should represent the desired outcome.\n",
    "- The error terms need to be independent.\n",
    "- The model should have little or no multicollinearity. That is that the independent variables should be independent from each other.\n",
    "- Logistic regression assumes linearity of independent variables and log odd.\n",
    "- It requires quite large sample sizes. Some statisticians recommend at least 30 cases for each parameter to be estimated."
   ]
  },
  {
   "cell_type": "markdown",
   "metadata": {},
   "source": [
    "# 3.09 Activity 2\n",
    "\n",
    "Think of some real examples where a logistic regression model can be of a help. Discuss about the variables we would need for the prediction and the assumptions above."
   ]
  },
  {
   "cell_type": "markdown",
   "metadata": {},
   "source": [
    "- If a client will renew a subscription\n",
    "- If a visitor to our online shop will buy or not\n",
    "- If a person will attend a clinical appointment\n",
    "- If an student will fail an exam\n",
    "- ..."
   ]
  },
  {
   "cell_type": "markdown",
   "metadata": {},
   "source": [
    "### Lesson 3 key concepts\n",
    "\n",
    "> :clock10: 20 min\n",
    "\n",
    "Testing the assumptions of the logistic regression\n",
    "\n",
    "- Multicollinearity (already discussed with Linear Regression)\n",
    "- Linear relationship between independent variables and log odds"
   ]
  },
  {
   "cell_type": "markdown",
   "metadata": {},
   "source": [
    "# 3.09 Activity 3\n",
    "\n",
    "Test the assumptions of the logistic regression in the example of `files_for_lab/customer_churn.csv` file.\n",
    "\n",
    "- Multicollinearity?\n",
    "- [Optional] Linear relationship between independent variables and log odds?"
   ]
  },
  {
   "cell_type": "markdown",
   "metadata": {},
   "source": [
    "### Lesson 4 key concepts\n",
    "\n",
    "> :clock10: 20 min\n",
    "\n",
    "- Introduce data imbalance\n",
    "- Methods to resolve data imbalance\n",
    "\n",
    "      - Upsampling methods\n",
    "      - Downsampling methods"
   ]
  },
  {
   "cell_type": "markdown",
   "metadata": {},
   "source": [
    "# 3.09 Activity 4\n",
    "\n",
    "Given the following simulated data, check visually the effects of basic `RandomUnderSampler` and `RandomOverSampler` methods from the `imblearn` library on the data. Do you think it is a good result? How could it be improved?\n",
    "\n",
    "```python\n",
    "import numpy as np\n",
    "import pandas as pd\n",
    "import matplotlib.pyplot as plt\n",
    "import seaborn as sns\n",
    "\n",
    "from imblearn.under_sampling import RandomUnderSampler\n",
    "from imblearn.over_sampling import RandomOverSampler\n",
    "\n",
    "np.random.seed(42) # setting the seed for reproducibility.\n",
    "\n",
    "x1 = list(np.random.normal(0.1, 0.1, 100))\n",
    "x2 = list(np.random.normal(-0.1, 0.1, 100))\n",
    "y = ['Yes']*100\n",
    "df1 = pd.DataFrame({'X1': x1, 'X2': x2, 'Y': y})\n",
    "\n",
    "x1 = list(np.random.normal(-0.1, 0.1, 1000))\n",
    "x2 = list(np.random.normal(0.1, 0.1, 1000))\n",
    "y = ['No']*1000\n",
    "\n",
    "df2 = pd.DataFrame({'X1': x1, 'X2': x2, 'Y': y}) \n",
    "\n",
    "data = pd.concat([df1,df2], axis=0)\n",
    "data = data.sample(frac=1).reset_index(drop=True)\n",
    "\n",
    "data.head()\n",
    "```"
   ]
  },
  {
   "cell_type": "markdown",
   "metadata": {},
   "source": [
    "# Lab | Imbalanced data\n",
    "\n",
    "We will be using the `files_for_lab/customer_churn.csv` dataset to build a churn predictor.\n",
    "\n",
    "### Instructions\n",
    "\n",
    "1. Load the dataset and explore the variables.\n",
    "2. We will try to predict variable `Churn` using a logistic regression on variables `tenure`, `SeniorCitizen`,`MonthlyCharges`.\n",
    "3. Extract the target variable.\n",
    "4. Extract the independent variables and scale them.\n",
    "5. Build the logistic regression model.\n",
    "6. Evaluate the model.\n",
    "7. Even a simple model will give us more than 70% accuracy. Why?\n",
    "8. **Synthetic Minority Oversampling TEchnique (SMOTE)** is an over sampling technique based on nearest neighbors that adds new points between existing points. Apply `imblearn.over_sampling.SMOTE` to the dataset. Build and evaluate the logistic regression model. Is it there any improvement?\n",
    "9. **Tomek links** are pairs of very close instances, but of opposite classes. Removing the instances of the majority class of each pair increases the space between the two classes, facilitating the classification process. Apply `imblearn.under_sampling.TomekLinks` to the dataset. Build and evaluate the logistic regression model. Is it there any improvement?"
   ]
  },
  {
   "cell_type": "code",
   "execution_count": null,
   "metadata": {},
   "outputs": [],
   "source": []
  }
 ],
 "metadata": {
  "kernelspec": {
   "display_name": "Python 3",
   "language": "python",
   "name": "python3"
  },
  "language_info": {
   "codemirror_mode": {
    "name": "ipython",
    "version": 3
   },
   "file_extension": ".py",
   "mimetype": "text/x-python",
   "name": "python",
   "nbconvert_exporter": "python",
   "pygments_lexer": "ipython3",
   "version": "3.7.0"
  }
 },
 "nbformat": 4,
 "nbformat_minor": 4
}
