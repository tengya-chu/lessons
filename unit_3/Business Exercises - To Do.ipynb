{
 "cells": [
  {
   "cell_type": "markdown",
   "id": "e5b37760",
   "metadata": {},
   "source": [
    "# BI Exercises"
   ]
  },
  {
   "cell_type": "markdown",
   "id": "6e4edcd9",
   "metadata": {},
   "source": [
    "## Set Up"
   ]
  },
  {
   "cell_type": "code",
   "execution_count": 1,
   "id": "477ff8fb",
   "metadata": {
    "ExecuteTime": {
     "end_time": "2022-10-25T14:34:34.048664Z",
     "start_time": "2022-10-25T14:34:33.511959Z"
    }
   },
   "outputs": [],
   "source": [
    "%load_ext sql"
   ]
  },
  {
   "cell_type": "code",
   "execution_count": 2,
   "id": "7aafb340",
   "metadata": {
    "ExecuteTime": {
     "end_time": "2022-10-25T14:34:34.061333Z",
     "start_time": "2022-10-25T14:34:34.051153Z"
    }
   },
   "outputs": [],
   "source": [
    "%config SqlMagic.autopandas=True"
   ]
  },
  {
   "cell_type": "code",
   "execution_count": 3,
   "id": "098f627b",
   "metadata": {
    "ExecuteTime": {
     "end_time": "2022-10-25T14:34:34.074011Z",
     "start_time": "2022-10-25T14:34:34.063762Z"
    }
   },
   "outputs": [
    {
     "name": "stderr",
     "output_type": "stream",
     "text": [
      "C:\\Users\\SR133EX\\Anaconda3\\lib\\site-packages\\IPython\\core\\interactiveshell.py:3106: UserWarning: Config option `displaycon` not recognized by `SqlMagic`.  Did you mean `displaylimit`?\n",
      "  has_raised = await self.run_ast_nodes(code_ast.body, cell_name,\n"
     ]
    }
   ],
   "source": [
    "%config SqlMagic.displaycon=False"
   ]
  },
  {
   "cell_type": "code",
   "execution_count": 4,
   "id": "2adbbccb",
   "metadata": {
    "ExecuteTime": {
     "end_time": "2022-10-25T14:34:34.135676Z",
     "start_time": "2022-10-25T14:34:34.120623Z"
    }
   },
   "outputs": [
    {
     "data": {
      "text/plain": [
       "'Connected: @transactions.db'"
      ]
     },
     "execution_count": 4,
     "metadata": {},
     "output_type": "execute_result"
    }
   ],
   "source": [
    "%sql sqlite:///transactions.db"
   ]
  },
  {
   "cell_type": "code",
   "execution_count": 5,
   "id": "b67fa40b",
   "metadata": {
    "ExecuteTime": {
     "end_time": "2022-10-25T14:34:34.775101Z",
     "start_time": "2022-10-25T14:34:34.757342Z"
    }
   },
   "outputs": [
    {
     "name": "stdout",
     "output_type": "stream",
     "text": [
      " * sqlite:///transactions.db\n",
      "Done.\n"
     ]
    },
    {
     "data": {
      "text/html": [
       "<div>\n",
       "<style scoped>\n",
       "    .dataframe tbody tr th:only-of-type {\n",
       "        vertical-align: middle;\n",
       "    }\n",
       "\n",
       "    .dataframe tbody tr th {\n",
       "        vertical-align: top;\n",
       "    }\n",
       "\n",
       "    .dataframe thead th {\n",
       "        text-align: right;\n",
       "    }\n",
       "</style>\n",
       "<table border=\"1\" class=\"dataframe\">\n",
       "  <thead>\n",
       "    <tr style=\"text-align: right;\">\n",
       "      <th></th>\n",
       "      <th>transaction_id</th>\n",
       "      <th>payment_method</th>\n",
       "      <th>seller_id</th>\n",
       "      <th>buyer_id</th>\n",
       "      <th>transaction_date</th>\n",
       "      <th>product_price</th>\n",
       "    </tr>\n",
       "  </thead>\n",
       "  <tbody>\n",
       "    <tr>\n",
       "      <th>0</th>\n",
       "      <td>1294738</td>\n",
       "      <td>1</td>\n",
       "      <td>5107765</td>\n",
       "      <td>5007941</td>\n",
       "      <td>2022-05-11 15:46:38</td>\n",
       "      <td>1410.0</td>\n",
       "    </tr>\n",
       "    <tr>\n",
       "      <th>1</th>\n",
       "      <td>585369</td>\n",
       "      <td>4</td>\n",
       "      <td>4205200</td>\n",
       "      <td>4250752</td>\n",
       "      <td>2021-03-27 15:01:28</td>\n",
       "      <td>800.0</td>\n",
       "    </tr>\n",
       "    <tr>\n",
       "      <th>2</th>\n",
       "      <td>882933</td>\n",
       "      <td>4</td>\n",
       "      <td>581926</td>\n",
       "      <td>4695227</td>\n",
       "      <td>2021-10-20 14:45:11</td>\n",
       "      <td>800.0</td>\n",
       "    </tr>\n",
       "    <tr>\n",
       "      <th>3</th>\n",
       "      <td>1145325</td>\n",
       "      <td>3</td>\n",
       "      <td>536932</td>\n",
       "      <td>4865235</td>\n",
       "      <td>2022-03-06 17:37:04</td>\n",
       "      <td>1616.0</td>\n",
       "    </tr>\n",
       "    <tr>\n",
       "      <th>4</th>\n",
       "      <td>762483</td>\n",
       "      <td>5</td>\n",
       "      <td>432561</td>\n",
       "      <td>4186489</td>\n",
       "      <td>2021-08-06 11:33:12</td>\n",
       "      <td>840.0</td>\n",
       "    </tr>\n",
       "  </tbody>\n",
       "</table>\n",
       "</div>"
      ],
      "text/plain": [
       "   transaction_id  payment_method  seller_id  buyer_id     transaction_date  \\\n",
       "0         1294738               1    5107765   5007941  2022-05-11 15:46:38   \n",
       "1          585369               4    4205200   4250752  2021-03-27 15:01:28   \n",
       "2          882933               4     581926   4695227  2021-10-20 14:45:11   \n",
       "3         1145325               3     536932   4865235  2022-03-06 17:37:04   \n",
       "4          762483               5     432561   4186489  2021-08-06 11:33:12   \n",
       "\n",
       "   product_price  \n",
       "0         1410.0  \n",
       "1          800.0  \n",
       "2          800.0  \n",
       "3         1616.0  \n",
       "4          840.0  "
      ]
     },
     "execution_count": 5,
     "metadata": {},
     "output_type": "execute_result"
    }
   ],
   "source": [
    "%%sql\n",
    "SELECT *\n",
    "FROM transactions\n",
    "LIMIT 5"
   ]
  },
  {
   "cell_type": "code",
   "execution_count": 6,
   "id": "409bf896",
   "metadata": {
    "ExecuteTime": {
     "end_time": "2022-10-25T14:34:36.329451Z",
     "start_time": "2022-10-25T14:34:36.318342Z"
    }
   },
   "outputs": [
    {
     "name": "stdout",
     "output_type": "stream",
     "text": [
      " * sqlite:///transactions.db\n",
      "Done.\n"
     ]
    },
    {
     "data": {
      "text/html": [
       "<div>\n",
       "<style scoped>\n",
       "    .dataframe tbody tr th:only-of-type {\n",
       "        vertical-align: middle;\n",
       "    }\n",
       "\n",
       "    .dataframe tbody tr th {\n",
       "        vertical-align: top;\n",
       "    }\n",
       "\n",
       "    .dataframe thead th {\n",
       "        text-align: right;\n",
       "    }\n",
       "</style>\n",
       "<table border=\"1\" class=\"dataframe\">\n",
       "  <thead>\n",
       "    <tr style=\"text-align: right;\">\n",
       "      <th></th>\n",
       "      <th>user_id</th>\n",
       "      <th>register_date</th>\n",
       "    </tr>\n",
       "  </thead>\n",
       "  <tbody>\n",
       "    <tr>\n",
       "      <th>0</th>\n",
       "      <td>5042412</td>\n",
       "      <td>2022-03-01 21:26:27</td>\n",
       "    </tr>\n",
       "    <tr>\n",
       "      <th>1</th>\n",
       "      <td>707930</td>\n",
       "      <td>2020-09-29 08:33:26</td>\n",
       "    </tr>\n",
       "    <tr>\n",
       "      <th>2</th>\n",
       "      <td>5283835</td>\n",
       "      <td>2022-06-23 11:18:09</td>\n",
       "    </tr>\n",
       "    <tr>\n",
       "      <th>3</th>\n",
       "      <td>4195678</td>\n",
       "      <td>2021-02-24 22:12:15</td>\n",
       "    </tr>\n",
       "    <tr>\n",
       "      <th>4</th>\n",
       "      <td>5370530</td>\n",
       "      <td>2022-08-29 13:53:33</td>\n",
       "    </tr>\n",
       "  </tbody>\n",
       "</table>\n",
       "</div>"
      ],
      "text/plain": [
       "   user_id        register_date\n",
       "0  5042412  2022-03-01 21:26:27\n",
       "1   707930  2020-09-29 08:33:26\n",
       "2  5283835  2022-06-23 11:18:09\n",
       "3  4195678  2021-02-24 22:12:15\n",
       "4  5370530  2022-08-29 13:53:33"
      ]
     },
     "execution_count": 6,
     "metadata": {},
     "output_type": "execute_result"
    }
   ],
   "source": [
    "%%sql\n",
    "SELECT *\n",
    "FROM users\n",
    "LIMIT 5"
   ]
  },
  {
   "cell_type": "markdown",
   "id": "0773f2dc",
   "metadata": {},
   "source": [
    "## Preguntas"
   ]
  },
  {
   "cell_type": "markdown",
   "id": "192250ca",
   "metadata": {},
   "source": [
    "### Agregaciones simples"
   ]
  },
  {
   "cell_type": "markdown",
   "id": "a7e086de",
   "metadata": {
    "tags": []
   },
   "source": [
    "#### Qué procentaje de usuarias registradas han comprado al menos un producto?"
   ]
  },
  {
   "cell_type": "code",
   "execution_count": 7,
   "id": "59b13548-f65b-4a21-947b-7022a41ac08c",
   "metadata": {},
   "outputs": [
    {
     "name": "stdout",
     "output_type": "stream",
     "text": [
      " * sqlite:///transactions.db\n",
      "Done.\n",
      "Returning data to local variable buyer_transactions\n"
     ]
    }
   ],
   "source": [
    "%%sql \n",
    "buyer_transactions <<\n",
    "select user_id, count(distinct transaction_id) as transactions\n",
    "from users u\n",
    "left join transactions t\n",
    "on u.user_id = t.buyer_id\n",
    "group by user_id"
   ]
  },
  {
   "cell_type": "code",
   "execution_count": 8,
   "id": "8a03c6c4-b3bf-43a2-b273-6a67ecfb236d",
   "metadata": {},
   "outputs": [
    {
     "data": {
      "text/plain": [
       "0.9946666666666666"
      ]
     },
     "execution_count": 8,
     "metadata": {},
     "output_type": "execute_result"
    }
   ],
   "source": [
    "buyer_transactions['transactions'] = list(map(lambda x: 1 if x > 0 else 0, buyer_transactions['transactions']))\n",
    "buyer_transactions['transactions'].mean()*100"
   ]
  },
  {
   "cell_type": "markdown",
   "id": "09d23151",
   "metadata": {
    "ExecuteTime": {
     "end_time": "2022-10-25T13:51:58.505277Z",
     "start_time": "2022-10-25T13:48:53.081051Z"
    }
   },
   "source": [
    "#### Qué procentaje de compradoras no están registradas?"
   ]
  },
  {
   "cell_type": "code",
   "execution_count": 31,
   "id": "54ab8f87-3e41-4816-960d-b2363982e8b5",
   "metadata": {},
   "outputs": [
    {
     "name": "stdout",
     "output_type": "stream",
     "text": [
      " * sqlite:///transactions.db\n",
      "Done.\n",
      "Returning data to local variable buyer_registered\n"
     ]
    }
   ],
   "source": [
    "%%sql \n",
    "buyer_registered <<\n",
    "select user_id, count(distinct register_date) as registered\n",
    "from transactions t\n",
    "left join users u\n",
    "on u.user_id = t.buyer_id\n",
    "group by buyer_id"
   ]
  },
  {
   "cell_type": "code",
   "execution_count": 33,
   "id": "23d72516-79f3-4c71-bd15-eeb4b070559b",
   "metadata": {},
   "outputs": [
    {
     "data": {
      "text/html": [
       "<div>\n",
       "<style scoped>\n",
       "    .dataframe tbody tr th:only-of-type {\n",
       "        vertical-align: middle;\n",
       "    }\n",
       "\n",
       "    .dataframe tbody tr th {\n",
       "        vertical-align: top;\n",
       "    }\n",
       "\n",
       "    .dataframe thead th {\n",
       "        text-align: right;\n",
       "    }\n",
       "</style>\n",
       "<table border=\"1\" class=\"dataframe\">\n",
       "  <thead>\n",
       "    <tr style=\"text-align: right;\">\n",
       "      <th></th>\n",
       "      <th>user_id</th>\n",
       "      <th>registered</th>\n",
       "    </tr>\n",
       "  </thead>\n",
       "  <tbody>\n",
       "    <tr>\n",
       "      <th>0</th>\n",
       "      <td>NaN</td>\n",
       "      <td>0</td>\n",
       "    </tr>\n",
       "    <tr>\n",
       "      <th>1</th>\n",
       "      <td>NaN</td>\n",
       "      <td>0</td>\n",
       "    </tr>\n",
       "    <tr>\n",
       "      <th>2</th>\n",
       "      <td>NaN</td>\n",
       "      <td>0</td>\n",
       "    </tr>\n",
       "    <tr>\n",
       "      <th>3</th>\n",
       "      <td>NaN</td>\n",
       "      <td>0</td>\n",
       "    </tr>\n",
       "    <tr>\n",
       "      <th>4</th>\n",
       "      <td>NaN</td>\n",
       "      <td>0</td>\n",
       "    </tr>\n",
       "    <tr>\n",
       "      <th>...</th>\n",
       "      <td>...</td>\n",
       "      <td>...</td>\n",
       "    </tr>\n",
       "    <tr>\n",
       "      <th>24206</th>\n",
       "      <td>NaN</td>\n",
       "      <td>0</td>\n",
       "    </tr>\n",
       "    <tr>\n",
       "      <th>24207</th>\n",
       "      <td>NaN</td>\n",
       "      <td>0</td>\n",
       "    </tr>\n",
       "    <tr>\n",
       "      <th>24208</th>\n",
       "      <td>NaN</td>\n",
       "      <td>0</td>\n",
       "    </tr>\n",
       "    <tr>\n",
       "      <th>24209</th>\n",
       "      <td>NaN</td>\n",
       "      <td>0</td>\n",
       "    </tr>\n",
       "    <tr>\n",
       "      <th>24210</th>\n",
       "      <td>NaN</td>\n",
       "      <td>0</td>\n",
       "    </tr>\n",
       "  </tbody>\n",
       "</table>\n",
       "<p>24211 rows × 2 columns</p>\n",
       "</div>"
      ],
      "text/plain": [
       "       user_id  registered\n",
       "0          NaN           0\n",
       "1          NaN           0\n",
       "2          NaN           0\n",
       "3          NaN           0\n",
       "4          NaN           0\n",
       "...        ...         ...\n",
       "24206      NaN           0\n",
       "24207      NaN           0\n",
       "24208      NaN           0\n",
       "24209      NaN           0\n",
       "24210      NaN           0\n",
       "\n",
       "[24211 rows x 2 columns]"
      ]
     },
     "execution_count": 33,
     "metadata": {},
     "output_type": "execute_result"
    }
   ],
   "source": [
    "buyer_registered"
   ]
  },
  {
   "cell_type": "code",
   "execution_count": 32,
   "id": "e98f766e-4368-46e7-8509-bfa62a3c1a14",
   "metadata": {},
   "outputs": [
    {
     "data": {
      "text/plain": [
       "0.03081244062616166"
      ]
     },
     "execution_count": 32,
     "metadata": {},
     "output_type": "execute_result"
    }
   ],
   "source": [
    "buyer_registered['registered'].mean()"
   ]
  },
  {
   "cell_type": "markdown",
   "id": "66cc4b71",
   "metadata": {},
   "source": [
    "### Retención externa"
   ]
  },
  {
   "cell_type": "markdown",
   "id": "b13a9b48",
   "metadata": {
    "ExecuteTime": {
     "end_time": "2022-10-25T13:54:29.764806Z",
     "start_time": "2022-10-25T13:54:29.760865Z"
    }
   },
   "source": [
    "#### Qué procentaje de usuarias han comprado al menos un producto el mes en el que se registraron?"
   ]
  },
  {
   "cell_type": "code",
   "execution_count": 54,
   "id": "201e4aa6",
   "metadata": {},
   "outputs": [
    {
     "name": "stdout",
     "output_type": "stream",
     "text": [
      " * sqlite:///transactions.db\n",
      "(sqlite3.OperationalError) near \"as\": syntax error\n",
      "[SQL: select user_id, strftime('%Y-%m-01', register_date) as register_month, strftime('%Y-%m-01', transaction_date) as transaction_month, round((julianday(strftime('%Y-%m-01, transaction_date')) - julianday(strftime('%Y-%m-01', reister_sate)) / 30 as integer) from users u left join transactions t on u.user_id = t.buyer_id where transaction_id is not null]\n",
      "(Background on this error at: https://sqlalche.me/e/14/e3q8)\n"
     ]
    }
   ],
   "source": [
    "%%sql\n",
    "test <<\n",
    "select \n",
    "    user_id,\n",
    "    strftime('%Y-%m-01', register_date) as register_month,\n",
    "    strftime('%Y-%m-01', transaction_date) as transaction_month,\n",
    "    round((julianday(strftime('%Y-%m-01, transaction_date')) - julianday(strftime('%Y-%m-01', reister_sate)) / 30 as integer)\n",
    "    \n",
    "from users u\n",
    "left join transactions t \n",
    "on u.user_id = t.buyer_id\n",
    "where transaction_id is not null"
   ]
  },
  {
   "cell_type": "code",
   "execution_count": 55,
   "id": "d40d79c3-9e4f-4962-934f-0adbdd9eda53",
   "metadata": {},
   "outputs": [
    {
     "ename": "NameError",
     "evalue": "name 'retention' is not defined",
     "output_type": "error",
     "traceback": [
      "\u001b[1;31m---------------------------------------------------------------------------\u001b[0m",
      "\u001b[1;31mNameError\u001b[0m                                 Traceback (most recent call last)",
      "Input \u001b[1;32mIn [55]\u001b[0m, in \u001b[0;36m<cell line: 1>\u001b[1;34m()\u001b[0m\n\u001b[1;32m----> 1\u001b[0m \u001b[43mretention\u001b[49m\u001b[38;5;241m.\u001b[39mgroupby([\u001b[38;5;124m'\u001b[39m\u001b[38;5;124mregister_month\u001b[39m\u001b[38;5;124m'\u001b[39m, \u001b[38;5;124m'\u001b[39m\u001b[38;5;124mdatediff\u001b[39m\u001b[38;5;124m'\u001b[39m], dropna\u001b[38;5;241m=\u001b[39m\u001b[38;5;28;01mFalse\u001b[39;00m)[\u001b[38;5;124m'\u001b[39m\u001b[38;5;124mtransaction_month\u001b[39m\u001b[38;5;124m'\u001b[39m]\u001b[38;5;241m.\u001b[39mcount()\n",
      "\u001b[1;31mNameError\u001b[0m: name 'retention' is not defined"
     ]
    }
   ],
   "source": [
    "retention.groupby(['register_month', 'datediff'], dropna=False)['transaction_month'].count()"
   ]
  },
  {
   "cell_type": "markdown",
   "id": "c657ba04",
   "metadata": {},
   "source": [
    "#### Cual fue el mes en el que las usuarias que se registraron convirtieron mejor a sellers? (Vendieron más items). Se mantuvo esta tendencia?"
   ]
  },
  {
   "cell_type": "code",
   "execution_count": null,
   "id": "85a3b4f3",
   "metadata": {},
   "outputs": [],
   "source": []
  },
  {
   "cell_type": "markdown",
   "id": "83013734",
   "metadata": {},
   "source": [
    "### Retención interna"
   ]
  },
  {
   "cell_type": "markdown",
   "id": "2431cec6",
   "metadata": {},
   "source": [
    "#### Ha habido algún mes en el que las usuarias que compraron ese mes no volvieron a comprar el mes siguiente en mayor medida que el resto?"
   ]
  },
  {
   "cell_type": "code",
   "execution_count": null,
   "id": "41eecc8a",
   "metadata": {},
   "outputs": [],
   "source": []
  },
  {
   "cell_type": "markdown",
   "id": "09e807ad",
   "metadata": {},
   "source": [
    "#### Que porcentaje de las compras cada mes están realizadas por usuarias que nunca han comprado? Y por usuarias con más de 3 meses desde su primera compra?"
   ]
  },
  {
   "cell_type": "code",
   "execution_count": null,
   "id": "afd5d216",
   "metadata": {},
   "outputs": [],
   "source": []
  }
 ],
 "metadata": {
  "kernelspec": {
   "display_name": "Python 3 (ipykernel)",
   "language": "python",
   "name": "python3"
  },
  "language_info": {
   "codemirror_mode": {
    "name": "ipython",
    "version": 3
   },
   "file_extension": ".py",
   "mimetype": "text/x-python",
   "name": "python",
   "nbconvert_exporter": "python",
   "pygments_lexer": "ipython3",
   "version": "3.9.12"
  },
  "toc": {
   "base_numbering": 1,
   "nav_menu": {},
   "number_sections": true,
   "sideBar": true,
   "skip_h1_title": false,
   "title_cell": "Table of Contents",
   "title_sidebar": "Contents",
   "toc_cell": false,
   "toc_position": {},
   "toc_section_display": true,
   "toc_window_display": true
  }
 },
 "nbformat": 4,
 "nbformat_minor": 5
}
