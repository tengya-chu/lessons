{
 "cells": [
  {
   "cell_type": "markdown",
   "id": "e5b37760",
   "metadata": {},
   "source": [
    "# BI Exercises"
   ]
  },
  {
   "cell_type": "markdown",
   "id": "6e4edcd9",
   "metadata": {},
   "source": [
    "## Set Up"
   ]
  },
  {
   "cell_type": "code",
   "execution_count": null,
   "id": "477ff8fb",
   "metadata": {
    "ExecuteTime": {
     "end_time": "2022-10-25T14:34:34.048664Z",
     "start_time": "2022-10-25T14:34:33.511959Z"
    }
   },
   "outputs": [],
   "source": [
    "%load_ext sql"
   ]
  },
  {
   "cell_type": "code",
   "execution_count": null,
   "id": "7aafb340",
   "metadata": {
    "ExecuteTime": {
     "end_time": "2022-10-25T14:34:34.061333Z",
     "start_time": "2022-10-25T14:34:34.051153Z"
    }
   },
   "outputs": [],
   "source": [
    "%config SqlMagic.autopandas=True"
   ]
  },
  {
   "cell_type": "code",
   "execution_count": null,
   "id": "098f627b",
   "metadata": {
    "ExecuteTime": {
     "end_time": "2022-10-25T14:34:34.074011Z",
     "start_time": "2022-10-25T14:34:34.063762Z"
    }
   },
   "outputs": [],
   "source": [
    "%config SqlMagic.displaycon=False"
   ]
  },
  {
   "cell_type": "code",
   "execution_count": null,
   "id": "2adbbccb",
   "metadata": {
    "ExecuteTime": {
     "end_time": "2022-10-25T14:34:34.135676Z",
     "start_time": "2022-10-25T14:34:34.120623Z"
    }
   },
   "outputs": [],
   "source": [
    "%sql sqlite:///transactions.db"
   ]
  },
  {
   "cell_type": "code",
   "execution_count": null,
   "id": "b67fa40b",
   "metadata": {
    "ExecuteTime": {
     "end_time": "2022-10-25T14:34:34.775101Z",
     "start_time": "2022-10-25T14:34:34.757342Z"
    }
   },
   "outputs": [],
   "source": [
    "%%sql\n",
    "SELECT *\n",
    "FROM transactions\n",
    "LIMIT 5"
   ]
  },
  {
   "cell_type": "code",
   "execution_count": null,
   "id": "409bf896",
   "metadata": {
    "ExecuteTime": {
     "end_time": "2022-10-25T14:34:36.329451Z",
     "start_time": "2022-10-25T14:34:36.318342Z"
    }
   },
   "outputs": [],
   "source": [
    "%%sql\n",
    "SELECT *\n",
    "FROM users\n",
    "LIMIT 5"
   ]
  },
  {
   "cell_type": "markdown",
   "id": "0773f2dc",
   "metadata": {},
   "source": [
    "## Preguntas"
   ]
  },
  {
   "cell_type": "markdown",
   "id": "192250ca",
   "metadata": {},
   "source": [
    "### Agregaciones simples"
   ]
  },
  {
   "cell_type": "markdown",
   "id": "a7e086de",
   "metadata": {},
   "source": [
    "#### Qué procentaje de usuarias registradas han comprado al menos un producto?"
   ]
  },
  {
   "cell_type": "markdown",
   "id": "09d23151",
   "metadata": {
    "ExecuteTime": {
     "end_time": "2022-10-25T13:51:58.505277Z",
     "start_time": "2022-10-25T13:48:53.081051Z"
    }
   },
   "source": [
    "#### Qué procentaje de compradoras no están registradas?"
   ]
  },
  {
   "cell_type": "code",
   "execution_count": null,
   "id": "1a0ed757",
   "metadata": {},
   "outputs": [],
   "source": []
  },
  {
   "cell_type": "markdown",
   "id": "66cc4b71",
   "metadata": {},
   "source": [
    "### Retención externa"
   ]
  },
  {
   "cell_type": "markdown",
   "id": "b13a9b48",
   "metadata": {
    "ExecuteTime": {
     "end_time": "2022-10-25T13:54:29.764806Z",
     "start_time": "2022-10-25T13:54:29.760865Z"
    }
   },
   "source": [
    "#### Qué procentaje de usuarias han comprado al menos un producto el mes en el que se registró?"
   ]
  },
  {
   "cell_type": "code",
   "execution_count": null,
   "id": "201e4aa6",
   "metadata": {},
   "outputs": [],
   "source": []
  },
  {
   "cell_type": "markdown",
   "id": "c657ba04",
   "metadata": {},
   "source": [
    "#### Cual fue el mes en el que las usuarias que se registraron convirtieron mejor a sellers? (Vendieron más items). Se mantuvo esta tendencia?"
   ]
  },
  {
   "cell_type": "code",
   "execution_count": null,
   "id": "85a3b4f3",
   "metadata": {},
   "outputs": [],
   "source": []
  },
  {
   "cell_type": "markdown",
   "id": "83013734",
   "metadata": {},
   "source": [
    "### Retención interna"
   ]
  },
  {
   "cell_type": "markdown",
   "id": "2431cec6",
   "metadata": {},
   "source": [
    "#### Ha habido algún mes en el que las usuarias que compraron ese mes no volvieron a comprar el mes siguiente en mayor medida que el resto?"
   ]
  },
  {
   "cell_type": "code",
   "execution_count": null,
   "id": "41eecc8a",
   "metadata": {},
   "outputs": [],
   "source": []
  },
  {
   "cell_type": "markdown",
   "id": "09e807ad",
   "metadata": {},
   "source": [
    "#### Que porcentaje de las compras cada mes están realizadas por usuarias que nunca han comprado? Y por usuarias con más de 3 meses desde su primera compra?"
   ]
  },
  {
   "cell_type": "code",
   "execution_count": null,
   "id": "afd5d216",
   "metadata": {},
   "outputs": [],
   "source": []
  }
 ],
 "metadata": {
  "kernelspec": {
   "display_name": "Python 3 (ipykernel)",
   "language": "python",
   "name": "python3"
  },
  "language_info": {
   "codemirror_mode": {
    "name": "ipython",
    "version": 3
   },
   "file_extension": ".py",
   "mimetype": "text/x-python",
   "name": "python",
   "nbconvert_exporter": "python",
   "pygments_lexer": "ipython3",
   "version": "3.10.5"
  },
  "toc": {
   "base_numbering": 1,
   "nav_menu": {},
   "number_sections": true,
   "sideBar": true,
   "skip_h1_title": false,
   "title_cell": "Table of Contents",
   "title_sidebar": "Contents",
   "toc_cell": false,
   "toc_position": {},
   "toc_section_display": true,
   "toc_window_display": true
  }
 },
 "nbformat": 4,
 "nbformat_minor": 5
}
