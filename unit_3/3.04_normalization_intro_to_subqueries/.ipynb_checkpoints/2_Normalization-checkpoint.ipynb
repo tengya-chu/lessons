{
 "cells": [
  {
   "cell_type": "markdown",
   "metadata": {},
   "source": [
    "# Normalization (continued)"
   ]
  },
  {
   "cell_type": "markdown",
   "metadata": {},
   "source": [
    "Process of normalization. Different forms of normalization:\n",
    "\n",
    "- `1NF`: First normal form\n",
    "- `2NF`: Second normal form\n",
    "- `3NF`: Third normal form\n",
    "- `BCNF`: Boyce-Codd normal form\n",
    "\n",
    "When you normalize a database, you start from the general and work towards the specific, applying certain tests along the way. It means decomposing (dividing/breaking down) a \"big\" un-normalized table (file) into several smaller tables by:\n",
    "\n",
    "    - Eliminating insertion, update and delete anomalies\n",
    "    - Establishing functional dependencies\n",
    "    - Removing transitive dependencies\n",
    "    - Reducing non-key data redundancy\n",
    "\n",
    "A relation is in `1NF` if each cell of the relation contains only one value ie each table contains all atomic data items, and also no repeating groups, and a designated primary key (no duplicated rows)."
   ]
  },
  {
   "cell_type": "markdown",
   "metadata": {},
   "source": [
    "# Normalization and functional dependencies\n",
    "\n",
    "Normalization is performed based on the analysis of functional dependencies that are present in a relation. Given that A and B are two sets of attributes, B functionally depends on A, or in other terms, A determines B, if a given value of A uniquely determines the value of B. The functional dependency of B on A is denoted as `A → B` or represented using a dependency diagram as shown in the figure below. A is called \"determinant(s)\" and B is called \"dependent(s)\".\n",
    "\n",
    "![](https://education-team-2020.s3-eu-west-1.amazonaws.com/data-analytics/3.4-normalization_func_depend_img_1.png)\n",
    "\n",
    "In the `PrescriptionFilling` relation, since `PrescriptionID` and `MedicineID` are the primary keys of the `PrescriptionFilling` relation, a given value of the primary key uniquely identifies one record of the relation. Hence, we have the following functional dependency:\n",
    "`PrescriptionID, MedicineID → PharmacyID, PharmacyName, Address, Phone, MedicineName, Description, Quantity, LastPickupDate, and RefillFrequency`.\n",
    "\n",
    "For any relation, this always is a functional dependency that has the primary key attribute(s) as the determinant(s) and the non-key attribute(s) as the dependents. In addition to the functional dependency with the primary key as the determinant(s), we identify the functional dependencies that have a smaller number of determinants than that in the functional dependency with the primary key as the determinant(s).\n",
    "\n",
    "Figure below gives a dependency diagram that shows the three functional dependencies in the `PrescriptionFilling` relation.\n",
    "\n",
    "![](https://education-team-2020.s3-eu-west-1.amazonaws.com/data-analytics/3.4-norm_func_prescription_relation_img_2.png)\n",
    "\n",
    "The `FD3` is a partial functional dependency. In a partial functional dependency, a non-key attribute depends on some, but not all, of the primary key attributes. In the `FD3`, two non-key attributes are determined by `MedicineID`, which is one of the two primary key attributes.\n",
    "The `FD2` is a transitive functional dependency. A transitive functional dependency involves no primary key attribute(s). In the `FD2`, none of the `PharmacyID`, `PharmacyName`, `Address`, and `Phone` attributes are a primary key attribute.\n",
    "\n",
    "The only functional dependency that should be present in a relation is the functional dependency with the primary key as the determinant and all the non-key attributes as the dependents. Additional functional dependencies in the relation, such as partial functional dependency, transitive functional dependency, and any other type of functional dependency, cause data redundancy and data anomalies and should be removed from the relation through normalization.\n",
    "\n",
    "## Normalization\n",
    "\n",
    "In general, if no functional dependencies other than the functional dependency with the primary key as the determinant(s) and all the non-key attributes as the dependents can be identified in a relation, the relation is in a normal form without data redundancy and data anomalies. If multiple functional dependencies are identified in a relation, normalization needs to be performed on the relation to remove the functional dependencies other than the one with the primary key as the determinant(s) and all the non-key attributes as the dependents and thus bring the relation to a normal form without data redundancy and data anomalies\n",
    "Normalization defines the first normal form (`1NF`), the second normal form (`2NF`), the third normal form (`3NF`), the Boyce–Codd normal form (`BCNF`), and so on.\n",
    "A relation is in `1NF` if each cell of the relation contains only one value. The relation shown below is not in `1NF`.\n",
    "\n",
    "![](https://education-team-2020.s3-eu-west-1.amazonaws.com/data-analytics/3.4-norm-func-prescription-relation-img-3.png)\n",
    "\n",
    "**Normalizing to bring `PrescriptionFilling` to `2NF`**\n",
    "\n",
    "![](https://education-team-2020.s3-eu-west-1.amazonaws.com/data-analytics/3.4-norm_func_prescription_relation_img_4.png)\n",
    "\n",
    "If `PrescriptionFilling` and the `Medicine` relations in the figure above are not in `3NF`, then perform the normalization to bring the relations to `3NF`. The `Medicine` relation has one functional dependency with the primary key as the determinant and all the non-key attributes as the dependents. The `Medicine` relation is in `2NF`. The `Medicine` relation does not have any transitive functional dependency. Hence, the `Medicine` relation is in `3NF`.\n",
    "The `PrescriptionFilling` relation has two functional dependencies. The `PrescriptionFilling` relation is in `2NF`. Because the `PrescriptionFilling` relation has a transitive functional dependency, `FD2`, the `PrescriptionFilling` relation is not in `3NF`. We perform the normalization to take out all the attributes in `FD2` and put them in a new relation, `Pharmacy`, while keeping `PharmacyID` in the `PrescriptionFilling` relation as a foreign key.\n",
    "\n",
    "![](https://education-team-2020.s3-eu-west-1.amazonaws.com/data-analytics/3.4-norm_func_prescription_relation_img_5.png)\n",
    "\n",
    "Now each relation is in `3NF` and has only one functional dependency with the primary key as the determinant and all the non-key attributes as the dependents. A relation is in `BCNF` if the relation is in `3NF` and does not have any functional dependency whose determinant(s) is not the primary key.\n"
   ]
  },
  {
   "cell_type": "markdown",
   "metadata": {},
   "source": [
    "### Additional Resources\n",
    "\n",
    "- [Normalization](https://condor.depaul.edu/gandrus/240IT/accesspages/normalization3.htm)"
   ]
  },
  {
   "cell_type": "code",
   "execution_count": null,
   "metadata": {},
   "outputs": [],
   "source": []
  }
 ],
 "metadata": {
  "kernelspec": {
   "display_name": "Python 3",
   "language": "python",
   "name": "python3"
  },
  "language_info": {
   "codemirror_mode": {
    "name": "ipython",
    "version": 3
   },
   "file_extension": ".py",
   "mimetype": "text/x-python",
   "name": "python",
   "nbconvert_exporter": "python",
   "pygments_lexer": "ipython3",
   "version": "3.7.0"
  }
 },
 "nbformat": 4,
 "nbformat_minor": 4
}
