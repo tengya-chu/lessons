{
 "cells": [
  {
   "cell_type": "markdown",
   "metadata": {},
   "source": [
    "![logo_ironhack_blue 7](ironhack.png)\n",
    "\n",
    "# LAB 3.08 - Multiclass classification. Logistic Regression. \n",
    "\n",
    "In this study we are going to use the Linear Model from Sklearn library to perform Multi class Logistic Regression. We are going to use handwritten digit's dataset from Sklearn. [Optical recognition of handwritten digits dataset](https://scikit-learn.org/stable/auto_examples/classification/plot_digits_classification.html)\n",
    "\n"
   ]
  },
  {
   "cell_type": "markdown",
   "metadata": {},
   "source": [
    "# Introduction\n",
    "When the target variable has more than two categories, multi-class regression is used for classification. For e.g. mail classification as (primary, social, promotions, forums). We are going to use One Vs Rest (OVR) algorithm.\n",
    " \n",
    "This is also called as one vs all algorithm. As the name suggests, with this algorithm, we choose one class and put all other classes into second virtual class and run the binary logistic regression on it. We repeat this procedure for all the classes in the dataset. So we actually end up with binary classifiers designed to recognize each class in a dataset.\n",
    " \n",
    "For prediction on given data, our algorithm returns probabilities for each class in the dataset and whichever class has the highest probability is our prediction."
   ]
  },
  {
   "cell_type": "markdown",
   "metadata": {},
   "source": [
    "# Problem Statement\n",
    "The data set contains images of hand-written digits: 10 classes where each class refers to a digit(0 to 9). **The objective** of our model is to predict the correct digit from 0 to 9, based on given handwritten image of digit."
   ]
  },
  {
   "cell_type": "markdown",
   "metadata": {},
   "source": [
    "# Questions\n",
    "\n",
    "1. Load the data\n",
    "```python\n",
    "    from sklearn import datasets\n",
    "    digits_df = datasets.load_digits()\n",
    "```    \n",
    "2. Understand and explore the dataset\n",
    "     - What's in the field \"data\" of the dataset ?\n",
    "     - What's in the filed \"images of our\" dataset ?\n",
    "     - Can you identify the model features and the model target for training ?\n",
    "3. Visualize the dataset. Hint: Use matplotlib.pyplot.matshow on images.\n",
    "4. Build the Machine Learning Model\n",
    "    -  Create the feature array X and the target vector y.\n",
    "    -  Create the Test And Train Datasets.\n",
    "    -  Apply multi-class Logistic Regression Using OVR (Use sklearn.linear_model.LogisticRegression with parameters multi_class='ovr', solver='liblinear') and **train the model** (model.fit(X_train, y_train)).\n",
    "5. Test the model\n",
    "    - Predict the value of digit 200 from test data. Use Use matplotlib.pyplot.matshow to show the image of the digit 200.\n",
    "    - What is the score of the model developed ?\n",
    "    - Show and plot the confusion matrix ? What do the different elements in the matrix mean? Why it is useful ?\n",
    "    - Calculate and describe the performance metrics by creating a classification report from the confussion matrix.\n",
    "\n",
    "    "
   ]
  },
  {
   "cell_type": "markdown",
   "metadata": {},
   "source": [
    "# Import Libraries\n",
    "* pandas: Used for data manipulation and analysis\n",
    "* numpy : Numpy is the core library for scientific computing in Python. It is used for working with arrays and matrices.\n",
    "* matplotlib : It's plotting library, and we are going to use it for data visualization\n",
    "* datasets: Here we are going to use 'load_digits' dataset\n",
    "* model_selection: Here we are going to use model_selection.train_test_split() for splitting the data\n",
    "* linear_model: Here we are going to linear_model.LogisticRegression() for classification\n",
    "* metrics: Here we are going use metrics.plot_confusion_matrix() and metrics.classification_report() for model analysis"
   ]
  },
  {
   "cell_type": "code",
   "execution_count": 11,
   "metadata": {
    "_cell_guid": "79c7e3d0-c299-4dcb-8224-4455121ee9b0",
    "_uuid": "d629ff2d2480ee46fbb7e2d37f6b5fab8052498a"
   },
   "outputs": [],
   "source": [
    "import pandas as pd\n",
    "import numpy as np\n",
    "import matplotlib.pyplot as plt\n",
    "from sklearn import datasets\n",
    "from sklearn import model_selection\n",
    "from sklearn import linear_model\n",
    "from sklearn import metrics"
   ]
  }
 ],
 "metadata": {
  "kernelspec": {
   "display_name": "Python 3",
   "language": "python",
   "name": "python3"
  },
  "language_info": {
   "codemirror_mode": {
    "name": "ipython",
    "version": 3
   },
   "file_extension": ".py",
   "mimetype": "text/x-python",
   "name": "python",
   "nbconvert_exporter": "python",
   "pygments_lexer": "ipython3",
   "version": "3.7.0"
  }
 },
 "nbformat": 4,
 "nbformat_minor": 4
}
