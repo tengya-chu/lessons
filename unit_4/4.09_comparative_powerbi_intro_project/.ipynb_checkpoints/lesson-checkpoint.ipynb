{
 "cells": [
  {
   "cell_type": "markdown",
   "metadata": {},
   "source": [
    "# Lesson 4.9: Creating a comparative report\n",
    "\n",
    "### Lesson Duration: 3 hours\n",
    "\n",
    "> Purpose: The purpose of this lesson is to introduce more PowerBI visual features \n",
    "including _creating bins_, _donut charts_, _cards_, \n",
    "adding more than one visual to a single page and using filters across plots on the page. \n",
    "---\n",
    "\n",
    "### Setup\n",
    "\n",
    "- All previous set up\n",
    "\n",
    "### Learning Objectives\n",
    "\n",
    "After this lesson, students will be able to:\n",
    "\n",
    "- Create bins from numerical columns \n",
    "- Aggregate appropriate values into tooltips and cards\n",
    "- Set up filters which operate across visuals on a single report\n",
    "- Use drill-throughs to arrive at business insights\n",
    "- Feel confident with the formatting options to construct a single usable report summary page in PowerBI \n",
    "- Familiarize yourself to the project and methodology which you will be working on next\n",
    "\n",
    "Note: you will have to choose a project (out of the two choices available) by the end of the lesson.\n",
    "If we end this lesson soon, you can also start working on the project. For the  final project, you will be able to choose a topic of your own choice. \n",
    "You should choose a project where you can showcase your skills well, learned during the bootcamp.\n",
    "\n",
    "---\n",
    "\n",
    "### Lesson 1 key concepts\n",
    "\n",
    "> :clock10: 20 min\n",
    "\n",
    "- Create two donut charts\n",
    "- Set up the tooltips\n",
    "\n",
    "\n",
    "Code Sample:\n",
    "\n",
    "- We will use the file `files_for_lesson_and_activities/finalMergedFile.csv`. We have already looked at the dataset before (A/B Testing dataset)\n",
    "- In this exercise, we are trying to compare Control and Test Variations along with the number of clients who were present in the different steps in the complete process.\n",
    "- PowerBI workbook is included in the lesson materials \n",
    "\n",
    "Steps:\n",
    "1. choose donut chart visualization type \n",
    "2. process step on legend, distinct count of visitor id or client id on values (NOTE, do not use visit id - this will include multiple visits in one confirmation process)\n",
    "3. this plot should be adjusted to fill half of the page- and then a second donut chart created with the same contents will take up the other half \n",
    "4. filter one plot to variation = Test, the other to variation = Control \n",
    "5. you can hide the legend on the second plot, but add the titles to reflect the variation selected on each plot \n",
    "6. on the tooltips - drop average balance and distinct count of clients \n",
    "7. verify the tooltips and plots visually \n",
    "\n",
    "**2 donut charts**\n",
    "\n",
    "![2 plots donut charts](https://education-team-2020.s3.eu-west-1.amazonaws.com/data-analytics/4.9-images/4.09-2_donuts.png)\n",
    "\n",
    "![donut chart configuration](https://education-team-2020.s3.eu-west-1.amazonaws.com/data-analytics/4.9-images/4.09-configure_donut.png)"
   ]
  },
  {
   "cell_type": "markdown",
   "metadata": {},
   "source": [
    "# 4.09 Activity 1\n",
    "\n",
    "- Continuing with the previous workbook using `files_for_activities/finalMergedFile.csv` in PowerBI\n",
    "- Choosing visualization type: funnel - create funnel of process step and distinct count of client id \n",
    "- Replicate the same plot on the same page as you have seen in class\n",
    "- Using the formatting menu, change the color of each plot to differentiate them\n",
    "- Using the general properties of the formatting menu, add a centre aligned title for each visualization to clarify what each plot shows\n",
    "- Adjust so that the two plots sit nicely on the same page \n",
    "- Add a column of your choice to the tooltip of one of the plots and hover over the funnel to validate the tooltip and other information present\n",
    "- Change the aggregation type of the tooltip value if required"
   ]
  },
  {
   "cell_type": "markdown",
   "metadata": {},
   "source": [
    "  - See [activity 1 example image](https://education-team-2020.s3.eu-west-1.amazonaws.com/data-analytics/4.9-images/4.09-9_1_example.png)."
   ]
  },
  {
   "cell_type": "markdown",
   "metadata": {},
   "source": [
    "### Lesson 2 key concepts\n",
    "\n",
    "> :clock10: 20 min\n",
    "\n",
    "- Filtering across visuals \n",
    "\n",
    "Code Sample:\n",
    "\n",
    "- In this exercise, we are adding a filter which applies to multiple plots on one page \n",
    "- ensure you are not removing the filter applying directly to each plot based on Variation \n",
    "- add the date/time : month filter to the **filters on this page** tab. the first one will be a hidden filter which pre-selects the relevant months\n",
    "- explain to the students why having a hidden filter will make the page filter more usable (and prevent them selecting months that are irrelevant)\n",
    "- note that the date hierarchy is built for the full year, but only a subset of months are found in this data set \n",
    "- this could also be dealt with using power query but applying a hidden filter is a neat solution \n",
    "- the second filter is the visible basic filter of the sub set of months \n",
    "\n",
    "\n",
    "Note: Play around with the features to learn more. \n",
    "\n",
    "![hidden page filter](https://education-team-2020.s3.eu-west-1.amazonaws.com/data-analytics/4.9-images/4.09-hidden_page_filter.png)\n",
    "\n",
    "![visible duplicate page filter](https://education-team-2020.s3.eu-west-1.amazonaws.com/data-analytics/4.9-images/4.09-visible_page_filter.png)"
   ]
  },
  {
   "cell_type": "markdown",
   "metadata": {},
   "source": [
    "# 4.09 Activity 2\n",
    "\n",
    "- Continuing with the previous workbook and data source \n",
    "- Add a gender filter to the page for the funnel plots you created in the previous activity \n",
    "- Choose and add a value column filter to the page \n",
    "- Test both filters to confirm they are working as expected \n",
    "- Identify at least 2 data insights based on the filters a"
   ]
  },
  {
   "cell_type": "markdown",
   "metadata": {},
   "source": [
    "  - See [activity 2 example image](https://education-team-2020.s3.eu-west-1.amazonaws.com/data-analytics/4.9-images/4.09-9_2_example.png)."
   ]
  },
  {
   "cell_type": "markdown",
   "metadata": {},
   "source": [
    "### Lesson 3 key concepts\n",
    "\n",
    "> :clock10: 20 min\n",
    "\n",
    "- Create bins using the \"new group\" option.\n",
    "- apply the bin as a drill down feature to both plots\n",
    "\n",
    "Code Sample:\n",
    "\n",
    "  - Now we will create bins from the measure Client Age. We will see the distribution of how many people participating in the AB experiment, within each age group.\n",
    "  - PowerBi workbook in the lesson folder\n",
    "  - select the **`clnt_age`** field and create New_group \n",
    "  - give the bin an appropriate name \n",
    "  - create bins of size 10 \n",
    "  - add the new age bins field as a drill through - note this field will be used as a category\n",
    "  - select keep all filters ON if not already selected \n",
    "  - expand the drill through to see the age distribution and select a couple of age groups to drill \n",
    "  - to finish the report add and configure a card for each report - filtered for the appropriate process step - which shows a distinct count of clients completing the process\n",
    "  - ensure the title of the report sits between both cards and the page is attractively arranged. \n",
    "  - Before completing this lesson, the AB test results should be validated statistically. For this you can use a [free AB test significance calculator online](https://vwo.com/tools/ab-test-significance-calculator/) or utilize the statistical capabilities of python in **statsmodels**\n",
    "  - depending on the method and results found of statistical significance of the test, you may need to return to the AB test slides/ case study to reconsider if the objectives of the test have been met (ie was the test successful?)\n",
    "  - for ideas in reviewing the AB test you can use this article : https://www.dynamicyield.com/lesson/no-failed-ab-tests/\n",
    "\n",
    "Note: Explore the age groups and discusse the trends observed in class about the AB test today. \n",
    "  Insights should be as specific as possible, business orientated, potentially actionable, and focus on the differences observed between the test and control groups \n",
    "  along with other data points for comparison (age, date, gender). Rephrase all insights from the starting point of 'in the AB test we observed that...from which we can learn / do / change... '\n",
    "\n",
    "  ![creating_bins_age](https://education-team-2020.s3.eu-west-1.amazonaws.com/data-analytics/4.9-images/4.09-client_age_bins.png)\n",
    "\n",
    "  ![card and title arrangement](https://education-team-2020.s3.eu-west-1.amazonaws.com/data-analytics/4.9-images/4.09-card_title.png)"
   ]
  },
  {
   "cell_type": "markdown",
   "metadata": {},
   "source": [
    "# 4.09 Activity 3\n",
    "\n",
    "- Add gender as a drill through to the funnel plots \n",
    "- Create a group (bin) based on client tenure (months) \n",
    "- Add a single card to the page, showing the minimum balance \n",
    "- Using the formatting menu change the text color to a highlight (eg. orange) and place the card in white space on the page \n",
    "- Add a visible black border to the card \n",
    "- At what stage does the card update from the funnel plots ? what does that tell you? \n",
    "  Optional - add a max balance, average or median balance card too \n",
    "- Spend some time working on your reports page, exploring the formatting options"
   ]
  },
  {
   "cell_type": "markdown",
   "metadata": {},
   "source": [
    "- See [example resulting funnel report](https://education-team-2020.s3.eu-west-1.amazonaws.com/data-analytics/4.9-images/4.09-example_activity3.png)."
   ]
  },
  {
   "cell_type": "markdown",
   "metadata": {},
   "source": [
    "### Lesson 4: Mid-Bootcamp Project Intro\n",
    "\n",
    "> :clock10: 20 min\n",
    "\n",
    "Introduce Mid-bootcamp Project and Assessment\n",
    "\n",
    "- Intro & Discuss each project brief and its objectives\n",
    "- Discuss what is expected of the students: Deliverables and timeline\n",
    "- Tell them about the parameters on which the students will be graded: Evaluation Criteria and feedback structures\n",
    "\n",
    "**Deliverable**\n",
    "\n",
    "- The students will be required to upload the project on git hub.\n",
    "- The repo should be properly organized with the proper use of folders and naming conventions for the folders\n",
    "- Make sure that the students update the Readme.md document in the repo describing the project, its purpose, and also briefly describing the methodology used to solve the problems\n",
    "\n",
    "Discuss the strategy that they can use to plan for the targets/goals for each day of the week\n",
    "- Introduce agile: values, kanban, and rituals.\n",
    "- Introduce some tools they can use to make their work more effective.\n",
    "- Introduce (lightly) the idea of learnings + next steps, retrospectives, MVPs, and scoping.\n",
    "\n",
    "> Optional [Slides](https://docs.google.com/presentation/d/1zWa1rrhr8CxyLynC4nEBPnTBaxflUMo5YUzG1KtICf0/edit?usp=sharing) on agile and PM\n",
    "\n",
    "Note: Spend some time to learn more about the projects. By the end of the day, you should tell the instructor or the TA about the project you have picked and the day by day plan for the next week."
   ]
  },
  {
   "cell_type": "markdown",
   "metadata": {},
   "source": [
    "**Project 1 Details:**\n",
    "\n",
    "Note: Please check the Student Campus for info on the two projects"
   ]
  },
  {
   "cell_type": "markdown",
   "metadata": {},
   "source": [
    "# Lab | Comparative report with PowerBi\n",
    "\n",
    "Refer to the same data source from the previous lab [Marketing_Customer_Analysis](https://github.com/ironhack-labs/lab-comparative-report-with-powerbi/blob/master/files_for_lab) for this lab.\n",
    "\n",
    "### Instructions\n",
    "\n",
    "1. Create a new column called Client_Rating and group customers into Low, Medium or High based on their Monthly_Premium: \n",
    "    - Monthly premium less than 70 is Low \n",
    "    - Monthly premium greater than 150 is High \n",
    "    - Monthly premium between 70 and 150 is Medium \n",
    "2. Now that we have classified clients by their monthly premium let's create a one page report depicting the following information: \n",
    "    - How many clients fall under each Client_rating and what is the average Customer Lifetime Value of each rating group? \n",
    "    - Show average total claim by client rating and is there a contrast between number of clients in rating and total claim amount? \n",
    "3. Include a chart on a different topic: on the same report page create a chart (Tip: Use a matrix (crosstab) or map) showing those clients with only a High school diploma or below and who have a customer lifetime value greater than 2000. How many clients fall in this category and which States are they from ? \n",
    "4. Use the card feature to show the total number of clients on the same report page and tidy up your report to remove any visual clutter,  edit and format chart titles so that the report is easy to use and navigate. \n",
    "5. Test your report to ensure expected interactivity works - ideally the summary card will update when you click on the other charts. \n"
   ]
  },
  {
   "cell_type": "code",
   "execution_count": null,
   "metadata": {},
   "outputs": [],
   "source": []
  }
 ],
 "metadata": {
  "kernelspec": {
   "display_name": "Python 3",
   "language": "python",
   "name": "python3"
  },
  "language_info": {
   "codemirror_mode": {
    "name": "ipython",
    "version": 3
   },
   "file_extension": ".py",
   "mimetype": "text/x-python",
   "name": "python",
   "nbconvert_exporter": "python",
   "pygments_lexer": "ipython3",
   "version": "3.7.0"
  }
 },
 "nbformat": 4,
 "nbformat_minor": 4
}
