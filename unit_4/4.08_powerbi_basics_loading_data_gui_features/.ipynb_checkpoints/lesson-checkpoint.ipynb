{
 "cells": [
  {
   "cell_type": "markdown",
   "metadata": {},
   "source": [
    "# Lesson 4.8: Data Analysis with PowerBI\n",
    "\n",
    "### Lesson Duration: 3 hours\n",
    "\n",
    "> Purpose: The purpose of this lesson is to get familiar with the interface, explore the different features available, understand terminology of PowerBI. We will also start conducting some preliminary data analysis with the tool. There is a workbook to accompany the lesson in this folder. \n",
    "\n",
    "---\n",
    "\n",
    "### Setup\n",
    "\n",
    "- All previous set up\n",
    "- PowerBI installed\n",
    "- access to merged data file created from AB test data, using python, in the last lesson (share copy if necessary)\n",
    "\n",
    "### Learning Objectives\n",
    "\n",
    "After this lesson, students will be able to:\n",
    "\n",
    "- Navigate around the PowerBI interface confidently \n",
    "- Differentiate: report, data, model view\n",
    "- Awareness of possible transformation steps and how to add/ remove / reorder steps \n",
    "- When and how to use powerquery features\n",
    "- Get more data and detect relationships between tables\n",
    "- How to apply filters to reports\n",
    "- Edit and add more details to the visualizations\n",
    "- Work with aggregation types\n",
    "- Review visualizations to gain insights about the case study"
   ]
  },
  {
   "cell_type": "markdown",
   "metadata": {},
   "source": [
    "### Lesson 1 key concepts\n",
    "\n",
    "> :clock10: 20 min\n",
    "\n",
    "- Discuss different views available in PowerBI\n",
    "  - Get data `filemergedfile.csv`: recent sources are available from landing page\n",
    "  - Load stages\n",
    "  - 3 views (navigate from top left) - report, data, model\n",
    "  - explore the toolbars and menus \n",
    "  - discuss with the class what data tasks could be accomplished in each view \n",
    "  - from reports or model view > Transform data \n",
    "- Transform Data (power query)\n",
    "  - Review and discuss the steps that have already been applied by selecting step and clicking on the cog + review the query window \n",
    "  - Delete the latest step, revert this delete by closing transformation menu and discarding changes\n",
    "  - Add a new transformation step - change DateTime column to datetime data type by clicking on the data type icon above the DateTime column. Note the transform step resulted in errors on a large number of rows.\n",
    "  - This happens because the dates are US locale formatting ie M/D/YY not D/M/YY. Remove this step because it causes errors\n",
    "  - Click on the data type symbol to see the options again - select the **Using locale...** option\n",
    "  - Select data type date/time and locale english(united states) to find the data format match\n",
    "  - After creating the step, rename it appropriately and ensure it is the last step of the transformations (show how to reorder and discuss with class the impact of moving this one to an earlier step- wider concept of **dependencies up / downstream**)\n",
    "  - Draw attention the query window for that step\n",
    "  - add one more transformation step - client age to whole number - and rename that step\n",
    "  - use this opportunity to explore the transformation options and Q&A with class - why to use these options and when ? \n",
    "  - class q&a - why is it helpful to rename the transformations? \n",
    "  - Close & Apply (and other options) "
   ]
  },
  {
   "cell_type": "markdown",
   "metadata": {},
   "source": [
    "# 4.08 Activity 1\n",
    "\n",
    "- get data `files_for_activities/finalMergedFile.csv` into PowerBI\n",
    "- Explore the PowerBI report, data and model views.\n",
    "- add a powerquery transformation step to the **DateTime** column as the instructor has shown you (if not already done in class), for the appropriate locale \n",
    "- rename the step for transparency\n",
    "- add a powerquery transformation step to filter out rows for customers with less than 5 years **Tenure**\n",
    "- rename the step for transparency\n",
    "- using **Replace Values** on the transformation ribbon, replace the X gender values with U \n",
    "- rename the step for transparency\n",
    "- review the steps, selecting them in order to see the transformation queries and incremental changes\n",
    "- close and apply those transformations"
   ]
  },
  {
   "cell_type": "markdown",
   "metadata": {},
   "source": [
    "### Solution (images)"
   ]
  },
  {
   "cell_type": "markdown",
   "metadata": {},
   "source": [
    "![activities solution image - tenure](https://education-team-2020.s3.eu-west-1.amazonaws.com/data-analytics/4.8-images/4.8-remove_tenure_4.PNG)\n",
    "\n",
    "![activities solution image - gender](https://education-team-2020.s3.eu-west-1.amazonaws.com/data-analytics/4.8-images/4.8-replace_values_gender.PNG)"
   ]
  },
  {
   "cell_type": "markdown",
   "metadata": {},
   "source": [
    "### Lesson 2 key concepts\n",
    "\n",
    "> :clock10: 20 min\n",
    "\n",
    "\n",
    "- Get more data sources - demonstrate adding the new source 'df_final_experiment_clients.csv' \n",
    "- Auto detect relationships between tables/sources\n",
    "- navigation - how to show data for each source in Data view by selecting the sources under Fields on the right side\n",
    "- Model view and properties - cardinality (notes below) \n",
    "- create summary table showing the number of clients (count distinct) in each source for class discussion - why are the numbers different? \n",
    "- Remove relationship if not needed "
   ]
  },
  {
   "cell_type": "markdown",
   "metadata": {},
   "source": [
    "**Cardinality**\n",
    "\n",
    "This will recall what the students have learnt in SQL. Cardinality of relationships between sources has been detected and can be in the model view by clicking on the relationship and choosing Properties. \n",
    "  - the star indicates many - in this case there are many records with that client ID \n",
    "  - the 1 indicates 1 record. In this case for each transactional record in the merged table (visitID, date_time) there is only one client ID  "
   ]
  },
  {
   "cell_type": "markdown",
   "metadata": {},
   "source": [
    "# 4.08 Activity 2\n",
    "\n",
    "- Continuing with the data source `files_for_activities/finalMergedFile.csv` in PowerBI\n",
    "- Get more data - as you saw in the lesson, bring in the `df_final_experiment_clients.csv` file\n",
    "- Explore the model view\n",
    "- Get more data - adding `df_final_web_data_pt_1.csv` - add a transformation step which retains only the **Confirm** process step \n",
    "- Close and apply\n",
    "- Review the model view - how do the relationships differ between the tables? Has a relationship between the two recently added sources been detected?\n",
    "- If no relationship exists go into *Manage Relationships* > *New relationship* > *Add relationship* 1 to many from client in `df_final_experiment_clients.csv` and client in `df_final_web_data_pt_1.csv`\n",
    "- Remove the relationship detected from the previous step between `df_final_experiment_clients.csv` to the `finalMergedFile.csv` but retain the relationship between the two raw data sources \n",
    "- Create a summary table showing the total number of clients cross referenced to the total number of clients who reached the confirm step in the experiment (test or control) using count distinct in each case\n",
    "- Rename the measures for this visual only to make it clearer"
   ]
  },
  {
   "cell_type": "markdown",
   "metadata": {},
   "source": [
    "![activities solution image 1](https://education-team-2020.s3.eu-west-1.amazonaws.com/data-analytics/4.8-images/4.8-only_confirms.png)\n",
    "\n",
    "![activities solution image 2](https://education-team-2020.s3.eu-west-1.amazonaws.com/data-analytics/4.8-images/4.8-modelled_relationships.png)\n",
    "\n",
    "![activities solution image 3](https://education-team-2020.s3.eu-west-1.amazonaws.com/data-analytics/4.8-images/4.8-clients_confirm_table.png)"
   ]
  },
  {
   "cell_type": "markdown",
   "metadata": {},
   "source": [
    "### Lesson 3 key concepts\n",
    "\n",
    "> :clock10: 20 min\n",
    "\n",
    "- Create a area plot ready for filtering as \n",
    "\tcount of distinct client id on primary Y axis \n",
    "\tcount of distinct visit id on secondary Y axis \n",
    "\tprocess step on X \n",
    "- demonstrate how to sync the axis using the formatting menus of Y and secondary Y and set them to the same limit\n",
    "- fixing the axis will also make it easier to see the result of the filtering \n",
    "- discuss what the plot reveals \n",
    "- use the formatting menu to amend the plot colors (Lines>Colors) to be contrasting \n",
    "- demonstrate the Filters pane \n",
    "- add filter Variation to page as Basic filter\n",
    "- add second filter `clnt_tenure_year` to page as Advanced filter \n",
    "- rename field `clnt_tenure_yr` to Client Tenure (Years) to update the filter appearance\n",
    "- as an example - select only clients with more than 10 years Tenure. \n",
    "- explore the other filtering options in this pane \n",
    "- show or hide filter pane \n",
    "- update the title of the page to show that filters have been applied \n",
    "- class discussion - what insights have we gathered from these plots ? \n",
    "\n",
    "**Images from PowerBI**\n",
    "\n",
    "![basic_filter](https://education-team-2020.s3.eu-west-1.amazonaws.com/data-analytics/4.8-images/4.8-basic_filter.png)\n",
    "\n",
    "![tenure_filter](https://education-team-2020.s3.eu-west-1.amazonaws.com/data-analytics/4.8-images/4.8-tenure_filter.png)"
   ]
  },
  {
   "cell_type": "markdown",
   "metadata": {},
   "source": [
    "# 4.08 Activity 3\n",
    "\n",
    "- Create a tree map plot on a new page of your workbook\n",
    "- Tree map will display client balance by gender  \n",
    "- Select balance first then gender to create the view \n",
    "- Add a basic filter for variation \n",
    "- Add an advanced filter for client age > 80 "
   ]
  },
  {
   "cell_type": "markdown",
   "metadata": {},
   "source": [
    "### Solution"
   ]
  },
  {
   "cell_type": "markdown",
   "metadata": {},
   "source": [
    "https://education-team-2020.s3.eu-west-1.amazonaws.com/data-analytics/4.8-images/4.8-basic_treemap.png"
   ]
  },
  {
   "cell_type": "markdown",
   "metadata": {},
   "source": [
    "### Lesson 4 key concepts\n",
    "\n",
    "> :clock10: 20 min\n",
    "\n",
    "- On a new page, create a scatter plot as a way of demonstrating adding detail to visualizations\n",
    "- X axis - client tenure months\n",
    "- Y axis - balance \n",
    "- Values - Month (from Date hierarchy) \n",
    "- Legend - also Month \n",
    "- rename columns as appropriate or use the formatting pane to rename the axis \n",
    "- ask the class what other changes they want to the view from the formatting pane \n",
    "- Do the aggregations look correct ? what do the axis tell us ? \n",
    "- change the aggregation of the values on X and Y axes as appropriate (suggest Average) - because we are looking at the totals per month right now \n",
    "- add more detail to Values for the plot - Day in place of Month (keep month on Legend to see the color), Number of Accounts on Size, Process Step on Play Axis\n",
    "- Review visualizations after each change to discuss which insights can be taken about the case study"
   ]
  },
  {
   "cell_type": "markdown",
   "metadata": {},
   "source": [
    "# 4.08 Activity 4\n",
    "\n",
    "- Following on from the previous activity \n",
    "- Break down the treemap by more detail by adding variation to details \n",
    "- Check your variation filter to select both variations \n",
    "- Remove variation detail\n",
    "- Break this plot down by client age (details)\n",
    "- Change your filter to see the changes in the plot \n",
    "- Set the filters as > client age > 80, variation = test\n",
    "- Add the count distinct of clients to the tooltip \n",
    "- Change the aggregation type of balance in the tree map and consider what each plot shows you about these clients"
   ]
  },
  {
   "cell_type": "markdown",
   "metadata": {},
   "source": [
    "https://education-team-2020.s3.eu-west-1.amazonaws.com/data-analytics/4.8-images/4.8-treemap_activity.png"
   ]
  },
  {
   "cell_type": "markdown",
   "metadata": {},
   "source": [
    "# Lab | Analytics with PowerBI\n",
    "\n",
    "Refer to the data source [Marketing_Customer_Analysis.csv](https://github.com/ironhack-labs/lab-analytics-with-powerbi/tree/master/files_for_lab) for this lab\n",
    "\n",
    "### Instructions \n",
    "\n",
    "1. Using Power Query, transform the \"Effective_to_date\" column to the date format MM/DD/YYYY and convert \"Total_claim_amount\" to currency with 2 decimal places.\n",
    "2. Plot a bar chart showing the following aggregations by gender. (Keep same colors for each gender on all charts)\n",
    "    - Average Monthly Premium \n",
    "    - Sum of Total Claim amount \n",
    "    - Number of open policies \n",
    "3. Using an appropriate chart show which policy type has the largest number of open complaints and filter this by marriage status.\n",
    "4. Use maps to show which states have generated the most revenue. Highlight number of clients in these states on the tool tip and use response as a filter. \n",
    "5. Use a Treemap to show the number of clients in each education level and filter to clients with college degrees\n",
    "6. Use tables to show the: \n",
    "    - Sales Channel by average Lifetime_values \n",
    "    - Marital status by number of policies \n",
    "7. Now let's analyze these tables further by creating the following crosstabs (Matrix): \n",
    "    - Sales Channel by Average lifetime value and number of clients per sales channel\n",
    "    - Marital status with number policies open by gender "
   ]
  },
  {
   "cell_type": "markdown",
   "metadata": {},
   "source": [
    "### Solution"
   ]
  },
  {
   "cell_type": "markdown",
   "metadata": {},
   "source": [
    "https://github.com/ironhack-edu/data-bootcamp/blob/b2b-ey/01-lesson_plans/04-unit_adv_data_processing_KNN_powerbi/4.08_powerbi_basics_loading_data_gui_features/files_for_lesson_and_activities/data_analytics_with_powerbi_solutions.pbix"
   ]
  }
 ],
 "metadata": {
  "kernelspec": {
   "display_name": "Python 3",
   "language": "python",
   "name": "python3"
  },
  "language_info": {
   "codemirror_mode": {
    "name": "ipython",
    "version": 3
   },
   "file_extension": ".py",
   "mimetype": "text/x-python",
   "name": "python",
   "nbconvert_exporter": "python",
   "pygments_lexer": "ipython3",
   "version": "3.7.0"
  }
 },
 "nbformat": 4,
 "nbformat_minor": 4
}
