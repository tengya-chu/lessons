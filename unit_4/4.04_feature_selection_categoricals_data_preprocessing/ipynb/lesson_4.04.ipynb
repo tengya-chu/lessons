{
 "cells": [
  {
   "cell_type": "code",
   "execution_count": 1,
   "metadata": {},
   "outputs": [],
   "source": [
    "import pandas as pd\n",
    "import numpy as np\n",
    "import datetime\n",
    "import warnings\n",
    "warnings.filterwarnings('ignore')\n",
    "warnings.filterwarnings(\"ignore\", message=\"numpy.ufunc size changed\")\n",
    "import matplotlib.pyplot as plt\n",
    "import seaborn as sns\n",
    "%matplotlib inline"
   ]
  },
  {
   "cell_type": "code",
   "execution_count": 2,
   "metadata": {},
   "outputs": [],
   "source": [
    "plt.rcParams[\"figure.figsize\"] = [10, 15]"
   ]
  },
  {
   "cell_type": "code",
   "execution_count": 3,
   "metadata": {},
   "outputs": [],
   "source": [
    "pd.set_option('display.max_columns', None)"
   ]
  },
  {
   "cell_type": "code",
   "execution_count": 5,
   "metadata": {},
   "outputs": [],
   "source": [
    "data = pd.read_csv('unit4.csv')"
   ]
  },
  {
   "cell_type": "code",
   "execution_count": 6,
   "metadata": {},
   "outputs": [],
   "source": [
    "data_copy = data.copy()"
   ]
  },
  {
   "cell_type": "code",
   "execution_count": 7,
   "metadata": {},
   "outputs": [],
   "source": [
    "# We will use data_copy to show the students some code that we have talked about earlier , just for recap"
   ]
  },
  {
   "cell_type": "code",
   "execution_count": 62,
   "metadata": {},
   "outputs": [
    {
     "data": {
      "text/plain": [
       "H    49646\n",
       "     21051\n",
       "U    19872\n",
       "Name: HOMEOWNR, dtype: int64"
      ]
     },
     "execution_count": 62,
     "metadata": {},
     "output_type": "execute_result"
    }
   ],
   "source": [
    "data.HOMEOWNR.value_counts()"
   ]
  },
  {
   "cell_type": "code",
   "execution_count": null,
   "metadata": {},
   "outputs": [],
   "source": [
    "def clean_gender_col(x):\n",
    "    if x in ['',' ' ,'U', 'C', 'J', 'A']:\n",
    "        return 'other'\n",
    "    else:\n",
    "        return x"
   ]
  },
  {
   "cell_type": "code",
   "execution_count": 64,
   "metadata": {},
   "outputs": [
    {
     "ename": "TypeError",
     "evalue": "<lambda>() got an unexpected keyword argument 'inplace'",
     "output_type": "error",
     "traceback": [
      "\u001b[0;31m---------------------------------------------------------------------------\u001b[0m",
      "\u001b[0;31mTypeError\u001b[0m                                 Traceback (most recent call last)",
      "\u001b[0;32m<ipython-input-64-78892c2b2817>\u001b[0m in \u001b[0;36m<module>\u001b[0;34m\u001b[0m\n\u001b[0;32m----> 1\u001b[0;31m \u001b[0mdata\u001b[0m\u001b[0;34m[\u001b[0m\u001b[0;34m'GENDER'\u001b[0m\u001b[0;34m]\u001b[0m\u001b[0;34m.\u001b[0m\u001b[0mapply\u001b[0m\u001b[0;34m(\u001b[0m\u001b[0;32mlambda\u001b[0m \u001b[0mx\u001b[0m\u001b[0;34m:\u001b[0m \u001b[0;34m'other'\u001b[0m \u001b[0;32mif\u001b[0m \u001b[0mx\u001b[0m \u001b[0;32min\u001b[0m \u001b[0;34m[\u001b[0m\u001b[0;34m''\u001b[0m\u001b[0;34m,\u001b[0m\u001b[0;34m' '\u001b[0m \u001b[0;34m,\u001b[0m\u001b[0;34m'U'\u001b[0m\u001b[0;34m,\u001b[0m \u001b[0;34m'C'\u001b[0m\u001b[0;34m,\u001b[0m \u001b[0;34m'J'\u001b[0m\u001b[0;34m,\u001b[0m \u001b[0;34m'A'\u001b[0m\u001b[0;34m]\u001b[0m \u001b[0;32melse\u001b[0m \u001b[0mx\u001b[0m\u001b[0;34m,\u001b[0m \u001b[0minplace\u001b[0m\u001b[0;34m=\u001b[0m\u001b[0;32mTrue\u001b[0m\u001b[0;34m)\u001b[0m\u001b[0;34m\u001b[0m\u001b[0;34m\u001b[0m\u001b[0m\n\u001b[0m",
      "\u001b[0;32m~/.local/share/virtualenvs/Ironhack-OdDBNwqQ/lib/python3.7/site-packages/pandas/core/series.py\u001b[0m in \u001b[0;36mapply\u001b[0;34m(self, func, convert_dtype, args, **kwds)\u001b[0m\n\u001b[1;32m   3846\u001b[0m             \u001b[0;32melse\u001b[0m\u001b[0;34m:\u001b[0m\u001b[0;34m\u001b[0m\u001b[0;34m\u001b[0m\u001b[0m\n\u001b[1;32m   3847\u001b[0m                 \u001b[0mvalues\u001b[0m \u001b[0;34m=\u001b[0m \u001b[0mself\u001b[0m\u001b[0;34m.\u001b[0m\u001b[0mastype\u001b[0m\u001b[0;34m(\u001b[0m\u001b[0mobject\u001b[0m\u001b[0;34m)\u001b[0m\u001b[0;34m.\u001b[0m\u001b[0mvalues\u001b[0m\u001b[0;34m\u001b[0m\u001b[0;34m\u001b[0m\u001b[0m\n\u001b[0;32m-> 3848\u001b[0;31m                 \u001b[0mmapped\u001b[0m \u001b[0;34m=\u001b[0m \u001b[0mlib\u001b[0m\u001b[0;34m.\u001b[0m\u001b[0mmap_infer\u001b[0m\u001b[0;34m(\u001b[0m\u001b[0mvalues\u001b[0m\u001b[0;34m,\u001b[0m \u001b[0mf\u001b[0m\u001b[0;34m,\u001b[0m \u001b[0mconvert\u001b[0m\u001b[0;34m=\u001b[0m\u001b[0mconvert_dtype\u001b[0m\u001b[0;34m)\u001b[0m\u001b[0;34m\u001b[0m\u001b[0;34m\u001b[0m\u001b[0m\n\u001b[0m\u001b[1;32m   3849\u001b[0m \u001b[0;34m\u001b[0m\u001b[0m\n\u001b[1;32m   3850\u001b[0m         \u001b[0;32mif\u001b[0m \u001b[0mlen\u001b[0m\u001b[0;34m(\u001b[0m\u001b[0mmapped\u001b[0m\u001b[0;34m)\u001b[0m \u001b[0;32mand\u001b[0m \u001b[0misinstance\u001b[0m\u001b[0;34m(\u001b[0m\u001b[0mmapped\u001b[0m\u001b[0;34m[\u001b[0m\u001b[0;36m0\u001b[0m\u001b[0;34m]\u001b[0m\u001b[0;34m,\u001b[0m \u001b[0mSeries\u001b[0m\u001b[0;34m)\u001b[0m\u001b[0;34m:\u001b[0m\u001b[0;34m\u001b[0m\u001b[0;34m\u001b[0m\u001b[0m\n",
      "\u001b[0;32mpandas/_libs/lib.pyx\u001b[0m in \u001b[0;36mpandas._libs.lib.map_infer\u001b[0;34m()\u001b[0m\n",
      "\u001b[0;32m~/.local/share/virtualenvs/Ironhack-OdDBNwqQ/lib/python3.7/site-packages/pandas/core/series.py\u001b[0m in \u001b[0;36mf\u001b[0;34m(x)\u001b[0m\n\u001b[1;32m   3831\u001b[0m \u001b[0;34m\u001b[0m\u001b[0m\n\u001b[1;32m   3832\u001b[0m             \u001b[0;32mdef\u001b[0m \u001b[0mf\u001b[0m\u001b[0;34m(\u001b[0m\u001b[0mx\u001b[0m\u001b[0;34m)\u001b[0m\u001b[0;34m:\u001b[0m\u001b[0;34m\u001b[0m\u001b[0;34m\u001b[0m\u001b[0m\n\u001b[0;32m-> 3833\u001b[0;31m                 \u001b[0;32mreturn\u001b[0m \u001b[0mfunc\u001b[0m\u001b[0;34m(\u001b[0m\u001b[0mx\u001b[0m\u001b[0;34m,\u001b[0m \u001b[0;34m*\u001b[0m\u001b[0margs\u001b[0m\u001b[0;34m,\u001b[0m \u001b[0;34m**\u001b[0m\u001b[0mkwds\u001b[0m\u001b[0;34m)\u001b[0m\u001b[0;34m\u001b[0m\u001b[0;34m\u001b[0m\u001b[0m\n\u001b[0m\u001b[1;32m   3834\u001b[0m \u001b[0;34m\u001b[0m\u001b[0m\n\u001b[1;32m   3835\u001b[0m         \u001b[0;32melse\u001b[0m\u001b[0;34m:\u001b[0m\u001b[0;34m\u001b[0m\u001b[0;34m\u001b[0m\u001b[0m\n",
      "\u001b[0;31mTypeError\u001b[0m: <lambda>() got an unexpected keyword argument 'inplace'"
     ]
    }
   ],
   "source": [
    "data['GENDER'].apply(lambda x: 'other' if x in ['',' ' ,'U', 'C', 'J', 'A'] else x, inplace=True)"
   ]
  },
  {
   "cell_type": "code",
   "execution_count": 60,
   "metadata": {
    "scrolled": true
   },
   "outputs": [
    {
     "data": {
      "text/html": [
       "<div>\n",
       "<style scoped>\n",
       "    .dataframe tbody tr th:only-of-type {\n",
       "        vertical-align: middle;\n",
       "    }\n",
       "\n",
       "    .dataframe tbody tr th {\n",
       "        vertical-align: top;\n",
       "    }\n",
       "\n",
       "    .dataframe thead th {\n",
       "        text-align: right;\n",
       "    }\n",
       "</style>\n",
       "<table border=\"1\" class=\"dataframe\">\n",
       "  <thead>\n",
       "    <tr style=\"text-align: right;\">\n",
       "      <th></th>\n",
       "      <th>STATE</th>\n",
       "      <th>PVASTATE</th>\n",
       "      <th>DOB</th>\n",
       "      <th>MDMAUD</th>\n",
       "      <th>RECP3</th>\n",
       "      <th>GENDER</th>\n",
       "      <th>DOMAIN</th>\n",
       "      <th>INCOME</th>\n",
       "      <th>HOMEOWNR</th>\n",
       "      <th>HV1</th>\n",
       "      <th>HV2</th>\n",
       "      <th>HV3</th>\n",
       "      <th>HV4</th>\n",
       "      <th>IC1</th>\n",
       "      <th>IC2</th>\n",
       "      <th>IC3</th>\n",
       "      <th>IC4</th>\n",
       "      <th>IC5</th>\n",
       "      <th>VETERANS</th>\n",
       "      <th>NUMPROM</th>\n",
       "      <th>CARDPROM</th>\n",
       "      <th>CARDPM12</th>\n",
       "      <th>NUMPRM12</th>\n",
       "      <th>MAXADATE</th>\n",
       "      <th>RFA_2</th>\n",
       "      <th>NGIFTALL</th>\n",
       "      <th>TIMELAG</th>\n",
       "      <th>AVGGIFT</th>\n",
       "    </tr>\n",
       "  </thead>\n",
       "  <tbody>\n",
       "    <tr>\n",
       "      <th>0</th>\n",
       "      <td>IL</td>\n",
       "      <td></td>\n",
       "      <td>3712</td>\n",
       "      <td>XXXX</td>\n",
       "      <td></td>\n",
       "      <td>F</td>\n",
       "      <td>T2</td>\n",
       "      <td>NaN</td>\n",
       "      <td></td>\n",
       "      <td>479</td>\n",
       "      <td>635</td>\n",
       "      <td>3</td>\n",
       "      <td>2</td>\n",
       "      <td>307</td>\n",
       "      <td>318</td>\n",
       "      <td>349</td>\n",
       "      <td>378</td>\n",
       "      <td>12883</td>\n",
       "      <td></td>\n",
       "      <td>74</td>\n",
       "      <td>27</td>\n",
       "      <td>6</td>\n",
       "      <td>14</td>\n",
       "      <td>9702</td>\n",
       "      <td>L4E</td>\n",
       "      <td>31</td>\n",
       "      <td>4.0</td>\n",
       "      <td>7.741935</td>\n",
       "    </tr>\n",
       "    <tr>\n",
       "      <th>1</th>\n",
       "      <td>CA</td>\n",
       "      <td></td>\n",
       "      <td>5202</td>\n",
       "      <td>XXXX</td>\n",
       "      <td></td>\n",
       "      <td>M</td>\n",
       "      <td>S1</td>\n",
       "      <td>6.0</td>\n",
       "      <td>H</td>\n",
       "      <td>5468</td>\n",
       "      <td>5218</td>\n",
       "      <td>12</td>\n",
       "      <td>10</td>\n",
       "      <td>1088</td>\n",
       "      <td>1096</td>\n",
       "      <td>1026</td>\n",
       "      <td>1037</td>\n",
       "      <td>36175</td>\n",
       "      <td></td>\n",
       "      <td>32</td>\n",
       "      <td>12</td>\n",
       "      <td>6</td>\n",
       "      <td>13</td>\n",
       "      <td>9702</td>\n",
       "      <td>L2G</td>\n",
       "      <td>3</td>\n",
       "      <td>18.0</td>\n",
       "      <td>15.666667</td>\n",
       "    </tr>\n",
       "    <tr>\n",
       "      <th>2</th>\n",
       "      <td>NC</td>\n",
       "      <td></td>\n",
       "      <td>0</td>\n",
       "      <td>XXXX</td>\n",
       "      <td></td>\n",
       "      <td>M</td>\n",
       "      <td>R2</td>\n",
       "      <td>3.0</td>\n",
       "      <td>U</td>\n",
       "      <td>497</td>\n",
       "      <td>546</td>\n",
       "      <td>2</td>\n",
       "      <td>1</td>\n",
       "      <td>251</td>\n",
       "      <td>292</td>\n",
       "      <td>292</td>\n",
       "      <td>340</td>\n",
       "      <td>11576</td>\n",
       "      <td></td>\n",
       "      <td>63</td>\n",
       "      <td>26</td>\n",
       "      <td>6</td>\n",
       "      <td>14</td>\n",
       "      <td>9702</td>\n",
       "      <td>L4E</td>\n",
       "      <td>27</td>\n",
       "      <td>12.0</td>\n",
       "      <td>7.481481</td>\n",
       "    </tr>\n",
       "    <tr>\n",
       "      <th>3</th>\n",
       "      <td>CA</td>\n",
       "      <td></td>\n",
       "      <td>2801</td>\n",
       "      <td>XXXX</td>\n",
       "      <td></td>\n",
       "      <td>F</td>\n",
       "      <td>R2</td>\n",
       "      <td>1.0</td>\n",
       "      <td>U</td>\n",
       "      <td>1000</td>\n",
       "      <td>1263</td>\n",
       "      <td>2</td>\n",
       "      <td>1</td>\n",
       "      <td>386</td>\n",
       "      <td>388</td>\n",
       "      <td>396</td>\n",
       "      <td>423</td>\n",
       "      <td>15130</td>\n",
       "      <td></td>\n",
       "      <td>66</td>\n",
       "      <td>27</td>\n",
       "      <td>6</td>\n",
       "      <td>14</td>\n",
       "      <td>9702</td>\n",
       "      <td>L4E</td>\n",
       "      <td>16</td>\n",
       "      <td>9.0</td>\n",
       "      <td>6.812500</td>\n",
       "    </tr>\n",
       "    <tr>\n",
       "      <th>4</th>\n",
       "      <td>FL</td>\n",
       "      <td></td>\n",
       "      <td>2001</td>\n",
       "      <td>XXXX</td>\n",
       "      <td>X</td>\n",
       "      <td>F</td>\n",
       "      <td>S2</td>\n",
       "      <td>3.0</td>\n",
       "      <td>H</td>\n",
       "      <td>576</td>\n",
       "      <td>594</td>\n",
       "      <td>4</td>\n",
       "      <td>3</td>\n",
       "      <td>240</td>\n",
       "      <td>250</td>\n",
       "      <td>293</td>\n",
       "      <td>321</td>\n",
       "      <td>9836</td>\n",
       "      <td></td>\n",
       "      <td>113</td>\n",
       "      <td>43</td>\n",
       "      <td>10</td>\n",
       "      <td>25</td>\n",
       "      <td>9702</td>\n",
       "      <td>L2F</td>\n",
       "      <td>37</td>\n",
       "      <td>14.0</td>\n",
       "      <td>6.864865</td>\n",
       "    </tr>\n",
       "    <tr>\n",
       "      <th>...</th>\n",
       "      <td>...</td>\n",
       "      <td>...</td>\n",
       "      <td>...</td>\n",
       "      <td>...</td>\n",
       "      <td>...</td>\n",
       "      <td>...</td>\n",
       "      <td>...</td>\n",
       "      <td>...</td>\n",
       "      <td>...</td>\n",
       "      <td>...</td>\n",
       "      <td>...</td>\n",
       "      <td>...</td>\n",
       "      <td>...</td>\n",
       "      <td>...</td>\n",
       "      <td>...</td>\n",
       "      <td>...</td>\n",
       "      <td>...</td>\n",
       "      <td>...</td>\n",
       "      <td>...</td>\n",
       "      <td>...</td>\n",
       "      <td>...</td>\n",
       "      <td>...</td>\n",
       "      <td>...</td>\n",
       "      <td>...</td>\n",
       "      <td>...</td>\n",
       "      <td>...</td>\n",
       "      <td>...</td>\n",
       "      <td>...</td>\n",
       "    </tr>\n",
       "    <tr>\n",
       "      <th>90564</th>\n",
       "      <td>FL</td>\n",
       "      <td></td>\n",
       "      <td>4803</td>\n",
       "      <td>XXXX</td>\n",
       "      <td></td>\n",
       "      <td>F</td>\n",
       "      <td>S2</td>\n",
       "      <td>6.0</td>\n",
       "      <td>H</td>\n",
       "      <td>733</td>\n",
       "      <td>875</td>\n",
       "      <td>4</td>\n",
       "      <td>3</td>\n",
       "      <td>285</td>\n",
       "      <td>288</td>\n",
       "      <td>333</td>\n",
       "      <td>334</td>\n",
       "      <td>11390</td>\n",
       "      <td></td>\n",
       "      <td>59</td>\n",
       "      <td>23</td>\n",
       "      <td>5</td>\n",
       "      <td>12</td>\n",
       "      <td>9702</td>\n",
       "      <td>L4D</td>\n",
       "      <td>24</td>\n",
       "      <td>3.0</td>\n",
       "      <td>3.375000</td>\n",
       "    </tr>\n",
       "    <tr>\n",
       "      <th>90565</th>\n",
       "      <td>AK</td>\n",
       "      <td></td>\n",
       "      <td>0</td>\n",
       "      <td>XXXX</td>\n",
       "      <td></td>\n",
       "      <td>M</td>\n",
       "      <td>C2</td>\n",
       "      <td>NaN</td>\n",
       "      <td></td>\n",
       "      <td>988</td>\n",
       "      <td>1025</td>\n",
       "      <td>6</td>\n",
       "      <td>6</td>\n",
       "      <td>433</td>\n",
       "      <td>481</td>\n",
       "      <td>499</td>\n",
       "      <td>535</td>\n",
       "      <td>18807</td>\n",
       "      <td></td>\n",
       "      <td>14</td>\n",
       "      <td>6</td>\n",
       "      <td>5</td>\n",
       "      <td>12</td>\n",
       "      <td>9702</td>\n",
       "      <td>L1G</td>\n",
       "      <td>1</td>\n",
       "      <td>NaN</td>\n",
       "      <td>25.000000</td>\n",
       "    </tr>\n",
       "    <tr>\n",
       "      <th>90566</th>\n",
       "      <td>TX</td>\n",
       "      <td></td>\n",
       "      <td>5001</td>\n",
       "      <td>XXXX</td>\n",
       "      <td></td>\n",
       "      <td>M</td>\n",
       "      <td>C1</td>\n",
       "      <td>7.0</td>\n",
       "      <td>H</td>\n",
       "      <td>1679</td>\n",
       "      <td>1723</td>\n",
       "      <td>3</td>\n",
       "      <td>3</td>\n",
       "      <td>806</td>\n",
       "      <td>836</td>\n",
       "      <td>802</td>\n",
       "      <td>849</td>\n",
       "      <td>26538</td>\n",
       "      <td></td>\n",
       "      <td>10</td>\n",
       "      <td>4</td>\n",
       "      <td>3</td>\n",
       "      <td>8</td>\n",
       "      <td>9702</td>\n",
       "      <td>L1F</td>\n",
       "      <td>1</td>\n",
       "      <td>NaN</td>\n",
       "      <td>20.000000</td>\n",
       "    </tr>\n",
       "    <tr>\n",
       "      <th>90567</th>\n",
       "      <td>MI</td>\n",
       "      <td></td>\n",
       "      <td>3801</td>\n",
       "      <td>XXXX</td>\n",
       "      <td>X</td>\n",
       "      <td>M</td>\n",
       "      <td>C3</td>\n",
       "      <td>NaN</td>\n",
       "      <td></td>\n",
       "      <td>376</td>\n",
       "      <td>377</td>\n",
       "      <td>4</td>\n",
       "      <td>3</td>\n",
       "      <td>263</td>\n",
       "      <td>264</td>\n",
       "      <td>319</td>\n",
       "      <td>345</td>\n",
       "      <td>12178</td>\n",
       "      <td></td>\n",
       "      <td>33</td>\n",
       "      <td>14</td>\n",
       "      <td>7</td>\n",
       "      <td>17</td>\n",
       "      <td>9702</td>\n",
       "      <td>L3E</td>\n",
       "      <td>7</td>\n",
       "      <td>3.0</td>\n",
       "      <td>8.285714</td>\n",
       "    </tr>\n",
       "    <tr>\n",
       "      <th>90568</th>\n",
       "      <td>NC</td>\n",
       "      <td></td>\n",
       "      <td>1801</td>\n",
       "      <td>C1CM</td>\n",
       "      <td></td>\n",
       "      <td>F</td>\n",
       "      <td>C1</td>\n",
       "      <td>5.0</td>\n",
       "      <td>U</td>\n",
       "      <td>938</td>\n",
       "      <td>1049</td>\n",
       "      <td>5</td>\n",
       "      <td>5</td>\n",
       "      <td>451</td>\n",
       "      <td>474</td>\n",
       "      <td>499</td>\n",
       "      <td>519</td>\n",
       "      <td>16699</td>\n",
       "      <td></td>\n",
       "      <td>139</td>\n",
       "      <td>32</td>\n",
       "      <td>6</td>\n",
       "      <td>35</td>\n",
       "      <td>9702</td>\n",
       "      <td>L1G</td>\n",
       "      <td>39</td>\n",
       "      <td>6.0</td>\n",
       "      <td>96.794872</td>\n",
       "    </tr>\n",
       "  </tbody>\n",
       "</table>\n",
       "<p>90569 rows × 28 columns</p>\n",
       "</div>"
      ],
      "text/plain": [
       "      STATE PVASTATE   DOB MDMAUD RECP3 GENDER DOMAIN  INCOME HOMEOWNR   HV1  \\\n",
       "0        IL           3712   XXXX            F     T2     NaN            479   \n",
       "1        CA           5202   XXXX            M     S1     6.0        H  5468   \n",
       "2        NC              0   XXXX            M     R2     3.0        U   497   \n",
       "3        CA           2801   XXXX            F     R2     1.0        U  1000   \n",
       "4        FL           2001   XXXX     X      F     S2     3.0        H   576   \n",
       "...     ...      ...   ...    ...   ...    ...    ...     ...      ...   ...   \n",
       "90564    FL           4803   XXXX            F     S2     6.0        H   733   \n",
       "90565    AK              0   XXXX            M     C2     NaN            988   \n",
       "90566    TX           5001   XXXX            M     C1     7.0        H  1679   \n",
       "90567    MI           3801   XXXX     X      M     C3     NaN            376   \n",
       "90568    NC           1801   C1CM            F     C1     5.0        U   938   \n",
       "\n",
       "        HV2  HV3  HV4   IC1   IC2   IC3   IC4    IC5 VETERANS  NUMPROM  \\\n",
       "0       635    3    2   307   318   349   378  12883                74   \n",
       "1      5218   12   10  1088  1096  1026  1037  36175                32   \n",
       "2       546    2    1   251   292   292   340  11576                63   \n",
       "3      1263    2    1   386   388   396   423  15130                66   \n",
       "4       594    4    3   240   250   293   321   9836               113   \n",
       "...     ...  ...  ...   ...   ...   ...   ...    ...      ...      ...   \n",
       "90564   875    4    3   285   288   333   334  11390                59   \n",
       "90565  1025    6    6   433   481   499   535  18807                14   \n",
       "90566  1723    3    3   806   836   802   849  26538                10   \n",
       "90567   377    4    3   263   264   319   345  12178                33   \n",
       "90568  1049    5    5   451   474   499   519  16699               139   \n",
       "\n",
       "       CARDPROM  CARDPM12  NUMPRM12  MAXADATE RFA_2  NGIFTALL  TIMELAG  \\\n",
       "0            27         6        14      9702   L4E        31      4.0   \n",
       "1            12         6        13      9702   L2G         3     18.0   \n",
       "2            26         6        14      9702   L4E        27     12.0   \n",
       "3            27         6        14      9702   L4E        16      9.0   \n",
       "4            43        10        25      9702   L2F        37     14.0   \n",
       "...         ...       ...       ...       ...   ...       ...      ...   \n",
       "90564        23         5        12      9702   L4D        24      3.0   \n",
       "90565         6         5        12      9702   L1G         1      NaN   \n",
       "90566         4         3         8      9702   L1F         1      NaN   \n",
       "90567        14         7        17      9702   L3E         7      3.0   \n",
       "90568        32         6        35      9702   L1G        39      6.0   \n",
       "\n",
       "         AVGGIFT  \n",
       "0       7.741935  \n",
       "1      15.666667  \n",
       "2       7.481481  \n",
       "3       6.812500  \n",
       "4       6.864865  \n",
       "...          ...  \n",
       "90564   3.375000  \n",
       "90565  25.000000  \n",
       "90566  20.000000  \n",
       "90567   8.285714  \n",
       "90568  96.794872  \n",
       "\n",
       "[90569 rows x 28 columns]"
      ]
     },
     "execution_count": 60,
     "metadata": {},
     "output_type": "execute_result"
    }
   ],
   "source": [
    "data.drop(data[data.GENDER.isnull()].index)"
   ]
  },
  {
   "cell_type": "code",
   "execution_count": 8,
   "metadata": {},
   "outputs": [
    {
     "data": {
      "text/html": [
       "<div>\n",
       "<style scoped>\n",
       "    .dataframe tbody tr th:only-of-type {\n",
       "        vertical-align: middle;\n",
       "    }\n",
       "\n",
       "    .dataframe tbody tr th {\n",
       "        vertical-align: top;\n",
       "    }\n",
       "\n",
       "    .dataframe thead th {\n",
       "        text-align: right;\n",
       "    }\n",
       "</style>\n",
       "<table border=\"1\" class=\"dataframe\">\n",
       "  <thead>\n",
       "    <tr style=\"text-align: right;\">\n",
       "      <th></th>\n",
       "      <th>STATE</th>\n",
       "      <th>PVASTATE</th>\n",
       "      <th>DOB</th>\n",
       "      <th>MDMAUD</th>\n",
       "      <th>RECP3</th>\n",
       "      <th>GENDER</th>\n",
       "      <th>DOMAIN</th>\n",
       "      <th>INCOME</th>\n",
       "      <th>HOMEOWNR</th>\n",
       "      <th>HV1</th>\n",
       "      <th>HV2</th>\n",
       "      <th>HV3</th>\n",
       "      <th>HV4</th>\n",
       "      <th>IC1</th>\n",
       "      <th>IC2</th>\n",
       "      <th>IC3</th>\n",
       "      <th>IC4</th>\n",
       "      <th>IC5</th>\n",
       "      <th>VETERANS</th>\n",
       "      <th>NUMPROM</th>\n",
       "      <th>CARDPROM</th>\n",
       "      <th>CARDPM12</th>\n",
       "      <th>NUMPRM12</th>\n",
       "      <th>MAXADATE</th>\n",
       "      <th>RFA_2</th>\n",
       "      <th>NGIFTALL</th>\n",
       "      <th>TIMELAG</th>\n",
       "      <th>AVGGIFT</th>\n",
       "    </tr>\n",
       "  </thead>\n",
       "  <tbody>\n",
       "    <tr>\n",
       "      <th>0</th>\n",
       "      <td>IL</td>\n",
       "      <td></td>\n",
       "      <td>3712</td>\n",
       "      <td>XXXX</td>\n",
       "      <td></td>\n",
       "      <td>F</td>\n",
       "      <td>T2</td>\n",
       "      <td>NaN</td>\n",
       "      <td></td>\n",
       "      <td>479</td>\n",
       "      <td>635</td>\n",
       "      <td>3</td>\n",
       "      <td>2</td>\n",
       "      <td>307</td>\n",
       "      <td>318</td>\n",
       "      <td>349</td>\n",
       "      <td>378</td>\n",
       "      <td>12883</td>\n",
       "      <td></td>\n",
       "      <td>74</td>\n",
       "      <td>27</td>\n",
       "      <td>6</td>\n",
       "      <td>14</td>\n",
       "      <td>9702</td>\n",
       "      <td>L4E</td>\n",
       "      <td>31</td>\n",
       "      <td>4.0</td>\n",
       "      <td>7.741935</td>\n",
       "    </tr>\n",
       "    <tr>\n",
       "      <th>1</th>\n",
       "      <td>CA</td>\n",
       "      <td></td>\n",
       "      <td>5202</td>\n",
       "      <td>XXXX</td>\n",
       "      <td></td>\n",
       "      <td>M</td>\n",
       "      <td>S1</td>\n",
       "      <td>6.0</td>\n",
       "      <td>H</td>\n",
       "      <td>5468</td>\n",
       "      <td>5218</td>\n",
       "      <td>12</td>\n",
       "      <td>10</td>\n",
       "      <td>1088</td>\n",
       "      <td>1096</td>\n",
       "      <td>1026</td>\n",
       "      <td>1037</td>\n",
       "      <td>36175</td>\n",
       "      <td></td>\n",
       "      <td>32</td>\n",
       "      <td>12</td>\n",
       "      <td>6</td>\n",
       "      <td>13</td>\n",
       "      <td>9702</td>\n",
       "      <td>L2G</td>\n",
       "      <td>3</td>\n",
       "      <td>18.0</td>\n",
       "      <td>15.666667</td>\n",
       "    </tr>\n",
       "    <tr>\n",
       "      <th>2</th>\n",
       "      <td>NC</td>\n",
       "      <td></td>\n",
       "      <td>0</td>\n",
       "      <td>XXXX</td>\n",
       "      <td></td>\n",
       "      <td>M</td>\n",
       "      <td>R2</td>\n",
       "      <td>3.0</td>\n",
       "      <td>U</td>\n",
       "      <td>497</td>\n",
       "      <td>546</td>\n",
       "      <td>2</td>\n",
       "      <td>1</td>\n",
       "      <td>251</td>\n",
       "      <td>292</td>\n",
       "      <td>292</td>\n",
       "      <td>340</td>\n",
       "      <td>11576</td>\n",
       "      <td></td>\n",
       "      <td>63</td>\n",
       "      <td>26</td>\n",
       "      <td>6</td>\n",
       "      <td>14</td>\n",
       "      <td>9702</td>\n",
       "      <td>L4E</td>\n",
       "      <td>27</td>\n",
       "      <td>12.0</td>\n",
       "      <td>7.481481</td>\n",
       "    </tr>\n",
       "    <tr>\n",
       "      <th>3</th>\n",
       "      <td>CA</td>\n",
       "      <td></td>\n",
       "      <td>2801</td>\n",
       "      <td>XXXX</td>\n",
       "      <td></td>\n",
       "      <td>F</td>\n",
       "      <td>R2</td>\n",
       "      <td>1.0</td>\n",
       "      <td>U</td>\n",
       "      <td>1000</td>\n",
       "      <td>1263</td>\n",
       "      <td>2</td>\n",
       "      <td>1</td>\n",
       "      <td>386</td>\n",
       "      <td>388</td>\n",
       "      <td>396</td>\n",
       "      <td>423</td>\n",
       "      <td>15130</td>\n",
       "      <td></td>\n",
       "      <td>66</td>\n",
       "      <td>27</td>\n",
       "      <td>6</td>\n",
       "      <td>14</td>\n",
       "      <td>9702</td>\n",
       "      <td>L4E</td>\n",
       "      <td>16</td>\n",
       "      <td>9.0</td>\n",
       "      <td>6.812500</td>\n",
       "    </tr>\n",
       "    <tr>\n",
       "      <th>4</th>\n",
       "      <td>FL</td>\n",
       "      <td></td>\n",
       "      <td>2001</td>\n",
       "      <td>XXXX</td>\n",
       "      <td>X</td>\n",
       "      <td>F</td>\n",
       "      <td>S2</td>\n",
       "      <td>3.0</td>\n",
       "      <td>H</td>\n",
       "      <td>576</td>\n",
       "      <td>594</td>\n",
       "      <td>4</td>\n",
       "      <td>3</td>\n",
       "      <td>240</td>\n",
       "      <td>250</td>\n",
       "      <td>293</td>\n",
       "      <td>321</td>\n",
       "      <td>9836</td>\n",
       "      <td></td>\n",
       "      <td>113</td>\n",
       "      <td>43</td>\n",
       "      <td>10</td>\n",
       "      <td>25</td>\n",
       "      <td>9702</td>\n",
       "      <td>L2F</td>\n",
       "      <td>37</td>\n",
       "      <td>14.0</td>\n",
       "      <td>6.864865</td>\n",
       "    </tr>\n",
       "    <tr>\n",
       "      <th>5</th>\n",
       "      <td>AL</td>\n",
       "      <td></td>\n",
       "      <td>0</td>\n",
       "      <td>XXXX</td>\n",
       "      <td></td>\n",
       "      <td></td>\n",
       "      <td>T2</td>\n",
       "      <td>NaN</td>\n",
       "      <td></td>\n",
       "      <td>807</td>\n",
       "      <td>899</td>\n",
       "      <td>3</td>\n",
       "      <td>3</td>\n",
       "      <td>364</td>\n",
       "      <td>410</td>\n",
       "      <td>406</td>\n",
       "      <td>454</td>\n",
       "      <td>15619</td>\n",
       "      <td></td>\n",
       "      <td>35</td>\n",
       "      <td>15</td>\n",
       "      <td>6</td>\n",
       "      <td>12</td>\n",
       "      <td>9702</td>\n",
       "      <td>L1F</td>\n",
       "      <td>4</td>\n",
       "      <td>6.0</td>\n",
       "      <td>12.750000</td>\n",
       "    </tr>\n",
       "    <tr>\n",
       "      <th>6</th>\n",
       "      <td>IN</td>\n",
       "      <td></td>\n",
       "      <td>6001</td>\n",
       "      <td>XXXX</td>\n",
       "      <td></td>\n",
       "      <td>F</td>\n",
       "      <td>T2</td>\n",
       "      <td>4.0</td>\n",
       "      <td>H</td>\n",
       "      <td>484</td>\n",
       "      <td>519</td>\n",
       "      <td>3</td>\n",
       "      <td>3</td>\n",
       "      <td>251</td>\n",
       "      <td>284</td>\n",
       "      <td>278</td>\n",
       "      <td>311</td>\n",
       "      <td>10717</td>\n",
       "      <td></td>\n",
       "      <td>63</td>\n",
       "      <td>26</td>\n",
       "      <td>4</td>\n",
       "      <td>9</td>\n",
       "      <td>9702</td>\n",
       "      <td>L1E</td>\n",
       "      <td>14</td>\n",
       "      <td>4.0</td>\n",
       "      <td>7.642857</td>\n",
       "    </tr>\n",
       "    <tr>\n",
       "      <th>7</th>\n",
       "      <td>LA</td>\n",
       "      <td></td>\n",
       "      <td>0</td>\n",
       "      <td>XXXX</td>\n",
       "      <td></td>\n",
       "      <td>F</td>\n",
       "      <td>T2</td>\n",
       "      <td>2.0</td>\n",
       "      <td>U</td>\n",
       "      <td>702</td>\n",
       "      <td>787</td>\n",
       "      <td>3</td>\n",
       "      <td>3</td>\n",
       "      <td>367</td>\n",
       "      <td>457</td>\n",
       "      <td>431</td>\n",
       "      <td>466</td>\n",
       "      <td>14248</td>\n",
       "      <td></td>\n",
       "      <td>35</td>\n",
       "      <td>14</td>\n",
       "      <td>6</td>\n",
       "      <td>12</td>\n",
       "      <td>9702</td>\n",
       "      <td>L3E</td>\n",
       "      <td>5</td>\n",
       "      <td>6.0</td>\n",
       "      <td>6.200000</td>\n",
       "    </tr>\n",
       "    <tr>\n",
       "      <th>8</th>\n",
       "      <td>IA</td>\n",
       "      <td></td>\n",
       "      <td>0</td>\n",
       "      <td>XXXX</td>\n",
       "      <td></td>\n",
       "      <td>M</td>\n",
       "      <td>R2</td>\n",
       "      <td>3.0</td>\n",
       "      <td>U</td>\n",
       "      <td>234</td>\n",
       "      <td>288</td>\n",
       "      <td>2</td>\n",
       "      <td>1</td>\n",
       "      <td>226</td>\n",
       "      <td>266</td>\n",
       "      <td>280</td>\n",
       "      <td>323</td>\n",
       "      <td>11127</td>\n",
       "      <td></td>\n",
       "      <td>70</td>\n",
       "      <td>29</td>\n",
       "      <td>6</td>\n",
       "      <td>12</td>\n",
       "      <td>9702</td>\n",
       "      <td>L1F</td>\n",
       "      <td>11</td>\n",
       "      <td>8.0</td>\n",
       "      <td>18.090909</td>\n",
       "    </tr>\n",
       "    <tr>\n",
       "      <th>9</th>\n",
       "      <td>TN</td>\n",
       "      <td></td>\n",
       "      <td>3211</td>\n",
       "      <td>XXXX</td>\n",
       "      <td></td>\n",
       "      <td>M</td>\n",
       "      <td>T1</td>\n",
       "      <td>NaN</td>\n",
       "      <td></td>\n",
       "      <td>565</td>\n",
       "      <td>581</td>\n",
       "      <td>3</td>\n",
       "      <td>3</td>\n",
       "      <td>291</td>\n",
       "      <td>329</td>\n",
       "      <td>311</td>\n",
       "      <td>332</td>\n",
       "      <td>10517</td>\n",
       "      <td></td>\n",
       "      <td>28</td>\n",
       "      <td>11</td>\n",
       "      <td>4</td>\n",
       "      <td>9</td>\n",
       "      <td>9702</td>\n",
       "      <td>L1F</td>\n",
       "      <td>3</td>\n",
       "      <td>7.0</td>\n",
       "      <td>9.333333</td>\n",
       "    </tr>\n",
       "    <tr>\n",
       "      <th>10</th>\n",
       "      <td>KS</td>\n",
       "      <td></td>\n",
       "      <td>0</td>\n",
       "      <td>XXXX</td>\n",
       "      <td></td>\n",
       "      <td>F</td>\n",
       "      <td>R3</td>\n",
       "      <td>2.0</td>\n",
       "      <td>U</td>\n",
       "      <td>231</td>\n",
       "      <td>273</td>\n",
       "      <td>2</td>\n",
       "      <td>1</td>\n",
       "      <td>173</td>\n",
       "      <td>222</td>\n",
       "      <td>220</td>\n",
       "      <td>273</td>\n",
       "      <td>9045</td>\n",
       "      <td></td>\n",
       "      <td>14</td>\n",
       "      <td>6</td>\n",
       "      <td>5</td>\n",
       "      <td>12</td>\n",
       "      <td>9702</td>\n",
       "      <td>L1F</td>\n",
       "      <td>1</td>\n",
       "      <td>NaN</td>\n",
       "      <td>20.000000</td>\n",
       "    </tr>\n",
       "    <tr>\n",
       "      <th>11</th>\n",
       "      <td>IN</td>\n",
       "      <td></td>\n",
       "      <td>2301</td>\n",
       "      <td>XXXX</td>\n",
       "      <td></td>\n",
       "      <td>M</td>\n",
       "      <td>S2</td>\n",
       "      <td>1.0</td>\n",
       "      <td>U</td>\n",
       "      <td>583</td>\n",
       "      <td>670</td>\n",
       "      <td>4</td>\n",
       "      <td>4</td>\n",
       "      <td>246</td>\n",
       "      <td>346</td>\n",
       "      <td>269</td>\n",
       "      <td>411</td>\n",
       "      <td>16929</td>\n",
       "      <td></td>\n",
       "      <td>17</td>\n",
       "      <td>8</td>\n",
       "      <td>6</td>\n",
       "      <td>12</td>\n",
       "      <td>9702</td>\n",
       "      <td>L2F</td>\n",
       "      <td>2</td>\n",
       "      <td>3.0</td>\n",
       "      <td>12.500000</td>\n",
       "    </tr>\n",
       "    <tr>\n",
       "      <th>12</th>\n",
       "      <td>MN</td>\n",
       "      <td></td>\n",
       "      <td>2603</td>\n",
       "      <td>XXXX</td>\n",
       "      <td></td>\n",
       "      <td>F</td>\n",
       "      <td>R3</td>\n",
       "      <td>4.0</td>\n",
       "      <td>H</td>\n",
       "      <td>388</td>\n",
       "      <td>428</td>\n",
       "      <td>2</td>\n",
       "      <td>1</td>\n",
       "      <td>225</td>\n",
       "      <td>267</td>\n",
       "      <td>267</td>\n",
       "      <td>305</td>\n",
       "      <td>9587</td>\n",
       "      <td></td>\n",
       "      <td>55</td>\n",
       "      <td>21</td>\n",
       "      <td>6</td>\n",
       "      <td>12</td>\n",
       "      <td>9702</td>\n",
       "      <td>L4D</td>\n",
       "      <td>9</td>\n",
       "      <td>5.0</td>\n",
       "      <td>5.333333</td>\n",
       "    </tr>\n",
       "    <tr>\n",
       "      <th>13</th>\n",
       "      <td>LA</td>\n",
       "      <td></td>\n",
       "      <td>0</td>\n",
       "      <td>XXXX</td>\n",
       "      <td></td>\n",
       "      <td>M</td>\n",
       "      <td>T2</td>\n",
       "      <td>NaN</td>\n",
       "      <td></td>\n",
       "      <td>677</td>\n",
       "      <td>732</td>\n",
       "      <td>3</td>\n",
       "      <td>2</td>\n",
       "      <td>298</td>\n",
       "      <td>335</td>\n",
       "      <td>355</td>\n",
       "      <td>392</td>\n",
       "      <td>11556</td>\n",
       "      <td></td>\n",
       "      <td>72</td>\n",
       "      <td>23</td>\n",
       "      <td>7</td>\n",
       "      <td>29</td>\n",
       "      <td>9702</td>\n",
       "      <td>L1G</td>\n",
       "      <td>12</td>\n",
       "      <td>1.0</td>\n",
       "      <td>20.416667</td>\n",
       "    </tr>\n",
       "    <tr>\n",
       "      <th>14</th>\n",
       "      <td>UT</td>\n",
       "      <td></td>\n",
       "      <td>2709</td>\n",
       "      <td>XXXX</td>\n",
       "      <td></td>\n",
       "      <td>M</td>\n",
       "      <td>T1</td>\n",
       "      <td>4.0</td>\n",
       "      <td>H</td>\n",
       "      <td>766</td>\n",
       "      <td>800</td>\n",
       "      <td>3</td>\n",
       "      <td>3</td>\n",
       "      <td>356</td>\n",
       "      <td>373</td>\n",
       "      <td>342</td>\n",
       "      <td>370</td>\n",
       "      <td>8424</td>\n",
       "      <td></td>\n",
       "      <td>41</td>\n",
       "      <td>18</td>\n",
       "      <td>6</td>\n",
       "      <td>11</td>\n",
       "      <td>9702</td>\n",
       "      <td>L1F</td>\n",
       "      <td>7</td>\n",
       "      <td>4.0</td>\n",
       "      <td>10.571429</td>\n",
       "    </tr>\n",
       "    <tr>\n",
       "      <th>15</th>\n",
       "      <td>CA</td>\n",
       "      <td></td>\n",
       "      <td>0</td>\n",
       "      <td>XXXX</td>\n",
       "      <td></td>\n",
       "      <td>M</td>\n",
       "      <td>U1</td>\n",
       "      <td>1.0</td>\n",
       "      <td>H</td>\n",
       "      <td>5251</td>\n",
       "      <td>5024</td>\n",
       "      <td>9</td>\n",
       "      <td>9</td>\n",
       "      <td>681</td>\n",
       "      <td>806</td>\n",
       "      <td>740</td>\n",
       "      <td>865</td>\n",
       "      <td>36257</td>\n",
       "      <td></td>\n",
       "      <td>27</td>\n",
       "      <td>9</td>\n",
       "      <td>4</td>\n",
       "      <td>10</td>\n",
       "      <td>9702</td>\n",
       "      <td>L1F</td>\n",
       "      <td>2</td>\n",
       "      <td>23.0</td>\n",
       "      <td>12.500000</td>\n",
       "    </tr>\n",
       "    <tr>\n",
       "      <th>16</th>\n",
       "      <td>MI</td>\n",
       "      <td></td>\n",
       "      <td>5401</td>\n",
       "      <td>XXXX</td>\n",
       "      <td></td>\n",
       "      <td>M</td>\n",
       "      <td>S2</td>\n",
       "      <td>1.0</td>\n",
       "      <td>U</td>\n",
       "      <td>623</td>\n",
       "      <td>624</td>\n",
       "      <td>4</td>\n",
       "      <td>4</td>\n",
       "      <td>362</td>\n",
       "      <td>385</td>\n",
       "      <td>368</td>\n",
       "      <td>406</td>\n",
       "      <td>16182</td>\n",
       "      <td></td>\n",
       "      <td>30</td>\n",
       "      <td>12</td>\n",
       "      <td>6</td>\n",
       "      <td>13</td>\n",
       "      <td>9702</td>\n",
       "      <td>L2F</td>\n",
       "      <td>3</td>\n",
       "      <td>17.0</td>\n",
       "      <td>12.333333</td>\n",
       "    </tr>\n",
       "    <tr>\n",
       "      <th>17</th>\n",
       "      <td>IL</td>\n",
       "      <td></td>\n",
       "      <td>5201</td>\n",
       "      <td>XXXX</td>\n",
       "      <td></td>\n",
       "      <td>F</td>\n",
       "      <td>R2</td>\n",
       "      <td>7.0</td>\n",
       "      <td>U</td>\n",
       "      <td>342</td>\n",
       "      <td>377</td>\n",
       "      <td>2</td>\n",
       "      <td>1</td>\n",
       "      <td>245</td>\n",
       "      <td>283</td>\n",
       "      <td>280</td>\n",
       "      <td>313</td>\n",
       "      <td>10260</td>\n",
       "      <td></td>\n",
       "      <td>48</td>\n",
       "      <td>19</td>\n",
       "      <td>6</td>\n",
       "      <td>13</td>\n",
       "      <td>9702</td>\n",
       "      <td>L1G</td>\n",
       "      <td>4</td>\n",
       "      <td>17.0</td>\n",
       "      <td>25.000000</td>\n",
       "    </tr>\n",
       "    <tr>\n",
       "      <th>18</th>\n",
       "      <td>FL</td>\n",
       "      <td></td>\n",
       "      <td>3601</td>\n",
       "      <td>XXXX</td>\n",
       "      <td></td>\n",
       "      <td>F</td>\n",
       "      <td>S2</td>\n",
       "      <td>4.0</td>\n",
       "      <td>H</td>\n",
       "      <td>661</td>\n",
       "      <td>668</td>\n",
       "      <td>4</td>\n",
       "      <td>4</td>\n",
       "      <td>276</td>\n",
       "      <td>288</td>\n",
       "      <td>308</td>\n",
       "      <td>320</td>\n",
       "      <td>10859</td>\n",
       "      <td></td>\n",
       "      <td>50</td>\n",
       "      <td>22</td>\n",
       "      <td>4</td>\n",
       "      <td>11</td>\n",
       "      <td>9702</td>\n",
       "      <td>L1F</td>\n",
       "      <td>10</td>\n",
       "      <td>5.0</td>\n",
       "      <td>8.100000</td>\n",
       "    </tr>\n",
       "    <tr>\n",
       "      <th>19</th>\n",
       "      <td>NC</td>\n",
       "      <td></td>\n",
       "      <td>0</td>\n",
       "      <td>XXXX</td>\n",
       "      <td></td>\n",
       "      <td>M</td>\n",
       "      <td>C2</td>\n",
       "      <td>NaN</td>\n",
       "      <td></td>\n",
       "      <td>548</td>\n",
       "      <td>793</td>\n",
       "      <td>1</td>\n",
       "      <td>1</td>\n",
       "      <td>197</td>\n",
       "      <td>246</td>\n",
       "      <td>259</td>\n",
       "      <td>300</td>\n",
       "      <td>10044</td>\n",
       "      <td></td>\n",
       "      <td>24</td>\n",
       "      <td>9</td>\n",
       "      <td>4</td>\n",
       "      <td>11</td>\n",
       "      <td>9702</td>\n",
       "      <td>L1F</td>\n",
       "      <td>2</td>\n",
       "      <td>8.0</td>\n",
       "      <td>15.000000</td>\n",
       "    </tr>\n",
       "  </tbody>\n",
       "</table>\n",
       "</div>"
      ],
      "text/plain": [
       "   STATE PVASTATE   DOB MDMAUD RECP3 GENDER DOMAIN  INCOME HOMEOWNR   HV1  \\\n",
       "0     IL           3712   XXXX            F     T2     NaN            479   \n",
       "1     CA           5202   XXXX            M     S1     6.0        H  5468   \n",
       "2     NC              0   XXXX            M     R2     3.0        U   497   \n",
       "3     CA           2801   XXXX            F     R2     1.0        U  1000   \n",
       "4     FL           2001   XXXX     X      F     S2     3.0        H   576   \n",
       "5     AL              0   XXXX                  T2     NaN            807   \n",
       "6     IN           6001   XXXX            F     T2     4.0        H   484   \n",
       "7     LA              0   XXXX            F     T2     2.0        U   702   \n",
       "8     IA              0   XXXX            M     R2     3.0        U   234   \n",
       "9     TN           3211   XXXX            M     T1     NaN            565   \n",
       "10    KS              0   XXXX            F     R3     2.0        U   231   \n",
       "11    IN           2301   XXXX            M     S2     1.0        U   583   \n",
       "12    MN           2603   XXXX            F     R3     4.0        H   388   \n",
       "13    LA              0   XXXX            M     T2     NaN            677   \n",
       "14    UT           2709   XXXX            M     T1     4.0        H   766   \n",
       "15    CA              0   XXXX            M     U1     1.0        H  5251   \n",
       "16    MI           5401   XXXX            M     S2     1.0        U   623   \n",
       "17    IL           5201   XXXX            F     R2     7.0        U   342   \n",
       "18    FL           3601   XXXX            F     S2     4.0        H   661   \n",
       "19    NC              0   XXXX            M     C2     NaN            548   \n",
       "\n",
       "     HV2  HV3  HV4   IC1   IC2   IC3   IC4    IC5 VETERANS  NUMPROM  CARDPROM  \\\n",
       "0    635    3    2   307   318   349   378  12883                74        27   \n",
       "1   5218   12   10  1088  1096  1026  1037  36175                32        12   \n",
       "2    546    2    1   251   292   292   340  11576                63        26   \n",
       "3   1263    2    1   386   388   396   423  15130                66        27   \n",
       "4    594    4    3   240   250   293   321   9836               113        43   \n",
       "5    899    3    3   364   410   406   454  15619                35        15   \n",
       "6    519    3    3   251   284   278   311  10717                63        26   \n",
       "7    787    3    3   367   457   431   466  14248                35        14   \n",
       "8    288    2    1   226   266   280   323  11127                70        29   \n",
       "9    581    3    3   291   329   311   332  10517                28        11   \n",
       "10   273    2    1   173   222   220   273   9045                14         6   \n",
       "11   670    4    4   246   346   269   411  16929                17         8   \n",
       "12   428    2    1   225   267   267   305   9587                55        21   \n",
       "13   732    3    2   298   335   355   392  11556                72        23   \n",
       "14   800    3    3   356   373   342   370   8424                41        18   \n",
       "15  5024    9    9   681   806   740   865  36257                27         9   \n",
       "16   624    4    4   362   385   368   406  16182                30        12   \n",
       "17   377    2    1   245   283   280   313  10260                48        19   \n",
       "18   668    4    4   276   288   308   320  10859                50        22   \n",
       "19   793    1    1   197   246   259   300  10044                24         9   \n",
       "\n",
       "    CARDPM12  NUMPRM12  MAXADATE RFA_2  NGIFTALL  TIMELAG    AVGGIFT  \n",
       "0          6        14      9702   L4E        31      4.0   7.741935  \n",
       "1          6        13      9702   L2G         3     18.0  15.666667  \n",
       "2          6        14      9702   L4E        27     12.0   7.481481  \n",
       "3          6        14      9702   L4E        16      9.0   6.812500  \n",
       "4         10        25      9702   L2F        37     14.0   6.864865  \n",
       "5          6        12      9702   L1F         4      6.0  12.750000  \n",
       "6          4         9      9702   L1E        14      4.0   7.642857  \n",
       "7          6        12      9702   L3E         5      6.0   6.200000  \n",
       "8          6        12      9702   L1F        11      8.0  18.090909  \n",
       "9          4         9      9702   L1F         3      7.0   9.333333  \n",
       "10         5        12      9702   L1F         1      NaN  20.000000  \n",
       "11         6        12      9702   L2F         2      3.0  12.500000  \n",
       "12         6        12      9702   L4D         9      5.0   5.333333  \n",
       "13         7        29      9702   L1G        12      1.0  20.416667  \n",
       "14         6        11      9702   L1F         7      4.0  10.571429  \n",
       "15         4        10      9702   L1F         2     23.0  12.500000  \n",
       "16         6        13      9702   L2F         3     17.0  12.333333  \n",
       "17         6        13      9702   L1G         4     17.0  25.000000  \n",
       "18         4        11      9702   L1F        10      5.0   8.100000  \n",
       "19         4        11      9702   L1F         2      8.0  15.000000  "
      ]
     },
     "execution_count": 8,
     "metadata": {},
     "output_type": "execute_result"
    }
   ],
   "source": [
    "data.head(20)"
   ]
  },
  {
   "cell_type": "code",
   "execution_count": 56,
   "metadata": {},
   "outputs": [
    {
     "name": "stdout",
     "output_type": "stream",
     "text": [
      "Help on built-in function reduce in module _functools:\n",
      "\n",
      "reduce(...)\n",
      "    reduce(function, sequence[, initial]) -> value\n",
      "    \n",
      "    Apply a function of two arguments cumulatively to the items of a sequence,\n",
      "    from left to right, so as to reduce the sequence to a single value.\n",
      "    For example, reduce(lambda x, y: x+y, [1, 2, 3, 4, 5]) calculates\n",
      "    ((((1+2)+3)+4)+5).  If initial is present, it is placed before the items\n",
      "    of the sequence in the calculation, and serves as a default when the\n",
      "    sequence is empty.\n",
      "\n"
     ]
    }
   ],
   "source": [
    "help(reduce)"
   ]
  },
  {
   "cell_type": "code",
   "execution_count": 57,
   "metadata": {},
   "outputs": [
    {
     "data": {
      "text/plain": [
       "<map at 0x7fab983121d0>"
      ]
     },
     "execution_count": 57,
     "metadata": {},
     "output_type": "execute_result"
    }
   ],
   "source": [
    "map( np.sqrt, filter(lambda x: x % 2 == 1, lst))"
   ]
  },
  {
   "cell_type": "code",
   "execution_count": 59,
   "metadata": {},
   "outputs": [
    {
     "data": {
      "text/plain": [
       "10.613870096133258"
      ]
     },
     "execution_count": 59,
     "metadata": {},
     "output_type": "execute_result"
    }
   ],
   "source": [
    "from functools import reduce\n",
    "lst = [0,1,2,3,4,5,6,7,8,9,10]\n",
    "reduce(lambda a,b: a+b, map( np.sqrt, filter(lambda x: x % 2 == 1, lst)), 0)\n"
   ]
  },
  {
   "cell_type": "code",
   "execution_count": 9,
   "metadata": {},
   "outputs": [
    {
     "data": {
      "text/plain": [
       "(2704.976526584617,\n",
       " 0.0,\n",
       " 6,\n",
       " array([[1.26907424e+03, 4.54051607e-01, 9.08103214e-01, 2.20977836e+04,\n",
       "         1.52561340e+02, 1.68598443e+04, 7.42374378e+02],\n",
       "        [1.52592576e+03, 5.45948393e-01, 1.09189679e+00, 2.65702164e+04,\n",
       "         1.83438660e+02, 2.02721557e+04, 8.92625622e+02]]))"
      ]
     },
     "execution_count": 9,
     "metadata": {},
     "output_type": "execute_result"
    }
   ],
   "source": [
    "from scipy.stats import chi2_contingency\n",
    "\n",
    "data_crosstab = pd.crosstab(np.where(data['INCOME']>3,'HIGH_INCOME', 'LOW_INCOME'), data['GENDER'], margins = False)\n",
    "chi2_contingency(data_crosstab, correction=False)"
   ]
  },
  {
   "cell_type": "code",
   "execution_count": 7,
   "metadata": {},
   "outputs": [
    {
     "data": {
      "text/plain": [
       "(90569, 28)"
      ]
     },
     "execution_count": 7,
     "metadata": {},
     "output_type": "execute_result"
    }
   ],
   "source": [
    "data.shape"
   ]
  },
  {
   "cell_type": "code",
   "execution_count": 8,
   "metadata": {},
   "outputs": [],
   "source": [
    "# data.dtypes"
   ]
  },
  {
   "cell_type": "code",
   "execution_count": 9,
   "metadata": {},
   "outputs": [
    {
     "data": {
      "text/html": [
       "<div>\n",
       "<style scoped>\n",
       "    .dataframe tbody tr th:only-of-type {\n",
       "        vertical-align: middle;\n",
       "    }\n",
       "\n",
       "    .dataframe tbody tr th {\n",
       "        vertical-align: top;\n",
       "    }\n",
       "\n",
       "    .dataframe thead th {\n",
       "        text-align: right;\n",
       "    }\n",
       "</style>\n",
       "<table border=\"1\" class=\"dataframe\">\n",
       "  <thead>\n",
       "    <tr style=\"text-align: right;\">\n",
       "      <th></th>\n",
       "      <th>column_name</th>\n",
       "      <th>Percentage Null Values</th>\n",
       "    </tr>\n",
       "  </thead>\n",
       "  <tbody>\n",
       "    <tr>\n",
       "      <th>7</th>\n",
       "      <td>INCOME</td>\n",
       "      <td>0.222847</td>\n",
       "    </tr>\n",
       "    <tr>\n",
       "      <th>26</th>\n",
       "      <td>TIMELAG</td>\n",
       "      <td>0.106582</td>\n",
       "    </tr>\n",
       "    <tr>\n",
       "      <th>0</th>\n",
       "      <td>STATE</td>\n",
       "      <td>0.000000</td>\n",
       "    </tr>\n",
       "    <tr>\n",
       "      <th>15</th>\n",
       "      <td>IC3</td>\n",
       "      <td>0.000000</td>\n",
       "    </tr>\n",
       "    <tr>\n",
       "      <th>25</th>\n",
       "      <td>NGIFTALL</td>\n",
       "      <td>0.000000</td>\n",
       "    </tr>\n",
       "    <tr>\n",
       "      <th>24</th>\n",
       "      <td>RFA_2</td>\n",
       "      <td>0.000000</td>\n",
       "    </tr>\n",
       "    <tr>\n",
       "      <th>23</th>\n",
       "      <td>MAXADATE</td>\n",
       "      <td>0.000000</td>\n",
       "    </tr>\n",
       "    <tr>\n",
       "      <th>22</th>\n",
       "      <td>NUMPRM12</td>\n",
       "      <td>0.000000</td>\n",
       "    </tr>\n",
       "    <tr>\n",
       "      <th>21</th>\n",
       "      <td>CARDPM12</td>\n",
       "      <td>0.000000</td>\n",
       "    </tr>\n",
       "    <tr>\n",
       "      <th>20</th>\n",
       "      <td>CARDPROM</td>\n",
       "      <td>0.000000</td>\n",
       "    </tr>\n",
       "    <tr>\n",
       "      <th>19</th>\n",
       "      <td>NUMPROM</td>\n",
       "      <td>0.000000</td>\n",
       "    </tr>\n",
       "    <tr>\n",
       "      <th>18</th>\n",
       "      <td>VETERANS</td>\n",
       "      <td>0.000000</td>\n",
       "    </tr>\n",
       "    <tr>\n",
       "      <th>17</th>\n",
       "      <td>IC5</td>\n",
       "      <td>0.000000</td>\n",
       "    </tr>\n",
       "    <tr>\n",
       "      <th>16</th>\n",
       "      <td>IC4</td>\n",
       "      <td>0.000000</td>\n",
       "    </tr>\n",
       "    <tr>\n",
       "      <th>14</th>\n",
       "      <td>IC2</td>\n",
       "      <td>0.000000</td>\n",
       "    </tr>\n",
       "    <tr>\n",
       "      <th>1</th>\n",
       "      <td>PVASTATE</td>\n",
       "      <td>0.000000</td>\n",
       "    </tr>\n",
       "    <tr>\n",
       "      <th>13</th>\n",
       "      <td>IC1</td>\n",
       "      <td>0.000000</td>\n",
       "    </tr>\n",
       "    <tr>\n",
       "      <th>12</th>\n",
       "      <td>HV4</td>\n",
       "      <td>0.000000</td>\n",
       "    </tr>\n",
       "    <tr>\n",
       "      <th>11</th>\n",
       "      <td>HV3</td>\n",
       "      <td>0.000000</td>\n",
       "    </tr>\n",
       "    <tr>\n",
       "      <th>10</th>\n",
       "      <td>HV2</td>\n",
       "      <td>0.000000</td>\n",
       "    </tr>\n",
       "    <tr>\n",
       "      <th>9</th>\n",
       "      <td>HV1</td>\n",
       "      <td>0.000000</td>\n",
       "    </tr>\n",
       "    <tr>\n",
       "      <th>8</th>\n",
       "      <td>HOMEOWNR</td>\n",
       "      <td>0.000000</td>\n",
       "    </tr>\n",
       "    <tr>\n",
       "      <th>6</th>\n",
       "      <td>DOMAIN</td>\n",
       "      <td>0.000000</td>\n",
       "    </tr>\n",
       "    <tr>\n",
       "      <th>5</th>\n",
       "      <td>GENDER</td>\n",
       "      <td>0.000000</td>\n",
       "    </tr>\n",
       "    <tr>\n",
       "      <th>4</th>\n",
       "      <td>RECP3</td>\n",
       "      <td>0.000000</td>\n",
       "    </tr>\n",
       "    <tr>\n",
       "      <th>3</th>\n",
       "      <td>MDMAUD</td>\n",
       "      <td>0.000000</td>\n",
       "    </tr>\n",
       "    <tr>\n",
       "      <th>2</th>\n",
       "      <td>DOB</td>\n",
       "      <td>0.000000</td>\n",
       "    </tr>\n",
       "    <tr>\n",
       "      <th>27</th>\n",
       "      <td>AVGGIFT</td>\n",
       "      <td>0.000000</td>\n",
       "    </tr>\n",
       "  </tbody>\n",
       "</table>\n",
       "</div>"
      ],
      "text/plain": [
       "   column_name  Percentage Null Values\n",
       "7       INCOME                0.222847\n",
       "26     TIMELAG                0.106582\n",
       "0        STATE                0.000000\n",
       "15         IC3                0.000000\n",
       "25    NGIFTALL                0.000000\n",
       "24       RFA_2                0.000000\n",
       "23    MAXADATE                0.000000\n",
       "22    NUMPRM12                0.000000\n",
       "21    CARDPM12                0.000000\n",
       "20    CARDPROM                0.000000\n",
       "19     NUMPROM                0.000000\n",
       "18    VETERANS                0.000000\n",
       "17         IC5                0.000000\n",
       "16         IC4                0.000000\n",
       "14         IC2                0.000000\n",
       "1     PVASTATE                0.000000\n",
       "13         IC1                0.000000\n",
       "12         HV4                0.000000\n",
       "11         HV3                0.000000\n",
       "10         HV2                0.000000\n",
       "9          HV1                0.000000\n",
       "8     HOMEOWNR                0.000000\n",
       "6       DOMAIN                0.000000\n",
       "5       GENDER                0.000000\n",
       "4        RECP3                0.000000\n",
       "3       MDMAUD                0.000000\n",
       "2          DOB                0.000000\n",
       "27     AVGGIFT                0.000000"
      ]
     },
     "execution_count": 9,
     "metadata": {},
     "output_type": "execute_result"
    }
   ],
   "source": [
    "nulls = pd.DataFrame(data.isna().sum()/len(data))\n",
    "nulls= nulls.reset_index()\n",
    "nulls.columns = ['column_name', 'Percentage Null Values']\n",
    "nulls.sort_values(by='Percentage Null Values', ascending = False)"
   ]
  },
  {
   "cell_type": "markdown",
   "metadata": {},
   "source": [
    "INCOME might be an important factor in predicting the gift value, so even though it has a lot of null values , we will not drop the column\n",
    "In this exercise we will try a more precise method to replace the null values, instead of simply replacing them by a constant value, mean or median\n",
    "\n",
    "We will use the same method for the column TIMELAG"
   ]
  },
  {
   "cell_type": "markdown",
   "metadata": {},
   "source": [
    "Null values can be represented as either NaN, None, or NaT (this is usually used for datetime columns)"
   ]
  },
  {
   "cell_type": "markdown",
   "metadata": {},
   "source": [
    "Note: It is not the best idea to use df.dropna() as it deletes the complete row whereever there is a null value"
   ]
  },
  {
   "cell_type": "code",
   "execution_count": 80,
   "metadata": {},
   "outputs": [
    {
     "data": {
      "text/plain": [
       "<matplotlib.axes._subplots.AxesSubplot at 0x12c174400>"
      ]
     },
     "execution_count": 80,
     "metadata": {},
     "output_type": "execute_result"
    },
    {
     "data": {
      "image/png": "[encoded data removed]",
      "text/plain": [
       "<Figure size 432x288 with 1 Axes>"
      ]
     },
     "metadata": {
      "needs_background": "light"
     },
     "output_type": "display_data"
    }
   ],
   "source": [
    "data['INCOME'].hist()"
   ]
  },
  {
   "cell_type": "code",
   "execution_count": 81,
   "metadata": {},
   "outputs": [],
   "source": [
    "# Now lets choose a method to fill the null values "
   ]
  },
  {
   "cell_type": "code",
   "execution_count": 35,
   "metadata": {},
   "outputs": [
    {
     "data": {
      "text/plain": [
       "<matplotlib.axes._subplots.AxesSubplot at 0x128e6d240>"
      ]
     },
     "execution_count": 35,
     "metadata": {},
     "output_type": "execute_result"
    },
    {
     "data": {
      "image/png": "[encoded data removed]",
      "text/plain": [
       "<Figure size 432x288 with 1 Axes>"
      ]
     },
     "metadata": {
      "needs_background": "light"
     },
     "output_type": "display_data"
    }
   ],
   "source": [
    "data['INCOME'][0:40].plot()"
   ]
  },
  {
   "cell_type": "code",
   "execution_count": 11,
   "metadata": {},
   "outputs": [
    {
     "data": {
      "text/plain": [
       "count    70386.000000\n",
       "mean         3.878257\n",
       "std          1.855265\n",
       "min          1.000000\n",
       "25%          2.000000\n",
       "50%          4.000000\n",
       "75%          5.000000\n",
       "max          7.000000\n",
       "Name: INCOME, dtype: float64"
      ]
     },
     "execution_count": 11,
     "metadata": {},
     "output_type": "execute_result"
    }
   ],
   "source": [
    "data['INCOME'].describe()"
   ]
  },
  {
   "cell_type": "code",
   "execution_count": 37,
   "metadata": {},
   "outputs": [
    {
     "data": {
      "text/plain": [
       "<matplotlib.axes._subplots.AxesSubplot at 0x128df4588>"
      ]
     },
     "execution_count": 37,
     "metadata": {},
     "output_type": "execute_result"
    },
    {
     "data": {
      "image/png": "[encoded data removed]",
      "text/plain": [
       "<Figure size 432x288 with 1 Axes>"
      ]
     },
     "metadata": {
      "needs_background": "light"
     },
     "output_type": "display_data"
    }
   ],
   "source": [
    "data['INCOME'][0:40].interpolate(method='linear').plot()"
   ]
  },
  {
   "cell_type": "code",
   "execution_count": 38,
   "metadata": {},
   "outputs": [
    {
     "data": {
      "text/plain": [
       "<matplotlib.axes._subplots.AxesSubplot at 0x128de9e48>"
      ]
     },
     "execution_count": 38,
     "metadata": {},
     "output_type": "execute_result"
    },
    {
     "data": {
      "image/png": "[encoded data removed]",
      "text/plain": [
       "<Figure size 432x288 with 1 Axes>"
      ]
     },
     "metadata": {
      "needs_background": "light"
     },
     "output_type": "display_data"
    }
   ],
   "source": [
    "data['INCOME'][0:40].interpolate(method='akima').plot()"
   ]
  },
  {
   "cell_type": "code",
   "execution_count": 41,
   "metadata": {},
   "outputs": [
    {
     "data": {
      "text/plain": [
       "<matplotlib.axes._subplots.AxesSubplot at 0x128346be0>"
      ]
     },
     "execution_count": 41,
     "metadata": {},
     "output_type": "execute_result"
    },
    {
     "data": {
      "image/png": "[encoded data removed]",
      "text/plain": [
       "<Figure size 432x288 with 1 Axes>"
      ]
     },
     "metadata": {
      "needs_background": "light"
     },
     "output_type": "display_data"
    }
   ],
   "source": [
    "data['INCOME'][0:40].interpolate(method='polynomial', order=3).plot()"
   ]
  },
  {
   "cell_type": "code",
   "execution_count": 42,
   "metadata": {},
   "outputs": [],
   "source": [
    "points = data['INCOME'].interpolate(method='akima')"
   ]
  },
  {
   "cell_type": "code",
   "execution_count": 48,
   "metadata": {},
   "outputs": [],
   "source": [
    "points2 = data['INCOME'].fillna(np.mean(data['INCOME']))"
   ]
  },
  {
   "cell_type": "code",
   "execution_count": 58,
   "metadata": {},
   "outputs": [
    {
     "data": {
      "text/plain": [
       "3.0"
      ]
     },
     "execution_count": 58,
     "metadata": {},
     "output_type": "execute_result"
    }
   ],
   "source": [
    "np.median(data['INCOME'].fillna(0))"
   ]
  },
  {
   "cell_type": "code",
   "execution_count": 59,
   "metadata": {},
   "outputs": [],
   "source": [
    "points3 = data['INCOME'].fillna(np.median(data['INCOME'].fillna(0)))"
   ]
  },
  {
   "cell_type": "code",
   "execution_count": 55,
   "metadata": {},
   "outputs": [
    {
     "data": {
      "text/plain": [
       "3.8782570397522234"
      ]
     },
     "execution_count": 55,
     "metadata": {},
     "output_type": "execute_result"
    }
   ],
   "source": [
    "np.median(data['INCOME'])"
   ]
  },
  {
   "cell_type": "code",
   "execution_count": 11,
   "metadata": {},
   "outputs": [
    {
     "data": {
      "text/plain": [
       "<matplotlib.axes._subplots.AxesSubplot at 0x7fab9ef1d9d0>"
      ]
     },
     "execution_count": 11,
     "metadata": {},
     "output_type": "execute_result"
    },
    {
     "data": {
      "image/png": "[encoded data removed]",
      "text/plain": [
       "<Figure size 720x1080 with 1 Axes>"
      ]
     },
     "metadata": {
      "needs_background": "light"
     },
     "output_type": "display_data"
    }
   ],
   "source": [
    "sns.regplot('IC4', 'INCOME', data=data)"
   ]
  },
  {
   "cell_type": "code",
   "execution_count": null,
   "metadata": {},
   "outputs": [],
   "source": []
  },
  {
   "cell_type": "code",
   "execution_count": 47,
   "metadata": {},
   "outputs": [
    {
     "data": {
      "text/plain": [
       "<matplotlib.axes._subplots.AxesSubplot at 0x1287239e8>"
      ]
     },
     "execution_count": 47,
     "metadata": {},
     "output_type": "execute_result"
    },
    {
     "data": {
      "image/png": "[encoded data removed]",
      "text/plain": [
       "<Figure size 432x288 with 1 Axes>"
      ]
     },
     "metadata": {
      "needs_background": "light"
     },
     "output_type": "display_data"
    }
   ],
   "source": [
    "sns.distplot(points[1:])"
   ]
  },
  {
   "cell_type": "code",
   "execution_count": 49,
   "metadata": {},
   "outputs": [
    {
     "data": {
      "text/plain": [
       "<matplotlib.axes._subplots.AxesSubplot at 0x128d9ddd8>"
      ]
     },
     "execution_count": 49,
     "metadata": {},
     "output_type": "execute_result"
    },
    {
     "data": {
      "image/png": "[encoded data removed]",
      "text/plain": [
       "<Figure size 432x288 with 1 Axes>"
      ]
     },
     "metadata": {
      "needs_background": "light"
     },
     "output_type": "display_data"
    }
   ],
   "source": [
    "sns.distplot(points2)"
   ]
  },
  {
   "cell_type": "code",
   "execution_count": 60,
   "metadata": {},
   "outputs": [
    {
     "data": {
      "text/plain": [
       "<matplotlib.axes._subplots.AxesSubplot at 0x129748dd8>"
      ]
     },
     "execution_count": 60,
     "metadata": {},
     "output_type": "execute_result"
    },
    {
     "data": {
      "image/png": "[encoded data removed]",
      "text/plain": [
       "<Figure size 432x288 with 1 Axes>"
      ]
     },
     "metadata": {
      "needs_background": "light"
     },
     "output_type": "display_data"
    }
   ],
   "source": [
    "sns.distplot(points3)"
   ]
  },
  {
   "cell_type": "code",
   "execution_count": 103,
   "metadata": {},
   "outputs": [],
   "source": [
    "data['INCOME'] = data['INCOME'].fillna(np.mean(data['INCOME']))"
   ]
  },
  {
   "cell_type": "code",
   "execution_count": 37,
   "metadata": {},
   "outputs": [
    {
     "data": {
      "text/plain": [
       "854"
      ]
     },
     "execution_count": 37,
     "metadata": {},
     "output_type": "execute_result"
    }
   ],
   "source": [
    "sum(data['TIMELAG'] ==0)"
   ]
  },
  {
   "cell_type": "code",
   "execution_count": 38,
   "metadata": {},
   "outputs": [
    {
     "data": {
      "text/plain": [
       "-inf"
      ]
     },
     "execution_count": 38,
     "metadata": {},
     "output_type": "execute_result"
    }
   ],
   "source": [
    "np.log(0)"
   ]
  },
  {
   "cell_type": "code",
   "execution_count": 42,
   "metadata": {},
   "outputs": [
    {
     "data": {
      "text/plain": [
       "<matplotlib.axes._subplots.AxesSubplot at 0x7fab9845c550>"
      ]
     },
     "execution_count": 42,
     "metadata": {},
     "output_type": "execute_result"
    },
    {
     "data": {
      "image/png": "[encoded data removed]",
      "text/plain": [
       "<Figure size 720x1080 with 1 Axes>"
      ]
     },
     "metadata": {
      "needs_background": "light"
     },
     "output_type": "display_data"
    }
   ],
   "source": [
    "sns.distplot(data['IC1'])"
   ]
  },
  {
   "cell_type": "code",
   "execution_count": 41,
   "metadata": {},
   "outputs": [
    {
     "data": {
      "text/plain": [
       "<matplotlib.axes._subplots.AxesSubplot at 0x7fab9881fe90>"
      ]
     },
     "execution_count": 41,
     "metadata": {},
     "output_type": "execute_result"
    },
    {
     "data": {
      "image/png": "[encoded data removed]",
      "text/plain": [
       "<Figure size 720x1080 with 1 Axes>"
      ]
     },
     "metadata": {
      "needs_background": "light"
     },
     "output_type": "display_data"
    }
   ],
   "source": [
    "sns.distplot(np.log(data['IC1']))"
   ]
  },
  {
   "cell_type": "code",
   "execution_count": 44,
   "metadata": {},
   "outputs": [
    {
     "name": "stdout",
     "output_type": "stream",
     "text": [
      "nan\n"
     ]
    }
   ],
   "source": [
    "iqr = np.percentile(data['TIMELAG'],75) - np.percentile(data['TIMELAG'],25)\n",
    "upper_limit = np.percentile(data['TIMELAG'],75) + 1.5*iqr\n",
    "print(upper_limit)\n"
   ]
  },
  {
   "cell_type": "code",
   "execution_count": 47,
   "metadata": {},
   "outputs": [
    {
     "data": {
      "text/plain": [
       "80916"
      ]
     },
     "execution_count": 47,
     "metadata": {},
     "output_type": "execute_result"
    }
   ],
   "source": [
    "points = list(filter(lambda x: x < 10000, data['TIMELAG']))\n",
    "len(points)"
   ]
  },
  {
   "cell_type": "code",
   "execution_count": 76,
   "metadata": {},
   "outputs": [
    {
     "data": {
      "text/plain": [
       "<matplotlib.axes._subplots.AxesSubplot at 0x12bd4a2b0>"
      ]
     },
     "execution_count": 76,
     "metadata": {},
     "output_type": "execute_result"
    },
    {
     "data": {
      "image/png": "[encoded data removed]",
      "text/plain": [
       "<Figure size 432x288 with 1 Axes>"
      ]
     },
     "metadata": {
      "needs_background": "light"
     },
     "output_type": "display_data"
    }
   ],
   "source": [
    "data['TIMELAG'].hist(bins=40)"
   ]
  },
  {
   "cell_type": "code",
   "execution_count": 98,
   "metadata": {},
   "outputs": [
    {
     "data": {
      "text/plain": [
       "<matplotlib.axes._subplots.AxesSubplot at 0x127f7deb8>"
      ]
     },
     "execution_count": 98,
     "metadata": {},
     "output_type": "execute_result"
    },
    {
     "data": {
      "image/png": "[encoded data removed]",
      "text/plain": [
       "<Figure size 432x288 with 1 Axes>"
      ]
     },
     "metadata": {
      "needs_background": "light"
     },
     "output_type": "display_data"
    }
   ],
   "source": [
    "sns.boxplot(y=data['TIMELAG'])"
   ]
  },
  {
   "cell_type": "code",
   "execution_count": null,
   "metadata": {},
   "outputs": [],
   "source": [
    "# Data in Timelag column is highly skewed (positive skewness)\n",
    "# Removing outliers straight away might not be the best idea as it would remove a lot of data points from the data\n",
    "# We will try some transformations "
   ]
  },
  {
   "cell_type": "code",
   "execution_count": 77,
   "metadata": {},
   "outputs": [
    {
     "data": {
      "text/plain": [
       "count    80916.000000\n",
       "mean         8.114378\n",
       "std          8.310877\n",
       "min          0.000000\n",
       "25%          4.000000\n",
       "50%          6.000000\n",
       "75%         11.000000\n",
       "max       1088.000000\n",
       "Name: TIMELAG, dtype: float64"
      ]
     },
     "execution_count": 77,
     "metadata": {},
     "output_type": "execute_result"
    }
   ],
   "source": [
    "data['TIMELAG'].describe()"
   ]
  },
  {
   "cell_type": "code",
   "execution_count": 85,
   "metadata": {},
   "outputs": [],
   "source": [
    "def log_transfom_clean_(x):\n",
    "    if np.isfinite(x) and x!=0:\n",
    "        return np.log(x)\n",
    "    else:\n",
    "        return np.NAN # We are returning NaNs so that we can replace them later"
   ]
  },
  {
   "cell_type": "code",
   "execution_count": 87,
   "metadata": {},
   "outputs": [
    {
     "data": {
      "text/plain": [
       "<matplotlib.axes._subplots.AxesSubplot at 0x129fc7588>"
      ]
     },
     "execution_count": 87,
     "metadata": {},
     "output_type": "execute_result"
    },
    {
     "data": {
      "image/png": "[encoded data removed]",
      "text/plain": [
       "<Figure size 432x288 with 1 Axes>"
      ]
     },
     "metadata": {
      "needs_background": "light"
     },
     "output_type": "display_data"
    }
   ],
   "source": [
    "pd.Series(map(log_transfom_clean_, data['TIMELAG'])).hist()"
   ]
  },
  {
   "cell_type": "code",
   "execution_count": 89,
   "metadata": {},
   "outputs": [
    {
     "data": {
      "text/plain": [
       "count    80062.000000\n",
       "mean         1.826874\n",
       "std          0.773448\n",
       "min          0.000000\n",
       "25%          1.386294\n",
       "50%          1.945910\n",
       "75%          2.397895\n",
       "max          6.992096\n",
       "dtype: float64"
      ]
     },
     "execution_count": 89,
     "metadata": {},
     "output_type": "execute_result"
    }
   ],
   "source": [
    "pd.Series(map(log_transfom_clean_, data['TIMELAG'])).describe()"
   ]
  },
  {
   "cell_type": "code",
   "execution_count": 104,
   "metadata": {},
   "outputs": [],
   "source": [
    "# data['TIMELAG'] = list(map(sqrt_transfom_clean_, data['TIMELAG']))"
   ]
  },
  {
   "cell_type": "code",
   "execution_count": 107,
   "metadata": {},
   "outputs": [
    {
     "data": {
      "image/png": "[encoded data removed]",
      "text/plain": [
       "<Figure size 432x288 with 1 Axes>"
      ]
     },
     "metadata": {
      "needs_background": "light"
     },
     "output_type": "display_data"
    }
   ],
   "source": [
    "data['TIMELAG'] = list(map(log_transfom_clean_, data['TIMELAG']))\n",
    "data['TIMELAG'] = data['TIMELAG'].fillna(np.mean(data['TIMELAG']))\n",
    "sns.distplot(data['TIMELAG'])\n",
    "plt.show()"
   ]
  },
  {
   "cell_type": "code",
   "execution_count": 105,
   "metadata": {},
   "outputs": [
    {
     "data": {
      "image/png": "[encoded data removed]",
      "text/plain": [
       "<Figure size 432x288 with 1 Axes>"
      ]
     },
     "metadata": {
      "needs_background": "light"
     },
     "output_type": "display_data"
    }
   ],
   "source": [
    "data['TIMELAG'] = data['TIMELAG'].fillna(np.mean(data['TIMELAG']))\n",
    "sns.distplot(data['TIMELAG'])\n",
    "plt.show()"
   ]
  },
  {
   "cell_type": "code",
   "execution_count": null,
   "metadata": {},
   "outputs": [],
   "source": []
  },
  {
   "cell_type": "code",
   "execution_count": 93,
   "metadata": {},
   "outputs": [],
   "source": [
    "def sqrt_transfom_clean_(x):\n",
    "    if np.isfinite(x) and x>=0:\n",
    "        return np.sqrt(x)\n",
    "    else:\n",
    "        return np.NAN # We are returning NaNs so that we can replace them later"
   ]
  },
  {
   "cell_type": "code",
   "execution_count": 94,
   "metadata": {},
   "outputs": [
    {
     "data": {
      "text/plain": [
       "<matplotlib.axes._subplots.AxesSubplot at 0x1285bbda0>"
      ]
     },
     "execution_count": 94,
     "metadata": {},
     "output_type": "execute_result"
    },
    {
     "data": {
      "image/png": "[encoded data removed]",
      "text/plain": [
       "<Figure size 432x288 with 1 Axes>"
      ]
     },
     "metadata": {
      "needs_background": "light"
     },
     "output_type": "display_data"
    }
   ],
   "source": [
    "pd.Series(map(sqrt_transfom_clean_, data['TIMELAG'])).hist()"
   ]
  },
  {
   "cell_type": "code",
   "execution_count": null,
   "metadata": {},
   "outputs": [],
   "source": []
  },
  {
   "cell_type": "code",
   "execution_count": null,
   "metadata": {},
   "outputs": [],
   "source": []
  },
  {
   "cell_type": "code",
   "execution_count": null,
   "metadata": {},
   "outputs": [],
   "source": []
  },
  {
   "cell_type": "code",
   "execution_count": 84,
   "metadata": {},
   "outputs": [
    {
     "name": "stdout",
     "output_type": "stream",
     "text": [
      "2\n"
     ]
    }
   ],
   "source": [
    "x = 2 \n",
    "if x>0 and x<4:\n",
    "    print(x)"
   ]
  },
  {
   "cell_type": "code",
   "execution_count": null,
   "metadata": {},
   "outputs": [],
   "source": []
  },
  {
   "cell_type": "code",
   "execution_count": null,
   "metadata": {},
   "outputs": [],
   "source": []
  },
  {
   "cell_type": "code",
   "execution_count": null,
   "metadata": {},
   "outputs": [],
   "source": []
  },
  {
   "cell_type": "code",
   "execution_count": null,
   "metadata": {},
   "outputs": [],
   "source": []
  },
  {
   "cell_type": "code",
   "execution_count": 61,
   "metadata": {},
   "outputs": [],
   "source": [
    "numericals = data.select_dtypes(np.number)"
   ]
  },
  {
   "cell_type": "code",
   "execution_count": 62,
   "metadata": {},
   "outputs": [
    {
     "data": {
      "text/html": [
       "<div>\n",
       "<style scoped>\n",
       "    .dataframe tbody tr th:only-of-type {\n",
       "        vertical-align: middle;\n",
       "    }\n",
       "\n",
       "    .dataframe tbody tr th {\n",
       "        vertical-align: top;\n",
       "    }\n",
       "\n",
       "    .dataframe thead th {\n",
       "        text-align: right;\n",
       "    }\n",
       "</style>\n",
       "<table border=\"1\" class=\"dataframe\">\n",
       "  <thead>\n",
       "    <tr style=\"text-align: right;\">\n",
       "      <th></th>\n",
       "      <th>DOB</th>\n",
       "      <th>INCOME</th>\n",
       "      <th>HV1</th>\n",
       "      <th>HV2</th>\n",
       "      <th>HV3</th>\n",
       "      <th>HV4</th>\n",
       "      <th>IC1</th>\n",
       "      <th>IC2</th>\n",
       "      <th>IC3</th>\n",
       "      <th>IC4</th>\n",
       "      <th>IC5</th>\n",
       "      <th>NUMPROM</th>\n",
       "      <th>CARDPROM</th>\n",
       "      <th>CARDPM12</th>\n",
       "      <th>NUMPRM12</th>\n",
       "      <th>MAXADATE</th>\n",
       "      <th>NGIFTALL</th>\n",
       "      <th>TIMELAG</th>\n",
       "      <th>AVGGIFT</th>\n",
       "    </tr>\n",
       "  </thead>\n",
       "  <tbody>\n",
       "    <tr>\n",
       "      <th>0</th>\n",
       "      <td>3712</td>\n",
       "      <td>NaN</td>\n",
       "      <td>479</td>\n",
       "      <td>635</td>\n",
       "      <td>3</td>\n",
       "      <td>2</td>\n",
       "      <td>307</td>\n",
       "      <td>318</td>\n",
       "      <td>349</td>\n",
       "      <td>378</td>\n",
       "      <td>12883</td>\n",
       "      <td>74</td>\n",
       "      <td>27</td>\n",
       "      <td>6</td>\n",
       "      <td>14</td>\n",
       "      <td>9702</td>\n",
       "      <td>31</td>\n",
       "      <td>4.0</td>\n",
       "      <td>7.741935</td>\n",
       "    </tr>\n",
       "    <tr>\n",
       "      <th>1</th>\n",
       "      <td>5202</td>\n",
       "      <td>6.0</td>\n",
       "      <td>5468</td>\n",
       "      <td>5218</td>\n",
       "      <td>12</td>\n",
       "      <td>10</td>\n",
       "      <td>1088</td>\n",
       "      <td>1096</td>\n",
       "      <td>1026</td>\n",
       "      <td>1037</td>\n",
       "      <td>36175</td>\n",
       "      <td>32</td>\n",
       "      <td>12</td>\n",
       "      <td>6</td>\n",
       "      <td>13</td>\n",
       "      <td>9702</td>\n",
       "      <td>3</td>\n",
       "      <td>18.0</td>\n",
       "      <td>15.666667</td>\n",
       "    </tr>\n",
       "    <tr>\n",
       "      <th>2</th>\n",
       "      <td>0</td>\n",
       "      <td>3.0</td>\n",
       "      <td>497</td>\n",
       "      <td>546</td>\n",
       "      <td>2</td>\n",
       "      <td>1</td>\n",
       "      <td>251</td>\n",
       "      <td>292</td>\n",
       "      <td>292</td>\n",
       "      <td>340</td>\n",
       "      <td>11576</td>\n",
       "      <td>63</td>\n",
       "      <td>26</td>\n",
       "      <td>6</td>\n",
       "      <td>14</td>\n",
       "      <td>9702</td>\n",
       "      <td>27</td>\n",
       "      <td>12.0</td>\n",
       "      <td>7.481481</td>\n",
       "    </tr>\n",
       "    <tr>\n",
       "      <th>3</th>\n",
       "      <td>2801</td>\n",
       "      <td>1.0</td>\n",
       "      <td>1000</td>\n",
       "      <td>1263</td>\n",
       "      <td>2</td>\n",
       "      <td>1</td>\n",
       "      <td>386</td>\n",
       "      <td>388</td>\n",
       "      <td>396</td>\n",
       "      <td>423</td>\n",
       "      <td>15130</td>\n",
       "      <td>66</td>\n",
       "      <td>27</td>\n",
       "      <td>6</td>\n",
       "      <td>14</td>\n",
       "      <td>9702</td>\n",
       "      <td>16</td>\n",
       "      <td>9.0</td>\n",
       "      <td>6.812500</td>\n",
       "    </tr>\n",
       "    <tr>\n",
       "      <th>4</th>\n",
       "      <td>2001</td>\n",
       "      <td>3.0</td>\n",
       "      <td>576</td>\n",
       "      <td>594</td>\n",
       "      <td>4</td>\n",
       "      <td>3</td>\n",
       "      <td>240</td>\n",
       "      <td>250</td>\n",
       "      <td>293</td>\n",
       "      <td>321</td>\n",
       "      <td>9836</td>\n",
       "      <td>113</td>\n",
       "      <td>43</td>\n",
       "      <td>10</td>\n",
       "      <td>25</td>\n",
       "      <td>9702</td>\n",
       "      <td>37</td>\n",
       "      <td>14.0</td>\n",
       "      <td>6.864865</td>\n",
       "    </tr>\n",
       "  </tbody>\n",
       "</table>\n",
       "</div>"
      ],
      "text/plain": [
       "    DOB  INCOME   HV1   HV2  HV3  HV4   IC1   IC2   IC3   IC4    IC5  NUMPROM  \\\n",
       "0  3712     NaN   479   635    3    2   307   318   349   378  12883       74   \n",
       "1  5202     6.0  5468  5218   12   10  1088  1096  1026  1037  36175       32   \n",
       "2     0     3.0   497   546    2    1   251   292   292   340  11576       63   \n",
       "3  2801     1.0  1000  1263    2    1   386   388   396   423  15130       66   \n",
       "4  2001     3.0   576   594    4    3   240   250   293   321   9836      113   \n",
       "\n",
       "   CARDPROM  CARDPM12  NUMPRM12  MAXADATE  NGIFTALL  TIMELAG    AVGGIFT  \n",
       "0        27         6        14      9702        31      4.0   7.741935  \n",
       "1        12         6        13      9702         3     18.0  15.666667  \n",
       "2        26         6        14      9702        27     12.0   7.481481  \n",
       "3        27         6        14      9702        16      9.0   6.812500  \n",
       "4        43        10        25      9702        37     14.0   6.864865  "
      ]
     },
     "execution_count": 62,
     "metadata": {},
     "output_type": "execute_result"
    }
   ],
   "source": [
    "numericals.head()"
   ]
  },
  {
   "cell_type": "code",
   "execution_count": null,
   "metadata": {},
   "outputs": [],
   "source": []
  },
  {
   "cell_type": "code",
   "execution_count": null,
   "metadata": {},
   "outputs": [],
   "source": []
  },
  {
   "cell_type": "markdown",
   "metadata": {},
   "source": [
    "As you can see after using the head function, there are some null values in the columns , PVSTATE, RECP3, HOMEWNR, VETERANS. But they are not showing up in dataframe above. So there might be empty spaces there that we\n",
    "would need to check and clean later\n"
   ]
  },
  {
   "cell_type": "code",
   "execution_count": null,
   "metadata": {},
   "outputs": [],
   "source": []
  },
  {
   "cell_type": "markdown",
   "metadata": {},
   "source": [
    "## Lesson 4"
   ]
  },
  {
   "cell_type": "code",
   "execution_count": 178,
   "metadata": {},
   "outputs": [
    {
     "data": {
      "text/html": [
       "<div>\n",
       "<style scoped>\n",
       "    .dataframe tbody tr th:only-of-type {\n",
       "        vertical-align: middle;\n",
       "    }\n",
       "\n",
       "    .dataframe tbody tr th {\n",
       "        vertical-align: top;\n",
       "    }\n",
       "\n",
       "    .dataframe thead th {\n",
       "        text-align: right;\n",
       "    }\n",
       "</style>\n",
       "<table border=\"1\" class=\"dataframe\">\n",
       "  <thead>\n",
       "    <tr style=\"text-align: right;\">\n",
       "      <th></th>\n",
       "      <th>STATE</th>\n",
       "      <th>PVASTATE</th>\n",
       "      <th>DOB</th>\n",
       "      <th>MDMAUD</th>\n",
       "      <th>RECP3</th>\n",
       "      <th>GENDER</th>\n",
       "      <th>DOMAIN</th>\n",
       "      <th>INCOME</th>\n",
       "      <th>HOMEOWNR</th>\n",
       "      <th>HV1</th>\n",
       "      <th>HV2</th>\n",
       "      <th>HV3</th>\n",
       "      <th>HV4</th>\n",
       "      <th>IC1</th>\n",
       "      <th>IC2</th>\n",
       "      <th>IC3</th>\n",
       "      <th>IC4</th>\n",
       "      <th>IC5</th>\n",
       "      <th>VETERANS</th>\n",
       "      <th>NUMPROM</th>\n",
       "      <th>CARDPROM</th>\n",
       "      <th>CARDPM12</th>\n",
       "      <th>NUMPRM12</th>\n",
       "      <th>MAXADATE</th>\n",
       "      <th>RFA_2</th>\n",
       "      <th>NGIFTALL</th>\n",
       "      <th>TIMELAG</th>\n",
       "      <th>AVGGIFT</th>\n",
       "    </tr>\n",
       "  </thead>\n",
       "  <tbody>\n",
       "    <tr>\n",
       "      <th>0</th>\n",
       "      <td>IL</td>\n",
       "      <td></td>\n",
       "      <td>3712</td>\n",
       "      <td>XXXX</td>\n",
       "      <td></td>\n",
       "      <td>F</td>\n",
       "      <td>T2</td>\n",
       "      <td>NaN</td>\n",
       "      <td></td>\n",
       "      <td>479</td>\n",
       "      <td>635</td>\n",
       "      <td>3</td>\n",
       "      <td>2</td>\n",
       "      <td>307</td>\n",
       "      <td>318</td>\n",
       "      <td>349</td>\n",
       "      <td>378</td>\n",
       "      <td>12883</td>\n",
       "      <td></td>\n",
       "      <td>74</td>\n",
       "      <td>27</td>\n",
       "      <td>6</td>\n",
       "      <td>14</td>\n",
       "      <td>9702</td>\n",
       "      <td>L4E</td>\n",
       "      <td>31</td>\n",
       "      <td>4.0</td>\n",
       "      <td>7.741935</td>\n",
       "    </tr>\n",
       "    <tr>\n",
       "      <th>1</th>\n",
       "      <td>CA</td>\n",
       "      <td></td>\n",
       "      <td>5202</td>\n",
       "      <td>XXXX</td>\n",
       "      <td></td>\n",
       "      <td>M</td>\n",
       "      <td>S1</td>\n",
       "      <td>6.0</td>\n",
       "      <td>H</td>\n",
       "      <td>5468</td>\n",
       "      <td>5218</td>\n",
       "      <td>12</td>\n",
       "      <td>10</td>\n",
       "      <td>1088</td>\n",
       "      <td>1096</td>\n",
       "      <td>1026</td>\n",
       "      <td>1037</td>\n",
       "      <td>36175</td>\n",
       "      <td></td>\n",
       "      <td>32</td>\n",
       "      <td>12</td>\n",
       "      <td>6</td>\n",
       "      <td>13</td>\n",
       "      <td>9702</td>\n",
       "      <td>L2G</td>\n",
       "      <td>3</td>\n",
       "      <td>18.0</td>\n",
       "      <td>15.666667</td>\n",
       "    </tr>\n",
       "    <tr>\n",
       "      <th>2</th>\n",
       "      <td>NC</td>\n",
       "      <td></td>\n",
       "      <td>0</td>\n",
       "      <td>XXXX</td>\n",
       "      <td></td>\n",
       "      <td>M</td>\n",
       "      <td>R2</td>\n",
       "      <td>3.0</td>\n",
       "      <td>U</td>\n",
       "      <td>497</td>\n",
       "      <td>546</td>\n",
       "      <td>2</td>\n",
       "      <td>1</td>\n",
       "      <td>251</td>\n",
       "      <td>292</td>\n",
       "      <td>292</td>\n",
       "      <td>340</td>\n",
       "      <td>11576</td>\n",
       "      <td></td>\n",
       "      <td>63</td>\n",
       "      <td>26</td>\n",
       "      <td>6</td>\n",
       "      <td>14</td>\n",
       "      <td>9702</td>\n",
       "      <td>L4E</td>\n",
       "      <td>27</td>\n",
       "      <td>12.0</td>\n",
       "      <td>7.481481</td>\n",
       "    </tr>\n",
       "    <tr>\n",
       "      <th>3</th>\n",
       "      <td>CA</td>\n",
       "      <td></td>\n",
       "      <td>2801</td>\n",
       "      <td>XXXX</td>\n",
       "      <td></td>\n",
       "      <td>F</td>\n",
       "      <td>R2</td>\n",
       "      <td>1.0</td>\n",
       "      <td>U</td>\n",
       "      <td>1000</td>\n",
       "      <td>1263</td>\n",
       "      <td>2</td>\n",
       "      <td>1</td>\n",
       "      <td>386</td>\n",
       "      <td>388</td>\n",
       "      <td>396</td>\n",
       "      <td>423</td>\n",
       "      <td>15130</td>\n",
       "      <td></td>\n",
       "      <td>66</td>\n",
       "      <td>27</td>\n",
       "      <td>6</td>\n",
       "      <td>14</td>\n",
       "      <td>9702</td>\n",
       "      <td>L4E</td>\n",
       "      <td>16</td>\n",
       "      <td>9.0</td>\n",
       "      <td>6.812500</td>\n",
       "    </tr>\n",
       "    <tr>\n",
       "      <th>4</th>\n",
       "      <td>FL</td>\n",
       "      <td></td>\n",
       "      <td>2001</td>\n",
       "      <td>XXXX</td>\n",
       "      <td>X</td>\n",
       "      <td>F</td>\n",
       "      <td>S2</td>\n",
       "      <td>3.0</td>\n",
       "      <td>H</td>\n",
       "      <td>576</td>\n",
       "      <td>594</td>\n",
       "      <td>4</td>\n",
       "      <td>3</td>\n",
       "      <td>240</td>\n",
       "      <td>250</td>\n",
       "      <td>293</td>\n",
       "      <td>321</td>\n",
       "      <td>9836</td>\n",
       "      <td></td>\n",
       "      <td>113</td>\n",
       "      <td>43</td>\n",
       "      <td>10</td>\n",
       "      <td>25</td>\n",
       "      <td>9702</td>\n",
       "      <td>L2F</td>\n",
       "      <td>37</td>\n",
       "      <td>14.0</td>\n",
       "      <td>6.864865</td>\n",
       "    </tr>\n",
       "  </tbody>\n",
       "</table>\n",
       "</div>"
      ],
      "text/plain": [
       "  STATE PVASTATE   DOB MDMAUD RECP3 GENDER DOMAIN  INCOME HOMEOWNR   HV1  \\\n",
       "0    IL           3712   XXXX            F     T2     NaN            479   \n",
       "1    CA           5202   XXXX            M     S1     6.0        H  5468   \n",
       "2    NC              0   XXXX            M     R2     3.0        U   497   \n",
       "3    CA           2801   XXXX            F     R2     1.0        U  1000   \n",
       "4    FL           2001   XXXX     X      F     S2     3.0        H   576   \n",
       "\n",
       "    HV2  HV3  HV4   IC1   IC2   IC3   IC4    IC5 VETERANS  NUMPROM  CARDPROM  \\\n",
       "0   635    3    2   307   318   349   378  12883                74        27   \n",
       "1  5218   12   10  1088  1096  1026  1037  36175                32        12   \n",
       "2   546    2    1   251   292   292   340  11576                63        26   \n",
       "3  1263    2    1   386   388   396   423  15130                66        27   \n",
       "4   594    4    3   240   250   293   321   9836               113        43   \n",
       "\n",
       "   CARDPM12  NUMPRM12  MAXADATE RFA_2  NGIFTALL  TIMELAG    AVGGIFT  \n",
       "0         6        14      9702   L4E        31      4.0   7.741935  \n",
       "1         6        13      9702   L2G         3     18.0  15.666667  \n",
       "2         6        14      9702   L4E        27     12.0   7.481481  \n",
       "3         6        14      9702   L4E        16      9.0   6.812500  \n",
       "4        10        25      9702   L2F        37     14.0   6.864865  "
      ]
     },
     "execution_count": 178,
     "metadata": {},
     "output_type": "execute_result"
    }
   ],
   "source": [
    "data.head()"
   ]
  },
  {
   "cell_type": "code",
   "execution_count": 179,
   "metadata": {},
   "outputs": [
    {
     "name": "stdout",
     "output_type": "stream",
     "text": [
      "<class 'pandas.core.frame.DataFrame'>\n",
      "RangeIndex: 90569 entries, 0 to 90568\n",
      "Data columns (total 28 columns):\n",
      " #   Column    Non-Null Count  Dtype  \n",
      "---  ------    --------------  -----  \n",
      " 0   STATE     90569 non-null  object \n",
      " 1   PVASTATE  90569 non-null  object \n",
      " 2   DOB       90569 non-null  int64  \n",
      " 3   MDMAUD    90569 non-null  object \n",
      " 4   RECP3     90569 non-null  object \n",
      " 5   GENDER    90569 non-null  object \n",
      " 6   DOMAIN    90569 non-null  object \n",
      " 7   INCOME    70386 non-null  float64\n",
      " 8   HOMEOWNR  90569 non-null  object \n",
      " 9   HV1       90569 non-null  int64  \n",
      " 10  HV2       90569 non-null  int64  \n",
      " 11  HV3       90569 non-null  int64  \n",
      " 12  HV4       90569 non-null  int64  \n",
      " 13  IC1       90569 non-null  int64  \n",
      " 14  IC2       90569 non-null  int64  \n",
      " 15  IC3       90569 non-null  int64  \n",
      " 16  IC4       90569 non-null  int64  \n",
      " 17  IC5       90569 non-null  int64  \n",
      " 18  VETERANS  90569 non-null  object \n",
      " 19  NUMPROM   90569 non-null  int64  \n",
      " 20  CARDPROM  90569 non-null  int64  \n",
      " 21  CARDPM12  90569 non-null  int64  \n",
      " 22  NUMPRM12  90569 non-null  int64  \n",
      " 23  MAXADATE  90569 non-null  int64  \n",
      " 24  RFA_2     90569 non-null  object \n",
      " 25  NGIFTALL  90569 non-null  int64  \n",
      " 26  TIMELAG   80916 non-null  float64\n",
      " 27  AVGGIFT   90569 non-null  float64\n",
      "dtypes: float64(3), int64(16), object(9)\n",
      "memory usage: 19.3+ MB\n"
     ]
    }
   ],
   "source": [
    "data.info()"
   ]
  },
  {
   "cell_type": "code",
   "execution_count": 71,
   "metadata": {},
   "outputs": [],
   "source": [
    "numericals = data.select_dtypes(np.number)"
   ]
  },
  {
   "cell_type": "code",
   "execution_count": 72,
   "metadata": {},
   "outputs": [
    {
     "data": {
      "text/html": [
       "<div>\n",
       "<style scoped>\n",
       "    .dataframe tbody tr th:only-of-type {\n",
       "        vertical-align: middle;\n",
       "    }\n",
       "\n",
       "    .dataframe tbody tr th {\n",
       "        vertical-align: top;\n",
       "    }\n",
       "\n",
       "    .dataframe thead th {\n",
       "        text-align: right;\n",
       "    }\n",
       "</style>\n",
       "<table border=\"1\" class=\"dataframe\">\n",
       "  <thead>\n",
       "    <tr style=\"text-align: right;\">\n",
       "      <th></th>\n",
       "      <th>DOB</th>\n",
       "      <th>INCOME</th>\n",
       "      <th>HV1</th>\n",
       "      <th>HV2</th>\n",
       "      <th>HV3</th>\n",
       "      <th>HV4</th>\n",
       "      <th>IC1</th>\n",
       "      <th>IC2</th>\n",
       "      <th>IC3</th>\n",
       "      <th>IC4</th>\n",
       "      <th>IC5</th>\n",
       "      <th>NUMPROM</th>\n",
       "      <th>CARDPROM</th>\n",
       "      <th>CARDPM12</th>\n",
       "      <th>NUMPRM12</th>\n",
       "      <th>MAXADATE</th>\n",
       "      <th>NGIFTALL</th>\n",
       "      <th>TIMELAG</th>\n",
       "      <th>AVGGIFT</th>\n",
       "    </tr>\n",
       "  </thead>\n",
       "  <tbody>\n",
       "    <tr>\n",
       "      <th>0</th>\n",
       "      <td>3712</td>\n",
       "      <td>NaN</td>\n",
       "      <td>479</td>\n",
       "      <td>635</td>\n",
       "      <td>3</td>\n",
       "      <td>2</td>\n",
       "      <td>307</td>\n",
       "      <td>318</td>\n",
       "      <td>349</td>\n",
       "      <td>378</td>\n",
       "      <td>12883</td>\n",
       "      <td>74</td>\n",
       "      <td>27</td>\n",
       "      <td>6</td>\n",
       "      <td>14</td>\n",
       "      <td>9702</td>\n",
       "      <td>31</td>\n",
       "      <td>4.0</td>\n",
       "      <td>7.741935</td>\n",
       "    </tr>\n",
       "    <tr>\n",
       "      <th>1</th>\n",
       "      <td>5202</td>\n",
       "      <td>6.0</td>\n",
       "      <td>5468</td>\n",
       "      <td>5218</td>\n",
       "      <td>12</td>\n",
       "      <td>10</td>\n",
       "      <td>1088</td>\n",
       "      <td>1096</td>\n",
       "      <td>1026</td>\n",
       "      <td>1037</td>\n",
       "      <td>36175</td>\n",
       "      <td>32</td>\n",
       "      <td>12</td>\n",
       "      <td>6</td>\n",
       "      <td>13</td>\n",
       "      <td>9702</td>\n",
       "      <td>3</td>\n",
       "      <td>18.0</td>\n",
       "      <td>15.666667</td>\n",
       "    </tr>\n",
       "    <tr>\n",
       "      <th>2</th>\n",
       "      <td>0</td>\n",
       "      <td>3.0</td>\n",
       "      <td>497</td>\n",
       "      <td>546</td>\n",
       "      <td>2</td>\n",
       "      <td>1</td>\n",
       "      <td>251</td>\n",
       "      <td>292</td>\n",
       "      <td>292</td>\n",
       "      <td>340</td>\n",
       "      <td>11576</td>\n",
       "      <td>63</td>\n",
       "      <td>26</td>\n",
       "      <td>6</td>\n",
       "      <td>14</td>\n",
       "      <td>9702</td>\n",
       "      <td>27</td>\n",
       "      <td>12.0</td>\n",
       "      <td>7.481481</td>\n",
       "    </tr>\n",
       "    <tr>\n",
       "      <th>3</th>\n",
       "      <td>2801</td>\n",
       "      <td>1.0</td>\n",
       "      <td>1000</td>\n",
       "      <td>1263</td>\n",
       "      <td>2</td>\n",
       "      <td>1</td>\n",
       "      <td>386</td>\n",
       "      <td>388</td>\n",
       "      <td>396</td>\n",
       "      <td>423</td>\n",
       "      <td>15130</td>\n",
       "      <td>66</td>\n",
       "      <td>27</td>\n",
       "      <td>6</td>\n",
       "      <td>14</td>\n",
       "      <td>9702</td>\n",
       "      <td>16</td>\n",
       "      <td>9.0</td>\n",
       "      <td>6.812500</td>\n",
       "    </tr>\n",
       "    <tr>\n",
       "      <th>4</th>\n",
       "      <td>2001</td>\n",
       "      <td>3.0</td>\n",
       "      <td>576</td>\n",
       "      <td>594</td>\n",
       "      <td>4</td>\n",
       "      <td>3</td>\n",
       "      <td>240</td>\n",
       "      <td>250</td>\n",
       "      <td>293</td>\n",
       "      <td>321</td>\n",
       "      <td>9836</td>\n",
       "      <td>113</td>\n",
       "      <td>43</td>\n",
       "      <td>10</td>\n",
       "      <td>25</td>\n",
       "      <td>9702</td>\n",
       "      <td>37</td>\n",
       "      <td>14.0</td>\n",
       "      <td>6.864865</td>\n",
       "    </tr>\n",
       "  </tbody>\n",
       "</table>\n",
       "</div>"
      ],
      "text/plain": [
       "    DOB  INCOME   HV1   HV2  HV3  HV4   IC1   IC2   IC3   IC4    IC5  NUMPROM  \\\n",
       "0  3712     NaN   479   635    3    2   307   318   349   378  12883       74   \n",
       "1  5202     6.0  5468  5218   12   10  1088  1096  1026  1037  36175       32   \n",
       "2     0     3.0   497   546    2    1   251   292   292   340  11576       63   \n",
       "3  2801     1.0  1000  1263    2    1   386   388   396   423  15130       66   \n",
       "4  2001     3.0   576   594    4    3   240   250   293   321   9836      113   \n",
       "\n",
       "   CARDPROM  CARDPM12  NUMPRM12  MAXADATE  NGIFTALL  TIMELAG    AVGGIFT  \n",
       "0        27         6        14      9702        31      4.0   7.741935  \n",
       "1        12         6        13      9702         3     18.0  15.666667  \n",
       "2        26         6        14      9702        27     12.0   7.481481  \n",
       "3        27         6        14      9702        16      9.0   6.812500  \n",
       "4        43        10        25      9702        37     14.0   6.864865  "
      ]
     },
     "execution_count": 72,
     "metadata": {},
     "output_type": "execute_result"
    }
   ],
   "source": [
    "numericals.head()"
   ]
  },
  {
   "cell_type": "code",
   "execution_count": 73,
   "metadata": {},
   "outputs": [],
   "source": [
    "data['INCOME'] = data['INCOME'].fillna(3.0)"
   ]
  },
  {
   "cell_type": "code",
   "execution_count": 74,
   "metadata": {},
   "outputs": [],
   "source": [
    "data['TIMELAG'] = data['TIMELAG'].fillna(0.0)"
   ]
  },
  {
   "cell_type": "code",
   "execution_count": 75,
   "metadata": {},
   "outputs": [],
   "source": [
    "data = data[data['AVGGIFT']<200]"
   ]
  },
  {
   "cell_type": "code",
   "execution_count": 76,
   "metadata": {},
   "outputs": [
    {
     "data": {
      "text/plain": [
       "0        3.0\n",
       "1        6.0\n",
       "2        3.0\n",
       "3        1.0\n",
       "4        3.0\n",
       "        ... \n",
       "90564    6.0\n",
       "90565    3.0\n",
       "90566    7.0\n",
       "90567    3.0\n",
       "90568    5.0\n",
       "Name: INCOME, Length: 90543, dtype: float64"
      ]
     },
     "execution_count": 76,
     "metadata": {},
     "output_type": "execute_result"
    }
   ],
   "source": [
    "data.INCOME"
   ]
  },
  {
   "cell_type": "code",
   "execution_count": 77,
   "metadata": {},
   "outputs": [],
   "source": [
    "X_nulls = data[data.INCOME.isnull() ][['HV1', 'IC1']]"
   ]
  },
  {
   "cell_type": "code",
   "execution_count": 78,
   "metadata": {},
   "outputs": [],
   "source": [
    "y = data[~data.INCOME.isnull()]['INCOME']\n",
    "X = data[~data.INCOME.isnull() ][['HV1', 'IC1']]"
   ]
  },
  {
   "cell_type": "code",
   "execution_count": 79,
   "metadata": {},
   "outputs": [],
   "source": [
    "from sklearn.linear_model import LinearRegression"
   ]
  },
  {
   "cell_type": "code",
   "execution_count": 80,
   "metadata": {},
   "outputs": [
    {
     "ename": "ValueError",
     "evalue": "Found array with 0 sample(s) (shape=(0, 2)) while a minimum of 1 is required.",
     "output_type": "error",
     "traceback": [
      "\u001b[0;31m---------------------------------------------------------------------------\u001b[0m",
      "\u001b[0;31mValueError\u001b[0m                                Traceback (most recent call last)",
      "\u001b[0;32m<ipython-input-80-c1ebe65706bc>\u001b[0m in \u001b[0;36m<module>\u001b[0;34m\u001b[0m\n\u001b[1;32m      1\u001b[0m \u001b[0mmodel\u001b[0m \u001b[0;34m=\u001b[0m \u001b[0mLinearRegression\u001b[0m\u001b[0;34m(\u001b[0m\u001b[0;34m)\u001b[0m\u001b[0;34m.\u001b[0m\u001b[0mfit\u001b[0m\u001b[0;34m(\u001b[0m\u001b[0mX\u001b[0m\u001b[0;34m,\u001b[0m\u001b[0my\u001b[0m\u001b[0;34m)\u001b[0m\u001b[0;34m\u001b[0m\u001b[0;34m\u001b[0m\u001b[0m\n\u001b[0;32m----> 2\u001b[0;31m \u001b[0mincome_pred\u001b[0m \u001b[0;34m=\u001b[0m \u001b[0mmodel\u001b[0m\u001b[0;34m.\u001b[0m\u001b[0mpredict\u001b[0m\u001b[0;34m(\u001b[0m\u001b[0mX_nulls\u001b[0m\u001b[0;34m)\u001b[0m\u001b[0;34m\u001b[0m\u001b[0;34m\u001b[0m\u001b[0m\n\u001b[0m",
      "\u001b[0;32m~/.local/share/virtualenvs/Ironhack-OdDBNwqQ/lib/python3.7/site-packages/sklearn/linear_model/_base.py\u001b[0m in \u001b[0;36mpredict\u001b[0;34m(self, X)\u001b[0m\n\u001b[1;32m    234\u001b[0m             \u001b[0mReturns\u001b[0m \u001b[0mpredicted\u001b[0m \u001b[0mvalues\u001b[0m\u001b[0;34m.\u001b[0m\u001b[0;34m\u001b[0m\u001b[0;34m\u001b[0m\u001b[0m\n\u001b[1;32m    235\u001b[0m         \"\"\"\n\u001b[0;32m--> 236\u001b[0;31m         \u001b[0;32mreturn\u001b[0m \u001b[0mself\u001b[0m\u001b[0;34m.\u001b[0m\u001b[0m_decision_function\u001b[0m\u001b[0;34m(\u001b[0m\u001b[0mX\u001b[0m\u001b[0;34m)\u001b[0m\u001b[0;34m\u001b[0m\u001b[0;34m\u001b[0m\u001b[0m\n\u001b[0m\u001b[1;32m    237\u001b[0m \u001b[0;34m\u001b[0m\u001b[0m\n\u001b[1;32m    238\u001b[0m     \u001b[0m_preprocess_data\u001b[0m \u001b[0;34m=\u001b[0m \u001b[0mstaticmethod\u001b[0m\u001b[0;34m(\u001b[0m\u001b[0m_preprocess_data\u001b[0m\u001b[0;34m)\u001b[0m\u001b[0;34m\u001b[0m\u001b[0;34m\u001b[0m\u001b[0m\n",
      "\u001b[0;32m~/.local/share/virtualenvs/Ironhack-OdDBNwqQ/lib/python3.7/site-packages/sklearn/linear_model/_base.py\u001b[0m in \u001b[0;36m_decision_function\u001b[0;34m(self, X)\u001b[0m\n\u001b[1;32m    216\u001b[0m         \u001b[0mcheck_is_fitted\u001b[0m\u001b[0;34m(\u001b[0m\u001b[0mself\u001b[0m\u001b[0;34m)\u001b[0m\u001b[0;34m\u001b[0m\u001b[0;34m\u001b[0m\u001b[0m\n\u001b[1;32m    217\u001b[0m \u001b[0;34m\u001b[0m\u001b[0m\n\u001b[0;32m--> 218\u001b[0;31m         \u001b[0mX\u001b[0m \u001b[0;34m=\u001b[0m \u001b[0mcheck_array\u001b[0m\u001b[0;34m(\u001b[0m\u001b[0mX\u001b[0m\u001b[0;34m,\u001b[0m \u001b[0maccept_sparse\u001b[0m\u001b[0;34m=\u001b[0m\u001b[0;34m[\u001b[0m\u001b[0;34m'csr'\u001b[0m\u001b[0;34m,\u001b[0m \u001b[0;34m'csc'\u001b[0m\u001b[0;34m,\u001b[0m \u001b[0;34m'coo'\u001b[0m\u001b[0;34m]\u001b[0m\u001b[0;34m)\u001b[0m\u001b[0;34m\u001b[0m\u001b[0;34m\u001b[0m\u001b[0m\n\u001b[0m\u001b[1;32m    219\u001b[0m         return safe_sparse_dot(X, self.coef_.T,\n\u001b[1;32m    220\u001b[0m                                dense_output=True) + self.intercept_\n",
      "\u001b[0;32m~/.local/share/virtualenvs/Ironhack-OdDBNwqQ/lib/python3.7/site-packages/sklearn/utils/validation.py\u001b[0m in \u001b[0;36minner_f\u001b[0;34m(*args, **kwargs)\u001b[0m\n\u001b[1;32m     71\u001b[0m                           FutureWarning)\n\u001b[1;32m     72\u001b[0m         \u001b[0mkwargs\u001b[0m\u001b[0;34m.\u001b[0m\u001b[0mupdate\u001b[0m\u001b[0;34m(\u001b[0m\u001b[0;34m{\u001b[0m\u001b[0mk\u001b[0m\u001b[0;34m:\u001b[0m \u001b[0marg\u001b[0m \u001b[0;32mfor\u001b[0m \u001b[0mk\u001b[0m\u001b[0;34m,\u001b[0m \u001b[0marg\u001b[0m \u001b[0;32min\u001b[0m \u001b[0mzip\u001b[0m\u001b[0;34m(\u001b[0m\u001b[0msig\u001b[0m\u001b[0;34m.\u001b[0m\u001b[0mparameters\u001b[0m\u001b[0;34m,\u001b[0m \u001b[0margs\u001b[0m\u001b[0;34m)\u001b[0m\u001b[0;34m}\u001b[0m\u001b[0;34m)\u001b[0m\u001b[0;34m\u001b[0m\u001b[0;34m\u001b[0m\u001b[0m\n\u001b[0;32m---> 73\u001b[0;31m         \u001b[0;32mreturn\u001b[0m \u001b[0mf\u001b[0m\u001b[0;34m(\u001b[0m\u001b[0;34m**\u001b[0m\u001b[0mkwargs\u001b[0m\u001b[0;34m)\u001b[0m\u001b[0;34m\u001b[0m\u001b[0;34m\u001b[0m\u001b[0m\n\u001b[0m\u001b[1;32m     74\u001b[0m     \u001b[0;32mreturn\u001b[0m \u001b[0minner_f\u001b[0m\u001b[0;34m\u001b[0m\u001b[0;34m\u001b[0m\u001b[0m\n\u001b[1;32m     75\u001b[0m \u001b[0;34m\u001b[0m\u001b[0m\n",
      "\u001b[0;32m~/.local/share/virtualenvs/Ironhack-OdDBNwqQ/lib/python3.7/site-packages/sklearn/utils/validation.py\u001b[0m in \u001b[0;36mcheck_array\u001b[0;34m(array, accept_sparse, accept_large_sparse, dtype, order, copy, force_all_finite, ensure_2d, allow_nd, ensure_min_samples, ensure_min_features, estimator)\u001b[0m\n\u001b[1;32m    652\u001b[0m                              \u001b[0;34m\" minimum of %d is required%s.\"\u001b[0m\u001b[0;34m\u001b[0m\u001b[0;34m\u001b[0m\u001b[0m\n\u001b[1;32m    653\u001b[0m                              % (n_samples, array.shape, ensure_min_samples,\n\u001b[0;32m--> 654\u001b[0;31m                                 context))\n\u001b[0m\u001b[1;32m    655\u001b[0m \u001b[0;34m\u001b[0m\u001b[0m\n\u001b[1;32m    656\u001b[0m     \u001b[0;32mif\u001b[0m \u001b[0mensure_min_features\u001b[0m \u001b[0;34m>\u001b[0m \u001b[0;36m0\u001b[0m \u001b[0;32mand\u001b[0m \u001b[0marray\u001b[0m\u001b[0;34m.\u001b[0m\u001b[0mndim\u001b[0m \u001b[0;34m==\u001b[0m \u001b[0;36m2\u001b[0m\u001b[0;34m:\u001b[0m\u001b[0;34m\u001b[0m\u001b[0;34m\u001b[0m\u001b[0m\n",
      "\u001b[0;31mValueError\u001b[0m: Found array with 0 sample(s) (shape=(0, 2)) while a minimum of 1 is required."
     ]
    }
   ],
   "source": [
    "model = LinearRegression().fit(X,y)\n",
    "income_pred = model.predict(X_nulls)"
   ]
  },
  {
   "cell_type": "code",
   "execution_count": null,
   "metadata": {},
   "outputs": [],
   "source": []
  },
  {
   "cell_type": "code",
   "execution_count": 81,
   "metadata": {},
   "outputs": [],
   "source": [
    "data[data.INCOME.isnull() ]['INCOME'] = np.round(income_pred)"
   ]
  },
  {
   "cell_type": "code",
   "execution_count": 129,
   "metadata": {
    "scrolled": true
   },
   "outputs": [
    {
     "data": {
      "image/png": "[encoded data removed]",
      "text/plain": [
       "<Figure size 720x576 with 2 Axes>"
      ]
     },
     "metadata": {
      "needs_background": "light"
     },
     "output_type": "display_data"
    }
   ],
   "source": [
    "data_corr = data[['INCOME', 'HV1', 'HV2', 'IC1', 'IC2', 'IC3', 'IC4', 'NUMPROM', 'CARDPROM', 'NGIFTALL', 'TIMELAG', 'AVGGIFT']]\n",
    "corr_matrix=data_corr.corr(method='pearson')\n",
    "fig, ax = plt.subplots(figsize=(10, 8))\n",
    "ax = sns.heatmap(corr_matrix, annot=True)\n",
    "plt.show()"
   ]
  },
  {
   "cell_type": "code",
   "execution_count": 130,
   "metadata": {},
   "outputs": [
    {
     "data": {
      "text/plain": [
       "<matplotlib.axes._subplots.AxesSubplot at 0x7fab8fc33b50>"
      ]
     },
     "execution_count": 130,
     "metadata": {},
     "output_type": "execute_result"
    },
    {
     "data": {
      "image/png": "[encoded data removed]",
      "text/plain": [
       "<Figure size 720x1080 with 1 Axes>"
      ]
     },
     "metadata": {
      "needs_background": "light"
     },
     "output_type": "display_data"
    }
   ],
   "source": [
    "sns.regplot('IC1','IC2', data=data_corr)"
   ]
  },
  {
   "cell_type": "code",
   "execution_count": 125,
   "metadata": {},
   "outputs": [
    {
     "data": {
      "text/plain": [
       "0.9867393750294643"
      ]
     },
     "execution_count": 125,
     "metadata": {},
     "output_type": "execute_result"
    }
   ],
   "source": [
    "model = LinearRegression().fit(data_corr[['HV1']], data_corr[['HV2']])\n",
    "model.score(data_corr[['HV1']], data_corr[['HV2']])"
   ]
  },
  {
   "cell_type": "code",
   "execution_count": 127,
   "metadata": {},
   "outputs": [
    {
     "data": {
      "text/plain": [
       "0.9046926432463182"
      ]
     },
     "execution_count": 127,
     "metadata": {},
     "output_type": "execute_result"
    }
   ],
   "source": [
    "model = LinearRegression().fit(data_corr[['IC1']], data_corr[['IC2']])\n",
    "model.score(data_corr[['IC1']], data_corr[['IC2']])"
   ]
  },
  {
   "cell_type": "code",
   "execution_count": 119,
   "metadata": {},
   "outputs": [
    {
     "data": {
      "text/plain": [
       "<matplotlib.axes._subplots.AxesSubplot at 0x7fab8fcb9710>"
      ]
     },
     "execution_count": 119,
     "metadata": {},
     "output_type": "execute_result"
    },
    {
     "data": {
      "image/png": "[encoded data removed]",
      "text/plain": [
       "<Figure size 720x1080 with 1 Axes>"
      ]
     },
     "metadata": {
      "needs_background": "light"
     },
     "output_type": "display_data"
    }
   ],
   "source": [
    "sns.regplot('HV1','HV2', data=data_corr)"
   ]
  },
  {
   "cell_type": "code",
   "execution_count": 83,
   "metadata": {},
   "outputs": [],
   "source": [
    "from statsmodels.stats.outliers_influence import variance_inflation_factor\n",
    "\n",
    "# This is the code to show how to use the __variance_inflation_factor__ function\n",
    "vif = {}\n",
    "for i in np.arange(data_corr.shape[1]):\n",
    "    column_name = data_corr.columns[i]\n",
    "    value = variance_inflation_factor(np.array(data_corr), i)\n",
    "    vif[column_name] = value\n"
   ]
  },
  {
   "cell_type": "code",
   "execution_count": 84,
   "metadata": {},
   "outputs": [
    {
     "data": {
      "text/plain": [
       "{'INCOME': 6.229340472998485,\n",
       " 'HV1': 194.04294809334723,\n",
       " 'HV2': 217.9645843166888,\n",
       " 'IC1': 263.2114093898015,\n",
       " 'IC2': 256.51308242233773,\n",
       " 'IC3': 578.1560752208279,\n",
       " 'IC4': 493.64589597431006,\n",
       " 'NUMPROM': 60.38210849784127,\n",
       " 'CARDPROM': 56.66553760324927,\n",
       " 'NGIFTALL': 7.093771497848244,\n",
       " 'TIMELAG': 1.905133353958784,\n",
       " 'AVGGIFT': 3.5196012371714858}"
      ]
     },
     "execution_count": 84,
     "metadata": {},
     "output_type": "execute_result"
    }
   ],
   "source": [
    "vif"
   ]
  },
  {
   "cell_type": "code",
   "execution_count": 85,
   "metadata": {},
   "outputs": [
    {
     "data": {
      "text/plain": [
       "[6.229340472998485,\n",
       " 194.04294809334723,\n",
       " 217.9645843166888,\n",
       " 263.2114093898015,\n",
       " 256.51308242233773,\n",
       " 578.1560752208279,\n",
       " 493.64589597431006,\n",
       " 60.38210849784127,\n",
       " 56.66553760324927,\n",
       " 7.093771497848244,\n",
       " 1.905133353958784,\n",
       " 3.5196012371714858]"
      ]
     },
     "execution_count": 85,
     "metadata": {},
     "output_type": "execute_result"
    }
   ],
   "source": [
    "[variance_inflation_factor(np.array(data_corr), i) for i in np.arange(data_corr.shape[1])]"
   ]
  },
  {
   "cell_type": "code",
   "execution_count": 131,
   "metadata": {},
   "outputs": [],
   "source": [
    "flag = True\n",
    "threshold = 50\n",
    "while flag is True:\n",
    "    #print(data_corr.head())\n",
    "    flag = False\n",
    "    values = [variance_inflation_factor(np.array(data_corr), i) for i in np.arange(data_corr.shape[1])]\n",
    "    #print(values)\n",
    "    if max(values)> threshold:\n",
    "        col_index = values.index(max(values))\n",
    "        column_name = data_corr.columns[col_index]\n",
    "        data_corr = data_corr.drop([column_name], axis=1)\n",
    "        flag = True"
   ]
  },
  {
   "cell_type": "code",
   "execution_count": 87,
   "metadata": {},
   "outputs": [
    {
     "data": {
      "text/plain": [
       "[5.849435329982626,\n",
       " 4.130833545572646,\n",
       " 9.568641468225755,\n",
       " 12.522926552233692,\n",
       " 6.273645119891688,\n",
       " 1.8959501816304056,\n",
       " 3.237062388345784]"
      ]
     },
     "execution_count": 87,
     "metadata": {},
     "output_type": "execute_result"
    }
   ],
   "source": [
    "[variance_inflation_factor(np.array(data_corr), i) for i in np.arange(data_corr.shape[1])]"
   ]
  },
  {
   "cell_type": "code",
   "execution_count": 116,
   "metadata": {},
   "outputs": [
    {
     "name": "stdout",
     "output_type": "stream",
     "text": [
      "HV1\n"
     ]
    },
    {
     "data": {
      "text/html": [
       "<div>\n",
       "<style scoped>\n",
       "    .dataframe tbody tr th:only-of-type {\n",
       "        vertical-align: middle;\n",
       "    }\n",
       "\n",
       "    .dataframe tbody tr th {\n",
       "        vertical-align: top;\n",
       "    }\n",
       "\n",
       "    .dataframe thead th {\n",
       "        text-align: right;\n",
       "    }\n",
       "</style>\n",
       "<table border=\"1\" class=\"dataframe\">\n",
       "  <thead>\n",
       "    <tr style=\"text-align: right;\">\n",
       "      <th></th>\n",
       "      <th>INCOME</th>\n",
       "      <th>HV2</th>\n",
       "      <th>IC1</th>\n",
       "      <th>IC2</th>\n",
       "      <th>IC3</th>\n",
       "      <th>IC4</th>\n",
       "      <th>NUMPROM</th>\n",
       "      <th>CARDPROM</th>\n",
       "      <th>NGIFTALL</th>\n",
       "      <th>TIMELAG</th>\n",
       "      <th>AVGGIFT</th>\n",
       "    </tr>\n",
       "  </thead>\n",
       "  <tbody>\n",
       "    <tr>\n",
       "      <th>INCOME</th>\n",
       "      <td>1.000000</td>\n",
       "      <td>0.263136</td>\n",
       "      <td>0.363987</td>\n",
       "      <td>0.352455</td>\n",
       "      <td>0.375721</td>\n",
       "      <td>0.362691</td>\n",
       "      <td>-0.060637</td>\n",
       "      <td>-0.060917</td>\n",
       "      <td>-0.106672</td>\n",
       "      <td>0.014226</td>\n",
       "      <td>0.100212</td>\n",
       "    </tr>\n",
       "    <tr>\n",
       "      <th>HV2</th>\n",
       "      <td>0.263136</td>\n",
       "      <td>1.000000</td>\n",
       "      <td>0.681608</td>\n",
       "      <td>0.721507</td>\n",
       "      <td>0.719192</td>\n",
       "      <td>0.740550</td>\n",
       "      <td>-0.028951</td>\n",
       "      <td>-0.040789</td>\n",
       "      <td>-0.062527</td>\n",
       "      <td>0.006893</td>\n",
       "      <td>0.127370</td>\n",
       "    </tr>\n",
       "    <tr>\n",
       "      <th>IC1</th>\n",
       "      <td>0.363987</td>\n",
       "      <td>0.681608</td>\n",
       "      <td>1.000000</td>\n",
       "      <td>0.951153</td>\n",
       "      <td>0.975347</td>\n",
       "      <td>0.929739</td>\n",
       "      <td>-0.027416</td>\n",
       "      <td>-0.035128</td>\n",
       "      <td>-0.063747</td>\n",
       "      <td>0.012451</td>\n",
       "      <td>0.103213</td>\n",
       "    </tr>\n",
       "    <tr>\n",
       "      <th>IC2</th>\n",
       "      <td>0.352455</td>\n",
       "      <td>0.721507</td>\n",
       "      <td>0.951153</td>\n",
       "      <td>1.000000</td>\n",
       "      <td>0.955152</td>\n",
       "      <td>0.973685</td>\n",
       "      <td>-0.020086</td>\n",
       "      <td>-0.028738</td>\n",
       "      <td>-0.058583</td>\n",
       "      <td>0.015017</td>\n",
       "      <td>0.108709</td>\n",
       "    </tr>\n",
       "    <tr>\n",
       "      <th>IC3</th>\n",
       "      <td>0.375721</td>\n",
       "      <td>0.719192</td>\n",
       "      <td>0.975347</td>\n",
       "      <td>0.955152</td>\n",
       "      <td>1.000000</td>\n",
       "      <td>0.971331</td>\n",
       "      <td>-0.026513</td>\n",
       "      <td>-0.034981</td>\n",
       "      <td>-0.065552</td>\n",
       "      <td>0.014740</td>\n",
       "      <td>0.106671</td>\n",
       "    </tr>\n",
       "    <tr>\n",
       "      <th>IC4</th>\n",
       "      <td>0.362691</td>\n",
       "      <td>0.740550</td>\n",
       "      <td>0.929739</td>\n",
       "      <td>0.973685</td>\n",
       "      <td>0.971331</td>\n",
       "      <td>1.000000</td>\n",
       "      <td>-0.018002</td>\n",
       "      <td>-0.027435</td>\n",
       "      <td>-0.058571</td>\n",
       "      <td>0.016502</td>\n",
       "      <td>0.109542</td>\n",
       "    </tr>\n",
       "    <tr>\n",
       "      <th>NUMPROM</th>\n",
       "      <td>-0.060637</td>\n",
       "      <td>-0.028951</td>\n",
       "      <td>-0.027416</td>\n",
       "      <td>-0.020086</td>\n",
       "      <td>-0.026513</td>\n",
       "      <td>-0.018002</td>\n",
       "      <td>1.000000</td>\n",
       "      <td>0.949642</td>\n",
       "      <td>0.795470</td>\n",
       "      <td>0.161136</td>\n",
       "      <td>-0.188827</td>\n",
       "    </tr>\n",
       "    <tr>\n",
       "      <th>CARDPROM</th>\n",
       "      <td>-0.060917</td>\n",
       "      <td>-0.040789</td>\n",
       "      <td>-0.035128</td>\n",
       "      <td>-0.028738</td>\n",
       "      <td>-0.034981</td>\n",
       "      <td>-0.027435</td>\n",
       "      <td>0.949642</td>\n",
       "      <td>1.000000</td>\n",
       "      <td>0.776600</td>\n",
       "      <td>0.173624</td>\n",
       "      <td>-0.240895</td>\n",
       "    </tr>\n",
       "    <tr>\n",
       "      <th>NGIFTALL</th>\n",
       "      <td>-0.106672</td>\n",
       "      <td>-0.062527</td>\n",
       "      <td>-0.063747</td>\n",
       "      <td>-0.058583</td>\n",
       "      <td>-0.065552</td>\n",
       "      <td>-0.058571</td>\n",
       "      <td>0.795470</td>\n",
       "      <td>0.776600</td>\n",
       "      <td>1.000000</td>\n",
       "      <td>0.006604</td>\n",
       "      <td>-0.325656</td>\n",
       "    </tr>\n",
       "    <tr>\n",
       "      <th>TIMELAG</th>\n",
       "      <td>0.014226</td>\n",
       "      <td>0.006893</td>\n",
       "      <td>0.012451</td>\n",
       "      <td>0.015017</td>\n",
       "      <td>0.014740</td>\n",
       "      <td>0.016502</td>\n",
       "      <td>0.161136</td>\n",
       "      <td>0.173624</td>\n",
       "      <td>0.006604</td>\n",
       "      <td>1.000000</td>\n",
       "      <td>-0.017055</td>\n",
       "    </tr>\n",
       "    <tr>\n",
       "      <th>AVGGIFT</th>\n",
       "      <td>0.100212</td>\n",
       "      <td>0.127370</td>\n",
       "      <td>0.103213</td>\n",
       "      <td>0.108709</td>\n",
       "      <td>0.106671</td>\n",
       "      <td>0.109542</td>\n",
       "      <td>-0.188827</td>\n",
       "      <td>-0.240895</td>\n",
       "      <td>-0.325656</td>\n",
       "      <td>-0.017055</td>\n",
       "      <td>1.000000</td>\n",
       "    </tr>\n",
       "  </tbody>\n",
       "</table>\n",
       "</div>"
      ],
      "text/plain": [
       "            INCOME       HV2       IC1       IC2       IC3       IC4  \\\n",
       "INCOME    1.000000  0.263136  0.363987  0.352455  0.375721  0.362691   \n",
       "HV2       0.263136  1.000000  0.681608  0.721507  0.719192  0.740550   \n",
       "IC1       0.363987  0.681608  1.000000  0.951153  0.975347  0.929739   \n",
       "IC2       0.352455  0.721507  0.951153  1.000000  0.955152  0.973685   \n",
       "IC3       0.375721  0.719192  0.975347  0.955152  1.000000  0.971331   \n",
       "IC4       0.362691  0.740550  0.929739  0.973685  0.971331  1.000000   \n",
       "NUMPROM  -0.060637 -0.028951 -0.027416 -0.020086 -0.026513 -0.018002   \n",
       "CARDPROM -0.060917 -0.040789 -0.035128 -0.028738 -0.034981 -0.027435   \n",
       "NGIFTALL -0.106672 -0.062527 -0.063747 -0.058583 -0.065552 -0.058571   \n",
       "TIMELAG   0.014226  0.006893  0.012451  0.015017  0.014740  0.016502   \n",
       "AVGGIFT   0.100212  0.127370  0.103213  0.108709  0.106671  0.109542   \n",
       "\n",
       "           NUMPROM  CARDPROM  NGIFTALL   TIMELAG   AVGGIFT  \n",
       "INCOME   -0.060637 -0.060917 -0.106672  0.014226  0.100212  \n",
       "HV2      -0.028951 -0.040789 -0.062527  0.006893  0.127370  \n",
       "IC1      -0.027416 -0.035128 -0.063747  0.012451  0.103213  \n",
       "IC2      -0.020086 -0.028738 -0.058583  0.015017  0.108709  \n",
       "IC3      -0.026513 -0.034981 -0.065552  0.014740  0.106671  \n",
       "IC4      -0.018002 -0.027435 -0.058571  0.016502  0.109542  \n",
       "NUMPROM   1.000000  0.949642  0.795470  0.161136 -0.188827  \n",
       "CARDPROM  0.949642  1.000000  0.776600  0.173624 -0.240895  \n",
       "NGIFTALL  0.795470  0.776600  1.000000  0.006604 -0.325656  \n",
       "TIMELAG   0.161136  0.173624  0.006604  1.000000 -0.017055  \n",
       "AVGGIFT  -0.188827 -0.240895 -0.325656 -0.017055  1.000000  "
      ]
     },
     "metadata": {},
     "output_type": "display_data"
    },
    {
     "name": "stdout",
     "output_type": "stream",
     "text": [
      "IC1\n"
     ]
    },
    {
     "data": {
      "text/html": [
       "<div>\n",
       "<style scoped>\n",
       "    .dataframe tbody tr th:only-of-type {\n",
       "        vertical-align: middle;\n",
       "    }\n",
       "\n",
       "    .dataframe tbody tr th {\n",
       "        vertical-align: top;\n",
       "    }\n",
       "\n",
       "    .dataframe thead th {\n",
       "        text-align: right;\n",
       "    }\n",
       "</style>\n",
       "<table border=\"1\" class=\"dataframe\">\n",
       "  <thead>\n",
       "    <tr style=\"text-align: right;\">\n",
       "      <th></th>\n",
       "      <th>INCOME</th>\n",
       "      <th>HV2</th>\n",
       "      <th>IC2</th>\n",
       "      <th>IC3</th>\n",
       "      <th>IC4</th>\n",
       "      <th>NUMPROM</th>\n",
       "      <th>CARDPROM</th>\n",
       "      <th>NGIFTALL</th>\n",
       "      <th>TIMELAG</th>\n",
       "      <th>AVGGIFT</th>\n",
       "    </tr>\n",
       "  </thead>\n",
       "  <tbody>\n",
       "    <tr>\n",
       "      <th>INCOME</th>\n",
       "      <td>1.000000</td>\n",
       "      <td>0.263136</td>\n",
       "      <td>0.352455</td>\n",
       "      <td>0.375721</td>\n",
       "      <td>0.362691</td>\n",
       "      <td>-0.060637</td>\n",
       "      <td>-0.060917</td>\n",
       "      <td>-0.106672</td>\n",
       "      <td>0.014226</td>\n",
       "      <td>0.100212</td>\n",
       "    </tr>\n",
       "    <tr>\n",
       "      <th>HV2</th>\n",
       "      <td>0.263136</td>\n",
       "      <td>1.000000</td>\n",
       "      <td>0.721507</td>\n",
       "      <td>0.719192</td>\n",
       "      <td>0.740550</td>\n",
       "      <td>-0.028951</td>\n",
       "      <td>-0.040789</td>\n",
       "      <td>-0.062527</td>\n",
       "      <td>0.006893</td>\n",
       "      <td>0.127370</td>\n",
       "    </tr>\n",
       "    <tr>\n",
       "      <th>IC2</th>\n",
       "      <td>0.352455</td>\n",
       "      <td>0.721507</td>\n",
       "      <td>1.000000</td>\n",
       "      <td>0.955152</td>\n",
       "      <td>0.973685</td>\n",
       "      <td>-0.020086</td>\n",
       "      <td>-0.028738</td>\n",
       "      <td>-0.058583</td>\n",
       "      <td>0.015017</td>\n",
       "      <td>0.108709</td>\n",
       "    </tr>\n",
       "    <tr>\n",
       "      <th>IC3</th>\n",
       "      <td>0.375721</td>\n",
       "      <td>0.719192</td>\n",
       "      <td>0.955152</td>\n",
       "      <td>1.000000</td>\n",
       "      <td>0.971331</td>\n",
       "      <td>-0.026513</td>\n",
       "      <td>-0.034981</td>\n",
       "      <td>-0.065552</td>\n",
       "      <td>0.014740</td>\n",
       "      <td>0.106671</td>\n",
       "    </tr>\n",
       "    <tr>\n",
       "      <th>IC4</th>\n",
       "      <td>0.362691</td>\n",
       "      <td>0.740550</td>\n",
       "      <td>0.973685</td>\n",
       "      <td>0.971331</td>\n",
       "      <td>1.000000</td>\n",
       "      <td>-0.018002</td>\n",
       "      <td>-0.027435</td>\n",
       "      <td>-0.058571</td>\n",
       "      <td>0.016502</td>\n",
       "      <td>0.109542</td>\n",
       "    </tr>\n",
       "    <tr>\n",
       "      <th>NUMPROM</th>\n",
       "      <td>-0.060637</td>\n",
       "      <td>-0.028951</td>\n",
       "      <td>-0.020086</td>\n",
       "      <td>-0.026513</td>\n",
       "      <td>-0.018002</td>\n",
       "      <td>1.000000</td>\n",
       "      <td>0.949642</td>\n",
       "      <td>0.795470</td>\n",
       "      <td>0.161136</td>\n",
       "      <td>-0.188827</td>\n",
       "    </tr>\n",
       "    <tr>\n",
       "      <th>CARDPROM</th>\n",
       "      <td>-0.060917</td>\n",
       "      <td>-0.040789</td>\n",
       "      <td>-0.028738</td>\n",
       "      <td>-0.034981</td>\n",
       "      <td>-0.027435</td>\n",
       "      <td>0.949642</td>\n",
       "      <td>1.000000</td>\n",
       "      <td>0.776600</td>\n",
       "      <td>0.173624</td>\n",
       "      <td>-0.240895</td>\n",
       "    </tr>\n",
       "    <tr>\n",
       "      <th>NGIFTALL</th>\n",
       "      <td>-0.106672</td>\n",
       "      <td>-0.062527</td>\n",
       "      <td>-0.058583</td>\n",
       "      <td>-0.065552</td>\n",
       "      <td>-0.058571</td>\n",
       "      <td>0.795470</td>\n",
       "      <td>0.776600</td>\n",
       "      <td>1.000000</td>\n",
       "      <td>0.006604</td>\n",
       "      <td>-0.325656</td>\n",
       "    </tr>\n",
       "    <tr>\n",
       "      <th>TIMELAG</th>\n",
       "      <td>0.014226</td>\n",
       "      <td>0.006893</td>\n",
       "      <td>0.015017</td>\n",
       "      <td>0.014740</td>\n",
       "      <td>0.016502</td>\n",
       "      <td>0.161136</td>\n",
       "      <td>0.173624</td>\n",
       "      <td>0.006604</td>\n",
       "      <td>1.000000</td>\n",
       "      <td>-0.017055</td>\n",
       "    </tr>\n",
       "    <tr>\n",
       "      <th>AVGGIFT</th>\n",
       "      <td>0.100212</td>\n",
       "      <td>0.127370</td>\n",
       "      <td>0.108709</td>\n",
       "      <td>0.106671</td>\n",
       "      <td>0.109542</td>\n",
       "      <td>-0.188827</td>\n",
       "      <td>-0.240895</td>\n",
       "      <td>-0.325656</td>\n",
       "      <td>-0.017055</td>\n",
       "      <td>1.000000</td>\n",
       "    </tr>\n",
       "  </tbody>\n",
       "</table>\n",
       "</div>"
      ],
      "text/plain": [
       "            INCOME       HV2       IC2       IC3       IC4   NUMPROM  \\\n",
       "INCOME    1.000000  0.263136  0.352455  0.375721  0.362691 -0.060637   \n",
       "HV2       0.263136  1.000000  0.721507  0.719192  0.740550 -0.028951   \n",
       "IC2       0.352455  0.721507  1.000000  0.955152  0.973685 -0.020086   \n",
       "IC3       0.375721  0.719192  0.955152  1.000000  0.971331 -0.026513   \n",
       "IC4       0.362691  0.740550  0.973685  0.971331  1.000000 -0.018002   \n",
       "NUMPROM  -0.060637 -0.028951 -0.020086 -0.026513 -0.018002  1.000000   \n",
       "CARDPROM -0.060917 -0.040789 -0.028738 -0.034981 -0.027435  0.949642   \n",
       "NGIFTALL -0.106672 -0.062527 -0.058583 -0.065552 -0.058571  0.795470   \n",
       "TIMELAG   0.014226  0.006893  0.015017  0.014740  0.016502  0.161136   \n",
       "AVGGIFT   0.100212  0.127370  0.108709  0.106671  0.109542 -0.188827   \n",
       "\n",
       "          CARDPROM  NGIFTALL   TIMELAG   AVGGIFT  \n",
       "INCOME   -0.060917 -0.106672  0.014226  0.100212  \n",
       "HV2      -0.040789 -0.062527  0.006893  0.127370  \n",
       "IC2      -0.028738 -0.058583  0.015017  0.108709  \n",
       "IC3      -0.034981 -0.065552  0.014740  0.106671  \n",
       "IC4      -0.027435 -0.058571  0.016502  0.109542  \n",
       "NUMPROM   0.949642  0.795470  0.161136 -0.188827  \n",
       "CARDPROM  1.000000  0.776600  0.173624 -0.240895  \n",
       "NGIFTALL  0.776600  1.000000  0.006604 -0.325656  \n",
       "TIMELAG   0.173624  0.006604  1.000000 -0.017055  \n",
       "AVGGIFT  -0.240895 -0.325656 -0.017055  1.000000  "
      ]
     },
     "metadata": {},
     "output_type": "display_data"
    },
    {
     "name": "stdout",
     "output_type": "stream",
     "text": [
      "IC2\n"
     ]
    },
    {
     "data": {
      "text/html": [
       "<div>\n",
       "<style scoped>\n",
       "    .dataframe tbody tr th:only-of-type {\n",
       "        vertical-align: middle;\n",
       "    }\n",
       "\n",
       "    .dataframe tbody tr th {\n",
       "        vertical-align: top;\n",
       "    }\n",
       "\n",
       "    .dataframe thead th {\n",
       "        text-align: right;\n",
       "    }\n",
       "</style>\n",
       "<table border=\"1\" class=\"dataframe\">\n",
       "  <thead>\n",
       "    <tr style=\"text-align: right;\">\n",
       "      <th></th>\n",
       "      <th>INCOME</th>\n",
       "      <th>HV2</th>\n",
       "      <th>IC3</th>\n",
       "      <th>IC4</th>\n",
       "      <th>NUMPROM</th>\n",
       "      <th>CARDPROM</th>\n",
       "      <th>NGIFTALL</th>\n",
       "      <th>TIMELAG</th>\n",
       "      <th>AVGGIFT</th>\n",
       "    </tr>\n",
       "  </thead>\n",
       "  <tbody>\n",
       "    <tr>\n",
       "      <th>INCOME</th>\n",
       "      <td>1.000000</td>\n",
       "      <td>0.263136</td>\n",
       "      <td>0.375721</td>\n",
       "      <td>0.362691</td>\n",
       "      <td>-0.060637</td>\n",
       "      <td>-0.060917</td>\n",
       "      <td>-0.106672</td>\n",
       "      <td>0.014226</td>\n",
       "      <td>0.100212</td>\n",
       "    </tr>\n",
       "    <tr>\n",
       "      <th>HV2</th>\n",
       "      <td>0.263136</td>\n",
       "      <td>1.000000</td>\n",
       "      <td>0.719192</td>\n",
       "      <td>0.740550</td>\n",
       "      <td>-0.028951</td>\n",
       "      <td>-0.040789</td>\n",
       "      <td>-0.062527</td>\n",
       "      <td>0.006893</td>\n",
       "      <td>0.127370</td>\n",
       "    </tr>\n",
       "    <tr>\n",
       "      <th>IC3</th>\n",
       "      <td>0.375721</td>\n",
       "      <td>0.719192</td>\n",
       "      <td>1.000000</td>\n",
       "      <td>0.971331</td>\n",
       "      <td>-0.026513</td>\n",
       "      <td>-0.034981</td>\n",
       "      <td>-0.065552</td>\n",
       "      <td>0.014740</td>\n",
       "      <td>0.106671</td>\n",
       "    </tr>\n",
       "    <tr>\n",
       "      <th>IC4</th>\n",
       "      <td>0.362691</td>\n",
       "      <td>0.740550</td>\n",
       "      <td>0.971331</td>\n",
       "      <td>1.000000</td>\n",
       "      <td>-0.018002</td>\n",
       "      <td>-0.027435</td>\n",
       "      <td>-0.058571</td>\n",
       "      <td>0.016502</td>\n",
       "      <td>0.109542</td>\n",
       "    </tr>\n",
       "    <tr>\n",
       "      <th>NUMPROM</th>\n",
       "      <td>-0.060637</td>\n",
       "      <td>-0.028951</td>\n",
       "      <td>-0.026513</td>\n",
       "      <td>-0.018002</td>\n",
       "      <td>1.000000</td>\n",
       "      <td>0.949642</td>\n",
       "      <td>0.795470</td>\n",
       "      <td>0.161136</td>\n",
       "      <td>-0.188827</td>\n",
       "    </tr>\n",
       "    <tr>\n",
       "      <th>CARDPROM</th>\n",
       "      <td>-0.060917</td>\n",
       "      <td>-0.040789</td>\n",
       "      <td>-0.034981</td>\n",
       "      <td>-0.027435</td>\n",
       "      <td>0.949642</td>\n",
       "      <td>1.000000</td>\n",
       "      <td>0.776600</td>\n",
       "      <td>0.173624</td>\n",
       "      <td>-0.240895</td>\n",
       "    </tr>\n",
       "    <tr>\n",
       "      <th>NGIFTALL</th>\n",
       "      <td>-0.106672</td>\n",
       "      <td>-0.062527</td>\n",
       "      <td>-0.065552</td>\n",
       "      <td>-0.058571</td>\n",
       "      <td>0.795470</td>\n",
       "      <td>0.776600</td>\n",
       "      <td>1.000000</td>\n",
       "      <td>0.006604</td>\n",
       "      <td>-0.325656</td>\n",
       "    </tr>\n",
       "    <tr>\n",
       "      <th>TIMELAG</th>\n",
       "      <td>0.014226</td>\n",
       "      <td>0.006893</td>\n",
       "      <td>0.014740</td>\n",
       "      <td>0.016502</td>\n",
       "      <td>0.161136</td>\n",
       "      <td>0.173624</td>\n",
       "      <td>0.006604</td>\n",
       "      <td>1.000000</td>\n",
       "      <td>-0.017055</td>\n",
       "    </tr>\n",
       "    <tr>\n",
       "      <th>AVGGIFT</th>\n",
       "      <td>0.100212</td>\n",
       "      <td>0.127370</td>\n",
       "      <td>0.106671</td>\n",
       "      <td>0.109542</td>\n",
       "      <td>-0.188827</td>\n",
       "      <td>-0.240895</td>\n",
       "      <td>-0.325656</td>\n",
       "      <td>-0.017055</td>\n",
       "      <td>1.000000</td>\n",
       "    </tr>\n",
       "  </tbody>\n",
       "</table>\n",
       "</div>"
      ],
      "text/plain": [
       "            INCOME       HV2       IC3       IC4   NUMPROM  CARDPROM  \\\n",
       "INCOME    1.000000  0.263136  0.375721  0.362691 -0.060637 -0.060917   \n",
       "HV2       0.263136  1.000000  0.719192  0.740550 -0.028951 -0.040789   \n",
       "IC3       0.375721  0.719192  1.000000  0.971331 -0.026513 -0.034981   \n",
       "IC4       0.362691  0.740550  0.971331  1.000000 -0.018002 -0.027435   \n",
       "NUMPROM  -0.060637 -0.028951 -0.026513 -0.018002  1.000000  0.949642   \n",
       "CARDPROM -0.060917 -0.040789 -0.034981 -0.027435  0.949642  1.000000   \n",
       "NGIFTALL -0.106672 -0.062527 -0.065552 -0.058571  0.795470  0.776600   \n",
       "TIMELAG   0.014226  0.006893  0.014740  0.016502  0.161136  0.173624   \n",
       "AVGGIFT   0.100212  0.127370  0.106671  0.109542 -0.188827 -0.240895   \n",
       "\n",
       "          NGIFTALL   TIMELAG   AVGGIFT  \n",
       "INCOME   -0.106672  0.014226  0.100212  \n",
       "HV2      -0.062527  0.006893  0.127370  \n",
       "IC3      -0.065552  0.014740  0.106671  \n",
       "IC4      -0.058571  0.016502  0.109542  \n",
       "NUMPROM   0.795470  0.161136 -0.188827  \n",
       "CARDPROM  0.776600  0.173624 -0.240895  \n",
       "NGIFTALL  1.000000  0.006604 -0.325656  \n",
       "TIMELAG   0.006604  1.000000 -0.017055  \n",
       "AVGGIFT  -0.325656 -0.017055  1.000000  "
      ]
     },
     "metadata": {},
     "output_type": "display_data"
    },
    {
     "name": "stdout",
     "output_type": "stream",
     "text": [
      "IC3\n"
     ]
    },
    {
     "data": {
      "text/html": [
       "<div>\n",
       "<style scoped>\n",
       "    .dataframe tbody tr th:only-of-type {\n",
       "        vertical-align: middle;\n",
       "    }\n",
       "\n",
       "    .dataframe tbody tr th {\n",
       "        vertical-align: top;\n",
       "    }\n",
       "\n",
       "    .dataframe thead th {\n",
       "        text-align: right;\n",
       "    }\n",
       "</style>\n",
       "<table border=\"1\" class=\"dataframe\">\n",
       "  <thead>\n",
       "    <tr style=\"text-align: right;\">\n",
       "      <th></th>\n",
       "      <th>INCOME</th>\n",
       "      <th>HV2</th>\n",
       "      <th>IC4</th>\n",
       "      <th>NUMPROM</th>\n",
       "      <th>CARDPROM</th>\n",
       "      <th>NGIFTALL</th>\n",
       "      <th>TIMELAG</th>\n",
       "      <th>AVGGIFT</th>\n",
       "    </tr>\n",
       "  </thead>\n",
       "  <tbody>\n",
       "    <tr>\n",
       "      <th>INCOME</th>\n",
       "      <td>1.000000</td>\n",
       "      <td>0.263136</td>\n",
       "      <td>0.362691</td>\n",
       "      <td>-0.060637</td>\n",
       "      <td>-0.060917</td>\n",
       "      <td>-0.106672</td>\n",
       "      <td>0.014226</td>\n",
       "      <td>0.100212</td>\n",
       "    </tr>\n",
       "    <tr>\n",
       "      <th>HV2</th>\n",
       "      <td>0.263136</td>\n",
       "      <td>1.000000</td>\n",
       "      <td>0.740550</td>\n",
       "      <td>-0.028951</td>\n",
       "      <td>-0.040789</td>\n",
       "      <td>-0.062527</td>\n",
       "      <td>0.006893</td>\n",
       "      <td>0.127370</td>\n",
       "    </tr>\n",
       "    <tr>\n",
       "      <th>IC4</th>\n",
       "      <td>0.362691</td>\n",
       "      <td>0.740550</td>\n",
       "      <td>1.000000</td>\n",
       "      <td>-0.018002</td>\n",
       "      <td>-0.027435</td>\n",
       "      <td>-0.058571</td>\n",
       "      <td>0.016502</td>\n",
       "      <td>0.109542</td>\n",
       "    </tr>\n",
       "    <tr>\n",
       "      <th>NUMPROM</th>\n",
       "      <td>-0.060637</td>\n",
       "      <td>-0.028951</td>\n",
       "      <td>-0.018002</td>\n",
       "      <td>1.000000</td>\n",
       "      <td>0.949642</td>\n",
       "      <td>0.795470</td>\n",
       "      <td>0.161136</td>\n",
       "      <td>-0.188827</td>\n",
       "    </tr>\n",
       "    <tr>\n",
       "      <th>CARDPROM</th>\n",
       "      <td>-0.060917</td>\n",
       "      <td>-0.040789</td>\n",
       "      <td>-0.027435</td>\n",
       "      <td>0.949642</td>\n",
       "      <td>1.000000</td>\n",
       "      <td>0.776600</td>\n",
       "      <td>0.173624</td>\n",
       "      <td>-0.240895</td>\n",
       "    </tr>\n",
       "    <tr>\n",
       "      <th>NGIFTALL</th>\n",
       "      <td>-0.106672</td>\n",
       "      <td>-0.062527</td>\n",
       "      <td>-0.058571</td>\n",
       "      <td>0.795470</td>\n",
       "      <td>0.776600</td>\n",
       "      <td>1.000000</td>\n",
       "      <td>0.006604</td>\n",
       "      <td>-0.325656</td>\n",
       "    </tr>\n",
       "    <tr>\n",
       "      <th>TIMELAG</th>\n",
       "      <td>0.014226</td>\n",
       "      <td>0.006893</td>\n",
       "      <td>0.016502</td>\n",
       "      <td>0.161136</td>\n",
       "      <td>0.173624</td>\n",
       "      <td>0.006604</td>\n",
       "      <td>1.000000</td>\n",
       "      <td>-0.017055</td>\n",
       "    </tr>\n",
       "    <tr>\n",
       "      <th>AVGGIFT</th>\n",
       "      <td>0.100212</td>\n",
       "      <td>0.127370</td>\n",
       "      <td>0.109542</td>\n",
       "      <td>-0.188827</td>\n",
       "      <td>-0.240895</td>\n",
       "      <td>-0.325656</td>\n",
       "      <td>-0.017055</td>\n",
       "      <td>1.000000</td>\n",
       "    </tr>\n",
       "  </tbody>\n",
       "</table>\n",
       "</div>"
      ],
      "text/plain": [
       "            INCOME       HV2       IC4   NUMPROM  CARDPROM  NGIFTALL  \\\n",
       "INCOME    1.000000  0.263136  0.362691 -0.060637 -0.060917 -0.106672   \n",
       "HV2       0.263136  1.000000  0.740550 -0.028951 -0.040789 -0.062527   \n",
       "IC4       0.362691  0.740550  1.000000 -0.018002 -0.027435 -0.058571   \n",
       "NUMPROM  -0.060637 -0.028951 -0.018002  1.000000  0.949642  0.795470   \n",
       "CARDPROM -0.060917 -0.040789 -0.027435  0.949642  1.000000  0.776600   \n",
       "NGIFTALL -0.106672 -0.062527 -0.058571  0.795470  0.776600  1.000000   \n",
       "TIMELAG   0.014226  0.006893  0.016502  0.161136  0.173624  0.006604   \n",
       "AVGGIFT   0.100212  0.127370  0.109542 -0.188827 -0.240895 -0.325656   \n",
       "\n",
       "           TIMELAG   AVGGIFT  \n",
       "INCOME    0.014226  0.100212  \n",
       "HV2       0.006893  0.127370  \n",
       "IC4       0.016502  0.109542  \n",
       "NUMPROM   0.161136 -0.188827  \n",
       "CARDPROM  0.173624 -0.240895  \n",
       "NGIFTALL  0.006604 -0.325656  \n",
       "TIMELAG   1.000000 -0.017055  \n",
       "AVGGIFT  -0.017055  1.000000  "
      ]
     },
     "metadata": {},
     "output_type": "display_data"
    },
    {
     "name": "stdout",
     "output_type": "stream",
     "text": [
      "NUMPROM\n"
     ]
    },
    {
     "data": {
      "text/html": [
       "<div>\n",
       "<style scoped>\n",
       "    .dataframe tbody tr th:only-of-type {\n",
       "        vertical-align: middle;\n",
       "    }\n",
       "\n",
       "    .dataframe tbody tr th {\n",
       "        vertical-align: top;\n",
       "    }\n",
       "\n",
       "    .dataframe thead th {\n",
       "        text-align: right;\n",
       "    }\n",
       "</style>\n",
       "<table border=\"1\" class=\"dataframe\">\n",
       "  <thead>\n",
       "    <tr style=\"text-align: right;\">\n",
       "      <th></th>\n",
       "      <th>INCOME</th>\n",
       "      <th>HV2</th>\n",
       "      <th>IC4</th>\n",
       "      <th>CARDPROM</th>\n",
       "      <th>NGIFTALL</th>\n",
       "      <th>TIMELAG</th>\n",
       "      <th>AVGGIFT</th>\n",
       "    </tr>\n",
       "  </thead>\n",
       "  <tbody>\n",
       "    <tr>\n",
       "      <th>INCOME</th>\n",
       "      <td>1.000000</td>\n",
       "      <td>0.263136</td>\n",
       "      <td>0.362691</td>\n",
       "      <td>-0.060917</td>\n",
       "      <td>-0.106672</td>\n",
       "      <td>0.014226</td>\n",
       "      <td>0.100212</td>\n",
       "    </tr>\n",
       "    <tr>\n",
       "      <th>HV2</th>\n",
       "      <td>0.263136</td>\n",
       "      <td>1.000000</td>\n",
       "      <td>0.740550</td>\n",
       "      <td>-0.040789</td>\n",
       "      <td>-0.062527</td>\n",
       "      <td>0.006893</td>\n",
       "      <td>0.127370</td>\n",
       "    </tr>\n",
       "    <tr>\n",
       "      <th>IC4</th>\n",
       "      <td>0.362691</td>\n",
       "      <td>0.740550</td>\n",
       "      <td>1.000000</td>\n",
       "      <td>-0.027435</td>\n",
       "      <td>-0.058571</td>\n",
       "      <td>0.016502</td>\n",
       "      <td>0.109542</td>\n",
       "    </tr>\n",
       "    <tr>\n",
       "      <th>CARDPROM</th>\n",
       "      <td>-0.060917</td>\n",
       "      <td>-0.040789</td>\n",
       "      <td>-0.027435</td>\n",
       "      <td>1.000000</td>\n",
       "      <td>0.776600</td>\n",
       "      <td>0.173624</td>\n",
       "      <td>-0.240895</td>\n",
       "    </tr>\n",
       "    <tr>\n",
       "      <th>NGIFTALL</th>\n",
       "      <td>-0.106672</td>\n",
       "      <td>-0.062527</td>\n",
       "      <td>-0.058571</td>\n",
       "      <td>0.776600</td>\n",
       "      <td>1.000000</td>\n",
       "      <td>0.006604</td>\n",
       "      <td>-0.325656</td>\n",
       "    </tr>\n",
       "    <tr>\n",
       "      <th>TIMELAG</th>\n",
       "      <td>0.014226</td>\n",
       "      <td>0.006893</td>\n",
       "      <td>0.016502</td>\n",
       "      <td>0.173624</td>\n",
       "      <td>0.006604</td>\n",
       "      <td>1.000000</td>\n",
       "      <td>-0.017055</td>\n",
       "    </tr>\n",
       "    <tr>\n",
       "      <th>AVGGIFT</th>\n",
       "      <td>0.100212</td>\n",
       "      <td>0.127370</td>\n",
       "      <td>0.109542</td>\n",
       "      <td>-0.240895</td>\n",
       "      <td>-0.325656</td>\n",
       "      <td>-0.017055</td>\n",
       "      <td>1.000000</td>\n",
       "    </tr>\n",
       "  </tbody>\n",
       "</table>\n",
       "</div>"
      ],
      "text/plain": [
       "            INCOME       HV2       IC4  CARDPROM  NGIFTALL   TIMELAG   AVGGIFT\n",
       "INCOME    1.000000  0.263136  0.362691 -0.060917 -0.106672  0.014226  0.100212\n",
       "HV2       0.263136  1.000000  0.740550 -0.040789 -0.062527  0.006893  0.127370\n",
       "IC4       0.362691  0.740550  1.000000 -0.027435 -0.058571  0.016502  0.109542\n",
       "CARDPROM -0.060917 -0.040789 -0.027435  1.000000  0.776600  0.173624 -0.240895\n",
       "NGIFTALL -0.106672 -0.062527 -0.058571  0.776600  1.000000  0.006604 -0.325656\n",
       "TIMELAG   0.014226  0.006893  0.016502  0.173624  0.006604  1.000000 -0.017055\n",
       "AVGGIFT   0.100212  0.127370  0.109542 -0.240895 -0.325656 -0.017055  1.000000"
      ]
     },
     "metadata": {},
     "output_type": "display_data"
    }
   ],
   "source": [
    "flag= True\n",
    "while flag is True:\n",
    "    flag = False\n",
    "    for i in range(1, corr_matrix.shape[1]):\n",
    "        if corr_matrix.iloc[i,range(i)].max() > 0.9:\n",
    "            print(corr_matrix.columns[corr_matrix.iloc[i,range(i)].argmax()])\n",
    "            col_name = corr_matrix.columns[corr_matrix.iloc[i,range(i)].argmax()]\n",
    "            corr_matrix.drop([col_name], axis=1, inplace=True)\n",
    "            corr_matrix.drop([col_name], inplace=True)\n",
    "            display(corr_matrix)\n",
    "            flag = True\n",
    "            break"
   ]
  },
  {
   "cell_type": "code",
   "execution_count": 117,
   "metadata": {},
   "outputs": [
    {
     "data": {
      "text/html": [
       "<div>\n",
       "<style scoped>\n",
       "    .dataframe tbody tr th:only-of-type {\n",
       "        vertical-align: middle;\n",
       "    }\n",
       "\n",
       "    .dataframe tbody tr th {\n",
       "        vertical-align: top;\n",
       "    }\n",
       "\n",
       "    .dataframe thead th {\n",
       "        text-align: right;\n",
       "    }\n",
       "</style>\n",
       "<table border=\"1\" class=\"dataframe\">\n",
       "  <thead>\n",
       "    <tr style=\"text-align: right;\">\n",
       "      <th></th>\n",
       "      <th>INCOME</th>\n",
       "      <th>HV2</th>\n",
       "      <th>IC4</th>\n",
       "      <th>CARDPROM</th>\n",
       "      <th>NGIFTALL</th>\n",
       "      <th>TIMELAG</th>\n",
       "      <th>AVGGIFT</th>\n",
       "    </tr>\n",
       "  </thead>\n",
       "  <tbody>\n",
       "    <tr>\n",
       "      <th>INCOME</th>\n",
       "      <td>1.000000</td>\n",
       "      <td>0.263136</td>\n",
       "      <td>0.362691</td>\n",
       "      <td>-0.060917</td>\n",
       "      <td>-0.106672</td>\n",
       "      <td>0.014226</td>\n",
       "      <td>0.100212</td>\n",
       "    </tr>\n",
       "    <tr>\n",
       "      <th>HV2</th>\n",
       "      <td>0.263136</td>\n",
       "      <td>1.000000</td>\n",
       "      <td>0.740550</td>\n",
       "      <td>-0.040789</td>\n",
       "      <td>-0.062527</td>\n",
       "      <td>0.006893</td>\n",
       "      <td>0.127370</td>\n",
       "    </tr>\n",
       "    <tr>\n",
       "      <th>IC4</th>\n",
       "      <td>0.362691</td>\n",
       "      <td>0.740550</td>\n",
       "      <td>1.000000</td>\n",
       "      <td>-0.027435</td>\n",
       "      <td>-0.058571</td>\n",
       "      <td>0.016502</td>\n",
       "      <td>0.109542</td>\n",
       "    </tr>\n",
       "    <tr>\n",
       "      <th>CARDPROM</th>\n",
       "      <td>-0.060917</td>\n",
       "      <td>-0.040789</td>\n",
       "      <td>-0.027435</td>\n",
       "      <td>1.000000</td>\n",
       "      <td>0.776600</td>\n",
       "      <td>0.173624</td>\n",
       "      <td>-0.240895</td>\n",
       "    </tr>\n",
       "    <tr>\n",
       "      <th>NGIFTALL</th>\n",
       "      <td>-0.106672</td>\n",
       "      <td>-0.062527</td>\n",
       "      <td>-0.058571</td>\n",
       "      <td>0.776600</td>\n",
       "      <td>1.000000</td>\n",
       "      <td>0.006604</td>\n",
       "      <td>-0.325656</td>\n",
       "    </tr>\n",
       "    <tr>\n",
       "      <th>TIMELAG</th>\n",
       "      <td>0.014226</td>\n",
       "      <td>0.006893</td>\n",
       "      <td>0.016502</td>\n",
       "      <td>0.173624</td>\n",
       "      <td>0.006604</td>\n",
       "      <td>1.000000</td>\n",
       "      <td>-0.017055</td>\n",
       "    </tr>\n",
       "    <tr>\n",
       "      <th>AVGGIFT</th>\n",
       "      <td>0.100212</td>\n",
       "      <td>0.127370</td>\n",
       "      <td>0.109542</td>\n",
       "      <td>-0.240895</td>\n",
       "      <td>-0.325656</td>\n",
       "      <td>-0.017055</td>\n",
       "      <td>1.000000</td>\n",
       "    </tr>\n",
       "  </tbody>\n",
       "</table>\n",
       "</div>"
      ],
      "text/plain": [
       "            INCOME       HV2       IC4  CARDPROM  NGIFTALL   TIMELAG   AVGGIFT\n",
       "INCOME    1.000000  0.263136  0.362691 -0.060917 -0.106672  0.014226  0.100212\n",
       "HV2       0.263136  1.000000  0.740550 -0.040789 -0.062527  0.006893  0.127370\n",
       "IC4       0.362691  0.740550  1.000000 -0.027435 -0.058571  0.016502  0.109542\n",
       "CARDPROM -0.060917 -0.040789 -0.027435  1.000000  0.776600  0.173624 -0.240895\n",
       "NGIFTALL -0.106672 -0.062527 -0.058571  0.776600  1.000000  0.006604 -0.325656\n",
       "TIMELAG   0.014226  0.006893  0.016502  0.173624  0.006604  1.000000 -0.017055\n",
       "AVGGIFT   0.100212  0.127370  0.109542 -0.240895 -0.325656 -0.017055  1.000000"
      ]
     },
     "execution_count": 117,
     "metadata": {},
     "output_type": "execute_result"
    }
   ],
   "source": [
    "corr_matrix"
   ]
  },
  {
   "cell_type": "code",
   "execution_count": 89,
   "metadata": {},
   "outputs": [
    {
     "data": {
      "text/plain": [
       "INCOME      1.0\n",
       "HV1         1.0\n",
       "HV2         1.0\n",
       "IC1         1.0\n",
       "IC2         1.0\n",
       "IC3         1.0\n",
       "IC4         1.0\n",
       "NUMPROM     1.0\n",
       "CARDPROM    1.0\n",
       "NGIFTALL    1.0\n",
       "TIMELAG     1.0\n",
       "AVGGIFT     1.0\n",
       "dtype: float64"
      ]
     },
     "execution_count": 89,
     "metadata": {},
     "output_type": "execute_result"
    }
   ],
   "source": [
    "for i in range(1, corr_matrix.shape[1]):\n",
    "    corr_matrix[i,]"
   ]
  },
  {
   "cell_type": "code",
   "execution_count": null,
   "metadata": {},
   "outputs": [],
   "source": [
    "flag = True\n",
    "threshold = 50\n",
    "while flag is True:\n",
    "    #print(data_corr.head())\n",
    "    flag = False\n",
    "    values = [variance_inflation_factor(np.array(data_corr), i) for i in np.arange(data_corr.shape[1])]\n",
    "    #print(values)\n",
    "    if max(values)> threshold:\n",
    "        col_index = values.index(max(values))\n",
    "        column_name = data_corr.columns[col_index]\n",
    "        data_corr = data_corr.drop([column_name], axis=1)\n",
    "        flag = True"
   ]
  },
  {
   "cell_type": "code",
   "execution_count": 237,
   "metadata": {},
   "outputs": [
    {
     "data": {
      "text/plain": [
       "Index(['INCOME', 'HV1', 'IC1', 'CARDPROM', 'NGIFTALL', 'TIMELAG', 'AVGGIFT'], dtype='object')"
      ]
     },
     "execution_count": 237,
     "metadata": {},
     "output_type": "execute_result"
    }
   ],
   "source": [
    "data_corr.columns"
   ]
  },
  {
   "cell_type": "code",
   "execution_count": 189,
   "metadata": {},
   "outputs": [
    {
     "data": {
      "image/png": "[encoded data removed]",
      "text/plain": [
       "<Figure size 720x576 with 2 Axes>"
      ]
     },
     "metadata": {
      "needs_background": "light"
     },
     "output_type": "display_data"
    }
   ],
   "source": [
    "corr_matrix=data_corr.corr(method='pearson')\n",
    "fig, ax = plt.subplots(figsize=(10, 8))\n",
    "ax = sns.heatmap(corr_matrix, annot=True)\n",
    "plt.show()"
   ]
  },
  {
   "cell_type": "markdown",
   "metadata": {},
   "source": [
    "## Addressing categorical variables"
   ]
  },
  {
   "cell_type": "code",
   "execution_count": 132,
   "metadata": {},
   "outputs": [],
   "source": [
    "categoricals = data.select_dtypes(np.object)"
   ]
  },
  {
   "cell_type": "code",
   "execution_count": 133,
   "metadata": {},
   "outputs": [
    {
     "data": {
      "text/html": [
       "<div>\n",
       "<style scoped>\n",
       "    .dataframe tbody tr th:only-of-type {\n",
       "        vertical-align: middle;\n",
       "    }\n",
       "\n",
       "    .dataframe tbody tr th {\n",
       "        vertical-align: top;\n",
       "    }\n",
       "\n",
       "    .dataframe thead th {\n",
       "        text-align: right;\n",
       "    }\n",
       "</style>\n",
       "<table border=\"1\" class=\"dataframe\">\n",
       "  <thead>\n",
       "    <tr style=\"text-align: right;\">\n",
       "      <th></th>\n",
       "      <th>STATE</th>\n",
       "      <th>PVASTATE</th>\n",
       "      <th>MDMAUD</th>\n",
       "      <th>RECP3</th>\n",
       "      <th>GENDER</th>\n",
       "      <th>DOMAIN</th>\n",
       "      <th>HOMEOWNR</th>\n",
       "      <th>VETERANS</th>\n",
       "      <th>RFA_2</th>\n",
       "    </tr>\n",
       "  </thead>\n",
       "  <tbody>\n",
       "    <tr>\n",
       "      <th>0</th>\n",
       "      <td>IL</td>\n",
       "      <td></td>\n",
       "      <td>XXXX</td>\n",
       "      <td></td>\n",
       "      <td>F</td>\n",
       "      <td>T2</td>\n",
       "      <td></td>\n",
       "      <td></td>\n",
       "      <td>L4E</td>\n",
       "    </tr>\n",
       "    <tr>\n",
       "      <th>1</th>\n",
       "      <td>CA</td>\n",
       "      <td></td>\n",
       "      <td>XXXX</td>\n",
       "      <td></td>\n",
       "      <td>M</td>\n",
       "      <td>S1</td>\n",
       "      <td>H</td>\n",
       "      <td></td>\n",
       "      <td>L2G</td>\n",
       "    </tr>\n",
       "    <tr>\n",
       "      <th>2</th>\n",
       "      <td>NC</td>\n",
       "      <td></td>\n",
       "      <td>XXXX</td>\n",
       "      <td></td>\n",
       "      <td>M</td>\n",
       "      <td>R2</td>\n",
       "      <td>U</td>\n",
       "      <td></td>\n",
       "      <td>L4E</td>\n",
       "    </tr>\n",
       "    <tr>\n",
       "      <th>3</th>\n",
       "      <td>CA</td>\n",
       "      <td></td>\n",
       "      <td>XXXX</td>\n",
       "      <td></td>\n",
       "      <td>F</td>\n",
       "      <td>R2</td>\n",
       "      <td>U</td>\n",
       "      <td></td>\n",
       "      <td>L4E</td>\n",
       "    </tr>\n",
       "    <tr>\n",
       "      <th>4</th>\n",
       "      <td>FL</td>\n",
       "      <td></td>\n",
       "      <td>XXXX</td>\n",
       "      <td>X</td>\n",
       "      <td>F</td>\n",
       "      <td>S2</td>\n",
       "      <td>H</td>\n",
       "      <td></td>\n",
       "      <td>L2F</td>\n",
       "    </tr>\n",
       "  </tbody>\n",
       "</table>\n",
       "</div>"
      ],
      "text/plain": [
       "  STATE PVASTATE MDMAUD RECP3 GENDER DOMAIN HOMEOWNR VETERANS RFA_2\n",
       "0    IL            XXXX            F     T2                     L4E\n",
       "1    CA            XXXX            M     S1        H            L2G\n",
       "2    NC            XXXX            M     R2        U            L4E\n",
       "3    CA            XXXX            F     R2        U            L4E\n",
       "4    FL            XXXX     X      F     S2        H            L2F"
      ]
     },
     "execution_count": 133,
     "metadata": {},
     "output_type": "execute_result"
    }
   ],
   "source": [
    "categoricals.head()"
   ]
  },
  {
   "cell_type": "markdown",
   "metadata": {},
   "source": [
    "### Finding correlations in categorical data (chi-square)"
   ]
  },
  {
   "cell_type": "code",
   "execution_count": 134,
   "metadata": {
    "scrolled": true
   },
   "outputs": [
    {
     "data": {
      "text/plain": [
       "R2    13005\n",
       "T2    11717\n",
       "S1    10862\n",
       "S2     8052\n",
       "C2     7832\n",
       "C1     5792\n",
       "C3     5055\n",
       "T1     4709\n",
       "R3     4572\n",
       "U1     4258\n",
       "U2     3111\n",
       "U3     2483\n",
       "       2166\n",
       "T3     2092\n",
       "S3     1817\n",
       "U4     1735\n",
       "R1     1285\n",
       "Name: DOMAIN, dtype: int64"
      ]
     },
     "execution_count": 134,
     "metadata": {},
     "output_type": "execute_result"
    }
   ],
   "source": [
    "data.DOMAIN.value_counts()"
   ]
  },
  {
   "cell_type": "code",
   "execution_count": 135,
   "metadata": {},
   "outputs": [
    {
     "data": {
      "text/html": [
       "<div>\n",
       "<style scoped>\n",
       "    .dataframe tbody tr th:only-of-type {\n",
       "        vertical-align: middle;\n",
       "    }\n",
       "\n",
       "    .dataframe tbody tr th {\n",
       "        vertical-align: top;\n",
       "    }\n",
       "\n",
       "    .dataframe thead th {\n",
       "        text-align: right;\n",
       "    }\n",
       "</style>\n",
       "<table border=\"1\" class=\"dataframe\">\n",
       "  <thead>\n",
       "    <tr style=\"text-align: right;\">\n",
       "      <th>RFA_2</th>\n",
       "      <th>L1E</th>\n",
       "      <th>L1F</th>\n",
       "      <th>L1G</th>\n",
       "      <th>L2E</th>\n",
       "      <th>L2F</th>\n",
       "      <th>L2G</th>\n",
       "      <th>L3D</th>\n",
       "      <th>L3E</th>\n",
       "      <th>L3F</th>\n",
       "      <th>L3G</th>\n",
       "      <th>L4D</th>\n",
       "      <th>L4E</th>\n",
       "      <th>L4F</th>\n",
       "      <th>L4G</th>\n",
       "    </tr>\n",
       "    <tr>\n",
       "      <th>DOMAIN</th>\n",
       "      <th></th>\n",
       "      <th></th>\n",
       "      <th></th>\n",
       "      <th></th>\n",
       "      <th></th>\n",
       "      <th></th>\n",
       "      <th></th>\n",
       "      <th></th>\n",
       "      <th></th>\n",
       "      <th></th>\n",
       "      <th></th>\n",
       "      <th></th>\n",
       "      <th></th>\n",
       "      <th></th>\n",
       "    </tr>\n",
       "  </thead>\n",
       "  <tbody>\n",
       "    <tr>\n",
       "      <th></th>\n",
       "      <td>155</td>\n",
       "      <td>595</td>\n",
       "      <td>276</td>\n",
       "      <td>134</td>\n",
       "      <td>248</td>\n",
       "      <td>126</td>\n",
       "      <td>61</td>\n",
       "      <td>169</td>\n",
       "      <td>95</td>\n",
       "      <td>32</td>\n",
       "      <td>98</td>\n",
       "      <td>92</td>\n",
       "      <td>50</td>\n",
       "      <td>35</td>\n",
       "    </tr>\n",
       "    <tr>\n",
       "      <th>C1</th>\n",
       "      <td>249</td>\n",
       "      <td>1842</td>\n",
       "      <td>925</td>\n",
       "      <td>283</td>\n",
       "      <td>689</td>\n",
       "      <td>328</td>\n",
       "      <td>114</td>\n",
       "      <td>421</td>\n",
       "      <td>230</td>\n",
       "      <td>113</td>\n",
       "      <td>210</td>\n",
       "      <td>219</td>\n",
       "      <td>108</td>\n",
       "      <td>61</td>\n",
       "    </tr>\n",
       "    <tr>\n",
       "      <th>C2</th>\n",
       "      <td>413</td>\n",
       "      <td>2415</td>\n",
       "      <td>1000</td>\n",
       "      <td>436</td>\n",
       "      <td>916</td>\n",
       "      <td>383</td>\n",
       "      <td>205</td>\n",
       "      <td>640</td>\n",
       "      <td>277</td>\n",
       "      <td>153</td>\n",
       "      <td>434</td>\n",
       "      <td>318</td>\n",
       "      <td>163</td>\n",
       "      <td>79</td>\n",
       "    </tr>\n",
       "    <tr>\n",
       "      <th>C3</th>\n",
       "      <td>300</td>\n",
       "      <td>1620</td>\n",
       "      <td>605</td>\n",
       "      <td>298</td>\n",
       "      <td>558</td>\n",
       "      <td>198</td>\n",
       "      <td>155</td>\n",
       "      <td>410</td>\n",
       "      <td>166</td>\n",
       "      <td>54</td>\n",
       "      <td>319</td>\n",
       "      <td>228</td>\n",
       "      <td>106</td>\n",
       "      <td>38</td>\n",
       "    </tr>\n",
       "    <tr>\n",
       "      <th>R1</th>\n",
       "      <td>62</td>\n",
       "      <td>419</td>\n",
       "      <td>185</td>\n",
       "      <td>52</td>\n",
       "      <td>157</td>\n",
       "      <td>72</td>\n",
       "      <td>26</td>\n",
       "      <td>113</td>\n",
       "      <td>52</td>\n",
       "      <td>24</td>\n",
       "      <td>50</td>\n",
       "      <td>37</td>\n",
       "      <td>24</td>\n",
       "      <td>12</td>\n",
       "    </tr>\n",
       "    <tr>\n",
       "      <th>R2</th>\n",
       "      <td>782</td>\n",
       "      <td>4041</td>\n",
       "      <td>1531</td>\n",
       "      <td>778</td>\n",
       "      <td>1472</td>\n",
       "      <td>597</td>\n",
       "      <td>397</td>\n",
       "      <td>1060</td>\n",
       "      <td>480</td>\n",
       "      <td>190</td>\n",
       "      <td>742</td>\n",
       "      <td>535</td>\n",
       "      <td>286</td>\n",
       "      <td>114</td>\n",
       "    </tr>\n",
       "    <tr>\n",
       "      <th>R3</th>\n",
       "      <td>311</td>\n",
       "      <td>1486</td>\n",
       "      <td>441</td>\n",
       "      <td>280</td>\n",
       "      <td>488</td>\n",
       "      <td>178</td>\n",
       "      <td>165</td>\n",
       "      <td>380</td>\n",
       "      <td>143</td>\n",
       "      <td>53</td>\n",
       "      <td>319</td>\n",
       "      <td>200</td>\n",
       "      <td>93</td>\n",
       "      <td>35</td>\n",
       "    </tr>\n",
       "    <tr>\n",
       "      <th>S1</th>\n",
       "      <td>410</td>\n",
       "      <td>3627</td>\n",
       "      <td>1880</td>\n",
       "      <td>411</td>\n",
       "      <td>1231</td>\n",
       "      <td>695</td>\n",
       "      <td>198</td>\n",
       "      <td>751</td>\n",
       "      <td>438</td>\n",
       "      <td>193</td>\n",
       "      <td>368</td>\n",
       "      <td>344</td>\n",
       "      <td>208</td>\n",
       "      <td>108</td>\n",
       "    </tr>\n",
       "    <tr>\n",
       "      <th>S2</th>\n",
       "      <td>396</td>\n",
       "      <td>2631</td>\n",
       "      <td>1014</td>\n",
       "      <td>401</td>\n",
       "      <td>995</td>\n",
       "      <td>312</td>\n",
       "      <td>184</td>\n",
       "      <td>673</td>\n",
       "      <td>332</td>\n",
       "      <td>126</td>\n",
       "      <td>383</td>\n",
       "      <td>346</td>\n",
       "      <td>191</td>\n",
       "      <td>68</td>\n",
       "    </tr>\n",
       "    <tr>\n",
       "      <th>S3</th>\n",
       "      <td>81</td>\n",
       "      <td>633</td>\n",
       "      <td>198</td>\n",
       "      <td>79</td>\n",
       "      <td>205</td>\n",
       "      <td>53</td>\n",
       "      <td>56</td>\n",
       "      <td>157</td>\n",
       "      <td>68</td>\n",
       "      <td>31</td>\n",
       "      <td>117</td>\n",
       "      <td>89</td>\n",
       "      <td>32</td>\n",
       "      <td>18</td>\n",
       "    </tr>\n",
       "    <tr>\n",
       "      <th>T1</th>\n",
       "      <td>212</td>\n",
       "      <td>1534</td>\n",
       "      <td>750</td>\n",
       "      <td>204</td>\n",
       "      <td>542</td>\n",
       "      <td>273</td>\n",
       "      <td>91</td>\n",
       "      <td>369</td>\n",
       "      <td>197</td>\n",
       "      <td>74</td>\n",
       "      <td>181</td>\n",
       "      <td>142</td>\n",
       "      <td>98</td>\n",
       "      <td>42</td>\n",
       "    </tr>\n",
       "    <tr>\n",
       "      <th>T2</th>\n",
       "      <td>636</td>\n",
       "      <td>3711</td>\n",
       "      <td>1356</td>\n",
       "      <td>651</td>\n",
       "      <td>1341</td>\n",
       "      <td>549</td>\n",
       "      <td>305</td>\n",
       "      <td>1023</td>\n",
       "      <td>417</td>\n",
       "      <td>169</td>\n",
       "      <td>643</td>\n",
       "      <td>535</td>\n",
       "      <td>275</td>\n",
       "      <td>106</td>\n",
       "    </tr>\n",
       "    <tr>\n",
       "      <th>T3</th>\n",
       "      <td>130</td>\n",
       "      <td>669</td>\n",
       "      <td>202</td>\n",
       "      <td>109</td>\n",
       "      <td>226</td>\n",
       "      <td>86</td>\n",
       "      <td>68</td>\n",
       "      <td>201</td>\n",
       "      <td>72</td>\n",
       "      <td>23</td>\n",
       "      <td>148</td>\n",
       "      <td>91</td>\n",
       "      <td>48</td>\n",
       "      <td>19</td>\n",
       "    </tr>\n",
       "    <tr>\n",
       "      <th>U1</th>\n",
       "      <td>162</td>\n",
       "      <td>1451</td>\n",
       "      <td>709</td>\n",
       "      <td>207</td>\n",
       "      <td>493</td>\n",
       "      <td>239</td>\n",
       "      <td>63</td>\n",
       "      <td>305</td>\n",
       "      <td>143</td>\n",
       "      <td>75</td>\n",
       "      <td>127</td>\n",
       "      <td>162</td>\n",
       "      <td>79</td>\n",
       "      <td>43</td>\n",
       "    </tr>\n",
       "    <tr>\n",
       "      <th>U2</th>\n",
       "      <td>148</td>\n",
       "      <td>1048</td>\n",
       "      <td>422</td>\n",
       "      <td>165</td>\n",
       "      <td>366</td>\n",
       "      <td>142</td>\n",
       "      <td>67</td>\n",
       "      <td>230</td>\n",
       "      <td>105</td>\n",
       "      <td>59</td>\n",
       "      <td>128</td>\n",
       "      <td>117</td>\n",
       "      <td>82</td>\n",
       "      <td>32</td>\n",
       "    </tr>\n",
       "    <tr>\n",
       "      <th>U3</th>\n",
       "      <td>140</td>\n",
       "      <td>861</td>\n",
       "      <td>287</td>\n",
       "      <td>121</td>\n",
       "      <td>257</td>\n",
       "      <td>96</td>\n",
       "      <td>69</td>\n",
       "      <td>209</td>\n",
       "      <td>91</td>\n",
       "      <td>30</td>\n",
       "      <td>109</td>\n",
       "      <td>114</td>\n",
       "      <td>67</td>\n",
       "      <td>32</td>\n",
       "    </tr>\n",
       "    <tr>\n",
       "      <th>U4</th>\n",
       "      <td>79</td>\n",
       "      <td>624</td>\n",
       "      <td>207</td>\n",
       "      <td>72</td>\n",
       "      <td>214</td>\n",
       "      <td>79</td>\n",
       "      <td>43</td>\n",
       "      <td>133</td>\n",
       "      <td>46</td>\n",
       "      <td>24</td>\n",
       "      <td>73</td>\n",
       "      <td>78</td>\n",
       "      <td>41</td>\n",
       "      <td>22</td>\n",
       "    </tr>\n",
       "  </tbody>\n",
       "</table>\n",
       "</div>"
      ],
      "text/plain": [
       "RFA_2   L1E   L1F   L1G  L2E   L2F  L2G  L3D   L3E  L3F  L3G  L4D  L4E  L4F  \\\n",
       "DOMAIN                                                                        \n",
       "        155   595   276  134   248  126   61   169   95   32   98   92   50   \n",
       "C1      249  1842   925  283   689  328  114   421  230  113  210  219  108   \n",
       "C2      413  2415  1000  436   916  383  205   640  277  153  434  318  163   \n",
       "C3      300  1620   605  298   558  198  155   410  166   54  319  228  106   \n",
       "R1       62   419   185   52   157   72   26   113   52   24   50   37   24   \n",
       "R2      782  4041  1531  778  1472  597  397  1060  480  190  742  535  286   \n",
       "R3      311  1486   441  280   488  178  165   380  143   53  319  200   93   \n",
       "S1      410  3627  1880  411  1231  695  198   751  438  193  368  344  208   \n",
       "S2      396  2631  1014  401   995  312  184   673  332  126  383  346  191   \n",
       "S3       81   633   198   79   205   53   56   157   68   31  117   89   32   \n",
       "T1      212  1534   750  204   542  273   91   369  197   74  181  142   98   \n",
       "T2      636  3711  1356  651  1341  549  305  1023  417  169  643  535  275   \n",
       "T3      130   669   202  109   226   86   68   201   72   23  148   91   48   \n",
       "U1      162  1451   709  207   493  239   63   305  143   75  127  162   79   \n",
       "U2      148  1048   422  165   366  142   67   230  105   59  128  117   82   \n",
       "U3      140   861   287  121   257   96   69   209   91   30  109  114   67   \n",
       "U4       79   624   207   72   214   79   43   133   46   24   73   78   41   \n",
       "\n",
       "RFA_2   L4G  \n",
       "DOMAIN       \n",
       "         35  \n",
       "C1       61  \n",
       "C2       79  \n",
       "C3       38  \n",
       "R1       12  \n",
       "R2      114  \n",
       "R3       35  \n",
       "S1      108  \n",
       "S2       68  \n",
       "S3       18  \n",
       "T1       42  \n",
       "T2      106  \n",
       "T3       19  \n",
       "U1       43  \n",
       "U2       32  \n",
       "U3       32  \n",
       "U4       22  "
      ]
     },
     "execution_count": 135,
     "metadata": {},
     "output_type": "execute_result"
    }
   ],
   "source": [
    "data_crosstab = pd.crosstab(data['DOMAIN'], data['RFA_2'], margins = False) \n",
    "data_crosstab"
   ]
  },
  {
   "cell_type": "code",
   "execution_count": 136,
   "metadata": {
    "scrolled": true
   },
   "outputs": [
    {
     "data": {
      "text/plain": [
       "(1393.9427974751684,\n",
       " 1.7134393267462319e-174,\n",
       " 208,\n",
       " array([[ 111.62161625,  698.69964547,  286.78095491,  111.98045128,\n",
       "          248.74444187,  105.40180909,   54.231934  ,  173.29339651,\n",
       "           80.18766774,   34.04148305,  106.4304695 ,   87.24475663,\n",
       "           46.67247606,   20.66889765],\n",
       "        [ 298.48217974, 1868.36027081,  766.86763195,  299.44172382,\n",
       "          665.15595905,  281.85008228,  145.0190959 ,  463.39582298,\n",
       "          214.42611798,   91.02874877,  284.60077532,  233.29715163,\n",
       "          124.80470053,   55.26973924],\n",
       "        [ 403.61057177, 2526.41533857, 1036.96603824,  404.90807683,\n",
       "          899.43050263,  381.12048419,  196.09626365,  626.60844019,\n",
       "          289.94912914,  123.08997935,  384.83999867,  315.46672852,\n",
       "          168.76215721,   74.73629104],\n",
       "        [ 260.50197144, 1630.62174878,  669.28796263,  261.33941884,\n",
       "          580.51853815,  245.98621649,  126.56621716,  404.4312647 ,\n",
       "          187.14157914,   79.44584341,  248.38689904,  203.61137802,\n",
       "          108.92399192,   48.23697028],\n",
       "        [  66.22058028,  414.51017748,  170.13551572,   66.43346255,\n",
       "          147.56999437,   62.53062081,   32.17360812,  102.80794761,\n",
       "           47.57209282,   20.195432  ,   63.14088334,   51.7587776 ,\n",
       "           27.68888815,   12.26201915],\n",
       "        [ 670.19349922, 4195.10105696, 1721.87734005,  672.3480004 ,\n",
       "         1493.50021537,  632.84881217,  325.61694444, 1040.48043471,\n",
       "          481.45919618,  204.39034492,  639.02504887,  523.83105265,\n",
       "          280.22878632,  124.09926775],\n",
       "        [ 235.61127862, 1474.81753421,  605.3381929 ,  236.36870879,\n",
       "          525.05059475,  222.48248898,  114.47294656,  365.78827739,\n",
       "          169.26039561,   71.85487558,  224.65378881,  184.15652232,\n",
       "           98.51641761,   43.62797787],\n",
       "        [ 559.75715406, 3503.8206598 , 1438.14161227,  561.55663055,\n",
       "         1247.39710414,  528.5662282 ,  271.96088047,  869.02718046,\n",
       "          402.12301337,  170.71033653,  533.72472748,  437.51271771,\n",
       "          234.05190904,  103.64984593],\n",
       "        [ 414.94794738, 2597.38206156, 1066.09429774,  416.28189921,\n",
       "          924.69540439,  391.82611577,  201.60458567,  644.20980087,\n",
       "          298.0937676 ,  126.54756304,  395.650111  ,  324.32815347,\n",
       "          173.50266724,   76.83562506],\n",
       "        [  93.63641585,  586.12061672,  240.57294324,   93.93743304,\n",
       "          208.66512044,   88.41878444,   45.49373226,  145.37123798,\n",
       "           67.26730946,   28.55649802,   89.28170041,   73.18731431,\n",
       "           39.15230333,   17.3385905 ],\n",
       "        [ 242.67137161, 1519.01044807,  623.4771545 ,  243.45149818,\n",
       "          540.78373811,  229.14917774,  117.9031289 ,  376.74912473,\n",
       "          174.33228411,   74.00800725,  231.38554057,  189.67477331,\n",
       "          101.4684625 ,   44.93529041],\n",
       "        [ 603.81831837, 3779.62315143, 1551.34462079,  605.75944027,\n",
       "         1345.58569961,  570.17220547,  293.36822283,  937.43246855,\n",
       "          433.77604011,  184.14776405,  575.73675491,  471.95143744,\n",
       "          252.47525485,  111.80862132],\n",
       "        [ 107.80813536,  674.82902047,  276.98326762,  108.15471102,\n",
       "          240.24624764,  101.80082392,   52.37913478,  167.37293882,\n",
       "           77.44810753,   32.87847763,  102.79434081,   84.26409551,\n",
       "           45.07794087,   19.96275803],\n",
       "        [ 219.42975161, 1373.52866594,  563.76422252,  220.1351623 ,\n",
       "          488.99068951,  207.202633  ,  106.61106877,  340.66633533,\n",
       "          157.63577527,   66.91996068,  209.22481031,  171.50885215,\n",
       "           91.75041693,   40.63165568],\n",
       "        [ 160.32079785, 1003.53397833,  411.90006958,  160.83618833,\n",
       "          357.26867897,  151.38736291,   77.89268083,  248.89924124,\n",
       "          115.17259203,   48.89337663,  152.86481561,  125.30860475,\n",
       "           67.03512143,   29.6864915 ],\n",
       "        [ 127.95774383,  800.95624179,  328.75212882,  128.36909535,\n",
       "          285.14886849,  120.82765095,   62.16892526,  198.65535712,\n",
       "           91.92335134,   39.02354682,  122.00685862,  100.01326442,\n",
       "           53.50312006,   23.69384712],\n",
       "        [  89.41066676,  559.66938361,  229.71604652,   89.69809925,\n",
       "          199.24820251,   84.42850358,   43.44063042,  138.81073081,\n",
       "           64.23158057,   27.26776228,   85.25247672,   69.88441956,\n",
       "           37.38538595,   16.55611146]]))"
      ]
     },
     "execution_count": 136,
     "metadata": {},
     "output_type": "execute_result"
    }
   ],
   "source": [
    "from scipy.stats import chi2_contingency\n",
    "g, p, dof, expctd = chi2_contingency(data_crosstab, correction=False)\n",
    "g, p, dof, expctd"
   ]
  },
  {
   "cell_type": "code",
   "execution_count": 137,
   "metadata": {},
   "outputs": [],
   "source": [
    "data = data.drop(['RFA_2'], axis=1)"
   ]
  },
  {
   "cell_type": "code",
   "execution_count": 138,
   "metadata": {},
   "outputs": [
    {
     "data": {
      "text/plain": [
       "(1393.9427974751684,\n",
       " 1.7134393267462319e-174,\n",
       " 208,\n",
       " array([[ 111.62161625,  698.69964547,  286.78095491,  111.98045128,\n",
       "          248.74444187,  105.40180909,   54.231934  ,  173.29339651,\n",
       "           80.18766774,   34.04148305,  106.4304695 ,   87.24475663,\n",
       "           46.67247606,   20.66889765],\n",
       "        [ 298.48217974, 1868.36027081,  766.86763195,  299.44172382,\n",
       "          665.15595905,  281.85008228,  145.0190959 ,  463.39582298,\n",
       "          214.42611798,   91.02874877,  284.60077532,  233.29715163,\n",
       "          124.80470053,   55.26973924],\n",
       "        [ 403.61057177, 2526.41533857, 1036.96603824,  404.90807683,\n",
       "          899.43050263,  381.12048419,  196.09626365,  626.60844019,\n",
       "          289.94912914,  123.08997935,  384.83999867,  315.46672852,\n",
       "          168.76215721,   74.73629104],\n",
       "        [ 260.50197144, 1630.62174878,  669.28796263,  261.33941884,\n",
       "          580.51853815,  245.98621649,  126.56621716,  404.4312647 ,\n",
       "          187.14157914,   79.44584341,  248.38689904,  203.61137802,\n",
       "          108.92399192,   48.23697028],\n",
       "        [  66.22058028,  414.51017748,  170.13551572,   66.43346255,\n",
       "          147.56999437,   62.53062081,   32.17360812,  102.80794761,\n",
       "           47.57209282,   20.195432  ,   63.14088334,   51.7587776 ,\n",
       "           27.68888815,   12.26201915],\n",
       "        [ 670.19349922, 4195.10105696, 1721.87734005,  672.3480004 ,\n",
       "         1493.50021537,  632.84881217,  325.61694444, 1040.48043471,\n",
       "          481.45919618,  204.39034492,  639.02504887,  523.83105265,\n",
       "          280.22878632,  124.09926775],\n",
       "        [ 235.61127862, 1474.81753421,  605.3381929 ,  236.36870879,\n",
       "          525.05059475,  222.48248898,  114.47294656,  365.78827739,\n",
       "          169.26039561,   71.85487558,  224.65378881,  184.15652232,\n",
       "           98.51641761,   43.62797787],\n",
       "        [ 559.75715406, 3503.8206598 , 1438.14161227,  561.55663055,\n",
       "         1247.39710414,  528.5662282 ,  271.96088047,  869.02718046,\n",
       "          402.12301337,  170.71033653,  533.72472748,  437.51271771,\n",
       "          234.05190904,  103.64984593],\n",
       "        [ 414.94794738, 2597.38206156, 1066.09429774,  416.28189921,\n",
       "          924.69540439,  391.82611577,  201.60458567,  644.20980087,\n",
       "          298.0937676 ,  126.54756304,  395.650111  ,  324.32815347,\n",
       "          173.50266724,   76.83562506],\n",
       "        [  93.63641585,  586.12061672,  240.57294324,   93.93743304,\n",
       "          208.66512044,   88.41878444,   45.49373226,  145.37123798,\n",
       "           67.26730946,   28.55649802,   89.28170041,   73.18731431,\n",
       "           39.15230333,   17.3385905 ],\n",
       "        [ 242.67137161, 1519.01044807,  623.4771545 ,  243.45149818,\n",
       "          540.78373811,  229.14917774,  117.9031289 ,  376.74912473,\n",
       "          174.33228411,   74.00800725,  231.38554057,  189.67477331,\n",
       "          101.4684625 ,   44.93529041],\n",
       "        [ 603.81831837, 3779.62315143, 1551.34462079,  605.75944027,\n",
       "         1345.58569961,  570.17220547,  293.36822283,  937.43246855,\n",
       "          433.77604011,  184.14776405,  575.73675491,  471.95143744,\n",
       "          252.47525485,  111.80862132],\n",
       "        [ 107.80813536,  674.82902047,  276.98326762,  108.15471102,\n",
       "          240.24624764,  101.80082392,   52.37913478,  167.37293882,\n",
       "           77.44810753,   32.87847763,  102.79434081,   84.26409551,\n",
       "           45.07794087,   19.96275803],\n",
       "        [ 219.42975161, 1373.52866594,  563.76422252,  220.1351623 ,\n",
       "          488.99068951,  207.202633  ,  106.61106877,  340.66633533,\n",
       "          157.63577527,   66.91996068,  209.22481031,  171.50885215,\n",
       "           91.75041693,   40.63165568],\n",
       "        [ 160.32079785, 1003.53397833,  411.90006958,  160.83618833,\n",
       "          357.26867897,  151.38736291,   77.89268083,  248.89924124,\n",
       "          115.17259203,   48.89337663,  152.86481561,  125.30860475,\n",
       "           67.03512143,   29.6864915 ],\n",
       "        [ 127.95774383,  800.95624179,  328.75212882,  128.36909535,\n",
       "          285.14886849,  120.82765095,   62.16892526,  198.65535712,\n",
       "           91.92335134,   39.02354682,  122.00685862,  100.01326442,\n",
       "           53.50312006,   23.69384712],\n",
       "        [  89.41066676,  559.66938361,  229.71604652,   89.69809925,\n",
       "          199.24820251,   84.42850358,   43.44063042,  138.81073081,\n",
       "           64.23158057,   27.26776228,   85.25247672,   69.88441956,\n",
       "           37.38538595,   16.55611146]]))"
      ]
     },
     "execution_count": 138,
     "metadata": {},
     "output_type": "execute_result"
    }
   ],
   "source": [
    "data_crosstab2 = pd.crosstab(data['STATE'], data['DOMAIN'], margins = False) \n",
    "g, p, dof, expctd = chi2_contingency(data_crosstab, correction=False)\n",
    "g, p, dof, expctd"
   ]
  },
  {
   "cell_type": "markdown",
   "metadata": {},
   "source": [
    "As you would see the **p-value** is 0 in this case also the p-value is smaller than 0.05 hence we reject the null hypothesis. Hence we can say that the variables are correlated to each other and drop one of the variables \n"
   ]
  },
  {
   "cell_type": "code",
   "execution_count": 139,
   "metadata": {},
   "outputs": [],
   "source": [
    "data = data.drop(['STATE'], axis=1)"
   ]
  },
  {
   "cell_type": "markdown",
   "metadata": {},
   "source": [
    "## Transforming numerical data"
   ]
  },
  {
   "cell_type": "code",
   "execution_count": 140,
   "metadata": {},
   "outputs": [
    {
     "data": {
      "text/html": [
       "<div>\n",
       "<style scoped>\n",
       "    .dataframe tbody tr th:only-of-type {\n",
       "        vertical-align: middle;\n",
       "    }\n",
       "\n",
       "    .dataframe tbody tr th {\n",
       "        vertical-align: top;\n",
       "    }\n",
       "\n",
       "    .dataframe thead th {\n",
       "        text-align: right;\n",
       "    }\n",
       "</style>\n",
       "<table border=\"1\" class=\"dataframe\">\n",
       "  <thead>\n",
       "    <tr style=\"text-align: right;\">\n",
       "      <th></th>\n",
       "      <th>INCOME</th>\n",
       "      <th>HV1</th>\n",
       "      <th>IC1</th>\n",
       "      <th>CARDPROM</th>\n",
       "      <th>NGIFTALL</th>\n",
       "      <th>TIMELAG</th>\n",
       "      <th>AVGGIFT</th>\n",
       "    </tr>\n",
       "  </thead>\n",
       "  <tbody>\n",
       "    <tr>\n",
       "      <th>0</th>\n",
       "      <td>3.0</td>\n",
       "      <td>479</td>\n",
       "      <td>307</td>\n",
       "      <td>27</td>\n",
       "      <td>31</td>\n",
       "      <td>4.0</td>\n",
       "      <td>7.741935</td>\n",
       "    </tr>\n",
       "    <tr>\n",
       "      <th>1</th>\n",
       "      <td>6.0</td>\n",
       "      <td>5468</td>\n",
       "      <td>1088</td>\n",
       "      <td>12</td>\n",
       "      <td>3</td>\n",
       "      <td>18.0</td>\n",
       "      <td>15.666667</td>\n",
       "    </tr>\n",
       "    <tr>\n",
       "      <th>2</th>\n",
       "      <td>3.0</td>\n",
       "      <td>497</td>\n",
       "      <td>251</td>\n",
       "      <td>26</td>\n",
       "      <td>27</td>\n",
       "      <td>12.0</td>\n",
       "      <td>7.481481</td>\n",
       "    </tr>\n",
       "    <tr>\n",
       "      <th>3</th>\n",
       "      <td>1.0</td>\n",
       "      <td>1000</td>\n",
       "      <td>386</td>\n",
       "      <td>27</td>\n",
       "      <td>16</td>\n",
       "      <td>9.0</td>\n",
       "      <td>6.812500</td>\n",
       "    </tr>\n",
       "    <tr>\n",
       "      <th>4</th>\n",
       "      <td>3.0</td>\n",
       "      <td>576</td>\n",
       "      <td>240</td>\n",
       "      <td>43</td>\n",
       "      <td>37</td>\n",
       "      <td>14.0</td>\n",
       "      <td>6.864865</td>\n",
       "    </tr>\n",
       "  </tbody>\n",
       "</table>\n",
       "</div>"
      ],
      "text/plain": [
       "   INCOME   HV1   IC1  CARDPROM  NGIFTALL  TIMELAG    AVGGIFT\n",
       "0     3.0   479   307        27        31      4.0   7.741935\n",
       "1     6.0  5468  1088        12         3     18.0  15.666667\n",
       "2     3.0   497   251        26        27     12.0   7.481481\n",
       "3     1.0  1000   386        27        16      9.0   6.812500\n",
       "4     3.0   576   240        43        37     14.0   6.864865"
      ]
     },
     "execution_count": 140,
     "metadata": {},
     "output_type": "execute_result"
    }
   ],
   "source": [
    "data_corr.head()"
   ]
  },
  {
   "cell_type": "code",
   "execution_count": 141,
   "metadata": {},
   "outputs": [
    {
     "data": {
      "text/plain": [
       "<matplotlib.axes._subplots.AxesSubplot at 0x7fab9883e650>"
      ]
     },
     "execution_count": 141,
     "metadata": {},
     "output_type": "execute_result"
    },
    {
     "data": {
      "image/png": "[encoded data removed]",
      "text/plain": [
       "<Figure size 720x1080 with 1 Axes>"
      ]
     },
     "metadata": {
      "needs_background": "light"
     },
     "output_type": "display_data"
    }
   ],
   "source": [
    "data_corr.CARDPROM.hist()"
   ]
  },
  {
   "cell_type": "markdown",
   "metadata": {},
   "source": [
    "### We drop the target variable"
   ]
  },
  {
   "cell_type": "code",
   "execution_count": 142,
   "metadata": {},
   "outputs": [],
   "source": [
    "numerical = data_corr.drop(['AVGGIFT'], axis=1)"
   ]
  },
  {
   "cell_type": "code",
   "execution_count": 143,
   "metadata": {},
   "outputs": [],
   "source": [
    "X_num = numerical"
   ]
  },
  {
   "cell_type": "markdown",
   "metadata": {},
   "source": [
    "## Standardization"
   ]
  },
  {
   "cell_type": "code",
   "execution_count": 144,
   "metadata": {},
   "outputs": [
    {
     "data": {
      "text/html": [
       "<div>\n",
       "<style scoped>\n",
       "    .dataframe tbody tr th:only-of-type {\n",
       "        vertical-align: middle;\n",
       "    }\n",
       "\n",
       "    .dataframe tbody tr th {\n",
       "        vertical-align: top;\n",
       "    }\n",
       "\n",
       "    .dataframe thead th {\n",
       "        text-align: right;\n",
       "    }\n",
       "</style>\n",
       "<table border=\"1\" class=\"dataframe\">\n",
       "  <thead>\n",
       "    <tr style=\"text-align: right;\">\n",
       "      <th></th>\n",
       "      <th>INCOME</th>\n",
       "      <th>HV1</th>\n",
       "      <th>IC1</th>\n",
       "      <th>CARDPROM</th>\n",
       "      <th>NGIFTALL</th>\n",
       "      <th>TIMELAG</th>\n",
       "    </tr>\n",
       "  </thead>\n",
       "  <tbody>\n",
       "    <tr>\n",
       "      <th>count</th>\n",
       "      <td>90543.000000</td>\n",
       "      <td>90543.000000</td>\n",
       "      <td>90543.000000</td>\n",
       "      <td>90543.000000</td>\n",
       "      <td>90543.000000</td>\n",
       "      <td>90543.000000</td>\n",
       "    </tr>\n",
       "    <tr>\n",
       "      <th>mean</th>\n",
       "      <td>3.682560</td>\n",
       "      <td>1056.229073</td>\n",
       "      <td>339.346631</td>\n",
       "      <td>18.371536</td>\n",
       "      <td>9.502479</td>\n",
       "      <td>7.249914</td>\n",
       "    </tr>\n",
       "    <tr>\n",
       "      <th>std</th>\n",
       "      <td>1.675947</td>\n",
       "      <td>936.122622</td>\n",
       "      <td>162.356530</td>\n",
       "      <td>8.581881</td>\n",
       "      <td>8.495577</td>\n",
       "      <td>8.245494</td>\n",
       "    </tr>\n",
       "    <tr>\n",
       "      <th>min</th>\n",
       "      <td>1.000000</td>\n",
       "      <td>0.000000</td>\n",
       "      <td>0.000000</td>\n",
       "      <td>1.000000</td>\n",
       "      <td>1.000000</td>\n",
       "      <td>0.000000</td>\n",
       "    </tr>\n",
       "    <tr>\n",
       "      <th>25%</th>\n",
       "      <td>3.000000</td>\n",
       "      <td>511.000000</td>\n",
       "      <td>230.000000</td>\n",
       "      <td>11.000000</td>\n",
       "      <td>3.000000</td>\n",
       "      <td>3.000000</td>\n",
       "    </tr>\n",
       "    <tr>\n",
       "      <th>50%</th>\n",
       "      <td>3.000000</td>\n",
       "      <td>734.000000</td>\n",
       "      <td>309.000000</td>\n",
       "      <td>18.000000</td>\n",
       "      <td>7.000000</td>\n",
       "      <td>6.000000</td>\n",
       "    </tr>\n",
       "    <tr>\n",
       "      <th>75%</th>\n",
       "      <td>5.000000</td>\n",
       "      <td>1206.000000</td>\n",
       "      <td>414.000000</td>\n",
       "      <td>25.000000</td>\n",
       "      <td>13.000000</td>\n",
       "      <td>10.000000</td>\n",
       "    </tr>\n",
       "    <tr>\n",
       "      <th>max</th>\n",
       "      <td>7.000000</td>\n",
       "      <td>6000.000000</td>\n",
       "      <td>1500.000000</td>\n",
       "      <td>61.000000</td>\n",
       "      <td>237.000000</td>\n",
       "      <td>1088.000000</td>\n",
       "    </tr>\n",
       "  </tbody>\n",
       "</table>\n",
       "</div>"
      ],
      "text/plain": [
       "             INCOME           HV1           IC1      CARDPROM      NGIFTALL  \\\n",
       "count  90543.000000  90543.000000  90543.000000  90543.000000  90543.000000   \n",
       "mean       3.682560   1056.229073    339.346631     18.371536      9.502479   \n",
       "std        1.675947    936.122622    162.356530      8.581881      8.495577   \n",
       "min        1.000000      0.000000      0.000000      1.000000      1.000000   \n",
       "25%        3.000000    511.000000    230.000000     11.000000      3.000000   \n",
       "50%        3.000000    734.000000    309.000000     18.000000      7.000000   \n",
       "75%        5.000000   1206.000000    414.000000     25.000000     13.000000   \n",
       "max        7.000000   6000.000000   1500.000000     61.000000    237.000000   \n",
       "\n",
       "            TIMELAG  \n",
       "count  90543.000000  \n",
       "mean       7.249914  \n",
       "std        8.245494  \n",
       "min        0.000000  \n",
       "25%        3.000000  \n",
       "50%        6.000000  \n",
       "75%       10.000000  \n",
       "max     1088.000000  "
      ]
     },
     "execution_count": 144,
     "metadata": {},
     "output_type": "execute_result"
    }
   ],
   "source": [
    "X_num.describe()"
   ]
  },
  {
   "cell_type": "code",
   "execution_count": 145,
   "metadata": {},
   "outputs": [
    {
     "data": {
      "text/plain": [
       "array([[-0.40727037, -0.61662035, -0.19923319,  1.00543355,  2.53045078,\n",
       "        -0.39414647],\n",
       "       [ 1.38277257,  4.71283909,  4.61119429, -0.74244458, -0.7654001 ,\n",
       "         1.30375997],\n",
       "       [-0.40727037, -0.597392  , -0.54415501,  0.88890834,  2.05961494,\n",
       "         0.57608578],\n",
       "       ...,\n",
       "       [ 1.97945355,  0.66527007,  2.87426657, -1.67464626, -1.00081802,\n",
       "        -0.8792626 ],\n",
       "       [-0.40727037, -0.72664928, -0.47024319, -0.50939417, -0.29456426,\n",
       "        -0.5154255 ],\n",
       "       [ 0.78609159, -0.12629726,  0.68770862,  1.5880596 ,  3.47212246,\n",
       "        -0.15158841]])"
      ]
     },
     "execution_count": 145,
     "metadata": {},
     "output_type": "execute_result"
    }
   ],
   "source": [
    "# Standardization/Standard Scaler\n",
    "\n",
    "from sklearn.preprocessing import StandardScaler\n",
    "transformer = StandardScaler().fit(X_num)\n",
    "x_standardized = transformer.transform(X_num)\n",
    "x_standardized"
   ]
  },
  {
   "cell_type": "markdown",
   "metadata": {},
   "source": [
    "### Scaling"
   ]
  },
  {
   "cell_type": "code",
   "execution_count": 146,
   "metadata": {},
   "outputs": [
    {
     "data": {
      "text/plain": [
       "array([[0.33333333, 0.07983333, 0.20466667, 0.43333333, 0.12711864,\n",
       "        0.00367647],\n",
       "       [0.83333333, 0.91133333, 0.72533333, 0.18333333, 0.00847458,\n",
       "        0.01654412],\n",
       "       [0.33333333, 0.08283333, 0.16733333, 0.41666667, 0.11016949,\n",
       "        0.01102941],\n",
       "       ...,\n",
       "       [1.        , 0.27983333, 0.53733333, 0.05      , 0.        ,\n",
       "        0.        ],\n",
       "       [0.33333333, 0.06266667, 0.17533333, 0.21666667, 0.02542373,\n",
       "        0.00275735],\n",
       "       [0.66666667, 0.15633333, 0.30066667, 0.51666667, 0.16101695,\n",
       "        0.00551471]])"
      ]
     },
     "execution_count": 146,
     "metadata": {},
     "output_type": "execute_result"
    }
   ],
   "source": [
    "# Min max scaler\n",
    "\n",
    "from sklearn.preprocessing import MinMaxScaler\n",
    "transformer = MinMaxScaler().fit(X_num)\n",
    "x_min_max = transformer.transform(X_num)\n",
    "x_min_max"
   ]
  },
  {
   "cell_type": "markdown",
   "metadata": {},
   "source": [
    "### Normalization"
   ]
  },
  {
   "cell_type": "code",
   "execution_count": 147,
   "metadata": {},
   "outputs": [
    {
     "data": {
      "text/plain": [
       "array([[5.25907233e-03, 8.39698549e-01, 5.38178402e-01, 4.73316510e-02,\n",
       "        5.43437474e-02, 7.01209644e-03],\n",
       "       [1.07618720e-03, 9.80765270e-01, 1.95148613e-01, 2.15237440e-03,\n",
       "        5.38093601e-04, 3.22856161e-03],\n",
       "       [5.37458371e-03, 8.90389368e-01, 4.49673504e-01, 4.65797255e-02,\n",
       "        4.83712534e-02, 2.14983348e-02],\n",
       "       ...,\n",
       "       [3.75847770e-03, 9.01497723e-01, 4.32761861e-01, 2.14770154e-03,\n",
       "        5.36925386e-04, 0.00000000e+00],\n",
       "       [6.53397864e-03, 8.18925323e-01, 5.72812128e-01, 3.04919003e-02,\n",
       "        1.52459502e-02, 6.53397864e-03],\n",
       "       [4.79827226e-03, 9.00155875e-01, 4.32804158e-01, 3.07089424e-02,\n",
       "        3.74265236e-02, 5.75792671e-03]])"
      ]
     },
     "execution_count": 147,
     "metadata": {},
     "output_type": "execute_result"
    }
   ],
   "source": [
    "# Normalization\n",
    "\n",
    "from sklearn.preprocessing import Normalizer\n",
    "transformer = Normalizer().fit(X_num)\n",
    "x_normalized = transformer.transform(X_num)\n",
    "x_normalized"
   ]
  },
  {
   "cell_type": "code",
   "execution_count": null,
   "metadata": {},
   "outputs": [],
   "source": []
  },
  {
   "cell_type": "code",
   "execution_count": 148,
   "metadata": {},
   "outputs": [
    {
     "data": {
      "text/plain": [
       "0.9999999999999999"
      ]
     },
     "execution_count": 148,
     "metadata": {},
     "output_type": "execute_result"
    }
   ],
   "source": [
    "np.linalg.norm(x_normalized[4,])"
   ]
  },
  {
   "cell_type": "code",
   "execution_count": null,
   "metadata": {},
   "outputs": [],
   "source": []
  },
  {
   "cell_type": "code",
   "execution_count": 149,
   "metadata": {},
   "outputs": [
    {
     "data": {
      "text/plain": [
       "Text(0.5, 1.0, 'HV1 (Normalized)')"
      ]
     },
     "execution_count": 149,
     "metadata": {},
     "output_type": "execute_result"
    },
    {
     "data": {
      "image/png": "[encoded data removed]",
      "text/plain": [
       "<Figure size 1080x360 with 4 Axes>"
      ]
     },
     "metadata": {
      "needs_background": "light"
     },
     "output_type": "display_data"
    }
   ],
   "source": [
    "# Set up the matplotlib figure\n",
    "\n",
    "f, axes = plt.subplots(1, 4, figsize=(15, 5), sharex=False)\n",
    "sns.despine(left=True)\n",
    "\n",
    "col = 1\n",
    "sns.distplot(X_num.values[:,col], kde=True, color=\"b\", ax=axes[0])\n",
    "sns.distplot(x_standardized[:,col], kde=True, color=\"b\", ax=axes[1])\n",
    "sns.distplot(x_min_max[:,col], kde=True, color=\"b\", ax=axes[2])\n",
    "sns.distplot(x_normalized[:,col], kde=True, color=\"b\", ax=axes[3])\n",
    "\n",
    "axes[0].set_title(f'{X_num.columns[col]}')\n",
    "axes[1].set_title(f'{X_num.columns[col]} (Standardized)')\n",
    "axes[2].set_title(f'{X_num.columns[col]} (Min-Max)')\n",
    "axes[3].set_title(f'{X_num.columns[col]} (Normalized)')"
   ]
  },
  {
   "cell_type": "markdown",
   "metadata": {},
   "source": [
    "### Dealing with columns with too many values"
   ]
  },
  {
   "cell_type": "code",
   "execution_count": 150,
   "metadata": {},
   "outputs": [],
   "source": [
    "vals_domain = pd.DataFrame(data['DOMAIN'].value_counts())\n",
    "vals_domain = vals_domain.reset_index()\n",
    "vals_domain.columns = ['domain', 'counts']"
   ]
  },
  {
   "cell_type": "code",
   "execution_count": 151,
   "metadata": {},
   "outputs": [
    {
     "data": {
      "text/html": [
       "<div>\n",
       "<style scoped>\n",
       "    .dataframe tbody tr th:only-of-type {\n",
       "        vertical-align: middle;\n",
       "    }\n",
       "\n",
       "    .dataframe tbody tr th {\n",
       "        vertical-align: top;\n",
       "    }\n",
       "\n",
       "    .dataframe thead th {\n",
       "        text-align: right;\n",
       "    }\n",
       "</style>\n",
       "<table border=\"1\" class=\"dataframe\">\n",
       "  <thead>\n",
       "    <tr style=\"text-align: right;\">\n",
       "      <th></th>\n",
       "      <th>domain</th>\n",
       "      <th>counts</th>\n",
       "    </tr>\n",
       "  </thead>\n",
       "  <tbody>\n",
       "    <tr>\n",
       "      <th>0</th>\n",
       "      <td>R2</td>\n",
       "      <td>13005</td>\n",
       "    </tr>\n",
       "    <tr>\n",
       "      <th>1</th>\n",
       "      <td>T2</td>\n",
       "      <td>11717</td>\n",
       "    </tr>\n",
       "    <tr>\n",
       "      <th>2</th>\n",
       "      <td>S1</td>\n",
       "      <td>10862</td>\n",
       "    </tr>\n",
       "    <tr>\n",
       "      <th>3</th>\n",
       "      <td>S2</td>\n",
       "      <td>8052</td>\n",
       "    </tr>\n",
       "    <tr>\n",
       "      <th>4</th>\n",
       "      <td>C2</td>\n",
       "      <td>7832</td>\n",
       "    </tr>\n",
       "    <tr>\n",
       "      <th>5</th>\n",
       "      <td>C1</td>\n",
       "      <td>5792</td>\n",
       "    </tr>\n",
       "    <tr>\n",
       "      <th>6</th>\n",
       "      <td>C3</td>\n",
       "      <td>5055</td>\n",
       "    </tr>\n",
       "    <tr>\n",
       "      <th>7</th>\n",
       "      <td>T1</td>\n",
       "      <td>4709</td>\n",
       "    </tr>\n",
       "    <tr>\n",
       "      <th>8</th>\n",
       "      <td>R3</td>\n",
       "      <td>4572</td>\n",
       "    </tr>\n",
       "    <tr>\n",
       "      <th>9</th>\n",
       "      <td>U1</td>\n",
       "      <td>4258</td>\n",
       "    </tr>\n",
       "    <tr>\n",
       "      <th>10</th>\n",
       "      <td>U2</td>\n",
       "      <td>3111</td>\n",
       "    </tr>\n",
       "    <tr>\n",
       "      <th>11</th>\n",
       "      <td>U3</td>\n",
       "      <td>2483</td>\n",
       "    </tr>\n",
       "    <tr>\n",
       "      <th>12</th>\n",
       "      <td></td>\n",
       "      <td>2166</td>\n",
       "    </tr>\n",
       "    <tr>\n",
       "      <th>13</th>\n",
       "      <td>T3</td>\n",
       "      <td>2092</td>\n",
       "    </tr>\n",
       "    <tr>\n",
       "      <th>14</th>\n",
       "      <td>S3</td>\n",
       "      <td>1817</td>\n",
       "    </tr>\n",
       "    <tr>\n",
       "      <th>15</th>\n",
       "      <td>U4</td>\n",
       "      <td>1735</td>\n",
       "    </tr>\n",
       "    <tr>\n",
       "      <th>16</th>\n",
       "      <td>R1</td>\n",
       "      <td>1285</td>\n",
       "    </tr>\n",
       "  </tbody>\n",
       "</table>\n",
       "</div>"
      ],
      "text/plain": [
       "   domain  counts\n",
       "0      R2   13005\n",
       "1      T2   11717\n",
       "2      S1   10862\n",
       "3      S2    8052\n",
       "4      C2    7832\n",
       "5      C1    5792\n",
       "6      C3    5055\n",
       "7      T1    4709\n",
       "8      R3    4572\n",
       "9      U1    4258\n",
       "10     U2    3111\n",
       "11     U3    2483\n",
       "12           2166\n",
       "13     T3    2092\n",
       "14     S3    1817\n",
       "15     U4    1735\n",
       "16     R1    1285"
      ]
     },
     "execution_count": 151,
     "metadata": {},
     "output_type": "execute_result"
    }
   ],
   "source": [
    "vals_domain"
   ]
  },
  {
   "cell_type": "code",
   "execution_count": 152,
   "metadata": {},
   "outputs": [
    {
     "data": {
      "text/plain": [
       "['T1', 'R3', 'U1', 'U2', 'U3', ' ', 'T3', 'S3', 'U4', 'R1']"
      ]
     },
     "execution_count": 152,
     "metadata": {},
     "output_type": "execute_result"
    }
   ],
   "source": [
    "group_vals_domain_df = vals_domain[vals_domain['counts']<5000]\n",
    "group_vals_domain = list(group_vals_domain_df['domain'])\n",
    "group_vals_domain"
   ]
  },
  {
   "cell_type": "code",
   "execution_count": 153,
   "metadata": {},
   "outputs": [],
   "source": [
    "def clean_vals_domain(x):\n",
    "    if x in group_vals_domain:\n",
    "        return 'other'\n",
    "    else:\n",
    "        return x\n",
    "\n",
    "data['DOMAIN'] = list(map(clean_vals_domain, data['DOMAIN']))"
   ]
  },
  {
   "cell_type": "code",
   "execution_count": 154,
   "metadata": {},
   "outputs": [
    {
     "data": {
      "text/plain": [
       "other    28228\n",
       "R2       13005\n",
       "T2       11717\n",
       "S1       10862\n",
       "S2        8052\n",
       "C2        7832\n",
       "C1        5792\n",
       "C3        5055\n",
       "Name: DOMAIN, dtype: int64"
      ]
     },
     "execution_count": 154,
     "metadata": {},
     "output_type": "execute_result"
    }
   ],
   "source": [
    "data['DOMAIN'].value_counts()"
   ]
  },
  {
   "cell_type": "code",
   "execution_count": 155,
   "metadata": {},
   "outputs": [
    {
     "data": {
      "text/plain": [
       "array([[0., 0., 0., ..., 0., 1., 0.],\n",
       "       [0., 0., 0., ..., 0., 0., 0.],\n",
       "       [0., 0., 1., ..., 0., 0., 0.],\n",
       "       ...,\n",
       "       [0., 0., 0., ..., 0., 0., 0.],\n",
       "       [0., 1., 0., ..., 0., 0., 0.],\n",
       "       [0., 0., 0., ..., 0., 0., 0.]])"
      ]
     },
     "execution_count": 155,
     "metadata": {},
     "output_type": "execute_result"
    }
   ],
   "source": [
    "from sklearn.preprocessing import OneHotEncoder\n",
    "encoder = OneHotEncoder(handle_unknown='error', drop='first').fit(data[['DOMAIN']])\n",
    "encoded = encoder.transform(data[['DOMAIN']]).toarray()\n",
    "encoded"
   ]
  },
  {
   "cell_type": "markdown",
   "metadata": {},
   "source": [
    "## Putting all together"
   ]
  },
  {
   "cell_type": "code",
   "execution_count": 156,
   "metadata": {},
   "outputs": [],
   "source": [
    "encoded_df = pd.DataFrame(encoded)\n",
    "scaled_df = pd.DataFrame(x_standardized)\n",
    "X = pd.concat([scaled_df, encoded_df], axis=1)\n",
    "y = data_corr['AVGGIFT']"
   ]
  },
  {
   "cell_type": "code",
   "execution_count": 157,
   "metadata": {},
   "outputs": [],
   "source": [
    "from sklearn.model_selection import train_test_split\n",
    "X_train, X_test, y_train, y_test = train_test_split(X, y, test_size=0.4, random_state=100)"
   ]
  },
  {
   "cell_type": "code",
   "execution_count": 158,
   "metadata": {},
   "outputs": [],
   "source": [
    "from sklearn.linear_model import LinearRegression\n",
    "from sklearn import metrics"
   ]
  },
  {
   "cell_type": "code",
   "execution_count": 159,
   "metadata": {},
   "outputs": [],
   "source": [
    "model = LinearRegression()  \n",
    "model.fit(X_train, y_train)\n",
    "y_pred = model.predict(X_test)"
   ]
  },
  {
   "cell_type": "code",
   "execution_count": 160,
   "metadata": {},
   "outputs": [
    {
     "data": {
      "text/plain": [
       "array([14.99407223, 11.29108386, 16.69835188, ..., 14.63770433,\n",
       "       12.94353526, 10.28200432])"
      ]
     },
     "execution_count": 160,
     "metadata": {},
     "output_type": "execute_result"
    }
   ],
   "source": [
    "y_pred"
   ]
  },
  {
   "cell_type": "code",
   "execution_count": 214,
   "metadata": {},
   "outputs": [
    {
     "data": {
      "image/png": "[encoded data removed]",
      "text/plain": [
       "<Figure size 720x1080 with 1 Axes>"
      ]
     },
     "metadata": {
      "needs_background": "light"
     },
     "output_type": "display_data"
    }
   ],
   "source": [
    "plt.scatter(y_test, y_pred,  color='blue')\n",
    "\n",
    "plt.show()"
   ]
  },
  {
   "cell_type": "code",
   "execution_count": 161,
   "metadata": {},
   "outputs": [
    {
     "name": "stdout",
     "output_type": "stream",
     "text": [
      "Mean Absolute Error: 4.830133215309995\n",
      "Mean Squared Error: 66.67463689290196\n",
      "Root Mean Squared Error: 8.16545386937566\n",
      "R2: 0.11261885108173264\n"
     ]
    }
   ],
   "source": [
    "print('Mean Absolute Error:', metrics.mean_absolute_error(y_test, y_pred))  \n",
    "print('Mean Squared Error:', metrics.mean_squared_error(y_test, y_pred))  \n",
    "print('Root Mean Squared Error:', np.sqrt(metrics.mean_squared_error(y_test, y_pred)))\n",
    "print('R2:', metrics.r2_score(y_test, y_pred))"
   ]
  },
  {
   "cell_type": "code",
   "execution_count": null,
   "metadata": {},
   "outputs": [],
   "source": []
  },
  {
   "cell_type": "markdown",
   "metadata": {},
   "source": [
    "### KNN"
   ]
  },
  {
   "cell_type": "code",
   "execution_count": 216,
   "metadata": {},
   "outputs": [
    {
     "data": {
      "text/plain": [
       "0.14683209071517256"
      ]
     },
     "execution_count": 216,
     "metadata": {},
     "output_type": "execute_result"
    }
   ],
   "source": [
    "from sklearn.neighbors import KNeighborsRegressor\n",
    "model = KNeighborsRegressor(n_neighbors=10)\n",
    "model.fit(X_train, y_train)\n",
    "\n",
    "predictions = model.predict(X_test)\n",
    "score = model.score(X_test, y_test)\n",
    "\n",
    "from sklearn import linear_model\n",
    "from sklearn.metrics import r2_score\n",
    "lm = linear_model.LinearRegression()\n",
    "model = lm.fit(X_train,y_train)\n",
    "# predictions  = lm.predict(X_test)\n",
    "r2_score(y_test, predictions)\n"
   ]
  },
  {
   "cell_type": "markdown",
   "metadata": {},
   "source": [
    "## Bias over fitting"
   ]
  },
  {
   "cell_type": "code",
   "execution_count": 218,
   "metadata": {},
   "outputs": [
    {
     "data": {
      "text/plain": [
       "Text(0, 0.5, 'Accuracy')"
      ]
     },
     "execution_count": 218,
     "metadata": {},
     "output_type": "execute_result"
    },
    {
     "data": {
      "image/png": "[encoded data removed]",
      "text/plain": [
       "<Figure size 720x432 with 1 Axes>"
      ]
     },
     "metadata": {
      "needs_background": "light"
     },
     "output_type": "display_data"
    }
   ],
   "source": [
    "from sklearn.neighbors import KNeighborsRegressor\n",
    "scores = []\n",
    "for i in range(2,10):\n",
    "    model = KNeighborsRegressor(n_neighbors=i)\n",
    "    model.fit(X_train, y_train)\n",
    "    scores.append(model.score(X_test, y_test))\n",
    "\n",
    "\n",
    "plt.figure(figsize=(10,6))\n",
    "plt.plot(range(2,10),scores,color = 'blue',linestyle='dashed', \n",
    "         marker='o',markerfacecolor='red', markersize=10)\n",
    "plt.title('accuracy scores vs. K Value')\n",
    "plt.xlabel('K')\n",
    "plt.ylabel('Accuracy')\n"
   ]
  },
  {
   "cell_type": "code",
   "execution_count": null,
   "metadata": {},
   "outputs": [],
   "source": []
  }
 ],
 "metadata": {
  "kernelspec": {
   "display_name": "Ironhack",
   "language": "python",
   "name": "ironhack"
  },
  "language_info": {
   "codemirror_mode": {
    "name": "ipython",
    "version": 3
   },
   "file_extension": ".py",
   "mimetype": "text/x-python",
   "name": "python",
   "nbconvert_exporter": "python",
   "pygments_lexer": "ipython3",
   "version": "3.7.5"
  }
 },
 "nbformat": 4,
 "nbformat_minor": 2
}
