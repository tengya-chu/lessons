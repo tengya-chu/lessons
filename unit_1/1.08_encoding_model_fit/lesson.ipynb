{
 "cells": [
  {
   "cell_type": "markdown",
   "metadata": {},
   "source": [
    "# Lesson 1.8: Encoding the model\n",
    "\n",
    "### Lesson Duration: 3 hours\n",
    "\n",
    "> Purpose: The purpose of this lesson is to learn how to process categorical data before fitting the model, fit the model, make predictions on the test data, and check the accuracy of the model. We will also talk about other models used for supervised and unsupervised learning.\n",
    "\n",
    "---\n",
    "\n",
    "### Setup\n",
    "\n",
    "To start this lesson, students should have:\n",
    "\n",
    "- Completed lesson 1.7\n",
    "- All previous Setup\n",
    "\n",
    "### Learning Objectives\n",
    "\n",
    "After this lesson, students will be able to:\n",
    "\n",
    "- Encode categorical data\n",
    "- Fit the model on the training data\n",
    "- Make predictions on the test data\n",
    "- Check the accuracy of the model using different statistical measures\n",
    "\n",
    "---\n",
    "\n",
    "### Lesson 1 key concepts\n",
    "\n",
    "> :clock10: 20 min\n",
    "\n",
    "- Categorical data - nominal, ordinal\n",
    "- Encoding categorical variables\n",
    "  - Label encoding\n",
    "  - One Hot encoding\n",
    "\n",
    ":exclamation: Note: You can continue using the same Jupyter file from the last lesson. If you do not have that, use the following code to quickly set up:"
   ]
  },
  {
   "cell_type": "code",
   "execution_count": 1,
   "metadata": {},
   "outputs": [],
   "source": [
    "import pandas as pd\n",
    "import numpy as np"
   ]
  },
  {
   "cell_type": "code",
   "execution_count": 2,
   "metadata": {},
   "outputs": [
    {
     "name": "stdout",
     "output_type": "stream",
     "text": [
      "(4670, 4)\n"
     ]
    }
   ],
   "source": [
    "data = pd.read_csv('./files_for_lesson_and_activities/regression_data.csv')\n",
    "Y = data['TARGET_D']\n",
    "data = data.drop(['TARGET_D'], axis=1)\n",
    "X_num = data.select_dtypes(include = np.number)\n",
    "from sklearn.preprocessing import Normalizer\n",
    "transformer = Normalizer().fit(X_num)\n",
    "x_normalized = transformer.transform(X_num)\n",
    "print(x_normalized.shape)\n",
    "# pd.DataFrame(x_normalized)"
   ]
  },
  {
   "cell_type": "markdown",
   "metadata": {},
   "source": [
    "<details>\n",
    "<summary> Click for Code Sample </summary>\n",
    "\n",
    "Links to docs:\n",
    "\n",
    "- [sklearn.preprocessing.OneHotEncoder](https://scikit-learn.org/stable/modules/generated/sklearn.preprocessing.OneHotEncoder.html)\n",
    "- [.fit(x)](https://scikit-learn.org/stable/modules/generated/sklearn.preprocessing.OneHotEncoder.html#sklearn.preprocessing.OneHotEncoder.fit)\n",
    "- [.transform(x)](https://scikit-learn.org/stable/modules/generated/sklearn.preprocessing.OneHotEncoder.html#sklearn.preprocessing.OneHotEncoder.transform)"
   ]
  },
  {
   "cell_type": "code",
   "execution_count": 3,
   "metadata": {},
   "outputs": [],
   "source": [
    "X_cat = data.select_dtypes(include = np.object)\n",
    "# pd.get_dummies(X_cat, drop_first=True)"
   ]
  },
  {
   "cell_type": "code",
   "execution_count": 4,
   "metadata": {},
   "outputs": [],
   "source": [
    "from sklearn.preprocessing import OneHotEncoder"
   ]
  },
  {
   "cell_type": "code",
   "execution_count": 5,
   "metadata": {},
   "outputs": [],
   "source": [
    "encoder = OneHotEncoder(handle_unknown='error', drop='first').fit(X_cat)\n",
    "# encoder.categories_"
   ]
  },
  {
   "cell_type": "code",
   "execution_count": 6,
   "metadata": {},
   "outputs": [],
   "source": [
    "encoded = encoder.transform(X_cat).toarray()"
   ]
  },
  {
   "cell_type": "code",
   "execution_count": 7,
   "metadata": {},
   "outputs": [
    {
     "data": {
      "text/plain": [
       "array([[1., 0.],\n",
       "       [1., 0.],\n",
       "       [0., 0.],\n",
       "       ...,\n",
       "       [0., 0.],\n",
       "       [1., 0.],\n",
       "       [1., 0.]])"
      ]
     },
     "execution_count": 7,
     "metadata": {},
     "output_type": "execute_result"
    }
   ],
   "source": [
    "encoded"
   ]
  },
  {
   "cell_type": "code",
   "execution_count": 8,
   "metadata": {},
   "outputs": [],
   "source": [
    "#le = preprocessing.LabelEncoder().fit(X_cat).transform(X_cat) # ordered wrt value counts"
   ]
  },
  {
   "cell_type": "markdown",
   "metadata": {},
   "source": [
    "</details>\n",
    "\n",
    "#### :pencil2: Check for Understanding - Class activity/quick quiz\n",
    "\n",
    "> :clock10: 10 min (+ 10 min Review)"
   ]
  },
  {
   "cell_type": "markdown",
   "metadata": {},
   "source": [
    "# 1.08 Activity 1\n",
    "\n",
    "- Do you think it is important to reduce the number of categories in a column if you can? How might it impact your model?\n",
    "- Discussion on reducing the number of categories in a column."
   ]
  },
  {
   "cell_type": "markdown",
   "metadata": {},
   "source": [
    "Keeping One Hot encoding as the reference, having multiple categories in a single column can add a large number of additional columns in the data set. Given that there might be many such categorical columns, this might make the data set sparse, by adding a large number of columns with binary values."
   ]
  },
  {
   "cell_type": "markdown",
   "metadata": {},
   "source": [
    "### Lesson 2 key concepts\n",
    "\n",
    "> :clock10: 20 min\n",
    "\n",
    "- Fitting the model with processed data\n",
    "- Understanding the documentation\n",
    "- Making predictions\n",
    "  - Predictions on the test data\n",
    "  - Predictions on new data\n",
    "\n",
    "<details>\n",
    "<summary> Click for Code Sample </summary>\n",
    "\n",
    "Links to docs:\n",
    "\n",
    "- [sklearn.model_selection.train_test_split](https://scikit-learn.org/stable/modules/generated/sklearn.model_selection.train_test_split.html#)\n",
    "- [sklearn.linear_model.LinearRegression](https://scikit-learn.org/stable/modules/generated/sklearn.linear_model.LinearRegression.html)"
   ]
  },
  {
   "cell_type": "code",
   "execution_count": 9,
   "metadata": {},
   "outputs": [],
   "source": [
    "X = np.concatenate((x_normalized, encoded), axis=1)"
   ]
  },
  {
   "cell_type": "code",
   "execution_count": 10,
   "metadata": {},
   "outputs": [],
   "source": [
    "# Y = data['TARGET_D'] #This columns was already droped from 'data'"
   ]
  },
  {
   "cell_type": "code",
   "execution_count": 11,
   "metadata": {},
   "outputs": [],
   "source": [
    "from sklearn.model_selection import train_test_split\n",
    "from sklearn import linear_model \n",
    "from sklearn.metrics import r2_score"
   ]
  },
  {
   "cell_type": "code",
   "execution_count": 12,
   "metadata": {},
   "outputs": [],
   "source": [
    "X_train, X_test, y_train, y_test = train_test_split(X, Y, test_size=0.4, random_state=100)"
   ]
  },
  {
   "cell_type": "code",
   "execution_count": 13,
   "metadata": {},
   "outputs": [],
   "source": [
    "lm = linear_model.LinearRegression()"
   ]
  },
  {
   "cell_type": "code",
   "execution_count": 14,
   "metadata": {},
   "outputs": [],
   "source": [
    "model = lm.fit(X_train,y_train)"
   ]
  },
  {
   "cell_type": "code",
   "execution_count": 15,
   "metadata": {},
   "outputs": [],
   "source": [
    "predictions  = lm.predict(X_test)"
   ]
  },
  {
   "cell_type": "code",
   "execution_count": 16,
   "metadata": {},
   "outputs": [
    {
     "data": {
      "text/plain": [
       "0.4367709325610222"
      ]
     },
     "execution_count": 16,
     "metadata": {},
     "output_type": "execute_result"
    }
   ],
   "source": [
    "r2_score(y_test, predictions)\n",
    "# to make predictions on the new data, we have to process the data (X features) in the same way."
   ]
  },
  {
   "cell_type": "markdown",
   "metadata": {},
   "source": [
    "#### :pencil2: Check for Understanding - Class activity/quick quiz\n",
    "\n",
    "> :clock10: 10 min (+ 10 min Review)\n",
    "\n",
    "<details>\n",
    "  <summary> Click for Instructions: Activity 2 </summary>"
   ]
  },
  {
   "cell_type": "markdown",
   "metadata": {},
   "source": [
    "# 1.08 Activity 2\n",
    "\n",
    "Refer to the file `files_for_activities/regression_data___.csv` for this exercise.\n",
    "\n",
    "1. Import the data from `regression_data___.csv`.\n",
    "2. Select categorical columns.\n",
    "3. Difference between One Hot Encoding, Label Encoding, and Ordinal Encoding."
   ]
  },
  {
   "cell_type": "markdown",
   "metadata": {},
   "source": [
    "# Solutions"
   ]
  },
  {
   "cell_type": "code",
   "execution_count": 17,
   "metadata": {},
   "outputs": [
    {
     "data": {
      "text/html": [
       "<div>\n",
       "<style scoped>\n",
       "    .dataframe tbody tr th:only-of-type {\n",
       "        vertical-align: middle;\n",
       "    }\n",
       "\n",
       "    .dataframe tbody tr th {\n",
       "        vertical-align: top;\n",
       "    }\n",
       "\n",
       "    .dataframe thead th {\n",
       "        text-align: right;\n",
       "    }\n",
       "</style>\n",
       "<table border=\"1\" class=\"dataframe\">\n",
       "  <thead>\n",
       "    <tr style=\"text-align: right;\">\n",
       "      <th></th>\n",
       "      <th>AVGGIFT</th>\n",
       "      <th>HV1_log</th>\n",
       "      <th>IC1_transformed</th>\n",
       "      <th>IC5_transformed</th>\n",
       "      <th>gender</th>\n",
       "      <th>TARGET_D</th>\n",
       "    </tr>\n",
       "  </thead>\n",
       "  <tbody>\n",
       "    <tr>\n",
       "      <th>0</th>\n",
       "      <td>15.500000</td>\n",
       "      <td>7.760467</td>\n",
       "      <td>17.343389</td>\n",
       "      <td>4.181353</td>\n",
       "      <td>Male</td>\n",
       "      <td>21.0</td>\n",
       "    </tr>\n",
       "    <tr>\n",
       "      <th>1</th>\n",
       "      <td>3.080000</td>\n",
       "      <td>6.208590</td>\n",
       "      <td>16.230984</td>\n",
       "      <td>4.150313</td>\n",
       "      <td>Male</td>\n",
       "      <td>3.0</td>\n",
       "    </tr>\n",
       "    <tr>\n",
       "      <th>2</th>\n",
       "      <td>7.500000</td>\n",
       "      <td>7.113956</td>\n",
       "      <td>18.047227</td>\n",
       "      <td>4.205057</td>\n",
       "      <td>Female</td>\n",
       "      <td>20.0</td>\n",
       "    </tr>\n",
       "    <tr>\n",
       "      <th>3</th>\n",
       "      <td>6.700000</td>\n",
       "      <td>5.783825</td>\n",
       "      <td>11.737110</td>\n",
       "      <td>4.055333</td>\n",
       "      <td>Male</td>\n",
       "      <td>5.0</td>\n",
       "    </tr>\n",
       "    <tr>\n",
       "      <th>4</th>\n",
       "      <td>8.785714</td>\n",
       "      <td>6.643790</td>\n",
       "      <td>12.494862</td>\n",
       "      <td>4.088969</td>\n",
       "      <td>Female</td>\n",
       "      <td>10.0</td>\n",
       "    </tr>\n",
       "  </tbody>\n",
       "</table>\n",
       "</div>"
      ],
      "text/plain": [
       "     AVGGIFT   HV1_log  IC1_transformed  IC5_transformed  gender  TARGET_D\n",
       "0  15.500000  7.760467        17.343389         4.181353    Male      21.0\n",
       "1   3.080000  6.208590        16.230984         4.150313    Male       3.0\n",
       "2   7.500000  7.113956        18.047227         4.205057  Female      20.0\n",
       "3   6.700000  5.783825        11.737110         4.055333    Male       5.0\n",
       "4   8.785714  6.643790        12.494862         4.088969  Female      10.0"
      ]
     },
     "execution_count": 17,
     "metadata": {},
     "output_type": "execute_result"
    }
   ],
   "source": [
    "# 1\n",
    "import pandas as pd\n",
    "\n",
    "df=pd.read_csv('./files_for_activities/csv_files/regression_data___.csv') # this file is inside files_for_lesson_and_activities folder\n",
    "df.head()"
   ]
  },
  {
   "cell_type": "code",
   "execution_count": 18,
   "metadata": {},
   "outputs": [],
   "source": [
    "# 2\n",
    "import numpy as np\n",
    "\n",
    "cat_data=df.select_dtypes(include=np.object)"
   ]
  },
  {
   "cell_type": "code",
   "execution_count": 19,
   "metadata": {},
   "outputs": [],
   "source": [
    "# 3"
   ]
  },
  {
   "cell_type": "markdown",
   "metadata": {},
   "source": [
    "OneHotEncoder can be used for transforming your independent variables according to how one-hot-encoding works. It is not really intended to be used on your dependent variables.\n",
    "\n",
    "The OrdinalEncoder can be used if you can order / rank your independent variables, e.g., small, medium, large, very large. This is also not intended to be used on your dependent variables.\n",
    "\n",
    "The third one one, LabelEncoder, is used when you want to transform your dependent variables into classes, e.g., :\n",
    "[1, 1, 2, 6] -> [0, 0, 1, 2]. This is only intended to be used with your LABELS, i.e., your dependent variables, and not your independent variables."
   ]
  },
  {
   "cell_type": "code",
   "execution_count": 20,
   "metadata": {},
   "outputs": [],
   "source": [
    "# One hot Encoding\n",
    "from sklearn.preprocessing import OneHotEncoder\n",
    "\n",
    "encoder=OneHotEncoder(handle_unknown='error', drop='first').fit(cat_data)\n",
    "encoded=encoder.transform(cat_data).toarray()"
   ]
  },
  {
   "cell_type": "code",
   "execution_count": 21,
   "metadata": {},
   "outputs": [
    {
     "data": {
      "text/html": [
       "<div>\n",
       "<style scoped>\n",
       "    .dataframe tbody tr th:only-of-type {\n",
       "        vertical-align: middle;\n",
       "    }\n",
       "\n",
       "    .dataframe tbody tr th {\n",
       "        vertical-align: top;\n",
       "    }\n",
       "\n",
       "    .dataframe thead th {\n",
       "        text-align: right;\n",
       "    }\n",
       "</style>\n",
       "<table border=\"1\" class=\"dataframe\">\n",
       "  <thead>\n",
       "    <tr style=\"text-align: right;\">\n",
       "      <th></th>\n",
       "      <th>gender_Male</th>\n",
       "      <th>gender_U</th>\n",
       "    </tr>\n",
       "  </thead>\n",
       "  <tbody>\n",
       "    <tr>\n",
       "      <th>0</th>\n",
       "      <td>1</td>\n",
       "      <td>0</td>\n",
       "    </tr>\n",
       "    <tr>\n",
       "      <th>1</th>\n",
       "      <td>1</td>\n",
       "      <td>0</td>\n",
       "    </tr>\n",
       "    <tr>\n",
       "      <th>2</th>\n",
       "      <td>0</td>\n",
       "      <td>0</td>\n",
       "    </tr>\n",
       "    <tr>\n",
       "      <th>3</th>\n",
       "      <td>1</td>\n",
       "      <td>0</td>\n",
       "    </tr>\n",
       "    <tr>\n",
       "      <th>4</th>\n",
       "      <td>0</td>\n",
       "      <td>0</td>\n",
       "    </tr>\n",
       "  </tbody>\n",
       "</table>\n",
       "</div>"
      ],
      "text/plain": [
       "   gender_Male  gender_U\n",
       "0            1         0\n",
       "1            1         0\n",
       "2            0         0\n",
       "3            1         0\n",
       "4            0         0"
      ]
     },
     "execution_count": 21,
     "metadata": {},
     "output_type": "execute_result"
    }
   ],
   "source": [
    "# with pandas\n",
    "data_one_hot=pd.get_dummies(cat_data, drop_first=True)\n",
    "data_one_hot.head()"
   ]
  },
  {
   "cell_type": "code",
   "execution_count": 22,
   "metadata": {},
   "outputs": [
    {
     "data": {
      "text/html": [
       "<div>\n",
       "<style scoped>\n",
       "    .dataframe tbody tr th:only-of-type {\n",
       "        vertical-align: middle;\n",
       "    }\n",
       "\n",
       "    .dataframe tbody tr th {\n",
       "        vertical-align: top;\n",
       "    }\n",
       "\n",
       "    .dataframe thead th {\n",
       "        text-align: right;\n",
       "    }\n",
       "</style>\n",
       "<table border=\"1\" class=\"dataframe\">\n",
       "  <thead>\n",
       "    <tr style=\"text-align: right;\">\n",
       "      <th></th>\n",
       "      <th>AVGGIFT</th>\n",
       "      <th>HV1_log</th>\n",
       "      <th>IC1_transformed</th>\n",
       "      <th>IC5_transformed</th>\n",
       "      <th>gender</th>\n",
       "    </tr>\n",
       "  </thead>\n",
       "  <tbody>\n",
       "    <tr>\n",
       "      <th>0</th>\n",
       "      <td>1296</td>\n",
       "      <td>1472</td>\n",
       "      <td>339</td>\n",
       "      <td>2043</td>\n",
       "      <td>1</td>\n",
       "    </tr>\n",
       "    <tr>\n",
       "      <th>1</th>\n",
       "      <td>28</td>\n",
       "      <td>269</td>\n",
       "      <td>269</td>\n",
       "      <td>1194</td>\n",
       "      <td>1</td>\n",
       "    </tr>\n",
       "    <tr>\n",
       "      <th>2</th>\n",
       "      <td>581</td>\n",
       "      <td>940</td>\n",
       "      <td>388</td>\n",
       "      <td>2714</td>\n",
       "      <td>0</td>\n",
       "    </tr>\n",
       "    <tr>\n",
       "      <th>3</th>\n",
       "      <td>492</td>\n",
       "      <td>103</td>\n",
       "      <td>66</td>\n",
       "      <td>58</td>\n",
       "      <td>1</td>\n",
       "    </tr>\n",
       "    <tr>\n",
       "      <th>4</th>\n",
       "      <td>756</td>\n",
       "      <td>537</td>\n",
       "      <td>92</td>\n",
       "      <td>180</td>\n",
       "      <td>0</td>\n",
       "    </tr>\n",
       "  </tbody>\n",
       "</table>\n",
       "</div>"
      ],
      "text/plain": [
       "   AVGGIFT  HV1_log  IC1_transformed  IC5_transformed  gender\n",
       "0     1296     1472              339             2043       1\n",
       "1       28      269              269             1194       1\n",
       "2      581      940              388             2714       0\n",
       "3      492      103               66               58       1\n",
       "4      756      537               92              180       0"
      ]
     },
     "execution_count": 22,
     "metadata": {},
     "output_type": "execute_result"
    }
   ],
   "source": [
    "# Label Encoding\n",
    "from sklearn.preprocessing import LabelEncoder\n",
    "\n",
    "data_labeled=pd.DataFrame()\n",
    "\n",
    "for c in data.columns:\n",
    "    encoder=LabelEncoder().fit(df[c])\n",
    "    encoded=encoder.transform(df[c])\n",
    "    data_labeled[c]=encoded\n",
    "\n",
    "data_labeled.head()"
   ]
  },
  {
   "cell_type": "code",
   "execution_count": 23,
   "metadata": {},
   "outputs": [
    {
     "data": {
      "text/html": [
       "<div>\n",
       "<style scoped>\n",
       "    .dataframe tbody tr th:only-of-type {\n",
       "        vertical-align: middle;\n",
       "    }\n",
       "\n",
       "    .dataframe tbody tr th {\n",
       "        vertical-align: top;\n",
       "    }\n",
       "\n",
       "    .dataframe thead th {\n",
       "        text-align: right;\n",
       "    }\n",
       "</style>\n",
       "<table border=\"1\" class=\"dataframe\">\n",
       "  <thead>\n",
       "    <tr style=\"text-align: right;\">\n",
       "      <th></th>\n",
       "      <th>AVGGIFT</th>\n",
       "      <th>HV1_log</th>\n",
       "      <th>IC1_transformed</th>\n",
       "      <th>IC5_transformed</th>\n",
       "      <th>gender</th>\n",
       "      <th>TARGET_D</th>\n",
       "    </tr>\n",
       "  </thead>\n",
       "  <tbody>\n",
       "    <tr>\n",
       "      <th>0</th>\n",
       "      <td>1296.0</td>\n",
       "      <td>1472.0</td>\n",
       "      <td>339.0</td>\n",
       "      <td>2043.0</td>\n",
       "      <td>1.0</td>\n",
       "      <td>30.0</td>\n",
       "    </tr>\n",
       "    <tr>\n",
       "      <th>1</th>\n",
       "      <td>28.0</td>\n",
       "      <td>269.0</td>\n",
       "      <td>269.0</td>\n",
       "      <td>1194.0</td>\n",
       "      <td>1.0</td>\n",
       "      <td>3.0</td>\n",
       "    </tr>\n",
       "    <tr>\n",
       "      <th>2</th>\n",
       "      <td>581.0</td>\n",
       "      <td>940.0</td>\n",
       "      <td>388.0</td>\n",
       "      <td>2714.0</td>\n",
       "      <td>0.0</td>\n",
       "      <td>29.0</td>\n",
       "    </tr>\n",
       "    <tr>\n",
       "      <th>3</th>\n",
       "      <td>492.0</td>\n",
       "      <td>103.0</td>\n",
       "      <td>66.0</td>\n",
       "      <td>58.0</td>\n",
       "      <td>1.0</td>\n",
       "      <td>6.0</td>\n",
       "    </tr>\n",
       "    <tr>\n",
       "      <th>4</th>\n",
       "      <td>756.0</td>\n",
       "      <td>537.0</td>\n",
       "      <td>92.0</td>\n",
       "      <td>180.0</td>\n",
       "      <td>0.0</td>\n",
       "      <td>13.0</td>\n",
       "    </tr>\n",
       "    <tr>\n",
       "      <th>...</th>\n",
       "      <td>...</td>\n",
       "      <td>...</td>\n",
       "      <td>...</td>\n",
       "      <td>...</td>\n",
       "      <td>...</td>\n",
       "      <td>...</td>\n",
       "    </tr>\n",
       "    <tr>\n",
       "      <th>4665</th>\n",
       "      <td>1296.0</td>\n",
       "      <td>473.0</td>\n",
       "      <td>215.0</td>\n",
       "      <td>2223.0</td>\n",
       "      <td>1.0</td>\n",
       "      <td>34.0</td>\n",
       "    </tr>\n",
       "    <tr>\n",
       "      <th>4666</th>\n",
       "      <td>1075.0</td>\n",
       "      <td>1682.0</td>\n",
       "      <td>202.0</td>\n",
       "      <td>3574.0</td>\n",
       "      <td>1.0</td>\n",
       "      <td>28.0</td>\n",
       "    </tr>\n",
       "    <tr>\n",
       "      <th>4667</th>\n",
       "      <td>1037.0</td>\n",
       "      <td>472.0</td>\n",
       "      <td>240.0</td>\n",
       "      <td>1991.0</td>\n",
       "      <td>0.0</td>\n",
       "      <td>13.0</td>\n",
       "    </tr>\n",
       "    <tr>\n",
       "      <th>4668</th>\n",
       "      <td>1157.0</td>\n",
       "      <td>373.0</td>\n",
       "      <td>124.0</td>\n",
       "      <td>589.0</td>\n",
       "      <td>1.0</td>\n",
       "      <td>34.0</td>\n",
       "    </tr>\n",
       "    <tr>\n",
       "      <th>4669</th>\n",
       "      <td>1389.0</td>\n",
       "      <td>682.0</td>\n",
       "      <td>344.0</td>\n",
       "      <td>3654.0</td>\n",
       "      <td>1.0</td>\n",
       "      <td>34.0</td>\n",
       "    </tr>\n",
       "  </tbody>\n",
       "</table>\n",
       "<p>4670 rows × 6 columns</p>\n",
       "</div>"
      ],
      "text/plain": [
       "      AVGGIFT  HV1_log  IC1_transformed  IC5_transformed  gender  TARGET_D\n",
       "0      1296.0   1472.0            339.0           2043.0     1.0      30.0\n",
       "1        28.0    269.0            269.0           1194.0     1.0       3.0\n",
       "2       581.0    940.0            388.0           2714.0     0.0      29.0\n",
       "3       492.0    103.0             66.0             58.0     1.0       6.0\n",
       "4       756.0    537.0             92.0            180.0     0.0      13.0\n",
       "...       ...      ...              ...              ...     ...       ...\n",
       "4665   1296.0    473.0            215.0           2223.0     1.0      34.0\n",
       "4666   1075.0   1682.0            202.0           3574.0     1.0      28.0\n",
       "4667   1037.0    472.0            240.0           1991.0     0.0      13.0\n",
       "4668   1157.0    373.0            124.0            589.0     1.0      34.0\n",
       "4669   1389.0    682.0            344.0           3654.0     1.0      34.0\n",
       "\n",
       "[4670 rows x 6 columns]"
      ]
     },
     "execution_count": 23,
     "metadata": {},
     "output_type": "execute_result"
    }
   ],
   "source": [
    "# Ordinal Encoding\n",
    "from sklearn.preprocessing import OrdinalEncoder\n",
    "\n",
    "encoder=OrdinalEncoder().fit(df)\n",
    "encoded=encoder.transform(df)\n",
    "\n",
    "pd.DataFrame(encoded, columns=df.columns)"
   ]
  },
  {
   "cell_type": "markdown",
   "metadata": {},
   "source": [
    "### Lesson 3 key concepts\n",
    "\n",
    "> :clock10: 20 min\n",
    "\n",
    "- Checking the accuracy of the model\n",
    "  - RMSE\n",
    "  - MSE\n",
    "  - R square"
   ]
  },
  {
   "cell_type": "code",
   "execution_count": 72,
   "metadata": {},
   "outputs": [],
   "source": [
    "from sklearn.metrics import mean_squared_error\n",
    "import math"
   ]
  },
  {
   "cell_type": "code",
   "execution_count": 73,
   "metadata": {},
   "outputs": [
    {
     "name": "stdout",
     "output_type": "stream",
     "text": [
      "81.59292426207563\n"
     ]
    }
   ],
   "source": [
    "mse = mean_squared_error(y_test, predictions)\n",
    "print(mse)"
   ]
  },
  {
   "cell_type": "code",
   "execution_count": 74,
   "metadata": {},
   "outputs": [
    {
     "name": "stdout",
     "output_type": "stream",
     "text": [
      "9.032880175341397\n"
     ]
    }
   ],
   "source": [
    "rmse = math.sqrt(mse)\n",
    "print(rmse)"
   ]
  },
  {
   "cell_type": "code",
   "execution_count": 75,
   "metadata": {},
   "outputs": [
    {
     "name": "stdout",
     "output_type": "stream",
     "text": [
      "0.4367709325610222\n"
     ]
    }
   ],
   "source": [
    "r2 = r2_score(y_test, predictions)\n",
    "print(r2)"
   ]
  },
  {
   "cell_type": "markdown",
   "metadata": {},
   "source": [
    "Adjusted R2 is a corrected goodness-of-fit (model accuracy) measure for linear models. It identifies the percentage of variance in the target field that is explained by the input or inputs. R2 tends to optimistically estimate the fit of the linear regression."
   ]
  },
  {
   "cell_type": "code",
   "execution_count": 76,
   "metadata": {},
   "outputs": [
    {
     "name": "stdout",
     "output_type": "stream",
     "text": [
      "0.43495504088738757\n"
     ]
    }
   ],
   "source": [
    "n = len(X_test)\n",
    "p = X_test.shape[1]\n",
    "adj_r2 = 1-((1-r2)*(n-1)/(n-p-1))\n",
    "print(adj_r2)"
   ]
  },
  {
   "cell_type": "markdown",
   "metadata": {},
   "source": [
    "#### :pencil2: Check for Understanding - Class activity/quick quiz\n",
    "\n",
    "> :clock10: 10 min (+ 10 min Review)\n",
    "\n",
    "<details>\n",
    "  <summary> Click for Instructions: Activity 3 </summary>"
   ]
  },
  {
   "cell_type": "markdown",
   "metadata": {},
   "source": [
    "# 1.08 Activity 3\n",
    "\n",
    "- Check the difference between MSE and RMSE. Which one is bigger? Does it matter?\n",
    "- There is another measure of accuracy called \"adjusted R-square\". How is this different from R-square?\n",
    "- Read this [article](https://blog.minitab.com/blog/adventures-in-statistics-2/multiple-regession-analysis-use-adjusted-r-squared-and-predicted-r-squared-to-include-the-correct-number-of-variables) and let's discuss it in class."
   ]
  },
  {
   "cell_type": "markdown",
   "metadata": {},
   "source": [
    "#1\n",
    "MSE is bigger than RMSE, but they have the same information about the error. RMSE has the same magnitude order as the data."
   ]
  },
  {
   "cell_type": "markdown",
   "metadata": {},
   "source": [
    "#2 \n",
    "Adjusted R2 is a corrected goodness-of-fit (model accuracy) measure for linear models. It identifies the percentage of variance in the target field that is explained by the input or inputs. R2 tends to optimistically estimate the fit of the linear regression."
   ]
  },
  {
   "cell_type": "markdown",
   "metadata": {},
   "source": [
    "### Lesson 4 key concepts\n",
    "\n",
    "> :clock10: 20 min\n",
    "\n",
    "- Recap the complete process\n",
    "- Discussion\n",
    "\n",
    "  - Regression and classification models that will be covered - a quick intro\n",
    "    - KNN, SVM, decision trees, random forests, neural networks\n",
    "\n",
    "- Introduce unsupervised machine learning models\n",
    "  - Clustering algorithms that will be covered - a quick intro\n",
    "    - K-means clustering, DBSCAN\n",
    "\n",
    "#### :pencil2: Check for Understanding - Class activity/quick quiz\n",
    "\n",
    "> :clock10: 10 min (+ 10 min Review)"
   ]
  },
  {
   "cell_type": "markdown",
   "metadata": {},
   "source": [
    "# 1.08 Activity 4\n",
    "\n",
    "1. List down some examples/problems that can be solved using regression models\n",
    "2. List down some examples/problems that can be solved using classification models\n",
    "3. List down some examples/problems that can be solved using clustering models\n",
    "\n",
    "- There is a file `files_for_activities/sites_with_free_data_sets.pdf`. You can use that to find some examples on different models."
   ]
  },
  {
   "cell_type": "markdown",
   "metadata": {},
   "source": [
    "#### 1/2 Supervised ML: Examples\n",
    "- Predictive analytics (house prices, stock exchange prices, etc.)\n",
    "- Text recognition\n",
    "- Spam detection\n",
    "- Customer sentiment analysis\n",
    "- Object detection (e.g. face detection)"
   ]
  },
  {
   "cell_type": "markdown",
   "metadata": {},
   "source": [
    "#### 3 Unsupervised\n",
    "-  Audience segmentation\n",
    "-  Customer persona investigation\n",
    "-  Anomaly detection (for example, to detect bot activity)\n",
    "-  Pattern recognition (grouping images, transcribing audio)\n",
    "-  Inventory management (by conversion activity or by availability)"
   ]
  },
  {
   "cell_type": "markdown",
   "metadata": {},
   "source": [
    "### :pencil2: Practice on key concepts - Lab\n",
    "\n",
    "> :clock10: 30 min\n",
    "\n",
    "<details>\n",
    "  <summary> Click for Instructions: Lab </summary>"
   ]
  },
  {
   "cell_type": "markdown",
   "metadata": {},
   "source": [
    "# Lab | Customer Analysis Round 6\n",
    "\n",
    "For this lab, we still keep using the `marketing_customer_analysis.csv` file that you can find in the `files_for_lab` folder.\n",
    "\n",
    "### Get the data\n",
    "\n",
    "We are using the `marketing_customer_analysis.csv` file.\n",
    "\n",
    "### Dealing with the data\n",
    "\n",
    "Already done in the round 2.\n",
    "\n",
    "### Explore the data\n",
    "\n",
    "Done in the round 3.\n",
    "\n",
    "### Processing Data\n",
    "\n",
    "(_Further processing..._)\n",
    "\n",
    "- X-y split. (_done_)\n",
    "- Normalize (numerical). (_done_)\n",
    "- One Hot/Label Encoding (categorical).\n",
    "- Concat DataFrames\n",
    "\n",
    "### Linear Regression\n",
    "\n",
    "- Train-test split.\n",
    "- Apply linear regression.\n",
    "\n",
    "### Model Validation\n",
    "\n",
    "- Description:\n",
    "  - R2.\n",
    "  - MSE.\n",
    "  - RMSE.\n",
    "  - MAE."
   ]
  },
  {
   "cell_type": "code",
   "execution_count": null,
   "metadata": {},
   "outputs": [],
   "source": []
  }
 ],
 "metadata": {
  "kernelspec": {
   "display_name": "Python 3",
   "language": "python",
   "name": "python3"
  },
  "language_info": {
   "codemirror_mode": {
    "name": "ipython",
    "version": 3
   },
   "file_extension": ".py",
   "mimetype": "text/x-python",
   "name": "python",
   "nbconvert_exporter": "python",
   "pygments_lexer": "ipython3",
   "version": "3.7.0"
  }
 },
 "nbformat": 4,
 "nbformat_minor": 4
}
