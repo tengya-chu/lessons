{
 "cells": [
  {
   "cell_type": "markdown",
   "metadata": {},
   "source": [
    "# Lesson 1.4: Data Cleaning - Pandas\n",
    "\n",
    "### Lesson Duration: 3 hours\n",
    "\n",
    "> Purpose: The purpose of this lesson is to make students familiar with other data cleaning processes including working with null values in numerical and categorical columns, use lambda expression and map functions, and work with DateTime format.\n",
    "\n",
    "---\n",
    "\n",
    "### Setup\n",
    "\n",
    "To start this lesson, students should have:\n",
    "\n",
    "- Completed lesson 1.3\n",
    "- All previous Setup\n",
    "\n",
    "### Learning Objectives\n",
    "\n",
    "After this lesson, students will be able to:\n",
    "\n",
    "- Use different methods for replacing null values\n",
    "- Create user-defined functions for cleaning numerical and categorical columns\n",
    "- Create anonymous functions/lambda expressions and use them with map functions\n",
    "- Work with DateTime format and string functions\n",
    "\n",
    "---\n",
    "\n",
    "### Lesson 1 key concepts\n",
    "\n",
    "> :clock10: 20 min\n",
    "\n",
    "Handling null values in the dataframe\n",
    "\n",
    "- Removing columns with many null values (threshold based)\n",
    "- Replacing/imputing null values (numerical)"
   ]
  },
  {
   "cell_type": "markdown",
   "metadata": {},
   "source": [
    "> :exclamation: We will keep working on the same data sets from 1.03 so you can use the same notebook, or use the code below that is commented out to load the data into a new notebook."
   ]
  },
  {
   "cell_type": "code",
   "execution_count": 9,
   "metadata": {},
   "outputs": [
    {
     "data": {
      "text/plain": [
       "(4001, 17)"
      ]
     },
     "execution_count": 9,
     "metadata": {},
     "output_type": "execute_result"
    }
   ],
   "source": [
    "import pandas as pd\n",
    "\n",
    "file1 = pd.read_csv('./files_from_activity_1.03/file1.csv')\n",
    "file2 = pd.read_csv('./files_from_activity_1.03/file2.txt', sep = '\\t')\n",
    "file3 = pd.read_excel('./files_from_activity_1.03/file3.xlsx', engine='openpyxl')\n",
    "file4 = pd.read_excel('./files_from_activity_1.03/file4.xlsx', engine='openpyxl')\n",
    "column_names = file1.columns\n",
    "data = pd.DataFrame(columns=column_names)\n",
    "data = pd.concat([file1,file2,file3, file4], axis=0)\n",
    "cols = []\n",
    "for colname in data.columns:\n",
    "    cols.append(colname.lower())\n",
    "data.columns = cols\n",
    "data = data.rename(columns={'controln':'id',\n",
    "                            'hv1':'median_home_val',\n",
    "                            'ic1':'median_household_income'})\n",
    "data['median_home_val'] =  pd.to_numeric(data['median_home_val'], errors='coerce')\n",
    "data['ic5'] =  pd.to_numeric(data['ic5'], errors='coerce')\n",
    "data = data.drop_duplicates()\n",
    "\n",
    "data.shape"
   ]
  },
  {
   "cell_type": "code",
   "execution_count": 10,
   "metadata": {},
   "outputs": [
    {
     "data": {
      "text/plain": [
       "id                           0\n",
       "state                        0\n",
       "gender                     133\n",
       "median_home_val             10\n",
       "median_household_income      0\n",
       "ic4                          1\n",
       "hvp1                         0\n",
       "ic5                          6\n",
       "pobc1                        0\n",
       "pobc2                        0\n",
       "ic2                          1\n",
       "ic3                          0\n",
       "avggift                      0\n",
       "tcode                        0\n",
       "dob                          0\n",
       "domain                       0\n",
       "target_d                     0\n",
       "dtype: int64"
      ]
     },
     "execution_count": 10,
     "metadata": {},
     "output_type": "execute_result"
    }
   ],
   "source": [
    "data.isna().sum() "
   ]
  },
  {
   "cell_type": "code",
   "execution_count": 11,
   "metadata": {},
   "outputs": [
    {
     "data": {
      "text/plain": [
       "id                         0.00\n",
       "state                      0.00\n",
       "gender                     3.32\n",
       "median_home_val            0.25\n",
       "median_household_income    0.00\n",
       "ic4                        0.02\n",
       "hvp1                       0.00\n",
       "ic5                        0.15\n",
       "pobc1                      0.00\n",
       "pobc2                      0.00\n",
       "ic2                        0.02\n",
       "ic3                        0.00\n",
       "avggift                    0.00\n",
       "tcode                      0.00\n",
       "dob                        0.00\n",
       "domain                     0.00\n",
       "target_d                   0.00\n",
       "dtype: float64"
      ]
     },
     "execution_count": 11,
     "metadata": {},
     "output_type": "execute_result"
    }
   ],
   "source": [
    "round(data.isna().sum()/len(data),4)*100  # shows the percentage of null values in a column"
   ]
  },
  {
   "cell_type": "code",
   "execution_count": 12,
   "metadata": {},
   "outputs": [
    {
     "data": {
      "text/plain": [
       "id                         0.00\n",
       "state                      0.00\n",
       "gender                     3.32\n",
       "median_home_val            0.25\n",
       "median_household_income    0.00\n",
       "ic4                        0.02\n",
       "hvp1                       0.00\n",
       "ic5                        0.15\n",
       "pobc1                      0.00\n",
       "pobc2                      0.00\n",
       "ic2                        0.02\n",
       "ic3                        0.00\n",
       "avggift                    0.00\n",
       "tcode                      0.00\n",
       "dob                        0.00\n",
       "domain                     0.00\n",
       "target_d                   0.00\n",
       "dtype: float64"
      ]
     },
     "execution_count": 12,
     "metadata": {},
     "output_type": "execute_result"
    }
   ],
   "source": [
    "round(data.isna().sum()/len(data),4)*100  # shows the percentage of null values in a column"
   ]
  },
  {
   "cell_type": "code",
   "execution_count": 13,
   "metadata": {},
   "outputs": [],
   "source": [
    "nulls_df = pd.DataFrame(round(data.isna().sum()/len(data),4)*100)"
   ]
  },
  {
   "cell_type": "code",
   "execution_count": 14,
   "metadata": {},
   "outputs": [
    {
     "data": {
      "text/html": [
       "<div>\n",
       "<style scoped>\n",
       "    .dataframe tbody tr th:only-of-type {\n",
       "        vertical-align: middle;\n",
       "    }\n",
       "\n",
       "    .dataframe tbody tr th {\n",
       "        vertical-align: top;\n",
       "    }\n",
       "\n",
       "    .dataframe thead th {\n",
       "        text-align: right;\n",
       "    }\n",
       "</style>\n",
       "<table border=\"1\" class=\"dataframe\">\n",
       "  <thead>\n",
       "    <tr style=\"text-align: right;\">\n",
       "      <th></th>\n",
       "      <th>header_name</th>\n",
       "      <th>percent_nulls</th>\n",
       "    </tr>\n",
       "  </thead>\n",
       "  <tbody>\n",
       "    <tr>\n",
       "      <th>0</th>\n",
       "      <td>id</td>\n",
       "      <td>0.00</td>\n",
       "    </tr>\n",
       "    <tr>\n",
       "      <th>1</th>\n",
       "      <td>state</td>\n",
       "      <td>0.00</td>\n",
       "    </tr>\n",
       "    <tr>\n",
       "      <th>2</th>\n",
       "      <td>gender</td>\n",
       "      <td>3.32</td>\n",
       "    </tr>\n",
       "    <tr>\n",
       "      <th>3</th>\n",
       "      <td>median_home_val</td>\n",
       "      <td>0.25</td>\n",
       "    </tr>\n",
       "    <tr>\n",
       "      <th>4</th>\n",
       "      <td>median_household_income</td>\n",
       "      <td>0.00</td>\n",
       "    </tr>\n",
       "    <tr>\n",
       "      <th>5</th>\n",
       "      <td>ic4</td>\n",
       "      <td>0.02</td>\n",
       "    </tr>\n",
       "    <tr>\n",
       "      <th>6</th>\n",
       "      <td>hvp1</td>\n",
       "      <td>0.00</td>\n",
       "    </tr>\n",
       "    <tr>\n",
       "      <th>7</th>\n",
       "      <td>ic5</td>\n",
       "      <td>0.15</td>\n",
       "    </tr>\n",
       "    <tr>\n",
       "      <th>8</th>\n",
       "      <td>pobc1</td>\n",
       "      <td>0.00</td>\n",
       "    </tr>\n",
       "    <tr>\n",
       "      <th>9</th>\n",
       "      <td>pobc2</td>\n",
       "      <td>0.00</td>\n",
       "    </tr>\n",
       "    <tr>\n",
       "      <th>10</th>\n",
       "      <td>ic2</td>\n",
       "      <td>0.02</td>\n",
       "    </tr>\n",
       "    <tr>\n",
       "      <th>11</th>\n",
       "      <td>ic3</td>\n",
       "      <td>0.00</td>\n",
       "    </tr>\n",
       "    <tr>\n",
       "      <th>12</th>\n",
       "      <td>avggift</td>\n",
       "      <td>0.00</td>\n",
       "    </tr>\n",
       "    <tr>\n",
       "      <th>13</th>\n",
       "      <td>tcode</td>\n",
       "      <td>0.00</td>\n",
       "    </tr>\n",
       "    <tr>\n",
       "      <th>14</th>\n",
       "      <td>dob</td>\n",
       "      <td>0.00</td>\n",
       "    </tr>\n",
       "    <tr>\n",
       "      <th>15</th>\n",
       "      <td>domain</td>\n",
       "      <td>0.00</td>\n",
       "    </tr>\n",
       "    <tr>\n",
       "      <th>16</th>\n",
       "      <td>target_d</td>\n",
       "      <td>0.00</td>\n",
       "    </tr>\n",
       "  </tbody>\n",
       "</table>\n",
       "</div>"
      ],
      "text/plain": [
       "                header_name  percent_nulls\n",
       "0                        id           0.00\n",
       "1                     state           0.00\n",
       "2                    gender           3.32\n",
       "3           median_home_val           0.25\n",
       "4   median_household_income           0.00\n",
       "5                       ic4           0.02\n",
       "6                      hvp1           0.00\n",
       "7                       ic5           0.15\n",
       "8                     pobc1           0.00\n",
       "9                     pobc2           0.00\n",
       "10                      ic2           0.02\n",
       "11                      ic3           0.00\n",
       "12                  avggift           0.00\n",
       "13                    tcode           0.00\n",
       "14                      dob           0.00\n",
       "15                   domain           0.00\n",
       "16                 target_d           0.00"
      ]
     },
     "execution_count": 14,
     "metadata": {},
     "output_type": "execute_result"
    }
   ],
   "source": [
    "nulls_df\n",
    "nulls_df = nulls_df.reset_index()\n",
    "nulls_df\n",
    "nulls_df.columns = ['header_name', 'percent_nulls']\n",
    "nulls_df"
   ]
  },
  {
   "cell_type": "markdown",
   "metadata": {},
   "source": [
    "- Since there were not many null values in the dataframe, we are taking a dummy value of 3 to show the students how to remove columns with the percentage of null values that are more than a threshold.\n",
    "- This is usually 60, 70% but it is very case-specific. There is no standard rule and it varies based on the analysts' decisions for that analysis."
   ]
  },
  {
   "cell_type": "code",
   "execution_count": 15,
   "metadata": {},
   "outputs": [
    {
     "name": "stdout",
     "output_type": "stream",
     "text": [
      "['gender']\n"
     ]
    }
   ],
   "source": [
    "columns_drop = nulls_df[nulls_df['percent_nulls']>3]['header_name']  # dummy case with 3\n",
    "print(columns_drop.values)\n",
    "# data = data.drop(columns_drop, axis=1)  # drop a list of columns\n",
    "# data = data.drop(['gender'], axis=1)  # drop a single column"
   ]
  },
  {
   "cell_type": "code",
   "execution_count": 16,
   "metadata": {},
   "outputs": [
    {
     "data": {
      "text/html": [
       "<div>\n",
       "<style scoped>\n",
       "    .dataframe tbody tr th:only-of-type {\n",
       "        vertical-align: middle;\n",
       "    }\n",
       "\n",
       "    .dataframe tbody tr th {\n",
       "        vertical-align: top;\n",
       "    }\n",
       "\n",
       "    .dataframe thead th {\n",
       "        text-align: right;\n",
       "    }\n",
       "</style>\n",
       "<table border=\"1\" class=\"dataframe\">\n",
       "  <thead>\n",
       "    <tr style=\"text-align: right;\">\n",
       "      <th></th>\n",
       "      <th>id</th>\n",
       "      <th>state</th>\n",
       "      <th>gender</th>\n",
       "      <th>median_home_val</th>\n",
       "      <th>median_household_income</th>\n",
       "      <th>ic4</th>\n",
       "      <th>hvp1</th>\n",
       "      <th>ic5</th>\n",
       "      <th>pobc1</th>\n",
       "      <th>pobc2</th>\n",
       "      <th>ic2</th>\n",
       "      <th>ic3</th>\n",
       "      <th>avggift</th>\n",
       "      <th>tcode</th>\n",
       "      <th>dob</th>\n",
       "      <th>domain</th>\n",
       "      <th>target_d</th>\n",
       "    </tr>\n",
       "  </thead>\n",
       "  <tbody>\n",
       "    <tr>\n",
       "      <th>0</th>\n",
       "      <td>44060</td>\n",
       "      <td>FL</td>\n",
       "      <td>M</td>\n",
       "      <td>NaN</td>\n",
       "      <td>392</td>\n",
       "      <td>520.0</td>\n",
       "      <td>7</td>\n",
       "      <td>21975.0</td>\n",
       "      <td>6</td>\n",
       "      <td>16</td>\n",
       "      <td>430.0</td>\n",
       "      <td>466</td>\n",
       "      <td>28.000000</td>\n",
       "      <td>1</td>\n",
       "      <td>1901</td>\n",
       "      <td>C2</td>\n",
       "      <td>100.0</td>\n",
       "    </tr>\n",
       "    <tr>\n",
       "      <th>1</th>\n",
       "      <td>96093</td>\n",
       "      <td>IL</td>\n",
       "      <td>M</td>\n",
       "      <td>537.0</td>\n",
       "      <td>365</td>\n",
       "      <td>473.0</td>\n",
       "      <td>0</td>\n",
       "      <td>19387.0</td>\n",
       "      <td>1</td>\n",
       "      <td>89</td>\n",
       "      <td>415.0</td>\n",
       "      <td>410</td>\n",
       "      <td>5.666667</td>\n",
       "      <td>0</td>\n",
       "      <td>0</td>\n",
       "      <td>T2</td>\n",
       "      <td>7.0</td>\n",
       "    </tr>\n",
       "    <tr>\n",
       "      <th>2</th>\n",
       "      <td>43333</td>\n",
       "      <td>FL</td>\n",
       "      <td>F</td>\n",
       "      <td>725.0</td>\n",
       "      <td>301</td>\n",
       "      <td>436.0</td>\n",
       "      <td>3</td>\n",
       "      <td>18837.0</td>\n",
       "      <td>11</td>\n",
       "      <td>17</td>\n",
       "      <td>340.0</td>\n",
       "      <td>361</td>\n",
       "      <td>4.111111</td>\n",
       "      <td>0</td>\n",
       "      <td>2501</td>\n",
       "      <td>C2</td>\n",
       "      <td>5.0</td>\n",
       "    </tr>\n",
       "    <tr>\n",
       "      <th>3</th>\n",
       "      <td>21885</td>\n",
       "      <td>NC</td>\n",
       "      <td>M</td>\n",
       "      <td>NaN</td>\n",
       "      <td>401</td>\n",
       "      <td>413.0</td>\n",
       "      <td>7</td>\n",
       "      <td>14014.0</td>\n",
       "      <td>1</td>\n",
       "      <td>74</td>\n",
       "      <td>407.0</td>\n",
       "      <td>399</td>\n",
       "      <td>27.277778</td>\n",
       "      <td>0</td>\n",
       "      <td>2208</td>\n",
       "      <td>T2</td>\n",
       "      <td>38.0</td>\n",
       "    </tr>\n",
       "    <tr>\n",
       "      <th>4</th>\n",
       "      <td>190108</td>\n",
       "      <td>FL</td>\n",
       "      <td>F</td>\n",
       "      <td>995.0</td>\n",
       "      <td>252</td>\n",
       "      <td>348.0</td>\n",
       "      <td>0</td>\n",
       "      <td>17991.0</td>\n",
       "      <td>5</td>\n",
       "      <td>6</td>\n",
       "      <td>280.0</td>\n",
       "      <td>316</td>\n",
       "      <td>6.000000</td>\n",
       "      <td>28</td>\n",
       "      <td>0</td>\n",
       "      <td>C2</td>\n",
       "      <td>5.0</td>\n",
       "    </tr>\n",
       "    <tr>\n",
       "      <th>...</th>\n",
       "      <td>...</td>\n",
       "      <td>...</td>\n",
       "      <td>...</td>\n",
       "      <td>...</td>\n",
       "      <td>...</td>\n",
       "      <td>...</td>\n",
       "      <td>...</td>\n",
       "      <td>...</td>\n",
       "      <td>...</td>\n",
       "      <td>...</td>\n",
       "      <td>...</td>\n",
       "      <td>...</td>\n",
       "      <td>...</td>\n",
       "      <td>...</td>\n",
       "      <td>...</td>\n",
       "      <td>...</td>\n",
       "      <td>...</td>\n",
       "    </tr>\n",
       "    <tr>\n",
       "      <th>996</th>\n",
       "      <td>66762</td>\n",
       "      <td>MI</td>\n",
       "      <td>F</td>\n",
       "      <td>632.0</td>\n",
       "      <td>279</td>\n",
       "      <td>388.0</td>\n",
       "      <td>2</td>\n",
       "      <td>12653.0</td>\n",
       "      <td>1</td>\n",
       "      <td>71</td>\n",
       "      <td>336.0</td>\n",
       "      <td>339</td>\n",
       "      <td>8.533333</td>\n",
       "      <td>0</td>\n",
       "      <td>0</td>\n",
       "      <td>0</td>\n",
       "      <td>5.0</td>\n",
       "    </tr>\n",
       "    <tr>\n",
       "      <th>997</th>\n",
       "      <td>6443</td>\n",
       "      <td>FL</td>\n",
       "      <td>M</td>\n",
       "      <td>595.0</td>\n",
       "      <td>252</td>\n",
       "      <td>274.0</td>\n",
       "      <td>0</td>\n",
       "      <td>11132.0</td>\n",
       "      <td>8</td>\n",
       "      <td>11</td>\n",
       "      <td>263.0</td>\n",
       "      <td>262</td>\n",
       "      <td>14.692308</td>\n",
       "      <td>1</td>\n",
       "      <td>2501</td>\n",
       "      <td>T2</td>\n",
       "      <td>20.0</td>\n",
       "    </tr>\n",
       "    <tr>\n",
       "      <th>998</th>\n",
       "      <td>151175</td>\n",
       "      <td>CA</td>\n",
       "      <td>F</td>\n",
       "      <td>2707.0</td>\n",
       "      <td>507</td>\n",
       "      <td>537.0</td>\n",
       "      <td>80</td>\n",
       "      <td>16165.0</td>\n",
       "      <td>24</td>\n",
       "      <td>54</td>\n",
       "      <td>504.0</td>\n",
       "      <td>538</td>\n",
       "      <td>12.117647</td>\n",
       "      <td>0</td>\n",
       "      <td>4001</td>\n",
       "      <td>U1</td>\n",
       "      <td>22.0</td>\n",
       "    </tr>\n",
       "    <tr>\n",
       "      <th>999</th>\n",
       "      <td>151504</td>\n",
       "      <td>CA</td>\n",
       "      <td>M</td>\n",
       "      <td>2666.0</td>\n",
       "      <td>535</td>\n",
       "      <td>653.0</td>\n",
       "      <td>63</td>\n",
       "      <td>24745.0</td>\n",
       "      <td>22</td>\n",
       "      <td>45</td>\n",
       "      <td>609.0</td>\n",
       "      <td>612</td>\n",
       "      <td>12.333333</td>\n",
       "      <td>1</td>\n",
       "      <td>4401</td>\n",
       "      <td>S1</td>\n",
       "      <td>21.0</td>\n",
       "    </tr>\n",
       "    <tr>\n",
       "      <th>1000</th>\n",
       "      <td>74303</td>\n",
       "      <td>MI</td>\n",
       "      <td>M</td>\n",
       "      <td>444.0</td>\n",
       "      <td>225</td>\n",
       "      <td>299.0</td>\n",
       "      <td>3</td>\n",
       "      <td>10088.0</td>\n",
       "      <td>1</td>\n",
       "      <td>86</td>\n",
       "      <td>264.0</td>\n",
       "      <td>269</td>\n",
       "      <td>17.142857</td>\n",
       "      <td>4</td>\n",
       "      <td>405</td>\n",
       "      <td>R2</td>\n",
       "      <td>25.0</td>\n",
       "    </tr>\n",
       "  </tbody>\n",
       "</table>\n",
       "<p>3868 rows × 17 columns</p>\n",
       "</div>"
      ],
      "text/plain": [
       "          id state gender  median_home_val  median_household_income    ic4  \\\n",
       "0      44060    FL      M              NaN                      392  520.0   \n",
       "1      96093    IL      M            537.0                      365  473.0   \n",
       "2      43333    FL      F            725.0                      301  436.0   \n",
       "3      21885    NC      M              NaN                      401  413.0   \n",
       "4     190108    FL      F            995.0                      252  348.0   \n",
       "...      ...   ...    ...              ...                      ...    ...   \n",
       "996    66762    MI      F            632.0                      279  388.0   \n",
       "997     6443    FL      M            595.0                      252  274.0   \n",
       "998   151175    CA      F           2707.0                      507  537.0   \n",
       "999   151504    CA      M           2666.0                      535  653.0   \n",
       "1000   74303    MI      M            444.0                      225  299.0   \n",
       "\n",
       "      hvp1      ic5  pobc1  pobc2    ic2  ic3    avggift  tcode   dob domain  \\\n",
       "0        7  21975.0      6     16  430.0  466  28.000000      1  1901     C2   \n",
       "1        0  19387.0      1     89  415.0  410   5.666667      0     0     T2   \n",
       "2        3  18837.0     11     17  340.0  361   4.111111      0  2501     C2   \n",
       "3        7  14014.0      1     74  407.0  399  27.277778      0  2208     T2   \n",
       "4        0  17991.0      5      6  280.0  316   6.000000     28     0     C2   \n",
       "...    ...      ...    ...    ...    ...  ...        ...    ...   ...    ...   \n",
       "996      2  12653.0      1     71  336.0  339   8.533333      0     0      0   \n",
       "997      0  11132.0      8     11  263.0  262  14.692308      1  2501     T2   \n",
       "998     80  16165.0     24     54  504.0  538  12.117647      0  4001     U1   \n",
       "999     63  24745.0     22     45  609.0  612  12.333333      1  4401     S1   \n",
       "1000     3  10088.0      1     86  264.0  269  17.142857      4   405     R2   \n",
       "\n",
       "      target_d  \n",
       "0        100.0  \n",
       "1          7.0  \n",
       "2          5.0  \n",
       "3         38.0  \n",
       "4          5.0  \n",
       "...        ...  \n",
       "996        5.0  \n",
       "997       20.0  \n",
       "998       22.0  \n",
       "999       21.0  \n",
       "1000      25.0  \n",
       "\n",
       "[3868 rows x 17 columns]"
      ]
     },
     "execution_count": 16,
     "metadata": {},
     "output_type": "execute_result"
    }
   ],
   "source": [
    "data[data['gender'].isna()==False]"
   ]
  },
  {
   "cell_type": "code",
   "execution_count": 17,
   "metadata": {},
   "outputs": [
    {
     "data": {
      "text/html": [
       "<div>\n",
       "<style scoped>\n",
       "    .dataframe tbody tr th:only-of-type {\n",
       "        vertical-align: middle;\n",
       "    }\n",
       "\n",
       "    .dataframe tbody tr th {\n",
       "        vertical-align: top;\n",
       "    }\n",
       "\n",
       "    .dataframe thead th {\n",
       "        text-align: right;\n",
       "    }\n",
       "</style>\n",
       "<table border=\"1\" class=\"dataframe\">\n",
       "  <thead>\n",
       "    <tr style=\"text-align: right;\">\n",
       "      <th></th>\n",
       "      <th>id</th>\n",
       "      <th>state</th>\n",
       "      <th>gender</th>\n",
       "      <th>median_home_val</th>\n",
       "      <th>median_household_income</th>\n",
       "      <th>ic4</th>\n",
       "      <th>hvp1</th>\n",
       "      <th>ic5</th>\n",
       "      <th>pobc1</th>\n",
       "      <th>pobc2</th>\n",
       "      <th>ic2</th>\n",
       "      <th>ic3</th>\n",
       "      <th>avggift</th>\n",
       "      <th>tcode</th>\n",
       "      <th>dob</th>\n",
       "      <th>domain</th>\n",
       "      <th>target_d</th>\n",
       "    </tr>\n",
       "  </thead>\n",
       "  <tbody>\n",
       "    <tr>\n",
       "      <th>0</th>\n",
       "      <td>44060</td>\n",
       "      <td>FL</td>\n",
       "      <td>M</td>\n",
       "      <td>NaN</td>\n",
       "      <td>392</td>\n",
       "      <td>520.0</td>\n",
       "      <td>7</td>\n",
       "      <td>21975.0</td>\n",
       "      <td>6</td>\n",
       "      <td>16</td>\n",
       "      <td>430.0</td>\n",
       "      <td>466</td>\n",
       "      <td>28.000000</td>\n",
       "      <td>1</td>\n",
       "      <td>1901</td>\n",
       "      <td>C2</td>\n",
       "      <td>100.0</td>\n",
       "    </tr>\n",
       "    <tr>\n",
       "      <th>1</th>\n",
       "      <td>96093</td>\n",
       "      <td>IL</td>\n",
       "      <td>M</td>\n",
       "      <td>537.0</td>\n",
       "      <td>365</td>\n",
       "      <td>473.0</td>\n",
       "      <td>0</td>\n",
       "      <td>19387.0</td>\n",
       "      <td>1</td>\n",
       "      <td>89</td>\n",
       "      <td>415.0</td>\n",
       "      <td>410</td>\n",
       "      <td>5.666667</td>\n",
       "      <td>0</td>\n",
       "      <td>0</td>\n",
       "      <td>T2</td>\n",
       "      <td>7.0</td>\n",
       "    </tr>\n",
       "    <tr>\n",
       "      <th>2</th>\n",
       "      <td>43333</td>\n",
       "      <td>FL</td>\n",
       "      <td>F</td>\n",
       "      <td>725.0</td>\n",
       "      <td>301</td>\n",
       "      <td>436.0</td>\n",
       "      <td>3</td>\n",
       "      <td>18837.0</td>\n",
       "      <td>11</td>\n",
       "      <td>17</td>\n",
       "      <td>340.0</td>\n",
       "      <td>361</td>\n",
       "      <td>4.111111</td>\n",
       "      <td>0</td>\n",
       "      <td>2501</td>\n",
       "      <td>C2</td>\n",
       "      <td>5.0</td>\n",
       "    </tr>\n",
       "    <tr>\n",
       "      <th>3</th>\n",
       "      <td>21885</td>\n",
       "      <td>NC</td>\n",
       "      <td>M</td>\n",
       "      <td>NaN</td>\n",
       "      <td>401</td>\n",
       "      <td>413.0</td>\n",
       "      <td>7</td>\n",
       "      <td>14014.0</td>\n",
       "      <td>1</td>\n",
       "      <td>74</td>\n",
       "      <td>407.0</td>\n",
       "      <td>399</td>\n",
       "      <td>27.277778</td>\n",
       "      <td>0</td>\n",
       "      <td>2208</td>\n",
       "      <td>T2</td>\n",
       "      <td>38.0</td>\n",
       "    </tr>\n",
       "    <tr>\n",
       "      <th>4</th>\n",
       "      <td>190108</td>\n",
       "      <td>FL</td>\n",
       "      <td>F</td>\n",
       "      <td>995.0</td>\n",
       "      <td>252</td>\n",
       "      <td>348.0</td>\n",
       "      <td>0</td>\n",
       "      <td>17991.0</td>\n",
       "      <td>5</td>\n",
       "      <td>6</td>\n",
       "      <td>280.0</td>\n",
       "      <td>316</td>\n",
       "      <td>6.000000</td>\n",
       "      <td>28</td>\n",
       "      <td>0</td>\n",
       "      <td>C2</td>\n",
       "      <td>5.0</td>\n",
       "    </tr>\n",
       "    <tr>\n",
       "      <th>...</th>\n",
       "      <td>...</td>\n",
       "      <td>...</td>\n",
       "      <td>...</td>\n",
       "      <td>...</td>\n",
       "      <td>...</td>\n",
       "      <td>...</td>\n",
       "      <td>...</td>\n",
       "      <td>...</td>\n",
       "      <td>...</td>\n",
       "      <td>...</td>\n",
       "      <td>...</td>\n",
       "      <td>...</td>\n",
       "      <td>...</td>\n",
       "      <td>...</td>\n",
       "      <td>...</td>\n",
       "      <td>...</td>\n",
       "      <td>...</td>\n",
       "    </tr>\n",
       "    <tr>\n",
       "      <th>996</th>\n",
       "      <td>66762</td>\n",
       "      <td>MI</td>\n",
       "      <td>F</td>\n",
       "      <td>632.0</td>\n",
       "      <td>279</td>\n",
       "      <td>388.0</td>\n",
       "      <td>2</td>\n",
       "      <td>12653.0</td>\n",
       "      <td>1</td>\n",
       "      <td>71</td>\n",
       "      <td>336.0</td>\n",
       "      <td>339</td>\n",
       "      <td>8.533333</td>\n",
       "      <td>0</td>\n",
       "      <td>0</td>\n",
       "      <td>0</td>\n",
       "      <td>5.0</td>\n",
       "    </tr>\n",
       "    <tr>\n",
       "      <th>997</th>\n",
       "      <td>6443</td>\n",
       "      <td>FL</td>\n",
       "      <td>M</td>\n",
       "      <td>595.0</td>\n",
       "      <td>252</td>\n",
       "      <td>274.0</td>\n",
       "      <td>0</td>\n",
       "      <td>11132.0</td>\n",
       "      <td>8</td>\n",
       "      <td>11</td>\n",
       "      <td>263.0</td>\n",
       "      <td>262</td>\n",
       "      <td>14.692308</td>\n",
       "      <td>1</td>\n",
       "      <td>2501</td>\n",
       "      <td>T2</td>\n",
       "      <td>20.0</td>\n",
       "    </tr>\n",
       "    <tr>\n",
       "      <th>998</th>\n",
       "      <td>151175</td>\n",
       "      <td>CA</td>\n",
       "      <td>F</td>\n",
       "      <td>2707.0</td>\n",
       "      <td>507</td>\n",
       "      <td>537.0</td>\n",
       "      <td>80</td>\n",
       "      <td>16165.0</td>\n",
       "      <td>24</td>\n",
       "      <td>54</td>\n",
       "      <td>504.0</td>\n",
       "      <td>538</td>\n",
       "      <td>12.117647</td>\n",
       "      <td>0</td>\n",
       "      <td>4001</td>\n",
       "      <td>U1</td>\n",
       "      <td>22.0</td>\n",
       "    </tr>\n",
       "    <tr>\n",
       "      <th>999</th>\n",
       "      <td>151504</td>\n",
       "      <td>CA</td>\n",
       "      <td>M</td>\n",
       "      <td>2666.0</td>\n",
       "      <td>535</td>\n",
       "      <td>653.0</td>\n",
       "      <td>63</td>\n",
       "      <td>24745.0</td>\n",
       "      <td>22</td>\n",
       "      <td>45</td>\n",
       "      <td>609.0</td>\n",
       "      <td>612</td>\n",
       "      <td>12.333333</td>\n",
       "      <td>1</td>\n",
       "      <td>4401</td>\n",
       "      <td>S1</td>\n",
       "      <td>21.0</td>\n",
       "    </tr>\n",
       "    <tr>\n",
       "      <th>1000</th>\n",
       "      <td>74303</td>\n",
       "      <td>MI</td>\n",
       "      <td>M</td>\n",
       "      <td>444.0</td>\n",
       "      <td>225</td>\n",
       "      <td>299.0</td>\n",
       "      <td>3</td>\n",
       "      <td>10088.0</td>\n",
       "      <td>1</td>\n",
       "      <td>86</td>\n",
       "      <td>264.0</td>\n",
       "      <td>269</td>\n",
       "      <td>17.142857</td>\n",
       "      <td>4</td>\n",
       "      <td>405</td>\n",
       "      <td>R2</td>\n",
       "      <td>25.0</td>\n",
       "    </tr>\n",
       "  </tbody>\n",
       "</table>\n",
       "<p>4000 rows × 17 columns</p>\n",
       "</div>"
      ],
      "text/plain": [
       "          id state gender  median_home_val  median_household_income    ic4  \\\n",
       "0      44060    FL      M              NaN                      392  520.0   \n",
       "1      96093    IL      M            537.0                      365  473.0   \n",
       "2      43333    FL      F            725.0                      301  436.0   \n",
       "3      21885    NC      M              NaN                      401  413.0   \n",
       "4     190108    FL      F            995.0                      252  348.0   \n",
       "...      ...   ...    ...              ...                      ...    ...   \n",
       "996    66762    MI      F            632.0                      279  388.0   \n",
       "997     6443    FL      M            595.0                      252  274.0   \n",
       "998   151175    CA      F           2707.0                      507  537.0   \n",
       "999   151504    CA      M           2666.0                      535  653.0   \n",
       "1000   74303    MI      M            444.0                      225  299.0   \n",
       "\n",
       "      hvp1      ic5  pobc1  pobc2    ic2  ic3    avggift  tcode   dob domain  \\\n",
       "0        7  21975.0      6     16  430.0  466  28.000000      1  1901     C2   \n",
       "1        0  19387.0      1     89  415.0  410   5.666667      0     0     T2   \n",
       "2        3  18837.0     11     17  340.0  361   4.111111      0  2501     C2   \n",
       "3        7  14014.0      1     74  407.0  399  27.277778      0  2208     T2   \n",
       "4        0  17991.0      5      6  280.0  316   6.000000     28     0     C2   \n",
       "...    ...      ...    ...    ...    ...  ...        ...    ...   ...    ...   \n",
       "996      2  12653.0      1     71  336.0  339   8.533333      0     0      0   \n",
       "997      0  11132.0      8     11  263.0  262  14.692308      1  2501     T2   \n",
       "998     80  16165.0     24     54  504.0  538  12.117647      0  4001     U1   \n",
       "999     63  24745.0     22     45  609.0  612  12.333333      1  4401     S1   \n",
       "1000     3  10088.0      1     86  264.0  269  17.142857      4   405     R2   \n",
       "\n",
       "      target_d  \n",
       "0        100.0  \n",
       "1          7.0  \n",
       "2          5.0  \n",
       "3         38.0  \n",
       "4          5.0  \n",
       "...        ...  \n",
       "996        5.0  \n",
       "997       20.0  \n",
       "998       22.0  \n",
       "999       21.0  \n",
       "1000      25.0  \n",
       "\n",
       "[4000 rows x 17 columns]"
      ]
     },
     "execution_count": 17,
     "metadata": {},
     "output_type": "execute_result"
    }
   ],
   "source": [
    "# Replacing/imputing null values\n",
    "data[data['gender'].isna()==True] # checking rows that are null based on a specific column\n",
    "data = data[data['ic2'].isna()==False] # Since these nulls are not a lot, we can filter them\n",
    "data"
   ]
  },
  {
   "cell_type": "code",
   "execution_count": 18,
   "metadata": {},
   "outputs": [],
   "source": [
    "# import numpy\n",
    "import numpy as np\n",
    "mean_median_home_value = np.mean(data['median_home_val'])\n",
    "data['median_home_val'] = data['median_home_val'].fillna(mean_median_home_value)"
   ]
  },
  {
   "cell_type": "code",
   "execution_count": 19,
   "metadata": {},
   "outputs": [
    {
     "data": {
      "text/html": [
       "<div>\n",
       "<style scoped>\n",
       "    .dataframe tbody tr th:only-of-type {\n",
       "        vertical-align: middle;\n",
       "    }\n",
       "\n",
       "    .dataframe tbody tr th {\n",
       "        vertical-align: top;\n",
       "    }\n",
       "\n",
       "    .dataframe thead th {\n",
       "        text-align: right;\n",
       "    }\n",
       "</style>\n",
       "<table border=\"1\" class=\"dataframe\">\n",
       "  <thead>\n",
       "    <tr style=\"text-align: right;\">\n",
       "      <th></th>\n",
       "      <th>id</th>\n",
       "      <th>state</th>\n",
       "      <th>gender</th>\n",
       "      <th>median_home_val</th>\n",
       "      <th>median_household_income</th>\n",
       "      <th>ic4</th>\n",
       "      <th>hvp1</th>\n",
       "      <th>ic5</th>\n",
       "      <th>pobc1</th>\n",
       "      <th>pobc2</th>\n",
       "      <th>ic2</th>\n",
       "      <th>ic3</th>\n",
       "      <th>avggift</th>\n",
       "      <th>tcode</th>\n",
       "      <th>dob</th>\n",
       "      <th>domain</th>\n",
       "      <th>target_d</th>\n",
       "    </tr>\n",
       "  </thead>\n",
       "  <tbody>\n",
       "    <tr>\n",
       "      <th>0</th>\n",
       "      <td>44060</td>\n",
       "      <td>FL</td>\n",
       "      <td>M</td>\n",
       "      <td>1157.329241</td>\n",
       "      <td>392</td>\n",
       "      <td>520.0</td>\n",
       "      <td>7</td>\n",
       "      <td>21975.0</td>\n",
       "      <td>6</td>\n",
       "      <td>16</td>\n",
       "      <td>430.0</td>\n",
       "      <td>466</td>\n",
       "      <td>28.000000</td>\n",
       "      <td>1</td>\n",
       "      <td>1901</td>\n",
       "      <td>C2</td>\n",
       "      <td>100.0</td>\n",
       "    </tr>\n",
       "    <tr>\n",
       "      <th>1</th>\n",
       "      <td>96093</td>\n",
       "      <td>IL</td>\n",
       "      <td>M</td>\n",
       "      <td>537.000000</td>\n",
       "      <td>365</td>\n",
       "      <td>473.0</td>\n",
       "      <td>0</td>\n",
       "      <td>19387.0</td>\n",
       "      <td>1</td>\n",
       "      <td>89</td>\n",
       "      <td>415.0</td>\n",
       "      <td>410</td>\n",
       "      <td>5.666667</td>\n",
       "      <td>0</td>\n",
       "      <td>0</td>\n",
       "      <td>T2</td>\n",
       "      <td>7.0</td>\n",
       "    </tr>\n",
       "    <tr>\n",
       "      <th>2</th>\n",
       "      <td>43333</td>\n",
       "      <td>FL</td>\n",
       "      <td>F</td>\n",
       "      <td>725.000000</td>\n",
       "      <td>301</td>\n",
       "      <td>436.0</td>\n",
       "      <td>3</td>\n",
       "      <td>18837.0</td>\n",
       "      <td>11</td>\n",
       "      <td>17</td>\n",
       "      <td>340.0</td>\n",
       "      <td>361</td>\n",
       "      <td>4.111111</td>\n",
       "      <td>0</td>\n",
       "      <td>2501</td>\n",
       "      <td>C2</td>\n",
       "      <td>5.0</td>\n",
       "    </tr>\n",
       "    <tr>\n",
       "      <th>3</th>\n",
       "      <td>21885</td>\n",
       "      <td>NC</td>\n",
       "      <td>M</td>\n",
       "      <td>1157.329241</td>\n",
       "      <td>401</td>\n",
       "      <td>413.0</td>\n",
       "      <td>7</td>\n",
       "      <td>14014.0</td>\n",
       "      <td>1</td>\n",
       "      <td>74</td>\n",
       "      <td>407.0</td>\n",
       "      <td>399</td>\n",
       "      <td>27.277778</td>\n",
       "      <td>0</td>\n",
       "      <td>2208</td>\n",
       "      <td>T2</td>\n",
       "      <td>38.0</td>\n",
       "    </tr>\n",
       "    <tr>\n",
       "      <th>4</th>\n",
       "      <td>190108</td>\n",
       "      <td>FL</td>\n",
       "      <td>F</td>\n",
       "      <td>995.000000</td>\n",
       "      <td>252</td>\n",
       "      <td>348.0</td>\n",
       "      <td>0</td>\n",
       "      <td>17991.0</td>\n",
       "      <td>5</td>\n",
       "      <td>6</td>\n",
       "      <td>280.0</td>\n",
       "      <td>316</td>\n",
       "      <td>6.000000</td>\n",
       "      <td>28</td>\n",
       "      <td>0</td>\n",
       "      <td>C2</td>\n",
       "      <td>5.0</td>\n",
       "    </tr>\n",
       "    <tr>\n",
       "      <th>...</th>\n",
       "      <td>...</td>\n",
       "      <td>...</td>\n",
       "      <td>...</td>\n",
       "      <td>...</td>\n",
       "      <td>...</td>\n",
       "      <td>...</td>\n",
       "      <td>...</td>\n",
       "      <td>...</td>\n",
       "      <td>...</td>\n",
       "      <td>...</td>\n",
       "      <td>...</td>\n",
       "      <td>...</td>\n",
       "      <td>...</td>\n",
       "      <td>...</td>\n",
       "      <td>...</td>\n",
       "      <td>...</td>\n",
       "      <td>...</td>\n",
       "    </tr>\n",
       "    <tr>\n",
       "      <th>996</th>\n",
       "      <td>66762</td>\n",
       "      <td>MI</td>\n",
       "      <td>F</td>\n",
       "      <td>632.000000</td>\n",
       "      <td>279</td>\n",
       "      <td>388.0</td>\n",
       "      <td>2</td>\n",
       "      <td>12653.0</td>\n",
       "      <td>1</td>\n",
       "      <td>71</td>\n",
       "      <td>336.0</td>\n",
       "      <td>339</td>\n",
       "      <td>8.533333</td>\n",
       "      <td>0</td>\n",
       "      <td>0</td>\n",
       "      <td>0</td>\n",
       "      <td>5.0</td>\n",
       "    </tr>\n",
       "    <tr>\n",
       "      <th>997</th>\n",
       "      <td>6443</td>\n",
       "      <td>FL</td>\n",
       "      <td>M</td>\n",
       "      <td>595.000000</td>\n",
       "      <td>252</td>\n",
       "      <td>274.0</td>\n",
       "      <td>0</td>\n",
       "      <td>11132.0</td>\n",
       "      <td>8</td>\n",
       "      <td>11</td>\n",
       "      <td>263.0</td>\n",
       "      <td>262</td>\n",
       "      <td>14.692308</td>\n",
       "      <td>1</td>\n",
       "      <td>2501</td>\n",
       "      <td>T2</td>\n",
       "      <td>20.0</td>\n",
       "    </tr>\n",
       "    <tr>\n",
       "      <th>998</th>\n",
       "      <td>151175</td>\n",
       "      <td>CA</td>\n",
       "      <td>F</td>\n",
       "      <td>2707.000000</td>\n",
       "      <td>507</td>\n",
       "      <td>537.0</td>\n",
       "      <td>80</td>\n",
       "      <td>16165.0</td>\n",
       "      <td>24</td>\n",
       "      <td>54</td>\n",
       "      <td>504.0</td>\n",
       "      <td>538</td>\n",
       "      <td>12.117647</td>\n",
       "      <td>0</td>\n",
       "      <td>4001</td>\n",
       "      <td>U1</td>\n",
       "      <td>22.0</td>\n",
       "    </tr>\n",
       "    <tr>\n",
       "      <th>999</th>\n",
       "      <td>151504</td>\n",
       "      <td>CA</td>\n",
       "      <td>M</td>\n",
       "      <td>2666.000000</td>\n",
       "      <td>535</td>\n",
       "      <td>653.0</td>\n",
       "      <td>63</td>\n",
       "      <td>24745.0</td>\n",
       "      <td>22</td>\n",
       "      <td>45</td>\n",
       "      <td>609.0</td>\n",
       "      <td>612</td>\n",
       "      <td>12.333333</td>\n",
       "      <td>1</td>\n",
       "      <td>4401</td>\n",
       "      <td>S1</td>\n",
       "      <td>21.0</td>\n",
       "    </tr>\n",
       "    <tr>\n",
       "      <th>1000</th>\n",
       "      <td>74303</td>\n",
       "      <td>MI</td>\n",
       "      <td>M</td>\n",
       "      <td>444.000000</td>\n",
       "      <td>225</td>\n",
       "      <td>299.0</td>\n",
       "      <td>3</td>\n",
       "      <td>10088.0</td>\n",
       "      <td>1</td>\n",
       "      <td>86</td>\n",
       "      <td>264.0</td>\n",
       "      <td>269</td>\n",
       "      <td>17.142857</td>\n",
       "      <td>4</td>\n",
       "      <td>405</td>\n",
       "      <td>R2</td>\n",
       "      <td>25.0</td>\n",
       "    </tr>\n",
       "  </tbody>\n",
       "</table>\n",
       "<p>4000 rows × 17 columns</p>\n",
       "</div>"
      ],
      "text/plain": [
       "          id state gender  median_home_val  median_household_income    ic4  \\\n",
       "0      44060    FL      M      1157.329241                      392  520.0   \n",
       "1      96093    IL      M       537.000000                      365  473.0   \n",
       "2      43333    FL      F       725.000000                      301  436.0   \n",
       "3      21885    NC      M      1157.329241                      401  413.0   \n",
       "4     190108    FL      F       995.000000                      252  348.0   \n",
       "...      ...   ...    ...              ...                      ...    ...   \n",
       "996    66762    MI      F       632.000000                      279  388.0   \n",
       "997     6443    FL      M       595.000000                      252  274.0   \n",
       "998   151175    CA      F      2707.000000                      507  537.0   \n",
       "999   151504    CA      M      2666.000000                      535  653.0   \n",
       "1000   74303    MI      M       444.000000                      225  299.0   \n",
       "\n",
       "      hvp1      ic5  pobc1  pobc2    ic2  ic3    avggift  tcode   dob domain  \\\n",
       "0        7  21975.0      6     16  430.0  466  28.000000      1  1901     C2   \n",
       "1        0  19387.0      1     89  415.0  410   5.666667      0     0     T2   \n",
       "2        3  18837.0     11     17  340.0  361   4.111111      0  2501     C2   \n",
       "3        7  14014.0      1     74  407.0  399  27.277778      0  2208     T2   \n",
       "4        0  17991.0      5      6  280.0  316   6.000000     28     0     C2   \n",
       "...    ...      ...    ...    ...    ...  ...        ...    ...   ...    ...   \n",
       "996      2  12653.0      1     71  336.0  339   8.533333      0     0      0   \n",
       "997      0  11132.0      8     11  263.0  262  14.692308      1  2501     T2   \n",
       "998     80  16165.0     24     54  504.0  538  12.117647      0  4001     U1   \n",
       "999     63  24745.0     22     45  609.0  612  12.333333      1  4401     S1   \n",
       "1000     3  10088.0      1     86  264.0  269  17.142857      4   405     R2   \n",
       "\n",
       "      target_d  \n",
       "0        100.0  \n",
       "1          7.0  \n",
       "2          5.0  \n",
       "3         38.0  \n",
       "4          5.0  \n",
       "...        ...  \n",
       "996        5.0  \n",
       "997       20.0  \n",
       "998       22.0  \n",
       "999       21.0  \n",
       "1000      25.0  \n",
       "\n",
       "[4000 rows x 17 columns]"
      ]
     },
     "execution_count": 19,
     "metadata": {},
     "output_type": "execute_result"
    }
   ],
   "source": [
    "data"
   ]
  },
  {
   "cell_type": "markdown",
   "metadata": {},
   "source": [
    "#### :pencil2: Check for Understanding - Class activity/quick quiz\n",
    "\n",
    "> :clock10: 10 min (+ 10 min Review)"
   ]
  },
  {
   "cell_type": "markdown",
   "metadata": {},
   "source": [
    "# 1.04 Activity 1\n",
    "\n",
    "Refer to the file `files_for_lesson_and_activities/file1.csv` for this exercise.\n",
    "\n",
    "1. Load data (`file1.csv`) in a new Jupyter notebook.\n",
    "2. Write the code to clean the columns 'IC4' and 'IC5' of null values in the dataframe.\n",
    "3. Use the `head()` to check the new dataframe.\n",
    "\n",
    "### Debate\n",
    "\n",
    "1. Is it better to fill null values with the mean or with the median?\n",
    "2. Can we drop all rows with null values?"
   ]
  },
  {
   "cell_type": "code",
   "execution_count": 20,
   "metadata": {},
   "outputs": [],
   "source": [
    "df = pd.read_csv('./files_for_lesson_and_activities/file1.csv')"
   ]
  },
  {
   "cell_type": "code",
   "execution_count": 21,
   "metadata": {},
   "outputs": [],
   "source": [
    "df = df[df['IC4'].isna()==False]"
   ]
  },
  {
   "cell_type": "code",
   "execution_count": 22,
   "metadata": {},
   "outputs": [],
   "source": [
    "df = df[df['IC5'].isna()==False]"
   ]
  },
  {
   "cell_type": "code",
   "execution_count": 23,
   "metadata": {},
   "outputs": [
    {
     "data": {
      "text/html": [
       "<div>\n",
       "<style scoped>\n",
       "    .dataframe tbody tr th:only-of-type {\n",
       "        vertical-align: middle;\n",
       "    }\n",
       "\n",
       "    .dataframe tbody tr th {\n",
       "        vertical-align: top;\n",
       "    }\n",
       "\n",
       "    .dataframe thead th {\n",
       "        text-align: right;\n",
       "    }\n",
       "</style>\n",
       "<table border=\"1\" class=\"dataframe\">\n",
       "  <thead>\n",
       "    <tr style=\"text-align: right;\">\n",
       "      <th></th>\n",
       "      <th>CONTROLN</th>\n",
       "      <th>STATE</th>\n",
       "      <th>GENDER</th>\n",
       "      <th>HV1</th>\n",
       "      <th>IC1</th>\n",
       "      <th>IC4</th>\n",
       "      <th>HVP1</th>\n",
       "      <th>IC5</th>\n",
       "      <th>POBC1</th>\n",
       "      <th>POBC2</th>\n",
       "      <th>IC2</th>\n",
       "      <th>IC3</th>\n",
       "      <th>AVGGIFT</th>\n",
       "      <th>TCODE</th>\n",
       "      <th>DOB</th>\n",
       "      <th>DOMAIN</th>\n",
       "      <th>TARGET_D</th>\n",
       "    </tr>\n",
       "  </thead>\n",
       "  <tbody>\n",
       "    <tr>\n",
       "      <th>0</th>\n",
       "      <td>44060</td>\n",
       "      <td>FL</td>\n",
       "      <td>M</td>\n",
       "      <td>AAA896</td>\n",
       "      <td>392</td>\n",
       "      <td>520.0</td>\n",
       "      <td>7</td>\n",
       "      <td>21975</td>\n",
       "      <td>6</td>\n",
       "      <td>16</td>\n",
       "      <td>430.0</td>\n",
       "      <td>466</td>\n",
       "      <td>28.000000</td>\n",
       "      <td>1</td>\n",
       "      <td>1901</td>\n",
       "      <td>C2</td>\n",
       "      <td>100.0</td>\n",
       "    </tr>\n",
       "    <tr>\n",
       "      <th>1</th>\n",
       "      <td>96093</td>\n",
       "      <td>IL</td>\n",
       "      <td>M</td>\n",
       "      <td>537.00</td>\n",
       "      <td>365</td>\n",
       "      <td>473.0</td>\n",
       "      <td>0</td>\n",
       "      <td>19387</td>\n",
       "      <td>1</td>\n",
       "      <td>89</td>\n",
       "      <td>415.0</td>\n",
       "      <td>410</td>\n",
       "      <td>5.666667</td>\n",
       "      <td>0</td>\n",
       "      <td>0</td>\n",
       "      <td>T2</td>\n",
       "      <td>7.0</td>\n",
       "    </tr>\n",
       "    <tr>\n",
       "      <th>2</th>\n",
       "      <td>43333</td>\n",
       "      <td>FL</td>\n",
       "      <td>F</td>\n",
       "      <td>725.00</td>\n",
       "      <td>301</td>\n",
       "      <td>436.0</td>\n",
       "      <td>3</td>\n",
       "      <td>18837</td>\n",
       "      <td>11</td>\n",
       "      <td>17</td>\n",
       "      <td>340.0</td>\n",
       "      <td>361</td>\n",
       "      <td>4.111111</td>\n",
       "      <td>0</td>\n",
       "      <td>2501</td>\n",
       "      <td>C2</td>\n",
       "      <td>5.0</td>\n",
       "    </tr>\n",
       "    <tr>\n",
       "      <th>3</th>\n",
       "      <td>21885</td>\n",
       "      <td>NC</td>\n",
       "      <td>M</td>\n",
       "      <td>AAA1095</td>\n",
       "      <td>401</td>\n",
       "      <td>413.0</td>\n",
       "      <td>7</td>\n",
       "      <td>14014</td>\n",
       "      <td>1</td>\n",
       "      <td>74</td>\n",
       "      <td>407.0</td>\n",
       "      <td>399</td>\n",
       "      <td>27.277778</td>\n",
       "      <td>0</td>\n",
       "      <td>2208</td>\n",
       "      <td>T2</td>\n",
       "      <td>38.0</td>\n",
       "    </tr>\n",
       "    <tr>\n",
       "      <th>4</th>\n",
       "      <td>190108</td>\n",
       "      <td>FL</td>\n",
       "      <td>F</td>\n",
       "      <td>995.00</td>\n",
       "      <td>252</td>\n",
       "      <td>348.0</td>\n",
       "      <td>0</td>\n",
       "      <td>17991</td>\n",
       "      <td>5</td>\n",
       "      <td>6</td>\n",
       "      <td>280.0</td>\n",
       "      <td>316</td>\n",
       "      <td>6.000000</td>\n",
       "      <td>28</td>\n",
       "      <td>0</td>\n",
       "      <td>C2</td>\n",
       "      <td>5.0</td>\n",
       "    </tr>\n",
       "  </tbody>\n",
       "</table>\n",
       "</div>"
      ],
      "text/plain": [
       "   CONTROLN STATE GENDER      HV1  IC1    IC4  HVP1    IC5  POBC1  POBC2  \\\n",
       "0     44060    FL      M   AAA896  392  520.0     7  21975      6     16   \n",
       "1     96093    IL      M   537.00  365  473.0     0  19387      1     89   \n",
       "2     43333    FL      F   725.00  301  436.0     3  18837     11     17   \n",
       "3     21885    NC      M  AAA1095  401  413.0     7  14014      1     74   \n",
       "4    190108    FL      F   995.00  252  348.0     0  17991      5      6   \n",
       "\n",
       "     IC2  IC3    AVGGIFT  TCODE   DOB DOMAIN  TARGET_D  \n",
       "0  430.0  466  28.000000      1  1901     C2     100.0  \n",
       "1  415.0  410   5.666667      0     0     T2       7.0  \n",
       "2  340.0  361   4.111111      0  2501     C2       5.0  \n",
       "3  407.0  399  27.277778      0  2208     T2      38.0  \n",
       "4  280.0  316   6.000000     28     0     C2       5.0  "
      ]
     },
     "execution_count": 23,
     "metadata": {},
     "output_type": "execute_result"
    }
   ],
   "source": [
    "df.head()"
   ]
  },
  {
   "cell_type": "markdown",
   "metadata": {},
   "source": [
    "### Class debate\n",
    "\n",
    "1. As a general rule, one can say that if the data in the column has a lot of outliers, then it is preferable to choose median over mean, otherwise you can choose the mean. One advantage when you use these imputation techniques is that you do not change the mean or median of the column. It is important to note that these are not the only means of doing that. There are a lot of other methods that can be employed, which we will take a look at, in later sessions. Sometimes the missing values in the numerical column are simply replaced by a constant, usually 0. It is very case dependent. There are no hard/fixed rules.\n",
    "\n",
    "2. Generally speaking, it would not be a good idea as you lose all the information from other columns where you do have information available. So you have to be careful when you filter out the rows with null values. You can check the percentage of data that you might lose in doing so and if it makes sense to lose that or not."
   ]
  },
  {
   "cell_type": "markdown",
   "metadata": {},
   "source": [
    "### Lesson 2 key concepts\n",
    "\n",
    "> :clock10: 20 min\n",
    "\n",
    "- Handling null values in the dataframe\n",
    "\n",
    "      - Replacing/imputing null values (categorical)\n",
    "\n",
    "- Lambda expressions"
   ]
  },
  {
   "cell_type": "code",
   "execution_count": 24,
   "metadata": {},
   "outputs": [
    {
     "data": {
      "text/plain": [
       "F          1954\n",
       "M          1466\n",
       "male        126\n",
       "female      106\n",
       "Female       75\n",
       "U            68\n",
       "Male         33\n",
       "J            23\n",
       "feamale      15\n",
       "A             1\n",
       "Name: gender, dtype: int64"
      ]
     },
     "execution_count": 24,
     "metadata": {},
     "output_type": "execute_result"
    }
   ],
   "source": [
    "# Replacing null values for categorical variables\n",
    "data['gender'].value_counts()"
   ]
  },
  {
   "cell_type": "code",
   "execution_count": 25,
   "metadata": {},
   "outputs": [
    {
     "data": {
      "text/plain": [
       "133"
      ]
     },
     "execution_count": 25,
     "metadata": {},
     "output_type": "execute_result"
    }
   ],
   "source": [
    "len(data[data['gender'].isna()==True])  # number of missing values"
   ]
  },
  {
   "cell_type": "code",
   "execution_count": 26,
   "metadata": {},
   "outputs": [],
   "source": [
    "data['gender'] = data['gender'].fillna('F')"
   ]
  },
  {
   "cell_type": "code",
   "execution_count": 27,
   "metadata": {},
   "outputs": [
    {
     "data": {
      "text/plain": [
       "0"
      ]
     },
     "execution_count": 27,
     "metadata": {},
     "output_type": "execute_result"
    }
   ],
   "source": [
    "len(data[data['gender'].isna()==True]) # now this number is 0"
   ]
  },
  {
   "cell_type": "code",
   "execution_count": 28,
   "metadata": {},
   "outputs": [],
   "source": [
    "# Exporting this processed data to a csv\n",
    "data.to_csv('merged_clean_ver1.csv') # you can find this file inside files_for_lesson_and_activities folder"
   ]
  },
  {
   "cell_type": "markdown",
   "metadata": {},
   "source": [
    "> :exclamation: It is important to emphasize on documenting your work and saving copies of data. For now, documentation can be done simply by adding more comment sections in their codes. Saving copies of data is also important so that you don't have to repeat/re-run the code every time from the beginning since we are using many operations from multiple lessons."
   ]
  },
  {
   "cell_type": "code",
   "execution_count": 29,
   "metadata": {},
   "outputs": [
    {
     "name": "stdout",
     "output_type": "stream",
     "text": [
      "4\n"
     ]
    }
   ],
   "source": [
    "# lambda expressions\n",
    "y = lambda x: x+2\n",
    "print(y(2))"
   ]
  },
  {
   "cell_type": "code",
   "execution_count": 30,
   "metadata": {},
   "outputs": [
    {
     "data": {
      "text/plain": [
       "16"
      ]
     },
     "execution_count": 30,
     "metadata": {},
     "output_type": "execute_result"
    }
   ],
   "source": [
    "square = lambda x: x*x\n",
    "square(4)"
   ]
  },
  {
   "cell_type": "code",
   "execution_count": 31,
   "metadata": {},
   "outputs": [
    {
     "data": {
      "text/plain": [
       "4"
      ]
     },
     "execution_count": 31,
     "metadata": {},
     "output_type": "execute_result"
    }
   ],
   "source": [
    "addition = lambda x,y : x+y\n",
    "addition(1,3)"
   ]
  },
  {
   "cell_type": "code",
   "execution_count": 32,
   "metadata": {},
   "outputs": [
    {
     "data": {
      "text/plain": [
       "[1, 4, 9, 16, 25, 36, 49, 64, 100]"
      ]
     },
     "execution_count": 32,
     "metadata": {},
     "output_type": "execute_result"
    }
   ],
   "source": [
    "lst = [1,2,3,4,5,6,7,8,10]\n",
    "new_list = []\n",
    "for item in lst:\n",
    "    new_list.append(square(item))\n",
    "new_list"
   ]
  },
  {
   "cell_type": "code",
   "execution_count": 33,
   "metadata": {},
   "outputs": [
    {
     "data": {
      "text/plain": [
       "[1, 4, 9, 16, 25, 36, 49, 64, 100]"
      ]
     },
     "execution_count": 33,
     "metadata": {},
     "output_type": "execute_result"
    }
   ],
   "source": [
    "new_list = [square(item) for item in lst] # list comprehension\n",
    "new_list"
   ]
  },
  {
   "cell_type": "code",
   "execution_count": 34,
   "metadata": {},
   "outputs": [
    {
     "data": {
      "text/plain": [
       "[4, 16, 36, 64, 100]"
      ]
     },
     "execution_count": 34,
     "metadata": {},
     "output_type": "execute_result"
    }
   ],
   "source": [
    "new_list = [square(item) for item in lst if item%2==0] # only squares the even numbers in list\n",
    "new_list"
   ]
  },
  {
   "cell_type": "markdown",
   "metadata": {},
   "source": [
    "#### :pencil2: Check for Understanding - Class activity/quick quiz\n",
    "\n",
    "> :clock10: 10 min (+ 10 min Review)"
   ]
  },
  {
   "cell_type": "markdown",
   "metadata": {},
   "source": [
    "# 1.04 Activity 2\n",
    "\n",
    "Refer to the file `files_for_activities/merged_clean_ver1.csv` for this exercise.\n",
    "\n",
    "1. Import the data from `merged_clean_ver1.csv` as a dataframe. There would be a column with the sequence of numbers (to the left of column _id_). Drop that column(s).\n",
    "\n",
    "2. Check the column _state_ for null values. Replace those null values with the state that is represented largest number of times in that column\n",
    "\n",
    "3. Lambda Expression:\n",
    "\n",
    "   - Create a simple lambda expression to add three numbers. Take those three numbers as input from the user. (_Since you will accept only numbers as valid inputs, check this [example](https://www.tutorialspoint.com/How-can-we-read-inputs-as-integers-in-Python) to see how to do it._)\n",
    "   - Define a list as `lst = [1,2,3,4,5,6,7,8,10]`. Write a lambda expression to find the cube of a number. Use that lambda expression to find the cube of every number in the list. Define a _list comprehension_ for this question."
   ]
  },
  {
   "cell_type": "code",
   "execution_count": 35,
   "metadata": {},
   "outputs": [],
   "source": [
    "# 1\n",
    "import warnings  # warnings library, deprecated functions, etc. (!!!)\n",
    "warnings.filterwarnings('ignore')"
   ]
  },
  {
   "cell_type": "code",
   "execution_count": 36,
   "metadata": {},
   "outputs": [
    {
     "data": {
      "text/html": [
       "<div>\n",
       "<style scoped>\n",
       "    .dataframe tbody tr th:only-of-type {\n",
       "        vertical-align: middle;\n",
       "    }\n",
       "\n",
       "    .dataframe tbody tr th {\n",
       "        vertical-align: top;\n",
       "    }\n",
       "\n",
       "    .dataframe thead th {\n",
       "        text-align: right;\n",
       "    }\n",
       "</style>\n",
       "<table border=\"1\" class=\"dataframe\">\n",
       "  <thead>\n",
       "    <tr style=\"text-align: right;\">\n",
       "      <th></th>\n",
       "      <th>Unnamed: 0</th>\n",
       "      <th>id</th>\n",
       "      <th>state</th>\n",
       "      <th>gender</th>\n",
       "      <th>median_home_val</th>\n",
       "      <th>median_household_income</th>\n",
       "      <th>ic4</th>\n",
       "      <th>hvp1</th>\n",
       "      <th>ic5</th>\n",
       "      <th>pobc1</th>\n",
       "      <th>pobc2</th>\n",
       "      <th>ic2</th>\n",
       "      <th>ic3</th>\n",
       "      <th>avggift</th>\n",
       "      <th>tcode</th>\n",
       "      <th>dob</th>\n",
       "      <th>domain</th>\n",
       "      <th>target_d</th>\n",
       "    </tr>\n",
       "  </thead>\n",
       "  <tbody>\n",
       "    <tr>\n",
       "      <th>0</th>\n",
       "      <td>0</td>\n",
       "      <td>44060</td>\n",
       "      <td>FL</td>\n",
       "      <td>M</td>\n",
       "      <td>1157.329241</td>\n",
       "      <td>392</td>\n",
       "      <td>520.0</td>\n",
       "      <td>7</td>\n",
       "      <td>21975.0</td>\n",
       "      <td>6</td>\n",
       "      <td>16</td>\n",
       "      <td>430.0</td>\n",
       "      <td>466</td>\n",
       "      <td>28.000000</td>\n",
       "      <td>1</td>\n",
       "      <td>1901</td>\n",
       "      <td>C2</td>\n",
       "      <td>100.0</td>\n",
       "    </tr>\n",
       "    <tr>\n",
       "      <th>1</th>\n",
       "      <td>1</td>\n",
       "      <td>96093</td>\n",
       "      <td>IL</td>\n",
       "      <td>M</td>\n",
       "      <td>537.000000</td>\n",
       "      <td>365</td>\n",
       "      <td>473.0</td>\n",
       "      <td>0</td>\n",
       "      <td>19387.0</td>\n",
       "      <td>1</td>\n",
       "      <td>89</td>\n",
       "      <td>415.0</td>\n",
       "      <td>410</td>\n",
       "      <td>5.666667</td>\n",
       "      <td>0</td>\n",
       "      <td>0</td>\n",
       "      <td>T2</td>\n",
       "      <td>7.0</td>\n",
       "    </tr>\n",
       "    <tr>\n",
       "      <th>2</th>\n",
       "      <td>2</td>\n",
       "      <td>43333</td>\n",
       "      <td>FL</td>\n",
       "      <td>F</td>\n",
       "      <td>725.000000</td>\n",
       "      <td>301</td>\n",
       "      <td>436.0</td>\n",
       "      <td>3</td>\n",
       "      <td>18837.0</td>\n",
       "      <td>11</td>\n",
       "      <td>17</td>\n",
       "      <td>340.0</td>\n",
       "      <td>361</td>\n",
       "      <td>4.111111</td>\n",
       "      <td>0</td>\n",
       "      <td>2501</td>\n",
       "      <td>C2</td>\n",
       "      <td>5.0</td>\n",
       "    </tr>\n",
       "    <tr>\n",
       "      <th>3</th>\n",
       "      <td>3</td>\n",
       "      <td>21885</td>\n",
       "      <td>NC</td>\n",
       "      <td>M</td>\n",
       "      <td>1157.329241</td>\n",
       "      <td>401</td>\n",
       "      <td>413.0</td>\n",
       "      <td>7</td>\n",
       "      <td>14014.0</td>\n",
       "      <td>1</td>\n",
       "      <td>74</td>\n",
       "      <td>407.0</td>\n",
       "      <td>399</td>\n",
       "      <td>27.277778</td>\n",
       "      <td>0</td>\n",
       "      <td>2208</td>\n",
       "      <td>T2</td>\n",
       "      <td>38.0</td>\n",
       "    </tr>\n",
       "    <tr>\n",
       "      <th>4</th>\n",
       "      <td>4</td>\n",
       "      <td>190108</td>\n",
       "      <td>FL</td>\n",
       "      <td>F</td>\n",
       "      <td>995.000000</td>\n",
       "      <td>252</td>\n",
       "      <td>348.0</td>\n",
       "      <td>0</td>\n",
       "      <td>17991.0</td>\n",
       "      <td>5</td>\n",
       "      <td>6</td>\n",
       "      <td>280.0</td>\n",
       "      <td>316</td>\n",
       "      <td>6.000000</td>\n",
       "      <td>28</td>\n",
       "      <td>0</td>\n",
       "      <td>C2</td>\n",
       "      <td>5.0</td>\n",
       "    </tr>\n",
       "  </tbody>\n",
       "</table>\n",
       "</div>"
      ],
      "text/plain": [
       "   Unnamed: 0      id state gender  median_home_val  median_household_income  \\\n",
       "0           0   44060    FL      M      1157.329241                      392   \n",
       "1           1   96093    IL      M       537.000000                      365   \n",
       "2           2   43333    FL      F       725.000000                      301   \n",
       "3           3   21885    NC      M      1157.329241                      401   \n",
       "4           4  190108    FL      F       995.000000                      252   \n",
       "\n",
       "     ic4  hvp1      ic5  pobc1  pobc2    ic2  ic3    avggift  tcode   dob  \\\n",
       "0  520.0     7  21975.0      6     16  430.0  466  28.000000      1  1901   \n",
       "1  473.0     0  19387.0      1     89  415.0  410   5.666667      0     0   \n",
       "2  436.0     3  18837.0     11     17  340.0  361   4.111111      0  2501   \n",
       "3  413.0     7  14014.0      1     74  407.0  399  27.277778      0  2208   \n",
       "4  348.0     0  17991.0      5      6  280.0  316   6.000000     28     0   \n",
       "\n",
       "  domain  target_d  \n",
       "0     C2     100.0  \n",
       "1     T2       7.0  \n",
       "2     C2       5.0  \n",
       "3     T2      38.0  \n",
       "4     C2       5.0  "
      ]
     },
     "execution_count": 36,
     "metadata": {},
     "output_type": "execute_result"
    }
   ],
   "source": [
    "df = pd.read_csv('merged_clean_ver1.csv')\n",
    "df.head()"
   ]
  },
  {
   "cell_type": "code",
   "execution_count": 37,
   "metadata": {},
   "outputs": [
    {
     "data": {
      "text/html": [
       "<div>\n",
       "<style scoped>\n",
       "    .dataframe tbody tr th:only-of-type {\n",
       "        vertical-align: middle;\n",
       "    }\n",
       "\n",
       "    .dataframe tbody tr th {\n",
       "        vertical-align: top;\n",
       "    }\n",
       "\n",
       "    .dataframe thead th {\n",
       "        text-align: right;\n",
       "    }\n",
       "</style>\n",
       "<table border=\"1\" class=\"dataframe\">\n",
       "  <thead>\n",
       "    <tr style=\"text-align: right;\">\n",
       "      <th></th>\n",
       "      <th>id</th>\n",
       "      <th>state</th>\n",
       "      <th>gender</th>\n",
       "      <th>median_home_val</th>\n",
       "      <th>median_household_income</th>\n",
       "      <th>ic4</th>\n",
       "      <th>hvp1</th>\n",
       "      <th>ic5</th>\n",
       "      <th>pobc1</th>\n",
       "      <th>pobc2</th>\n",
       "      <th>ic2</th>\n",
       "      <th>ic3</th>\n",
       "      <th>avggift</th>\n",
       "      <th>tcode</th>\n",
       "      <th>dob</th>\n",
       "      <th>domain</th>\n",
       "      <th>target_d</th>\n",
       "    </tr>\n",
       "  </thead>\n",
       "  <tbody>\n",
       "    <tr>\n",
       "      <th>0</th>\n",
       "      <td>44060</td>\n",
       "      <td>FL</td>\n",
       "      <td>M</td>\n",
       "      <td>1157.329241</td>\n",
       "      <td>392</td>\n",
       "      <td>520.0</td>\n",
       "      <td>7</td>\n",
       "      <td>21975.0</td>\n",
       "      <td>6</td>\n",
       "      <td>16</td>\n",
       "      <td>430.0</td>\n",
       "      <td>466</td>\n",
       "      <td>28.000000</td>\n",
       "      <td>1</td>\n",
       "      <td>1901</td>\n",
       "      <td>C2</td>\n",
       "      <td>100.0</td>\n",
       "    </tr>\n",
       "    <tr>\n",
       "      <th>1</th>\n",
       "      <td>96093</td>\n",
       "      <td>IL</td>\n",
       "      <td>M</td>\n",
       "      <td>537.000000</td>\n",
       "      <td>365</td>\n",
       "      <td>473.0</td>\n",
       "      <td>0</td>\n",
       "      <td>19387.0</td>\n",
       "      <td>1</td>\n",
       "      <td>89</td>\n",
       "      <td>415.0</td>\n",
       "      <td>410</td>\n",
       "      <td>5.666667</td>\n",
       "      <td>0</td>\n",
       "      <td>0</td>\n",
       "      <td>T2</td>\n",
       "      <td>7.0</td>\n",
       "    </tr>\n",
       "    <tr>\n",
       "      <th>2</th>\n",
       "      <td>43333</td>\n",
       "      <td>FL</td>\n",
       "      <td>F</td>\n",
       "      <td>725.000000</td>\n",
       "      <td>301</td>\n",
       "      <td>436.0</td>\n",
       "      <td>3</td>\n",
       "      <td>18837.0</td>\n",
       "      <td>11</td>\n",
       "      <td>17</td>\n",
       "      <td>340.0</td>\n",
       "      <td>361</td>\n",
       "      <td>4.111111</td>\n",
       "      <td>0</td>\n",
       "      <td>2501</td>\n",
       "      <td>C2</td>\n",
       "      <td>5.0</td>\n",
       "    </tr>\n",
       "    <tr>\n",
       "      <th>3</th>\n",
       "      <td>21885</td>\n",
       "      <td>NC</td>\n",
       "      <td>M</td>\n",
       "      <td>1157.329241</td>\n",
       "      <td>401</td>\n",
       "      <td>413.0</td>\n",
       "      <td>7</td>\n",
       "      <td>14014.0</td>\n",
       "      <td>1</td>\n",
       "      <td>74</td>\n",
       "      <td>407.0</td>\n",
       "      <td>399</td>\n",
       "      <td>27.277778</td>\n",
       "      <td>0</td>\n",
       "      <td>2208</td>\n",
       "      <td>T2</td>\n",
       "      <td>38.0</td>\n",
       "    </tr>\n",
       "    <tr>\n",
       "      <th>4</th>\n",
       "      <td>190108</td>\n",
       "      <td>FL</td>\n",
       "      <td>F</td>\n",
       "      <td>995.000000</td>\n",
       "      <td>252</td>\n",
       "      <td>348.0</td>\n",
       "      <td>0</td>\n",
       "      <td>17991.0</td>\n",
       "      <td>5</td>\n",
       "      <td>6</td>\n",
       "      <td>280.0</td>\n",
       "      <td>316</td>\n",
       "      <td>6.000000</td>\n",
       "      <td>28</td>\n",
       "      <td>0</td>\n",
       "      <td>C2</td>\n",
       "      <td>5.0</td>\n",
       "    </tr>\n",
       "  </tbody>\n",
       "</table>\n",
       "</div>"
      ],
      "text/plain": [
       "       id state gender  median_home_val  median_household_income    ic4  hvp1  \\\n",
       "0   44060    FL      M      1157.329241                      392  520.0     7   \n",
       "1   96093    IL      M       537.000000                      365  473.0     0   \n",
       "2   43333    FL      F       725.000000                      301  436.0     3   \n",
       "3   21885    NC      M      1157.329241                      401  413.0     7   \n",
       "4  190108    FL      F       995.000000                      252  348.0     0   \n",
       "\n",
       "       ic5  pobc1  pobc2    ic2  ic3    avggift  tcode   dob domain  target_d  \n",
       "0  21975.0      6     16  430.0  466  28.000000      1  1901     C2     100.0  \n",
       "1  19387.0      1     89  415.0  410   5.666667      0     0     T2       7.0  \n",
       "2  18837.0     11     17  340.0  361   4.111111      0  2501     C2       5.0  \n",
       "3  14014.0      1     74  407.0  399  27.277778      0  2208     T2      38.0  \n",
       "4  17991.0      5      6  280.0  316   6.000000     28     0     C2       5.0  "
      ]
     },
     "execution_count": 37,
     "metadata": {},
     "output_type": "execute_result"
    }
   ],
   "source": [
    "df = df.drop(['Unnamed: 0'], axis=1)\n",
    "df.head()"
   ]
  },
  {
   "cell_type": "code",
   "execution_count": 38,
   "metadata": {},
   "outputs": [
    {
     "data": {
      "text/plain": [
       "CA            751\n",
       "FL            338\n",
       "TX            293\n",
       "IL            248\n",
       "MI            225\n",
       "NC            168\n",
       "WA            153\n",
       "GA            122\n",
       "OR            117\n",
       "WI            110\n",
       "MO            109\n",
       "IN            108\n",
       "California    100\n",
       "CO             90\n",
       "AZ             88\n",
       "SC             85\n",
       "MN             75\n",
       "KY             67\n",
       "AL             59\n",
       "OK             57\n",
       "LA             56\n",
       "TN             52\n",
       "KS             50\n",
       "NV             46\n",
       "NM             44\n",
       "IA             44\n",
       "AR             42\n",
       "MS             33\n",
       "NE             33\n",
       "Tennessee      29\n",
       "Cali           24\n",
       "MT             24\n",
       "ID             23\n",
       "SD             22\n",
       "HI             21\n",
       "UT             21\n",
       "Arizona        17\n",
       "ND             16\n",
       "WY             12\n",
       "AK              6\n",
       "MD              4\n",
       "AP              3\n",
       "CT              3\n",
       "PA              2\n",
       "AA              2\n",
       "NJ              2\n",
       "NY              1\n",
       "GU              1\n",
       "AE              1\n",
       "VT              1\n",
       "VA              1\n",
       "WV              1\n",
       "Name: state, dtype: int64"
      ]
     },
     "execution_count": 38,
     "metadata": {},
     "output_type": "execute_result"
    }
   ],
   "source": [
    "# 2\n",
    "df['state'].value_counts()"
   ]
  },
  {
   "cell_type": "code",
   "execution_count": 39,
   "metadata": {},
   "outputs": [
    {
     "data": {
      "text/plain": [
       "0"
      ]
     },
     "execution_count": 39,
     "metadata": {},
     "output_type": "execute_result"
    }
   ],
   "source": [
    "len(df[df['state'].isna()==True])  # number of missing values"
   ]
  },
  {
   "cell_type": "code",
   "execution_count": 40,
   "metadata": {},
   "outputs": [],
   "source": [
    "df['state'] = df['state'].fillna('CA')"
   ]
  },
  {
   "cell_type": "code",
   "execution_count": 41,
   "metadata": {},
   "outputs": [
    {
     "name": "stdin",
     "output_type": "stream",
     "text": [
      "enter X \n"
     ]
    },
    {
     "ename": "ValueError",
     "evalue": "invalid literal for int() with base 10: ''",
     "output_type": "error",
     "traceback": [
      "\u001b[1;31m---------------------------------------------------------------------------\u001b[0m",
      "\u001b[1;31mValueError\u001b[0m                                Traceback (most recent call last)",
      "\u001b[1;32m<ipython-input-41-790963d5e144>\u001b[0m in \u001b[0;36m<module>\u001b[1;34m\u001b[0m\n\u001b[0;32m      1\u001b[0m \u001b[1;31m# 3.1\u001b[0m\u001b[1;33m\u001b[0m\u001b[1;33m\u001b[0m\u001b[1;33m\u001b[0m\u001b[0m\n\u001b[1;32m----> 2\u001b[1;33m \u001b[0mx\u001b[0m \u001b[1;33m=\u001b[0m \u001b[0mint\u001b[0m\u001b[1;33m(\u001b[0m\u001b[0minput\u001b[0m\u001b[1;33m(\u001b[0m\u001b[1;34m'enter X'\u001b[0m\u001b[1;33m)\u001b[0m\u001b[1;33m)\u001b[0m\u001b[1;33m\u001b[0m\u001b[1;33m\u001b[0m\u001b[0m\n\u001b[0m\u001b[0;32m      3\u001b[0m \u001b[0my\u001b[0m \u001b[1;33m=\u001b[0m \u001b[0mint\u001b[0m\u001b[1;33m(\u001b[0m\u001b[0minput\u001b[0m\u001b[1;33m(\u001b[0m\u001b[1;34m'enter Y'\u001b[0m\u001b[1;33m)\u001b[0m\u001b[1;33m)\u001b[0m\u001b[1;33m\u001b[0m\u001b[1;33m\u001b[0m\u001b[0m\n\u001b[0;32m      4\u001b[0m \u001b[0mz\u001b[0m \u001b[1;33m=\u001b[0m \u001b[0mint\u001b[0m\u001b[1;33m(\u001b[0m\u001b[0minput\u001b[0m\u001b[1;33m(\u001b[0m\u001b[1;34m'enter Z'\u001b[0m\u001b[1;33m)\u001b[0m\u001b[1;33m)\u001b[0m\u001b[1;33m\u001b[0m\u001b[1;33m\u001b[0m\u001b[0m\n",
      "\u001b[1;31mValueError\u001b[0m: invalid literal for int() with base 10: ''"
     ]
    }
   ],
   "source": [
    "# 3.1\n",
    "x = int(input('enter X'))\n",
    "y = int(input('enter Y'))\n",
    "z = int(input('enter Z'))"
   ]
  },
  {
   "cell_type": "code",
   "execution_count": 42,
   "metadata": {},
   "outputs": [
    {
     "ename": "NameError",
     "evalue": "name 'x' is not defined",
     "output_type": "error",
     "traceback": [
      "\u001b[1;31m---------------------------------------------------------------------------\u001b[0m",
      "\u001b[1;31mNameError\u001b[0m                                 Traceback (most recent call last)",
      "\u001b[1;32m<ipython-input-42-b99c72dbdf50>\u001b[0m in \u001b[0;36m<module>\u001b[1;34m\u001b[0m\n\u001b[0;32m      1\u001b[0m \u001b[0maddition\u001b[0m \u001b[1;33m=\u001b[0m \u001b[1;32mlambda\u001b[0m \u001b[0mx\u001b[0m\u001b[1;33m,\u001b[0m\u001b[0my\u001b[0m\u001b[1;33m,\u001b[0m\u001b[0mz\u001b[0m \u001b[1;33m:\u001b[0m \u001b[0mx\u001b[0m\u001b[1;33m+\u001b[0m\u001b[0my\u001b[0m\u001b[1;33m+\u001b[0m\u001b[0mz\u001b[0m\u001b[1;33m\u001b[0m\u001b[1;33m\u001b[0m\u001b[0m\n\u001b[1;32m----> 2\u001b[1;33m \u001b[0maddition\u001b[0m\u001b[1;33m(\u001b[0m\u001b[0mx\u001b[0m\u001b[1;33m,\u001b[0m\u001b[0my\u001b[0m\u001b[1;33m,\u001b[0m\u001b[0mz\u001b[0m\u001b[1;33m)\u001b[0m\u001b[1;33m\u001b[0m\u001b[1;33m\u001b[0m\u001b[0m\n\u001b[0m",
      "\u001b[1;31mNameError\u001b[0m: name 'x' is not defined"
     ]
    }
   ],
   "source": [
    "addition = lambda x,y,z : x+y+z\n",
    "addition(x,y,z)"
   ]
  },
  {
   "cell_type": "code",
   "execution_count": 43,
   "metadata": {},
   "outputs": [],
   "source": [
    "# 3.2\n",
    "cube = lambda x: x*x*x"
   ]
  },
  {
   "cell_type": "code",
   "execution_count": 44,
   "metadata": {},
   "outputs": [
    {
     "data": {
      "text/plain": [
       "[1, 8, 27, 64, 125, 216, 343, 512, 1000]"
      ]
     },
     "execution_count": 44,
     "metadata": {},
     "output_type": "execute_result"
    }
   ],
   "source": [
    "lst = [1,2,3,4,5,6,7,8,10]\n",
    "new_list = []\n",
    "for item in lst:\n",
    "    new_list.append(cube(item))\n",
    "new_list"
   ]
  },
  {
   "cell_type": "code",
   "execution_count": 45,
   "metadata": {},
   "outputs": [
    {
     "data": {
      "text/plain": [
       "[1, 8, 27, 64, 125, 216, 343, 512, 1000]"
      ]
     },
     "execution_count": 45,
     "metadata": {},
     "output_type": "execute_result"
    }
   ],
   "source": [
    "new_list = [cube(item) for item in lst]\n",
    "new_list"
   ]
  },
  {
   "cell_type": "markdown",
   "metadata": {},
   "source": [
    "### Lesson 3 key concepts\n",
    "\n",
    "> :clock10: 20 min\n",
    "\n",
    "- Map functions\n",
    "\n",
    "      - Map functions and lambda expressions for data cleaning\n",
    "\n",
    "- Define a custom function to clean categorical columns"
   ]
  },
  {
   "cell_type": "code",
   "execution_count": 46,
   "metadata": {},
   "outputs": [],
   "source": [
    "# map functions\n",
    "data.columns = list(map(lambda x: x.lower(), data.columns))"
   ]
  },
  {
   "cell_type": "code",
   "execution_count": 47,
   "metadata": {},
   "outputs": [
    {
     "data": {
      "text/plain": [
       "array(['M', 'F', 'female', 'Male', 'U', 'J', 'male', 'Female', 'feamale',\n",
       "       'A'], dtype=object)"
      ]
     },
     "execution_count": 47,
     "metadata": {},
     "output_type": "execute_result"
    }
   ],
   "source": [
    "data['gender'].unique() # check the unique values in the column"
   ]
  },
  {
   "cell_type": "code",
   "execution_count": 48,
   "metadata": {},
   "outputs": [],
   "source": [
    "data['gender'] = list(map(lambda x: x.upper(), data['gender']))"
   ]
  },
  {
   "cell_type": "code",
   "execution_count": 49,
   "metadata": {},
   "outputs": [
    {
     "data": {
      "text/plain": [
       "array(['M', 'F', 'FEMALE', 'MALE', 'U', 'J', 'FEAMALE', 'A'], dtype=object)"
      ]
     },
     "execution_count": 49,
     "metadata": {},
     "output_type": "execute_result"
    }
   ],
   "source": [
    "data['gender'].unique()  # check the unique elements in the column"
   ]
  },
  {
   "cell_type": "code",
   "execution_count": 50,
   "metadata": {},
   "outputs": [],
   "source": [
    "def greetings(name):\n",
    "    print(\"Hola \" + name)"
   ]
  },
  {
   "cell_type": "code",
   "execution_count": 51,
   "metadata": {},
   "outputs": [],
   "source": [
    "def suma(a: int, b: int):\n",
    "    return a + b"
   ]
  },
  {
   "cell_type": "code",
   "execution_count": 52,
   "metadata": {},
   "outputs": [
    {
     "data": {
      "text/plain": [
       "5"
      ]
     },
     "execution_count": 52,
     "metadata": {},
     "output_type": "execute_result"
    }
   ],
   "source": [
    "suma(2, 3)"
   ]
  },
  {
   "cell_type": "code",
   "execution_count": 53,
   "metadata": {},
   "outputs": [
    {
     "name": "stdout",
     "output_type": "stream",
     "text": [
      "Hola Josep\n"
     ]
    }
   ],
   "source": [
    "greetings(\"Josep\")"
   ]
  },
  {
   "cell_type": "code",
   "execution_count": 59,
   "metadata": {},
   "outputs": [],
   "source": [
    "# Now define a function to clean the column\n",
    "def clean(x):\n",
    "    if x in ['M', 'MALE']:\n",
    "        return 'Male'\n",
    "    elif x.startswith('F'):\n",
    "        return 'Female'\n",
    "    else:\n",
    "        return 'U'"
   ]
  },
  {
   "cell_type": "code",
   "execution_count": 55,
   "metadata": {},
   "outputs": [
    {
     "data": {
      "text/plain": [
       "'Female'"
      ]
     },
     "execution_count": 55,
     "metadata": {},
     "output_type": "execute_result"
    }
   ],
   "source": [
    "clean('Fenix')"
   ]
  },
  {
   "cell_type": "code",
   "execution_count": 56,
   "metadata": {},
   "outputs": [],
   "source": [
    "data['gender'] = list(map(clean, data['gender']))"
   ]
  },
  {
   "cell_type": "code",
   "execution_count": 57,
   "metadata": {},
   "outputs": [
    {
     "data": {
      "text/plain": [
       "0         Male\n",
       "1         Male\n",
       "2       Female\n",
       "3         Male\n",
       "4       Female\n",
       "         ...  \n",
       "996     Female\n",
       "997       Male\n",
       "998     Female\n",
       "999       Male\n",
       "1000      Male\n",
       "Name: gender, Length: 4000, dtype: object"
      ]
     },
     "execution_count": 57,
     "metadata": {},
     "output_type": "execute_result"
    }
   ],
   "source": [
    "data['gender']"
   ]
  },
  {
   "cell_type": "code",
   "execution_count": 58,
   "metadata": {},
   "outputs": [
    {
     "data": {
      "text/plain": [
       "array(['Male', 'Female', 'U'], dtype=object)"
      ]
     },
     "execution_count": 58,
     "metadata": {},
     "output_type": "execute_result"
    }
   ],
   "source": [
    "data['gender'].unique()  # To check the results again\n",
    "\n",
    "# define another method to clean the column \"state\" in the dataframe. This can be an activity"
   ]
  },
  {
   "cell_type": "markdown",
   "metadata": {},
   "source": [
    "#### :pencil2: Check for Understanding - Class activity/quick quiz\n",
    "\n",
    "> :clock10: 10 min (+ 10 min Review)"
   ]
  },
  {
   "cell_type": "markdown",
   "metadata": {},
   "source": [
    "# 1.04 Activity 3\n",
    "\n",
    "Try to convert these functions into lambda functions.\n",
    "\n",
    "```python\n",
    "def function_1(a,b):\n",
    "    c=a+b\n",
    "    return c\n",
    "```\n",
    "\n",
    "```python\n",
    "def function_2(a,b):\n",
    "    c=0\n",
    "    for i in range(a):\n",
    "        c+=2*b\n",
    "    return c\n",
    "```\n",
    "\n",
    "```python\n",
    "def function_3(a,b):\n",
    "    c=0\n",
    "    if a>3:\n",
    "        c=12\n",
    "    else:\n",
    "        c='Too big.'\n",
    "    return c\n",
    "```"
   ]
  },
  {
   "cell_type": "code",
   "execution_count": 42,
   "metadata": {},
   "outputs": [],
   "source": [
    "function_1=lambda a,b : a+b"
   ]
  },
  {
   "cell_type": "code",
   "execution_count": 43,
   "metadata": {},
   "outputs": [],
   "source": [
    "function_2=lambda a,b : sum([2*b for i in range(a)])"
   ]
  },
  {
   "cell_type": "code",
   "execution_count": 44,
   "metadata": {},
   "outputs": [],
   "source": [
    "function_3=lambda a,b : 12 if a>3 else 'Too big.'"
   ]
  },
  {
   "cell_type": "markdown",
   "metadata": {},
   "source": [
    "### Lesson 4 key concepts\n",
    "\n",
    "> :clock10: 20 min\n",
    "\n",
    "More data wrangling/cleaning using Python:\n",
    "\n",
    "- Working with DateTime format\n",
    "- Using string functions"
   ]
  },
  {
   "cell_type": "code",
   "execution_count": 60,
   "metadata": {},
   "outputs": [
    {
     "data": {
      "text/plain": [
       "Unnamed: 0       int64\n",
       "client_id        int64\n",
       "visitor_id      object\n",
       "visit_id        object\n",
       "process_step    object\n",
       "date_time       object\n",
       "dtype: object"
      ]
     },
     "execution_count": 60,
     "metadata": {},
     "output_type": "execute_result"
    }
   ],
   "source": [
    "# Examples of working with datetime format:\n",
    "\n",
    "file = pd.read_csv('./files_for_lesson_and_activities/df_final_web_data_pt_1.csv')\n",
    "file.dtypes"
   ]
  },
  {
   "cell_type": "code",
   "execution_count": 61,
   "metadata": {},
   "outputs": [
    {
     "data": {
      "text/html": [
       "<div>\n",
       "<style scoped>\n",
       "    .dataframe tbody tr th:only-of-type {\n",
       "        vertical-align: middle;\n",
       "    }\n",
       "\n",
       "    .dataframe tbody tr th {\n",
       "        vertical-align: top;\n",
       "    }\n",
       "\n",
       "    .dataframe thead th {\n",
       "        text-align: right;\n",
       "    }\n",
       "</style>\n",
       "<table border=\"1\" class=\"dataframe\">\n",
       "  <thead>\n",
       "    <tr style=\"text-align: right;\">\n",
       "      <th></th>\n",
       "      <th>Unnamed: 0</th>\n",
       "      <th>client_id</th>\n",
       "      <th>visitor_id</th>\n",
       "      <th>visit_id</th>\n",
       "      <th>process_step</th>\n",
       "      <th>date_time</th>\n",
       "    </tr>\n",
       "  </thead>\n",
       "  <tbody>\n",
       "    <tr>\n",
       "      <th>0</th>\n",
       "      <td>0</td>\n",
       "      <td>9988021</td>\n",
       "      <td>580560515_7732621733</td>\n",
       "      <td>781255054_21935453173_531117</td>\n",
       "      <td>step_3</td>\n",
       "      <td>4/17/17 15:27</td>\n",
       "    </tr>\n",
       "    <tr>\n",
       "      <th>1</th>\n",
       "      <td>1</td>\n",
       "      <td>9988021</td>\n",
       "      <td>580560515_7732621733</td>\n",
       "      <td>781255054_21935453173_531117</td>\n",
       "      <td>step_2</td>\n",
       "      <td>4/17/17 15:26</td>\n",
       "    </tr>\n",
       "    <tr>\n",
       "      <th>2</th>\n",
       "      <td>2</td>\n",
       "      <td>9988021</td>\n",
       "      <td>580560515_7732621733</td>\n",
       "      <td>781255054_21935453173_531117</td>\n",
       "      <td>step_3</td>\n",
       "      <td>4/17/17 15:19</td>\n",
       "    </tr>\n",
       "    <tr>\n",
       "      <th>3</th>\n",
       "      <td>3</td>\n",
       "      <td>9988021</td>\n",
       "      <td>580560515_7732621733</td>\n",
       "      <td>781255054_21935453173_531117</td>\n",
       "      <td>step_2</td>\n",
       "      <td>4/17/17 15:19</td>\n",
       "    </tr>\n",
       "    <tr>\n",
       "      <th>4</th>\n",
       "      <td>4</td>\n",
       "      <td>9988021</td>\n",
       "      <td>580560515_7732621733</td>\n",
       "      <td>781255054_21935453173_531117</td>\n",
       "      <td>step_3</td>\n",
       "      <td>4/17/17 15:18</td>\n",
       "    </tr>\n",
       "  </tbody>\n",
       "</table>\n",
       "</div>"
      ],
      "text/plain": [
       "   Unnamed: 0  client_id            visitor_id                      visit_id  \\\n",
       "0           0    9988021  580560515_7732621733  781255054_21935453173_531117   \n",
       "1           1    9988021  580560515_7732621733  781255054_21935453173_531117   \n",
       "2           2    9988021  580560515_7732621733  781255054_21935453173_531117   \n",
       "3           3    9988021  580560515_7732621733  781255054_21935453173_531117   \n",
       "4           4    9988021  580560515_7732621733  781255054_21935453173_531117   \n",
       "\n",
       "  process_step      date_time  \n",
       "0       step_3  4/17/17 15:27  \n",
       "1       step_2  4/17/17 15:26  \n",
       "2       step_3  4/17/17 15:19  \n",
       "3       step_2  4/17/17 15:19  \n",
       "4       step_3  4/17/17 15:18  "
      ]
     },
     "execution_count": 61,
     "metadata": {},
     "output_type": "execute_result"
    }
   ],
   "source": [
    "file.head()"
   ]
  },
  {
   "cell_type": "code",
   "execution_count": 62,
   "metadata": {},
   "outputs": [],
   "source": [
    "file['date_time'] = pd.to_datetime(file['date_time'], errors='coerce')"
   ]
  },
  {
   "cell_type": "code",
   "execution_count": 63,
   "metadata": {},
   "outputs": [
    {
     "data": {
      "text/plain": [
       "17"
      ]
     },
     "execution_count": 63,
     "metadata": {},
     "output_type": "execute_result"
    }
   ],
   "source": [
    "file['date_time'][0].day"
   ]
  },
  {
   "cell_type": "code",
   "execution_count": 64,
   "metadata": {},
   "outputs": [
    {
     "data": {
      "text/plain": [
       "4"
      ]
     },
     "execution_count": 64,
     "metadata": {},
     "output_type": "execute_result"
    }
   ],
   "source": [
    "file['date_time'][0].month"
   ]
  },
  {
   "cell_type": "code",
   "execution_count": 65,
   "metadata": {},
   "outputs": [
    {
     "data": {
      "text/plain": [
       "2017"
      ]
     },
     "execution_count": 65,
     "metadata": {},
     "output_type": "execute_result"
    }
   ],
   "source": [
    "file['date_time'][0].year"
   ]
  },
  {
   "cell_type": "code",
   "execution_count": 66,
   "metadata": {},
   "outputs": [
    {
     "data": {
      "text/plain": [
       "1"
      ]
     },
     "execution_count": 66,
     "metadata": {},
     "output_type": "execute_result"
    }
   ],
   "source": [
    "file['date_time'][0].isoweekday()  # Returns 1 for Monday and so on"
   ]
  },
  {
   "cell_type": "code",
   "execution_count": 67,
   "metadata": {},
   "outputs": [
    {
     "data": {
      "text/plain": [
       "datetime.time(15, 27)"
      ]
     },
     "execution_count": 67,
     "metadata": {},
     "output_type": "execute_result"
    }
   ],
   "source": [
    "file['date_time'][0].time()"
   ]
  },
  {
   "cell_type": "code",
   "execution_count": 68,
   "metadata": {},
   "outputs": [
    {
     "data": {
      "text/plain": [
       "1"
      ]
     },
     "execution_count": 68,
     "metadata": {},
     "output_type": "execute_result"
    }
   ],
   "source": [
    "file['date_time'][0].isoweekday()"
   ]
  },
  {
   "cell_type": "code",
   "execution_count": 69,
   "metadata": {},
   "outputs": [
    {
     "data": {
      "text/plain": [
       "'2017-04-17T15:27:00'"
      ]
     },
     "execution_count": 69,
     "metadata": {},
     "output_type": "execute_result"
    }
   ],
   "source": [
    "file['date_time'][0].isoformat()"
   ]
  },
  {
   "cell_type": "code",
   "execution_count": 70,
   "metadata": {},
   "outputs": [
    {
     "data": {
      "text/plain": [
       "'17-04-2017'"
      ]
     },
     "execution_count": 70,
     "metadata": {},
     "output_type": "execute_result"
    }
   ],
   "source": [
    "file['date_time'][0].strftime(format='%d-%m-%Y')"
   ]
  },
  {
   "cell_type": "code",
   "execution_count": 71,
   "metadata": {},
   "outputs": [
    {
     "data": {
      "text/plain": [
       "'Monday 17. April 2017'"
      ]
     },
     "execution_count": 71,
     "metadata": {},
     "output_type": "execute_result"
    }
   ],
   "source": [
    "file['date_time'][0].strftime(format=\"%A %d. %B %Y\")"
   ]
  },
  {
   "cell_type": "code",
   "execution_count": 72,
   "metadata": {},
   "outputs": [],
   "source": [
    "import time\n",
    "from datetime import date"
   ]
  },
  {
   "cell_type": "code",
   "execution_count": 73,
   "metadata": {},
   "outputs": [
    {
     "data": {
      "text/plain": [
       "datetime.date(2022, 9, 28)"
      ]
     },
     "execution_count": 73,
     "metadata": {},
     "output_type": "execute_result"
    }
   ],
   "source": [
    "today = date.today()\n",
    "today"
   ]
  },
  {
   "cell_type": "code",
   "execution_count": 74,
   "metadata": {},
   "outputs": [
    {
     "data": {
      "text/plain": [
       "time.struct_time(tm_year=2022, tm_mon=9, tm_mday=28, tm_hour=16, tm_min=49, tm_sec=58, tm_wday=2, tm_yday=271, tm_isdst=1)"
      ]
     },
     "execution_count": 74,
     "metadata": {},
     "output_type": "execute_result"
    }
   ],
   "source": [
    "time.localtime(time.time())"
   ]
  },
  {
   "cell_type": "code",
   "execution_count": 75,
   "metadata": {},
   "outputs": [
    {
     "data": {
      "text/plain": [
       "time.struct_time(tm_year=2022, tm_mon=9, tm_mday=28, tm_hour=14, tm_min=50, tm_sec=28, tm_wday=2, tm_yday=271, tm_isdst=0)"
      ]
     },
     "execution_count": 75,
     "metadata": {},
     "output_type": "execute_result"
    }
   ],
   "source": [
    "time.gmtime(time.time())"
   ]
  },
  {
   "cell_type": "code",
   "execution_count": 76,
   "metadata": {},
   "outputs": [],
   "source": [
    "# Examples of working with string functions\n",
    "string = \" I am learning  data  analysis at Ironhack  . It is  super easy \" "
   ]
  },
  {
   "cell_type": "code",
   "execution_count": 77,
   "metadata": {},
   "outputs": [
    {
     "data": {
      "text/plain": [
       "' i am learning  data  analysis at ironhack  . it is  super easy '"
      ]
     },
     "execution_count": 77,
     "metadata": {},
     "output_type": "execute_result"
    }
   ],
   "source": [
    "string.lower()"
   ]
  },
  {
   "cell_type": "code",
   "execution_count": 78,
   "metadata": {},
   "outputs": [
    {
     "data": {
      "text/plain": [
       "' I AM LEARNING  DATA  ANALYSIS AT IRONHACK  . IT IS  SUPER EASY '"
      ]
     },
     "execution_count": 78,
     "metadata": {},
     "output_type": "execute_result"
    }
   ],
   "source": [
    "string.upper()"
   ]
  },
  {
   "cell_type": "code",
   "execution_count": 80,
   "metadata": {},
   "outputs": [
    {
     "data": {
      "text/plain": [
       "False"
      ]
     },
     "execution_count": 80,
     "metadata": {},
     "output_type": "execute_result"
    }
   ],
   "source": [
    "'34'.isdigit() # does not work with decimal numbers"
   ]
  },
  {
   "cell_type": "code",
   "execution_count": 82,
   "metadata": {},
   "outputs": [
    {
     "data": {
      "text/plain": [
       "'I am learning  data  analysis at Ironhack  . It is  super easy '"
      ]
     },
     "execution_count": 82,
     "metadata": {},
     "output_type": "execute_result"
    }
   ],
   "source": [
    "string.lstrip()"
   ]
  },
  {
   "cell_type": "code",
   "execution_count": 83,
   "metadata": {},
   "outputs": [
    {
     "data": {
      "text/plain": [
       "' I am learning  data  analysis at Ironhack  . It is  super easy'"
      ]
     },
     "execution_count": 83,
     "metadata": {},
     "output_type": "execute_result"
    }
   ],
   "source": [
    "string.rstrip()"
   ]
  },
  {
   "cell_type": "code",
   "execution_count": 84,
   "metadata": {},
   "outputs": [
    {
     "data": {
      "text/plain": [
       "['I',\n",
       " 'am',\n",
       " 'learning',\n",
       " 'data',\n",
       " 'analysis',\n",
       " 'at',\n",
       " 'Ironhack',\n",
       " '.',\n",
       " 'It',\n",
       " 'is',\n",
       " 'super',\n",
       " 'easy']"
      ]
     },
     "execution_count": 84,
     "metadata": {},
     "output_type": "execute_result"
    }
   ],
   "source": [
    "string.split()"
   ]
  },
  {
   "cell_type": "code",
   "execution_count": 85,
   "metadata": {},
   "outputs": [
    {
     "data": {
      "text/plain": [
       "[' I am learning  data  analysis at Ironhack  ', ' It is  super easy ']"
      ]
     },
     "execution_count": 85,
     "metadata": {},
     "output_type": "execute_result"
    }
   ],
   "source": [
    "string.split('.')"
   ]
  },
  {
   "cell_type": "code",
   "execution_count": 86,
   "metadata": {},
   "outputs": [
    {
     "data": {
      "text/plain": [
       "' I am learningdataanalysis at Ironhack. It issuper easy '"
      ]
     },
     "execution_count": 86,
     "metadata": {},
     "output_type": "execute_result"
    }
   ],
   "source": [
    "string.replace('  ', '')"
   ]
  },
  {
   "cell_type": "markdown",
   "metadata": {},
   "source": [
    "#### :pencil2: Check for Understanding - Class activity/quick quiz\n",
    "\n",
    "> :clock10: 10 min (+ 10 min Review)"
   ]
  },
  {
   "cell_type": "markdown",
   "metadata": {},
   "source": [
    "# 1.04 Activity 4\n",
    "\n",
    "Use the same notebook in which you already loaded `merged_clean_ver1.csv`.\n",
    "\n",
    "- Create a user-defined method to clean the column `state` in the dataframe.\n",
    "- Use string functions to standardize the states to uppercase and use the strip function to clean the strings as well"
   ]
  },
  {
   "cell_type": "code",
   "execution_count": 69,
   "metadata": {},
   "outputs": [
    {
     "data": {
      "text/plain": [
       "array(['FL', 'IL', 'NC', 'TX', 'CA', 'NV', 'Cali', 'AP', 'KS', 'MI', 'OK',\n",
       "       'AR', 'IN', 'MT', 'WI', 'MO', 'HI', 'UT', 'GA', 'WA', 'ID', 'CT',\n",
       "       'AL', 'ND', 'SC', 'IA', 'CO', 'LA', 'OR', 'SD', 'TN', 'NM', 'AZ',\n",
       "       'MN', 'KY', 'NJ', 'NE', 'California', 'MS', 'NY', 'Arizona', 'WY',\n",
       "       'Tennessee', 'MD', 'AK', 'VA', 'AE', 'AA', 'PA', 'VT', 'WV', 'GU'],\n",
       "      dtype=object)"
      ]
     },
     "execution_count": 69,
     "metadata": {},
     "output_type": "execute_result"
    }
   ],
   "source": [
    "data['state'].unique()"
   ]
  },
  {
   "cell_type": "code",
   "execution_count": 88,
   "metadata": {},
   "outputs": [],
   "source": [
    "def clean(x):\n",
    "    x = x.upper()\n",
    "    x = x.strip()\n",
    "    if x in ['AZ', 'ARIZONA']:\n",
    "        return 'AZ'\n",
    "    elif x in ['CA', 'CALIFORNIA', 'CALI']:\n",
    "        return 'CA'\n",
    "    elif x in ['TN', 'TENNESSEE']:\n",
    "        return 'TN'\n",
    "    else:\n",
    "        return x"
   ]
  },
  {
   "cell_type": "code",
   "execution_count": 89,
   "metadata": {},
   "outputs": [],
   "source": [
    "data['state'] = list(map(clean,data['state']))"
   ]
  },
  {
   "cell_type": "code",
   "execution_count": 90,
   "metadata": {},
   "outputs": [
    {
     "data": {
      "text/plain": [
       "array(['FL', 'IL', 'NC', 'TX', 'CA', 'NV', 'AP', 'KS', 'MI', 'OK', 'AR',\n",
       "       'IN', 'MT', 'WI', 'MO', 'HI', 'UT', 'GA', 'WA', 'ID', 'CT', 'AL',\n",
       "       'ND', 'SC', 'IA', 'CO', 'LA', 'OR', 'SD', 'TN', 'NM', 'AZ', 'MN',\n",
       "       'KY', 'NJ', 'NE', 'MS', 'NY', 'WY', 'MD', 'AK', 'VA', 'AE', 'AA',\n",
       "       'PA', 'VT', 'WV', 'GU'], dtype=object)"
      ]
     },
     "execution_count": 90,
     "metadata": {},
     "output_type": "execute_result"
    }
   ],
   "source": [
    "data['state'].unique()"
   ]
  },
  {
   "cell_type": "markdown",
   "metadata": {},
   "source": [
    "### :pencil2: Practice on key concepts - Lab\n",
    "\n",
    "> :clock10: 30 min"
   ]
  },
  {
   "cell_type": "markdown",
   "metadata": {},
   "source": [
    "# Lab | Customer Analysis Round 2\n",
    "\n",
    "For this lab, we will be using the `marketing_customer_analysis.csv` file that you can find in the `files_for_lab` folder. Check out the `files_for_lab/about.md` to get more information if you are using the Online Excel.\n",
    "\n",
    "**Note**: For the next labs we will be using the same data file. Please save the code, so that you can re-use it later in the labs following this lab.\n",
    "\n",
    "### Dealing with the data\n",
    "\n",
    "1. Show the dataframe shape.\n",
    "2. Standardize header names.\n",
    "3. Which columns are numerical?\n",
    "4. Which columns are categorical?\n",
    "5. Check and deal with `NaN` values.\n",
    "6. Datetime format - Extract the months from the dataset and store in a separate column. Then filter the data to show only the information for the first quarter , ie. January, February and March. _Hint_: If data from March does not exist, consider only January and February.\n",
    "7. BONUS: Put all the previously mentioned data transformations into a function."
   ]
  },
  {
   "cell_type": "markdown",
   "metadata": {},
   "source": [
    "### Additional Resources\n",
    "\n",
    "- [Python DateTime](https://www.programiz.com/python-programming/datetime)\n",
    "- [Python String Methods](https://www.programiz.com/python-programming/methods/string)"
   ]
  }
 ],
 "metadata": {
  "kernelspec": {
   "display_name": "Python 3 (ipykernel)",
   "language": "python",
   "name": "python3"
  },
  "language_info": {
   "codemirror_mode": {
    "name": "ipython",
    "version": 3
   },
   "file_extension": ".py",
   "mimetype": "text/x-python",
   "name": "python",
   "nbconvert_exporter": "python",
   "pygments_lexer": "ipython3",
   "version": "3.9.12"
  }
 },
 "nbformat": 4,
 "nbformat_minor": 4
}
