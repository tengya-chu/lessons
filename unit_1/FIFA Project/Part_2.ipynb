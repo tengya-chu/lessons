{
 "cells": [
  {
   "cell_type": "markdown",
   "metadata": {},
   "source": [
    "# FIFA 21 PROJECT (II)\n",
    "\n",
    "<br><br>\n",
    "\n",
    "During this afternoon session, each member of the group must write a function which:\n",
    "\n",
    "- takes a `dataframe` as input\n",
    "- perform the data cleaning operations on the assigned columns\n",
    "- return a new `cleaned dataframe`.\n",
    "\n",
    "Then put all you group member functions into the `group jupyter notebook`.\n",
    "\n",
    "### BONUS\n",
    "\n",
    "Try to create a new function called `preprocess` which\"\n",
    "\n",
    "- takes a `dataframe`as input\n",
    "- call all the other group member functions and apply them to the starting dataframe\n",
    "- return a `clean dataframe`."
   ]
  },
  {
   "cell_type": "code",
   "execution_count": null,
   "metadata": {},
   "outputs": [],
   "source": []
  }
 ],
 "metadata": {
  "kernelspec": {
   "display_name": "Python 3",
   "language": "python",
   "name": "python3"
  },
  "language_info": {
   "codemirror_mode": {
    "name": "ipython",
    "version": 3
   },
   "file_extension": ".py",
   "mimetype": "text/x-python",
   "name": "python",
   "nbconvert_exporter": "python",
   "pygments_lexer": "ipython3",
   "version": "3.7.0"
  }
 },
 "nbformat": 4,
 "nbformat_minor": 4
}
