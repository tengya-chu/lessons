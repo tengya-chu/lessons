{
 "cells": [
  {
   "cell_type": "markdown",
   "metadata": {
    "id": "guGX16JO2WH5"
   },
   "source": [
    "# FIFA 21 IRONHACK COMPETITION\n",
    "\n",
    "# PART (I)\n",
    "\n",
    "**Link to repo: https://github.com/ironhack-edu/data_project_FIFA_21**\n",
    "\n",
    "\n",
    "You will use the fifa21_trainning.csv dataset provided to predict the position ('OVA') of each player. The competition will take place from monday morning to tuesday. \n",
    "<br><br>\n",
    "Your model will be saved in a pickle file.\n",
    "<br><br>\n",
    "The ranking of the competitors will be calculated according to the highest Mean Average Error (MAE), rounded to 2 decimals.\n",
    "<br><br>\n",
    "Ties will be broken using, respectively: R2 Score (rounded to 2 decimals), Root Mean Squared Error (rounded to 2 decimals), time to run the code (using timeit)\n",
    "<br>\n",
    "\n",
    "## DELIVERABLES:\n",
    "\n",
    "Your group should deliver a `group Jupyter notebook` with all the preprocessing functions alongside with the model.\n",
    "\n",
    "Everything must be delivered until 12am on Tuesday. \n",
    "<br><br>\n",
    "Be prepared to share your work on Tuesday morning, the best scores will have the opportunity to show their notebook and go through their pipeline (~10 min).\n",
    "<br><br>\n",
    "\n",
    "To deliver:\n",
    "* A notebook with your work and model (group_number.ipynb);\n",
    "* Pickle file with the model (group_number.pkl). \n",
    "<br><br>\n",
    "\n",
    "The instructor will use your `group Jupyter notebook` to load a new dataset and use your functions and\n",
    "your model to make a prediction in unseen data.\n",
    "\n",
    "\n",
    "<br><br>\n",
    "\n",
    "For this small project you are going to work in groups to put in practice some of the concepts of the previous week.\n",
    "\n",
    "With your group mates, open the file in `file_for_project/fifa21_training.csv`. The objective is to create the best linear model to predict the column `OVA`.\n",
    "\n",
    "You can find some documentation about the meaning of each column in the following links:\n",
    "\n",
    "- [link - 0](https://sofifa.com/)\n",
    "- [link - 1](https://gaming.stackexchange.com/questions/167318/what-do-fifa-14-position-acronyms-mean)\n",
    "- [link - 2](https://www.fifauteam.com/fifa-ultimate-team-positions-and-tactics/)\n",
    "\n",
    "### 1\n",
    "\n",
    "Each member of the team should have his/her own _juypter_ notebook. In addition, each group should have a `group jupyter notebook`.\n",
    "\n",
    "### 2\n",
    "\n",
    "Decide which columns can be predictive and which ones can be directly dropped and take the needed actions.\n",
    "\n",
    "### 3\n",
    "\n",
    "Decide among the members of the group who is going to take care of inspecting the remaining columns\n",
    "of the dataset. For example:\n",
    "Member 1: cols 1 -> 5\n",
    "Member 2: cols 6 -> 10\n",
    "...\n",
    "and so on\n",
    "\n",
    "### 4\n",
    "\n",
    "Each member must do:\n",
    "\n",
    "- Explore their assigned columns and write python code to perform any cleanup operation that the assigned columns may need.\n",
    "- Perform any scaling operation that the assigned column may need.\n",
    "\n",
    "### 5\n",
    "\n",
    "Put all the code of each member into the `group jupyter notebook`."
   ]
  },
  {
   "cell_type": "markdown",
   "metadata": {
    "id": "dYa_Gdwt2WH9"
   },
   "source": [
    "Your FIFA project goes here:"
   ]
  },
  {
   "cell_type": "markdown",
   "metadata": {
    "id": "-yBfnSQs2WH-"
   },
   "source": [
    "## Entender datos"
   ]
  },
  {
   "cell_type": "code",
   "execution_count": 819,
   "metadata": {
    "id": "c5Jp_PC52WH_"
   },
   "outputs": [],
   "source": [
    "import pandas as pd\n",
    "import numpy as np"
   ]
  },
  {
   "cell_type": "code",
   "execution_count": 820,
   "metadata": {
    "id": "RVD3v8YX2WIB"
   },
   "outputs": [],
   "source": [
    "data = pd.read_csv(\"./file_for_project/fifa21_training.csv\")"
   ]
  },
  {
   "cell_type": "code",
   "execution_count": 821,
   "metadata": {
    "id": "1r3wQ21f2WIB",
    "outputId": "87309fc5-852a-422c-e9b5-81208a7b5f62"
   },
   "outputs": [
    {
     "data": {
      "text/plain": [
       "Index(['Unnamed: 0', 'ID', 'Name', 'Age', 'Nationality', 'Club', 'BP',\n",
       "       'Position', 'Team & Contract', 'Height',\n",
       "       ...\n",
       "       'CDM', 'RDM', 'RWB', 'LB', 'LCB', 'CB', 'RCB', 'RB', 'GK', 'OVA'],\n",
       "      dtype='object', length=102)"
      ]
     },
     "execution_count": 821,
     "metadata": {},
     "output_type": "execute_result"
    }
   ],
   "source": [
    "data.columns"
   ]
  },
  {
   "cell_type": "code",
   "execution_count": 822,
   "metadata": {
    "id": "Ydm4XrYy2WIC",
    "outputId": "8f90f499-be99-4d71-a54c-070e41491c6c"
   },
   "outputs": [
    {
     "data": {
      "text/html": [
       "<div>\n",
       "<style scoped>\n",
       "    .dataframe tbody tr th:only-of-type {\n",
       "        vertical-align: middle;\n",
       "    }\n",
       "\n",
       "    .dataframe tbody tr th {\n",
       "        vertical-align: top;\n",
       "    }\n",
       "\n",
       "    .dataframe thead th {\n",
       "        text-align: right;\n",
       "    }\n",
       "</style>\n",
       "<table border=\"1\" class=\"dataframe\">\n",
       "  <thead>\n",
       "    <tr style=\"text-align: right;\">\n",
       "      <th></th>\n",
       "      <th>Unnamed: 0</th>\n",
       "      <th>ID</th>\n",
       "      <th>Name</th>\n",
       "      <th>Age</th>\n",
       "      <th>Nationality</th>\n",
       "      <th>Club</th>\n",
       "      <th>BP</th>\n",
       "      <th>Position</th>\n",
       "      <th>Team &amp; Contract</th>\n",
       "      <th>Height</th>\n",
       "      <th>Weight</th>\n",
       "      <th>foot</th>\n",
       "      <th>Growth</th>\n",
       "      <th>Joined</th>\n",
       "      <th>Loan Date End</th>\n",
       "      <th>Value</th>\n",
       "      <th>Wage</th>\n",
       "      <th>Release Clause</th>\n",
       "      <th>Contract</th>\n",
       "      <th>Attacking</th>\n",
       "      <th>Crossing</th>\n",
       "      <th>Finishing</th>\n",
       "      <th>Heading Accuracy</th>\n",
       "      <th>Short Passing</th>\n",
       "      <th>Volleys</th>\n",
       "      <th>Skill</th>\n",
       "      <th>Dribbling</th>\n",
       "      <th>Curve</th>\n",
       "      <th>FK Accuracy</th>\n",
       "      <th>Long Passing</th>\n",
       "      <th>Ball Control</th>\n",
       "      <th>Movement</th>\n",
       "      <th>Acceleration</th>\n",
       "      <th>Sprint Speed</th>\n",
       "      <th>Agility</th>\n",
       "      <th>Reactions</th>\n",
       "      <th>Balance</th>\n",
       "      <th>Power</th>\n",
       "      <th>Shot Power</th>\n",
       "      <th>Jumping</th>\n",
       "      <th>Stamina</th>\n",
       "      <th>Strength</th>\n",
       "      <th>Long Shots</th>\n",
       "      <th>Mentality</th>\n",
       "      <th>Aggression</th>\n",
       "      <th>Interceptions</th>\n",
       "      <th>Positioning</th>\n",
       "      <th>Vision</th>\n",
       "      <th>Penalties</th>\n",
       "      <th>Composure</th>\n",
       "      <th>Defending</th>\n",
       "      <th>Marking</th>\n",
       "      <th>Standing Tackle</th>\n",
       "      <th>Sliding Tackle</th>\n",
       "      <th>Goalkeeping</th>\n",
       "      <th>GK Diving</th>\n",
       "      <th>GK Handling</th>\n",
       "      <th>GK Kicking</th>\n",
       "      <th>GK Positioning</th>\n",
       "      <th>GK Reflexes</th>\n",
       "      <th>Total Stats</th>\n",
       "      <th>Base Stats</th>\n",
       "      <th>W/F</th>\n",
       "      <th>SM</th>\n",
       "      <th>A/W</th>\n",
       "      <th>D/W</th>\n",
       "      <th>IR</th>\n",
       "      <th>PAC</th>\n",
       "      <th>SHO</th>\n",
       "      <th>PAS</th>\n",
       "      <th>DRI</th>\n",
       "      <th>DEF</th>\n",
       "      <th>PHY</th>\n",
       "      <th>Hits</th>\n",
       "      <th>LS</th>\n",
       "      <th>ST</th>\n",
       "      <th>RS</th>\n",
       "      <th>LW</th>\n",
       "      <th>LF</th>\n",
       "      <th>CF</th>\n",
       "      <th>RF</th>\n",
       "      <th>RW</th>\n",
       "      <th>LAM</th>\n",
       "      <th>CAM</th>\n",
       "      <th>RAM</th>\n",
       "      <th>LM</th>\n",
       "      <th>LCM</th>\n",
       "      <th>CM</th>\n",
       "      <th>RCM</th>\n",
       "      <th>RM</th>\n",
       "      <th>LWB</th>\n",
       "      <th>LDM</th>\n",
       "      <th>CDM</th>\n",
       "      <th>RDM</th>\n",
       "      <th>RWB</th>\n",
       "      <th>LB</th>\n",
       "      <th>LCB</th>\n",
       "      <th>CB</th>\n",
       "      <th>RCB</th>\n",
       "      <th>RB</th>\n",
       "      <th>GK</th>\n",
       "      <th>OVA</th>\n",
       "    </tr>\n",
       "  </thead>\n",
       "  <tbody>\n",
       "    <tr>\n",
       "      <th>0</th>\n",
       "      <td>1954</td>\n",
       "      <td>184383</td>\n",
       "      <td>A. Pasche</td>\n",
       "      <td>26</td>\n",
       "      <td>Switzerland</td>\n",
       "      <td>FC Lausanne-Sport</td>\n",
       "      <td>CM</td>\n",
       "      <td>CM CDM</td>\n",
       "      <td>FC Lausanne-Sport 2015 ~ 2020</td>\n",
       "      <td>5'9\"</td>\n",
       "      <td>161lbs</td>\n",
       "      <td>Right</td>\n",
       "      <td>1</td>\n",
       "      <td>Jul 1, 2015</td>\n",
       "      <td>NaN</td>\n",
       "      <td>€525K</td>\n",
       "      <td>€4K</td>\n",
       "      <td>€801K</td>\n",
       "      <td>2015 ~ 2020</td>\n",
       "      <td>258</td>\n",
       "      <td>54</td>\n",
       "      <td>47</td>\n",
       "      <td>43</td>\n",
       "      <td>70</td>\n",
       "      <td>44.0</td>\n",
       "      <td>286</td>\n",
       "      <td>61</td>\n",
       "      <td>44.0</td>\n",
       "      <td>55</td>\n",
       "      <td>63</td>\n",
       "      <td>63</td>\n",
       "      <td>346</td>\n",
       "      <td>64</td>\n",
       "      <td>73</td>\n",
       "      <td>61.0</td>\n",
       "      <td>66</td>\n",
       "      <td>82.0</td>\n",
       "      <td>306</td>\n",
       "      <td>62</td>\n",
       "      <td>73.0</td>\n",
       "      <td>71</td>\n",
       "      <td>55</td>\n",
       "      <td>45</td>\n",
       "      <td>290</td>\n",
       "      <td>54</td>\n",
       "      <td>52.0</td>\n",
       "      <td>62.0</td>\n",
       "      <td>68.0</td>\n",
       "      <td>54</td>\n",
       "      <td>54.0</td>\n",
       "      <td>148</td>\n",
       "      <td>49</td>\n",
       "      <td>56</td>\n",
       "      <td>43.0</td>\n",
       "      <td>48</td>\n",
       "      <td>7</td>\n",
       "      <td>12</td>\n",
       "      <td>14</td>\n",
       "      <td>9</td>\n",
       "      <td>6</td>\n",
       "      <td>1682</td>\n",
       "      <td>357</td>\n",
       "      <td>4 ★</td>\n",
       "      <td>2★</td>\n",
       "      <td>High</td>\n",
       "      <td>Medium</td>\n",
       "      <td>1 ★</td>\n",
       "      <td>69</td>\n",
       "      <td>51</td>\n",
       "      <td>63</td>\n",
       "      <td>63</td>\n",
       "      <td>51</td>\n",
       "      <td>60</td>\n",
       "      <td>3</td>\n",
       "      <td>58+1</td>\n",
       "      <td>58+1</td>\n",
       "      <td>58+1</td>\n",
       "      <td>61+0</td>\n",
       "      <td>62+0</td>\n",
       "      <td>62+0</td>\n",
       "      <td>62+0</td>\n",
       "      <td>61+0</td>\n",
       "      <td>63+1</td>\n",
       "      <td>63+1</td>\n",
       "      <td>63+1</td>\n",
       "      <td>63+1</td>\n",
       "      <td>63+1</td>\n",
       "      <td>63+1</td>\n",
       "      <td>63+1</td>\n",
       "      <td>63+1</td>\n",
       "      <td>59+1</td>\n",
       "      <td>59+1</td>\n",
       "      <td>59+1</td>\n",
       "      <td>59+1</td>\n",
       "      <td>59+1</td>\n",
       "      <td>58+1</td>\n",
       "      <td>54+1</td>\n",
       "      <td>54+1</td>\n",
       "      <td>54+1</td>\n",
       "      <td>58+1</td>\n",
       "      <td>15+1</td>\n",
       "      <td>64</td>\n",
       "    </tr>\n",
       "    <tr>\n",
       "      <th>1</th>\n",
       "      <td>2225</td>\n",
       "      <td>188044</td>\n",
       "      <td>Alan Carvalho</td>\n",
       "      <td>30</td>\n",
       "      <td>China PR</td>\n",
       "      <td>Beijing Sinobo Guoan FC</td>\n",
       "      <td>ST</td>\n",
       "      <td>ST LW LM</td>\n",
       "      <td>Beijing Sinobo Guoan FC Dec 31, 2020 On Loan</td>\n",
       "      <td>6'0\"</td>\n",
       "      <td>159lbs</td>\n",
       "      <td>Right</td>\n",
       "      <td>0</td>\n",
       "      <td>Jan 16, 2015</td>\n",
       "      <td>Dec 31, 2020</td>\n",
       "      <td>€8.5M</td>\n",
       "      <td>€23K</td>\n",
       "      <td>€0</td>\n",
       "      <td>Dec 31, 2020 On Loan</td>\n",
       "      <td>365</td>\n",
       "      <td>66</td>\n",
       "      <td>79</td>\n",
       "      <td>76</td>\n",
       "      <td>68</td>\n",
       "      <td>76.0</td>\n",
       "      <td>375</td>\n",
       "      <td>83</td>\n",
       "      <td>78.0</td>\n",
       "      <td>72</td>\n",
       "      <td>63</td>\n",
       "      <td>79</td>\n",
       "      <td>404</td>\n",
       "      <td>83</td>\n",
       "      <td>83</td>\n",
       "      <td>88.0</td>\n",
       "      <td>75</td>\n",
       "      <td>75.0</td>\n",
       "      <td>372</td>\n",
       "      <td>74</td>\n",
       "      <td>81.0</td>\n",
       "      <td>75</td>\n",
       "      <td>74</td>\n",
       "      <td>68</td>\n",
       "      <td>313</td>\n",
       "      <td>54</td>\n",
       "      <td>33.0</td>\n",
       "      <td>78.0</td>\n",
       "      <td>72.0</td>\n",
       "      <td>76</td>\n",
       "      <td>70.0</td>\n",
       "      <td>77</td>\n",
       "      <td>35</td>\n",
       "      <td>20</td>\n",
       "      <td>22.0</td>\n",
       "      <td>55</td>\n",
       "      <td>11</td>\n",
       "      <td>7</td>\n",
       "      <td>14</td>\n",
       "      <td>7</td>\n",
       "      <td>16</td>\n",
       "      <td>1961</td>\n",
       "      <td>412</td>\n",
       "      <td>3 ★</td>\n",
       "      <td>4★</td>\n",
       "      <td>High</td>\n",
       "      <td>Low</td>\n",
       "      <td>2 ★</td>\n",
       "      <td>83</td>\n",
       "      <td>75</td>\n",
       "      <td>68</td>\n",
       "      <td>82</td>\n",
       "      <td>33</td>\n",
       "      <td>71</td>\n",
       "      <td>44</td>\n",
       "      <td>77+0</td>\n",
       "      <td>77+0</td>\n",
       "      <td>77+0</td>\n",
       "      <td>77+0</td>\n",
       "      <td>77+0</td>\n",
       "      <td>77+0</td>\n",
       "      <td>77+0</td>\n",
       "      <td>77+0</td>\n",
       "      <td>76+1</td>\n",
       "      <td>76+1</td>\n",
       "      <td>76+1</td>\n",
       "      <td>76+1</td>\n",
       "      <td>68+2</td>\n",
       "      <td>68+2</td>\n",
       "      <td>68+2</td>\n",
       "      <td>76+1</td>\n",
       "      <td>57+2</td>\n",
       "      <td>53+2</td>\n",
       "      <td>53+2</td>\n",
       "      <td>53+2</td>\n",
       "      <td>57+2</td>\n",
       "      <td>53+2</td>\n",
       "      <td>48+2</td>\n",
       "      <td>48+2</td>\n",
       "      <td>48+2</td>\n",
       "      <td>53+2</td>\n",
       "      <td>18+2</td>\n",
       "      <td>77</td>\n",
       "    </tr>\n",
       "  </tbody>\n",
       "</table>\n",
       "</div>"
      ],
      "text/plain": [
       "   Unnamed: 0      ID           Name  Age  Nationality  \\\n",
       "0        1954  184383      A. Pasche   26  Switzerland   \n",
       "1        2225  188044  Alan Carvalho   30     China PR   \n",
       "\n",
       "                      Club  BP  Position  \\\n",
       "0        FC Lausanne-Sport  CM    CM CDM   \n",
       "1  Beijing Sinobo Guoan FC  ST  ST LW LM   \n",
       "\n",
       "                                Team & Contract Height  Weight   foot  Growth  \\\n",
       "0                 FC Lausanne-Sport 2015 ~ 2020   5'9\"  161lbs  Right       1   \n",
       "1  Beijing Sinobo Guoan FC Dec 31, 2020 On Loan   6'0\"  159lbs  Right       0   \n",
       "\n",
       "         Joined Loan Date End  Value  Wage Release Clause  \\\n",
       "0   Jul 1, 2015           NaN  €525K   €4K          €801K   \n",
       "1  Jan 16, 2015  Dec 31, 2020  €8.5M  €23K             €0   \n",
       "\n",
       "               Contract  Attacking  Crossing  Finishing  Heading Accuracy  \\\n",
       "0           2015 ~ 2020        258        54         47                43   \n",
       "1  Dec 31, 2020 On Loan        365        66         79                76   \n",
       "\n",
       "   Short Passing  Volleys  Skill  Dribbling  Curve  FK Accuracy  Long Passing  \\\n",
       "0             70     44.0    286         61   44.0           55            63   \n",
       "1             68     76.0    375         83   78.0           72            63   \n",
       "\n",
       "   Ball Control  Movement  Acceleration  Sprint Speed  Agility  Reactions  \\\n",
       "0            63       346            64            73     61.0         66   \n",
       "1            79       404            83            83     88.0         75   \n",
       "\n",
       "   Balance  Power  Shot Power  Jumping  Stamina  Strength  Long Shots  \\\n",
       "0     82.0    306          62     73.0       71        55          45   \n",
       "1     75.0    372          74     81.0       75        74          68   \n",
       "\n",
       "   Mentality  Aggression  Interceptions  Positioning  Vision  Penalties  \\\n",
       "0        290          54           52.0         62.0    68.0         54   \n",
       "1        313          54           33.0         78.0    72.0         76   \n",
       "\n",
       "   Composure  Defending  Marking  Standing Tackle  Sliding Tackle  \\\n",
       "0       54.0        148       49               56            43.0   \n",
       "1       70.0         77       35               20            22.0   \n",
       "\n",
       "   Goalkeeping  GK Diving  GK Handling  GK Kicking  GK Positioning  \\\n",
       "0           48          7           12          14               9   \n",
       "1           55         11            7          14               7   \n",
       "\n",
       "   GK Reflexes  Total Stats  Base Stats  W/F  SM   A/W     D/W   IR  PAC  SHO  \\\n",
       "0            6         1682         357  4 ★  2★  High  Medium  1 ★   69   51   \n",
       "1           16         1961         412  3 ★  4★  High     Low  2 ★   83   75   \n",
       "\n",
       "   PAS  DRI  DEF  PHY Hits    LS    ST    RS    LW    LF    CF    RF    RW  \\\n",
       "0   63   63   51   60    3  58+1  58+1  58+1  61+0  62+0  62+0  62+0  61+0   \n",
       "1   68   82   33   71   44  77+0  77+0  77+0  77+0  77+0  77+0  77+0  77+0   \n",
       "\n",
       "    LAM   CAM   RAM    LM   LCM    CM   RCM    RM   LWB   LDM   CDM   RDM  \\\n",
       "0  63+1  63+1  63+1  63+1  63+1  63+1  63+1  63+1  59+1  59+1  59+1  59+1   \n",
       "1  76+1  76+1  76+1  76+1  68+2  68+2  68+2  76+1  57+2  53+2  53+2  53+2   \n",
       "\n",
       "    RWB    LB   LCB    CB   RCB    RB    GK  OVA  \n",
       "0  59+1  58+1  54+1  54+1  54+1  58+1  15+1   64  \n",
       "1  57+2  53+2  48+2  48+2  48+2  53+2  18+2   77  "
      ]
     },
     "execution_count": 822,
     "metadata": {},
     "output_type": "execute_result"
    }
   ],
   "source": [
    "pd.set_option ('display.max_columns', None)\n",
    "data.head(2)"
   ]
  },
  {
   "cell_type": "code",
   "execution_count": 823,
   "metadata": {
    "id": "RRRNzqhG2WIC",
    "outputId": "06d62b4e-fb6e-46e5-c8f9-dc220ef22fc9"
   },
   "outputs": [
    {
     "data": {
      "text/plain": [
       "Index(['unnamed:_0', 'id', 'name', 'age', 'nationality', 'club', 'bp',\n",
       "       'position', 'team_&_contract', 'height',\n",
       "       ...\n",
       "       'cdm', 'rdm', 'rwb', 'lb', 'lcb', 'cb', 'rcb', 'rb', 'gk', 'ova'],\n",
       "      dtype='object', length=102)"
      ]
     },
     "execution_count": 823,
     "metadata": {},
     "output_type": "execute_result"
    }
   ],
   "source": [
    "data.columns=[e.lower().replace(' ', '_') for e in data.columns]   # lower and replace\n",
    "data.columns"
   ]
  },
  {
   "cell_type": "markdown",
   "metadata": {
    "id": "NQEWSQi22WID",
    "jp-MarkdownHeadingCollapsed": true,
    "tags": []
   },
   "source": [
    "## Comprobar NaN"
   ]
  },
  {
   "cell_type": "code",
   "execution_count": 824,
   "metadata": {
    "id": "eNdNW6XU2WIE",
    "outputId": "0440d929-9034-4a23-d6f1-1b1fc8d462a1"
   },
   "outputs": [
    {
     "data": {
      "text/plain": [
       "12961"
      ]
     },
     "execution_count": 824,
     "metadata": {},
     "output_type": "execute_result"
    }
   ],
   "source": [
    "#Comprobando NaN\n",
    "data['loan_date_end'].isna().sum()"
   ]
  },
  {
   "cell_type": "code",
   "execution_count": 825,
   "metadata": {
    "id": "JKgBbvT52WIE",
    "outputId": "66224a45-83a4-4ba1-b0f6-ba5951e41871"
   },
   "outputs": [
    {
     "data": {
      "text/plain": [
       "67"
      ]
     },
     "execution_count": 825,
     "metadata": {},
     "output_type": "execute_result"
    }
   ],
   "source": [
    "#Comprobando NaN\n",
    "data['a/w'].isna().sum()"
   ]
  },
  {
   "cell_type": "code",
   "execution_count": 826,
   "metadata": {
    "id": "huza9qUK2WIF",
    "outputId": "06bb1e52-646d-4e90-c4e3-8abf8ed91048"
   },
   "outputs": [
    {
     "data": {
      "text/plain": [
       "unnamed:_0     0\n",
       "id             0\n",
       "name           0\n",
       "age            0\n",
       "nationality    0\n",
       "              ..\n",
       "cb             0\n",
       "rcb            0\n",
       "rb             0\n",
       "gk             0\n",
       "ova            0\n",
       "Length: 102, dtype: int64"
      ]
     },
     "execution_count": 826,
     "metadata": {},
     "output_type": "execute_result"
    }
   ],
   "source": [
    "#Comprobando NaN\n",
    "data.isna().sum()"
   ]
  },
  {
   "cell_type": "markdown",
   "metadata": {
    "id": "H1sjn4nS2WIF",
    "tags": []
   },
   "source": [
    "## Clasificación de columnas"
   ]
  },
  {
   "cell_type": "code",
   "execution_count": 827,
   "metadata": {
    "id": "JPGC0meT2WIF"
   },
   "outputs": [],
   "source": [
    "col_to_trash = [\"unnamed:_0\", \"id\", \"name\", \"club\", \"loan_date_end\", \"position\", \"team_&_contract\", \"contract\"]\n",
    "col_money = [\"value\", \"wage\", \"release_clause\"]\n",
    "col_star = [\"w/f\", \"sm\", \"ir\"]\n",
    "col_cat = [\"nationality\", \"bp\", \"foot\", \"a/w\", 'd/w']\n",
    "col_num = ['age', \"height\", \"weight\", \"growth\", \"attacking\", 'crossing', 'finishing', 'heading_accuracy', 'short_passing', 'volleys', 'skill', 'dribbling', 'curve', 'fk_accuracy', 'long_passing', 'ball_control', 'movement', 'acceleration', 'sprint_speed', 'agility', 'reactions', 'balance', 'power', 'shot_power', 'jumping', 'stamina', 'strenght', 'long_shots', 'mentality', 'agression', 'interceptions', 'positioning', 'vision', 'penalties', 'composure', 'defending', 'marking', 'standing_tackle', 'sliding_tackle', 'goalkeeping', 'gk_diving', 'gk_handling', 'gk_positioning', 'gk_reflexes', 'total_stats', 'base_stats', 'pac', 'sho', 'pas', 'dri', 'def', 'phy', 'hits', 'ova'] \n",
    "col_date = [\"joined\"]\n",
    "col_split = ['ls', 'st', 'rs', 'lw', 'lf', 'cf', 'rf', 'rw', 'lam', 'cam', 'ram', 'lm', 'lcm', 'cm', 'rcm', 'rm', 'lwb', 'ldm', 'cdm', 'rdm', 'rwb', 'lb', 'lcb', 'cb', 'rcb', 'rb', 'gk']"
   ]
  },
  {
   "cell_type": "markdown",
   "metadata": {
    "id": "iY8V0KRL2WIG",
    "tags": []
   },
   "source": [
    "## Transformations"
   ]
  },
  {
   "cell_type": "markdown",
   "metadata": {
    "tags": []
   },
   "source": [
    "### Col_money transformation & hits"
   ]
  },
  {
   "cell_type": "code",
   "execution_count": 828,
   "metadata": {
    "tags": []
   },
   "outputs": [],
   "source": [
    "def transform_money(c):\n",
    "    c = c[1:]\n",
    "    if c[-1] == 'K':\n",
    "        res = float(c[:-1]) * 1000\n",
    "    elif c[-1] == 'M':\n",
    "        res = float(c[:-1]) * 1000000\n",
    "    else:\n",
    "        res = float(c)\n",
    "    return res"
   ]
  },
  {
   "cell_type": "code",
   "execution_count": 829,
   "metadata": {},
   "outputs": [],
   "source": [
    "for c in col_money:\n",
    "    data[c] = list(map(transform_money, data[c]))"
   ]
  },
  {
   "cell_type": "code",
   "execution_count": 830,
   "metadata": {},
   "outputs": [
    {
     "data": {
      "text/plain": [
       "0          801000.0\n",
       "1               0.0\n",
       "2        15300000.0\n",
       "3          694000.0\n",
       "4         1400000.0\n",
       "            ...    \n",
       "13695      731000.0\n",
       "13696      285000.0\n",
       "13697    12000000.0\n",
       "13698      245000.0\n",
       "13699      946000.0\n",
       "Name: release_clause, Length: 13700, dtype: float64"
      ]
     },
     "execution_count": 830,
     "metadata": {},
     "output_type": "execute_result"
    }
   ],
   "source": [
    "data['release_clause']"
   ]
  },
  {
   "cell_type": "code",
   "execution_count": 831,
   "metadata": {},
   "outputs": [
    {
     "data": {
      "text/plain": [
       "0         525000.0\n",
       "1        8500000.0\n",
       "2        9000000.0\n",
       "3         275000.0\n",
       "4         725000.0\n",
       "           ...    \n",
       "13695     325000.0\n",
       "13696     190000.0\n",
       "13697    8000000.0\n",
       "13698     140000.0\n",
       "13699     425000.0\n",
       "Name: value, Length: 13700, dtype: float64"
      ]
     },
     "execution_count": 831,
     "metadata": {},
     "output_type": "execute_result"
    }
   ],
   "source": [
    "data['value']"
   ]
  },
  {
   "cell_type": "code",
   "execution_count": 832,
   "metadata": {},
   "outputs": [],
   "source": [
    "def transform_hits(c):\n",
    "    if c[-1] == 'K':\n",
    "        res = float(c[:-1]) * 1000\n",
    "    elif c[-1] == 'M':\n",
    "        res = float(c[:-1]) * 1000000\n",
    "    else:\n",
    "        res = float(c)\n",
    "    return res"
   ]
  },
  {
   "cell_type": "code",
   "execution_count": 833,
   "metadata": {},
   "outputs": [],
   "source": [
    "data['hits'] = list(map(transform_hits, data['hits']))"
   ]
  },
  {
   "cell_type": "markdown",
   "metadata": {
    "tags": []
   },
   "source": [
    "### Col_star transformation"
   ]
  },
  {
   "cell_type": "code",
   "execution_count": 834,
   "metadata": {
    "tags": []
   },
   "outputs": [
    {
     "data": {
      "text/plain": [
       "dtype('O')"
      ]
     },
     "execution_count": 834,
     "metadata": {},
     "output_type": "execute_result"
    }
   ],
   "source": [
    "data['w/f'].dtype"
   ]
  },
  {
   "cell_type": "code",
   "execution_count": 835,
   "metadata": {},
   "outputs": [],
   "source": [
    "data['w/f'] = data['w/f'].astype(str).str[:-2]\n",
    "data['sm'] = data['sm'].astype(str).str[:-1]\n",
    "data['ir'] = data['ir'].astype(str).str[:-2]"
   ]
  },
  {
   "cell_type": "code",
   "execution_count": 836,
   "metadata": {
    "tags": []
   },
   "outputs": [
    {
     "data": {
      "text/plain": [
       "0        1\n",
       "1        2\n",
       "2        2\n",
       "3        1\n",
       "4        1\n",
       "        ..\n",
       "13695    1\n",
       "13696    1\n",
       "13697    2\n",
       "13698    1\n",
       "13699    1\n",
       "Name: ir, Length: 13700, dtype: int32"
      ]
     },
     "execution_count": 836,
     "metadata": {},
     "output_type": "execute_result"
    }
   ],
   "source": [
    "data['w/f'].apply(str).astype(int)\n",
    "data['sm'].apply(str).astype(int)\n",
    "data['ir'].apply(str).astype(int)"
   ]
  },
  {
   "cell_type": "markdown",
   "metadata": {
    "tags": []
   },
   "source": [
    "### col_cat transformation"
   ]
  },
  {
   "cell_type": "markdown",
   "metadata": {
    "tags": []
   },
   "source": [
    "#### Transform nationality"
   ]
  },
  {
   "cell_type": "code",
   "execution_count": 837,
   "metadata": {},
   "outputs": [],
   "source": [
    "import pycountry_convert as pc # needed to intall pycountry_convert pip first"
   ]
  },
  {
   "cell_type": "code",
   "execution_count": 838,
   "metadata": {},
   "outputs": [],
   "source": [
    "def country_to_continent(country_name):\n",
    "    country_alpha2 = pc.country_name_to_country_alpha2(country_name)\n",
    "    country_continent_code = pc.country_alpha2_to_continent_code(country_alpha2)\n",
    "    return country_continent_code"
   ]
  },
  {
   "cell_type": "code",
   "execution_count": 839,
   "metadata": {},
   "outputs": [],
   "source": [
    "data['nationality'] = data['nationality'].replace(['China PR'], 'China')\n",
    "data['nationality'] = data['nationality'].replace(['Wales'], 'United Kingdom')\n",
    "data['nationality'] = data['nationality'].replace(['Bosnia Herzegovina'], 'Bosnia and Herzegovina')\n",
    "data['nationality'] = data['nationality'].replace(['England'], 'United Kingdom')\n",
    "data['nationality'] = data['nationality'].replace(['Republic of Ireland'], 'Ireland')\n",
    "data['nationality'] = data['nationality'].replace(['Korea Republic'], 'South Korea')\n",
    "data['nationality'] = data['nationality'].replace(['Kosovo'], 'Serbia')\n",
    "data['nationality'] = data['nationality'].replace(['Scotland'], 'United Kingdom')\n",
    "data['nationality'] = data['nationality'].replace(['Northern Ireland'], 'Ireland')\n",
    "data['nationality'] = data['nationality'].replace(['DR Congo'], 'Congo')\n",
    "data['nationality'] = data['nationality'].replace(['Curacao'], 'Venezuela')\n",
    "data['nationality'] = data['nationality'].replace(['Carib'], 'Venezuela')\n",
    "data['nationality'] = data['nationality'].replace(['Korea DPR'], 'North Korea')\n",
    "data['nationality'] = data['nationality'].replace(['Chinese Taipei'], 'China')\n",
    "data['nationality'] = data['nationality'].replace(['Taipei'], 'China')\n",
    "data['nationality'] = data['nationality'].replace(['Trinidad &amp; Tobago'], 'Trinidad and Tobago')\n",
    "data['nationality'] = data['nationality'].replace(['Antigua &amp; Barbuda'], 'Antigua and Barbuda')\n",
    "data['nationality'] = data['nationality'].replace(['Guinea Bissau'], 'Guinea-Bisáu')\n",
    "data['nationality'] = data['nationality'].replace(['Guinea-Bisáu'], 'Guinea-Bissau')\n",
    "data['nationality'] = data['nationality'].replace(['São Tomé &amp; Príncipe'], 'Saint Thomas and Prince')\n",
    "data['nationality'] = data['nationality'].replace(['Saint Thomas and Prince'], 'Nigeria')"
   ]
  },
  {
   "cell_type": "code",
   "execution_count": 840,
   "metadata": {
    "tags": []
   },
   "outputs": [],
   "source": [
    "data['nationality'] = list(map(country_to_continent, data['nationality']))"
   ]
  },
  {
   "cell_type": "code",
   "execution_count": 841,
   "metadata": {},
   "outputs": [
    {
     "data": {
      "text/plain": [
       "array(['EU', 'AS', 'SA', 'NA', 'AF', 'OC'], dtype=object)"
      ]
     },
     "execution_count": 841,
     "metadata": {},
     "output_type": "execute_result"
    }
   ],
   "source": [
    "data['nationality'].unique()"
   ]
  },
  {
   "cell_type": "markdown",
   "metadata": {
    "tags": []
   },
   "source": [
    "### Col_date transformation"
   ]
  },
  {
   "cell_type": "code",
   "execution_count": 842,
   "metadata": {},
   "outputs": [],
   "source": [
    "data['joined'] = pd.to_datetime(data['joined'], errors='coerce')"
   ]
  },
  {
   "cell_type": "code",
   "execution_count": 843,
   "metadata": {},
   "outputs": [],
   "source": [
    "data['joined']=pd.DatetimeIndex(data['joined']).year"
   ]
  },
  {
   "cell_type": "code",
   "execution_count": 844,
   "metadata": {},
   "outputs": [
    {
     "data": {
      "text/plain": [
       "0        2015.0\n",
       "1        2015.0\n",
       "2        2019.0\n",
       "3        2016.0\n",
       "4        2018.0\n",
       "          ...  \n",
       "13695    2020.0\n",
       "13696    2017.0\n",
       "13697    2019.0\n",
       "13698    2020.0\n",
       "13699    2020.0\n",
       "Name: joined, Length: 13700, dtype: float64"
      ]
     },
     "execution_count": 844,
     "metadata": {},
     "output_type": "execute_result"
    }
   ],
   "source": [
    "data['joined']"
   ]
  },
  {
   "cell_type": "markdown",
   "metadata": {
    "tags": []
   },
   "source": [
    "### Col_split transformation"
   ]
  },
  {
   "cell_type": "code",
   "execution_count": 845,
   "metadata": {},
   "outputs": [],
   "source": [
    "list_of_splits = [[i, i + '_2'] for i in col_split]\n",
    "\n",
    "for pair in list_of_splits:\n",
    "    data[pair] = data[pair[0]].str.split(\"+\",expand=True,).astype(float)\n",
    "\n",
    "#data[['ls','ls_2']] = data.ls.str.split(\"+\",expand=True,)\n",
    "#data[['st','st_2']] = data.st.str.split(\"+\",expand=True,)\n",
    "#data[['rs','rs_2']] = data.rs.str.split(\"+\",expand=True,)\n",
    "#data[['lw','lw_2']] = data.lw.str.split(\"+\",expand=True,)\n",
    "#data[['lf','lf_2']] = data.lf.str.split(\"+\",expand=True,)\n",
    "#data[['cf','cf_2']] = data.cf.str.split(\"+\",expand=True,)\n",
    "#data[['rf','rf_2']] = data.rf.str.split(\"+\",expand=True,)\n",
    "#data[['rw','rw_2']] = data.rw.str.split(\"+\",expand=True,)\n",
    "#data[['lam','lam_2']] = data.lam.str.split(\"+\",expand=True,)\n",
    "#data[['cam','cam_2']] = data.cam.str.split(\"+\",expand=True,)\n",
    "#data[['ram','ram_2']] = data.ram.str.split(\"+\",expand=True,)\n",
    "#data[['lm','lm_2']] = data.lm.str.split(\"+\",expand=True,)\n",
    "#data[['lcm','lcm_2']] = data.lcm.str.split(\"+\",expand=True,)\n",
    "#data[['cm','cm_2']] = data.cm.str.split(\"+\",expand=True,)\n",
    "#data[['rcm','rcm_2']] = data.rcm.str.split(\"+\",expand=True,)\n",
    "#data[['rm','rm_v2']] = data.rm.str.split(\"+\",expand=True,)\n",
    "#data[['lwb','lwb_2']] = data.lwb.str.split(\"+\",expand=True,)\n",
    "#data[['ldm','ldm_2']] = data.ldm.str.split(\"+\",expand=True,)\n",
    "#data[['cdm','cdm_2']] = data.cdm.str.split(\"+\",expand=True,)\n",
    "#data[['rdm','rdm_2']] = data.rdm.str.split(\"+\",expand=True,)\n",
    "#data[['rwb','rwb_2']] = data.rwb.str.split(\"+\",expand=True,)\n",
    "#data[['lb','lb_2']] = data.lb.str.split(\"+\",expand=True,)\n",
    "#data[['lcb','lcb_2']] = data.lcb.str.split(\"+\",expand=True,)\n",
    "#data[['cb','cb_2']] = data.cb.str.split(\"+\",expand=True,)\n",
    "#data[['rcb','rcb_2']] = data.rcb.str.split(\"+\",expand=True,)\n",
    "#data[['rb','rb_2']] = data.rb.str.split(\"+\",expand=True,)\n",
    "#data[['gk','gk_2']] = data.gk.str.split(\"+\",expand=True,)"
   ]
  },
  {
   "cell_type": "code",
   "execution_count": 846,
   "metadata": {},
   "outputs": [
    {
     "data": {
      "text/plain": [
       "Index(['unnamed:_0', 'id', 'name', 'age', 'nationality', 'club', 'bp',\n",
       "       'position', 'team_&_contract', 'height',\n",
       "       ...\n",
       "       'ldm_2', 'cdm_2', 'rdm_2', 'rwb_2', 'lb_2', 'lcb_2', 'cb_2', 'rcb_2',\n",
       "       'rb_2', 'gk_2'],\n",
       "      dtype='object', length=129)"
      ]
     },
     "execution_count": 846,
     "metadata": {},
     "output_type": "execute_result"
    }
   ],
   "source": [
    "data.columns"
   ]
  },
  {
   "cell_type": "markdown",
   "metadata": {
    "tags": []
   },
   "source": [
    "### Transform height & weight"
   ]
  },
  {
   "cell_type": "code",
   "execution_count": 847,
   "metadata": {},
   "outputs": [],
   "source": [
    "def transform_height(c):\n",
    "    return float(c.split(\"'\")[0]) * 30.48 + float(c.split(\"'\")[1][:-1]) * 2.54"
   ]
  },
  {
   "cell_type": "code",
   "execution_count": 848,
   "metadata": {},
   "outputs": [
    {
     "data": {
      "text/plain": [
       "175.26"
      ]
     },
     "execution_count": 848,
     "metadata": {},
     "output_type": "execute_result"
    }
   ],
   "source": [
    "transform_height('5\\'9\\\"')"
   ]
  },
  {
   "cell_type": "code",
   "execution_count": 849,
   "metadata": {},
   "outputs": [],
   "source": [
    "data['height'] = list(map(transform_height, data['height']))"
   ]
  },
  {
   "cell_type": "code",
   "execution_count": 850,
   "metadata": {},
   "outputs": [],
   "source": [
    "def transform_weight(c):\n",
    "    return float(c.split('lbs')[0]) * 0.453592"
   ]
  },
  {
   "cell_type": "code",
   "execution_count": 851,
   "metadata": {},
   "outputs": [],
   "source": [
    "data['weight'] = list(map(transform_weight, data['weight']))"
   ]
  },
  {
   "cell_type": "markdown",
   "metadata": {
    "tags": []
   },
   "source": [
    "### Col_drop"
   ]
  },
  {
   "cell_type": "code",
   "execution_count": 852,
   "metadata": {},
   "outputs": [],
   "source": [
    "data = data.drop([\"unnamed:_0\", \"id\", \"name\", \"club\", \"loan_date_end\", \"position\", \"team_&_contract\", \"contract\"], axis=1)"
   ]
  },
  {
   "cell_type": "markdown",
   "metadata": {
    "tags": []
   },
   "source": [
    "## Deal with NaN"
   ]
  },
  {
   "cell_type": "code",
   "execution_count": 853,
   "metadata": {
    "tags": []
   },
   "outputs": [
    {
     "name": "stdout",
     "output_type": "stream",
     "text": [
      "[0, 0, 0, 0, 0, 0, 0, 44, 0, 0, 0, 0, 0, 0, 0, 0, 44, 0, 0, 44, 0, 0, 0, 0, 0, 0, 44, 0, 44, 0, 0, 44, 0, 0, 0, 0, 0, 7, 7, 44, 0, 329, 0, 0, 0, 44, 0, 0, 0, 0, 0, 0, 0, 0, 0, 0, 67, 67, 0, 0, 0, 0, 0, 0, 0, 0, 0, 0, 0, 0, 0, 0, 0, 0, 0, 0, 0, 0, 0, 0, 0, 0, 0, 0, 0, 0, 0, 0, 0, 0, 0, 0, 0, 0, 0, 0, 0, 0, 0, 0, 0, 0, 0, 0, 0, 0, 0, 0, 0, 0, 0, 0, 0, 0, 0, 0, 0, 0, 0, 0, 0]\n"
     ]
    }
   ],
   "source": [
    "print(list(data.isna().sum()))"
   ]
  },
  {
   "cell_type": "code",
   "execution_count": 854,
   "metadata": {
    "tags": []
   },
   "outputs": [
    {
     "name": "stdout",
     "output_type": "stream",
     "text": [
      "['joined', 'volleys', 'curve', 'agility', 'balance', 'jumping', 'interceptions', 'positioning', 'vision', 'composure', 'sliding_tackle', 'a/w', 'd/w']\n"
     ]
    }
   ],
   "source": [
    "print(list(data.columns[data.isna().any()]))"
   ]
  },
  {
   "cell_type": "code",
   "execution_count": 855,
   "metadata": {},
   "outputs": [
    {
     "name": "stdout",
     "output_type": "stream",
     "text": [
      "['nationality', 'bp', 'foot', 'w/f', 'sm', 'a/w', 'd/w', 'ir']\n"
     ]
    }
   ],
   "source": [
    "print(list(data.select_dtypes('object')))"
   ]
  },
  {
   "cell_type": "code",
   "execution_count": 856,
   "metadata": {
    "tags": []
   },
   "outputs": [],
   "source": [
    "col_num_with_Nan = ['joined', 'value', 'wage', 'volleys', 'curve', 'agility', 'balance', 'jumping', 'interceptions', 'positioning', 'vision', 'composure', 'sliding_tackle']\n",
    "col_num_with_Nan = ['a/w', 'd/w']"
   ]
  },
  {
   "cell_type": "markdown",
   "metadata": {
    "tags": []
   },
   "source": [
    "### Deal with numerical NaNs "
   ]
  },
  {
   "cell_type": "code",
   "execution_count": 857,
   "metadata": {},
   "outputs": [
    {
     "name": "stderr",
     "output_type": "stream",
     "text": [
      "C:\\Users\\SR133EX\\AppData\\Local\\Temp\\ipykernel_33776\\2189148093.py:2: FutureWarning: Dropping of nuisance columns in DataFrame reductions (with 'numeric_only=None') is deprecated; in a future version this will raise TypeError.  Select only valid columns before calling the reduction.\n",
      "  data = data.fillna(data.median())\n"
     ]
    }
   ],
   "source": [
    "# This code replaces all the nans with their respective columns' median\n",
    "data = data.fillna(data.median())"
   ]
  },
  {
   "cell_type": "markdown",
   "metadata": {
    "tags": []
   },
   "source": [
    "### Deal with categorical NaNs"
   ]
  },
  {
   "cell_type": "code",
   "execution_count": 858,
   "metadata": {},
   "outputs": [
    {
     "name": "stdout",
     "output_type": "stream",
     "text": [
      "['a/w', 'd/w']\n"
     ]
    }
   ],
   "source": [
    "print(list(data.columns[data.isna().any()]))"
   ]
  },
  {
   "cell_type": "code",
   "execution_count": 859,
   "metadata": {},
   "outputs": [
    {
     "data": {
      "text/plain": [
       "Medium    8808\n",
       "High      4143\n",
       "Low        682\n",
       "Name: a/w, dtype: int64"
      ]
     },
     "execution_count": 859,
     "metadata": {},
     "output_type": "execute_result"
    }
   ],
   "source": [
    "data['a/w'].value_counts()"
   ]
  },
  {
   "cell_type": "code",
   "execution_count": 860,
   "metadata": {},
   "outputs": [],
   "source": [
    "# filling with most common class\n",
    "data['a/w'] = data['a/w'].fillna('Medium')"
   ]
  },
  {
   "cell_type": "code",
   "execution_count": 861,
   "metadata": {},
   "outputs": [
    {
     "data": {
      "text/plain": [
       "Medium    9814\n",
       "High      2360\n",
       "Low       1459\n",
       "Name: d/w, dtype: int64"
      ]
     },
     "execution_count": 861,
     "metadata": {},
     "output_type": "execute_result"
    }
   ],
   "source": [
    "data['d/w'].value_counts()"
   ]
  },
  {
   "cell_type": "code",
   "execution_count": 862,
   "metadata": {},
   "outputs": [],
   "source": [
    "data['d/w'] = data['d/w'].fillna('Medium')"
   ]
  },
  {
   "cell_type": "markdown",
   "metadata": {
    "tags": []
   },
   "source": [
    "## Deal with Outliers"
   ]
  },
  {
   "cell_type": "code",
   "execution_count": 863,
   "metadata": {},
   "outputs": [
    {
     "name": "stdout",
     "output_type": "stream",
     "text": [
      "['nationality', 'bp', 'foot', 'w/f', 'sm', 'a/w', 'd/w', 'ir']\n"
     ]
    }
   ],
   "source": [
    "print(list(data.select_dtypes('object')))"
   ]
  },
  {
   "cell_type": "code",
   "execution_count": 864,
   "metadata": {},
   "outputs": [
    {
     "name": "stdout",
     "output_type": "stream",
     "text": [
      "['age', 'height', 'weight', 'growth', 'joined', 'value', 'wage', 'release_clause', 'attacking', 'crossing', 'finishing', 'heading_accuracy', 'short_passing', 'volleys', 'skill', 'dribbling', 'curve', 'fk_accuracy', 'long_passing', 'ball_control', 'movement', 'acceleration', 'sprint_speed', 'agility', 'reactions', 'balance', 'power', 'shot_power', 'jumping', 'stamina', 'strength', 'long_shots', 'mentality', 'aggression', 'interceptions', 'positioning', 'vision', 'penalties', 'composure', 'defending', 'marking', 'standing_tackle', 'sliding_tackle', 'goalkeeping', 'gk_diving', 'gk_handling', 'gk_kicking', 'gk_positioning', 'gk_reflexes', 'total_stats', 'base_stats', 'pac', 'sho', 'pas', 'dri', 'def', 'phy', 'hits', 'ls', 'st', 'rs', 'lw', 'lf', 'cf', 'rf', 'rw', 'lam', 'cam', 'ram', 'lm', 'lcm', 'cm', 'rcm', 'rm', 'lwb', 'ldm', 'cdm', 'rdm', 'rwb', 'lb', 'lcb', 'cb', 'rcb', 'rb', 'gk', 'ova', 'ls_2', 'st_2', 'rs_2', 'lw_2', 'lf_2', 'cf_2', 'rf_2', 'rw_2', 'lam_2', 'cam_2', 'ram_2', 'lm_2', 'lcm_2', 'cm_2', 'rcm_2', 'rm_2', 'lwb_2', 'ldm_2', 'cdm_2', 'rdm_2', 'rwb_2', 'lb_2', 'lcb_2', 'cb_2', 'rcb_2', 'rb_2', 'gk_2']\n"
     ]
    }
   ],
   "source": [
    "print(list(data._get_numeric_data()))"
   ]
  },
  {
   "cell_type": "code",
   "execution_count": 865,
   "metadata": {},
   "outputs": [],
   "source": [
    "categorical_col = ['nationality', 'bp', 'foot', 'w/f', 'sm', 'a/w', 'd/w', 'ir']\n",
    "numerical_col = ['age', 'height', 'weight', 'growth', 'joined', 'value', 'wage', 'release_clause', 'attacking', 'crossing', 'finishing', 'heading_accuracy', 'short_passing', 'volleys', 'skill', 'dribbling', 'curve', 'fk_accuracy', 'long_passing', 'ball_control', 'movement', 'acceleration', 'sprint_speed', 'agility', 'reactions', 'balance', 'power', 'shot_power', 'jumping', 'stamina', 'strength', 'long_shots', 'mentality', 'aggression', 'interceptions', 'positioning', 'vision', 'penalties', 'composure', 'defending', 'marking', 'standing_tackle', 'sliding_tackle', 'goalkeeping', 'gk_diving', 'gk_handling', 'gk_kicking', 'gk_positioning', 'gk_reflexes', 'total_stats', 'base_stats', 'pac', 'sho', 'pas', 'dri', 'def', 'phy', 'hits', 'ls', 'st', 'rs', 'lw', 'lf', 'cf', 'rf', 'rw', 'lam', 'cam', 'ram', 'lm', 'lcm', 'cm', 'rcm', 'rm', 'lwb', 'ldm', 'cdm', 'rdm', 'rwb', 'lb', 'lcb', 'cb', 'rcb', 'rb', 'gk', 'ls_2', 'st_2', 'rs_2', 'lw_2', 'lf_2', 'cf_2', 'rf_2', 'rw_2', 'lam_2', 'cam_2', 'ram_2', 'lm_2', 'lcm_2', 'cm_2', 'rcm_2', 'rm_2', 'lwb_2', 'ldm_2', 'cdm_2', 'rdm_2', 'rwb_2', 'lb_2', 'lcb_2', 'cb_2', 'rcb_2', 'rb_2', 'gk_2', 'ova']"
   ]
  },
  {
   "cell_type": "code",
   "execution_count": 866,
   "metadata": {},
   "outputs": [
    {
     "data": {
      "text/plain": [
       "<AxesSubplot:>"
      ]
     },
     "execution_count": 866,
     "metadata": {},
     "output_type": "execute_result"
    },
    {
     "data": {
      "image/png": "[encoded data removed]",
      "text/plain": [
       "<Figure size 432x288 with 1 Axes>"
      ]
     },
     "metadata": {
      "needs_background": "light"
     },
     "output_type": "display_data"
    }
   ],
   "source": [
    "data.boxplot(numerical_col)"
   ]
  },
  {
   "cell_type": "code",
   "execution_count": 867,
   "metadata": {},
   "outputs": [
    {
     "data": {
      "text/plain": [
       "<AxesSubplot:>"
      ]
     },
     "execution_count": 867,
     "metadata": {},
     "output_type": "execute_result"
    },
    {
     "data": {
      "image/png": "[encoded data removed]",
      "text/plain": [
       "<Figure size 432x288 with 1 Axes>"
      ]
     },
     "metadata": {
      "needs_background": "light"
     },
     "output_type": "display_data"
    }
   ],
   "source": [
    "numerical_col_v2 = ['age', 'height', 'weight', 'growth', 'joined', 'value', 'wage', 'release_clause','attacking', 'crossing']\n",
    "data.boxplot(numerical_col_v2)"
   ]
  },
  {
   "cell_type": "code",
   "execution_count": 868,
   "metadata": {},
   "outputs": [],
   "source": [
    "for x in ['value']:\n",
    "    q75,q25 = np.percentile(data.loc[:,x],[75,25])\n",
    "    intr_qr = q75-q25\n",
    " \n",
    "    max = q75+(1.5*intr_qr)\n",
    "    min = q25-(1.5*intr_qr)\n",
    " \n",
    "    data.loc[data[x] < min,x] = np.nan\n",
    "    data.loc[data[x] > max,x] = np.nan"
   ]
  },
  {
   "cell_type": "code",
   "execution_count": 869,
   "metadata": {},
   "outputs": [],
   "source": [
    "for x in ['release_clause']:\n",
    "    q75,q25 = np.percentile(data.loc[:,x],[75,25])\n",
    "    intr_qr = q75-q25\n",
    " \n",
    "    max = q75+(1.5*intr_qr)\n",
    "    min = q25-(1.5*intr_qr)\n",
    " \n",
    "    data.loc[data[x] < min,x] = np.nan\n",
    "    data.loc[data[x] > max,x] = np.nan"
   ]
  },
  {
   "cell_type": "code",
   "execution_count": 870,
   "metadata": {},
   "outputs": [
    {
     "name": "stdout",
     "output_type": "stream",
     "text": [
      "['value', 'release_clause']\n"
     ]
    }
   ],
   "source": [
    "print(list(data.columns[data.isna().any()]))"
   ]
  },
  {
   "cell_type": "code",
   "execution_count": 871,
   "metadata": {},
   "outputs": [
    {
     "data": {
      "text/plain": [
       "(13700, 121)"
      ]
     },
     "execution_count": 871,
     "metadata": {},
     "output_type": "execute_result"
    }
   ],
   "source": [
    "data.shape"
   ]
  },
  {
   "cell_type": "code",
   "execution_count": 872,
   "metadata": {},
   "outputs": [
    {
     "name": "stdout",
     "output_type": "stream",
     "text": [
      "[0, 0, 0, 0, 0, 0, 0, 0, 1835, 0, 1866, 0, 0, 0, 0, 0, 0, 0, 0, 0, 0, 0, 0, 0, 0, 0, 0, 0, 0, 0, 0, 0, 0, 0, 0, 0, 0, 0, 0, 0, 0, 0, 0, 0, 0, 0, 0, 0, 0, 0, 0, 0, 0, 0, 0, 0, 0, 0, 0, 0, 0, 0, 0, 0, 0, 0, 0, 0, 0, 0, 0, 0, 0, 0, 0, 0, 0, 0, 0, 0, 0, 0, 0, 0, 0, 0, 0, 0, 0, 0, 0, 0, 0, 0, 0, 0, 0, 0, 0, 0, 0, 0, 0, 0, 0, 0, 0, 0, 0, 0, 0, 0, 0, 0, 0, 0, 0, 0, 0, 0, 0]\n"
     ]
    }
   ],
   "source": [
    "print(list(data.isna().sum()))"
   ]
  },
  {
   "cell_type": "code",
   "execution_count": 873,
   "metadata": {},
   "outputs": [],
   "source": [
    "data = data.dropna(axis = 0)"
   ]
  },
  {
   "cell_type": "code",
   "execution_count": 874,
   "metadata": {},
   "outputs": [
    {
     "name": "stdout",
     "output_type": "stream",
     "text": [
      "[0, 0, 0, 0, 0, 0, 0, 0, 0, 0, 0, 0, 0, 0, 0, 0, 0, 0, 0, 0, 0, 0, 0, 0, 0, 0, 0, 0, 0, 0, 0, 0, 0, 0, 0, 0, 0, 0, 0, 0, 0, 0, 0, 0, 0, 0, 0, 0, 0, 0, 0, 0, 0, 0, 0, 0, 0, 0, 0, 0, 0, 0, 0, 0, 0, 0, 0, 0, 0, 0, 0, 0, 0, 0, 0, 0, 0, 0, 0, 0, 0, 0, 0, 0, 0, 0, 0, 0, 0, 0, 0, 0, 0, 0, 0, 0, 0, 0, 0, 0, 0, 0, 0, 0, 0, 0, 0, 0, 0, 0, 0, 0, 0, 0, 0, 0, 0, 0, 0, 0, 0]\n"
     ]
    }
   ],
   "source": [
    "print(list(data.isna().sum()))"
   ]
  },
  {
   "cell_type": "markdown",
   "metadata": {
    "tags": []
   },
   "source": [
    "## Standarize"
   ]
  },
  {
   "cell_type": "code",
   "execution_count": 875,
   "metadata": {},
   "outputs": [],
   "source": [
    "from sklearn.preprocessing import StandardScaler"
   ]
  },
  {
   "cell_type": "code",
   "execution_count": 876,
   "metadata": {},
   "outputs": [],
   "source": [
    "for c in numerical_col[:-1]:   # we'll normalize all column except the last one (the target column)\n",
    "    data[c]=StandardScaler().fit_transform(data[c].values.reshape(-1, 1))"
   ]
  },
  {
   "cell_type": "markdown",
   "metadata": {
    "tags": []
   },
   "source": [
    "## Encoding Categorical Data"
   ]
  },
  {
   "cell_type": "code",
   "execution_count": 877,
   "metadata": {},
   "outputs": [
    {
     "data": {
      "text/html": [
       "<div>\n",
       "<style scoped>\n",
       "    .dataframe tbody tr th:only-of-type {\n",
       "        vertical-align: middle;\n",
       "    }\n",
       "\n",
       "    .dataframe tbody tr th {\n",
       "        vertical-align: top;\n",
       "    }\n",
       "\n",
       "    .dataframe thead th {\n",
       "        text-align: right;\n",
       "    }\n",
       "</style>\n",
       "<table border=\"1\" class=\"dataframe\">\n",
       "  <thead>\n",
       "    <tr style=\"text-align: right;\">\n",
       "      <th></th>\n",
       "      <th>nationality_AS</th>\n",
       "      <th>nationality_EU</th>\n",
       "      <th>nationality_NA</th>\n",
       "      <th>nationality_OC</th>\n",
       "      <th>nationality_SA</th>\n",
       "      <th>bp_CB</th>\n",
       "      <th>bp_CDM</th>\n",
       "      <th>bp_CF</th>\n",
       "      <th>bp_CM</th>\n",
       "      <th>bp_GK</th>\n",
       "      <th>bp_LB</th>\n",
       "      <th>bp_LM</th>\n",
       "      <th>bp_LW</th>\n",
       "      <th>bp_LWB</th>\n",
       "      <th>bp_RB</th>\n",
       "      <th>bp_RM</th>\n",
       "      <th>bp_RW</th>\n",
       "      <th>bp_RWB</th>\n",
       "      <th>bp_ST</th>\n",
       "      <th>foot_Right</th>\n",
       "      <th>w/f_2</th>\n",
       "      <th>w/f_3</th>\n",
       "      <th>w/f_4</th>\n",
       "      <th>w/f_5</th>\n",
       "      <th>sm_2</th>\n",
       "      <th>sm_3</th>\n",
       "      <th>sm_4</th>\n",
       "      <th>sm_5</th>\n",
       "      <th>a/w_Low</th>\n",
       "      <th>a/w_Medium</th>\n",
       "      <th>d/w_Low</th>\n",
       "      <th>d/w_Medium</th>\n",
       "      <th>ir_2</th>\n",
       "      <th>ir_3</th>\n",
       "      <th>ir_4</th>\n",
       "      <th>ir_5</th>\n",
       "    </tr>\n",
       "  </thead>\n",
       "  <tbody>\n",
       "    <tr>\n",
       "      <th>0</th>\n",
       "      <td>0</td>\n",
       "      <td>1</td>\n",
       "      <td>0</td>\n",
       "      <td>0</td>\n",
       "      <td>0</td>\n",
       "      <td>0</td>\n",
       "      <td>0</td>\n",
       "      <td>0</td>\n",
       "      <td>1</td>\n",
       "      <td>0</td>\n",
       "      <td>0</td>\n",
       "      <td>0</td>\n",
       "      <td>0</td>\n",
       "      <td>0</td>\n",
       "      <td>0</td>\n",
       "      <td>0</td>\n",
       "      <td>0</td>\n",
       "      <td>0</td>\n",
       "      <td>0</td>\n",
       "      <td>1</td>\n",
       "      <td>0</td>\n",
       "      <td>0</td>\n",
       "      <td>1</td>\n",
       "      <td>0</td>\n",
       "      <td>1</td>\n",
       "      <td>0</td>\n",
       "      <td>0</td>\n",
       "      <td>0</td>\n",
       "      <td>0</td>\n",
       "      <td>0</td>\n",
       "      <td>0</td>\n",
       "      <td>1</td>\n",
       "      <td>0</td>\n",
       "      <td>0</td>\n",
       "      <td>0</td>\n",
       "      <td>0</td>\n",
       "    </tr>\n",
       "    <tr>\n",
       "      <th>3</th>\n",
       "      <td>0</td>\n",
       "      <td>1</td>\n",
       "      <td>0</td>\n",
       "      <td>0</td>\n",
       "      <td>0</td>\n",
       "      <td>0</td>\n",
       "      <td>1</td>\n",
       "      <td>0</td>\n",
       "      <td>0</td>\n",
       "      <td>0</td>\n",
       "      <td>0</td>\n",
       "      <td>0</td>\n",
       "      <td>0</td>\n",
       "      <td>0</td>\n",
       "      <td>0</td>\n",
       "      <td>0</td>\n",
       "      <td>0</td>\n",
       "      <td>0</td>\n",
       "      <td>0</td>\n",
       "      <td>1</td>\n",
       "      <td>1</td>\n",
       "      <td>0</td>\n",
       "      <td>0</td>\n",
       "      <td>0</td>\n",
       "      <td>1</td>\n",
       "      <td>0</td>\n",
       "      <td>0</td>\n",
       "      <td>0</td>\n",
       "      <td>0</td>\n",
       "      <td>1</td>\n",
       "      <td>0</td>\n",
       "      <td>1</td>\n",
       "      <td>0</td>\n",
       "      <td>0</td>\n",
       "      <td>0</td>\n",
       "      <td>0</td>\n",
       "    </tr>\n",
       "    <tr>\n",
       "      <th>4</th>\n",
       "      <td>0</td>\n",
       "      <td>1</td>\n",
       "      <td>0</td>\n",
       "      <td>0</td>\n",
       "      <td>0</td>\n",
       "      <td>0</td>\n",
       "      <td>1</td>\n",
       "      <td>0</td>\n",
       "      <td>0</td>\n",
       "      <td>0</td>\n",
       "      <td>0</td>\n",
       "      <td>0</td>\n",
       "      <td>0</td>\n",
       "      <td>0</td>\n",
       "      <td>0</td>\n",
       "      <td>0</td>\n",
       "      <td>0</td>\n",
       "      <td>0</td>\n",
       "      <td>0</td>\n",
       "      <td>1</td>\n",
       "      <td>1</td>\n",
       "      <td>0</td>\n",
       "      <td>0</td>\n",
       "      <td>0</td>\n",
       "      <td>0</td>\n",
       "      <td>1</td>\n",
       "      <td>0</td>\n",
       "      <td>0</td>\n",
       "      <td>1</td>\n",
       "      <td>0</td>\n",
       "      <td>0</td>\n",
       "      <td>1</td>\n",
       "      <td>0</td>\n",
       "      <td>0</td>\n",
       "      <td>0</td>\n",
       "      <td>0</td>\n",
       "    </tr>\n",
       "    <tr>\n",
       "      <th>5</th>\n",
       "      <td>1</td>\n",
       "      <td>0</td>\n",
       "      <td>0</td>\n",
       "      <td>0</td>\n",
       "      <td>0</td>\n",
       "      <td>0</td>\n",
       "      <td>0</td>\n",
       "      <td>0</td>\n",
       "      <td>0</td>\n",
       "      <td>0</td>\n",
       "      <td>0</td>\n",
       "      <td>1</td>\n",
       "      <td>0</td>\n",
       "      <td>0</td>\n",
       "      <td>0</td>\n",
       "      <td>0</td>\n",
       "      <td>0</td>\n",
       "      <td>0</td>\n",
       "      <td>0</td>\n",
       "      <td>1</td>\n",
       "      <td>0</td>\n",
       "      <td>0</td>\n",
       "      <td>1</td>\n",
       "      <td>0</td>\n",
       "      <td>0</td>\n",
       "      <td>1</td>\n",
       "      <td>0</td>\n",
       "      <td>0</td>\n",
       "      <td>0</td>\n",
       "      <td>0</td>\n",
       "      <td>1</td>\n",
       "      <td>0</td>\n",
       "      <td>0</td>\n",
       "      <td>0</td>\n",
       "      <td>0</td>\n",
       "      <td>0</td>\n",
       "    </tr>\n",
       "    <tr>\n",
       "      <th>7</th>\n",
       "      <td>0</td>\n",
       "      <td>1</td>\n",
       "      <td>0</td>\n",
       "      <td>0</td>\n",
       "      <td>0</td>\n",
       "      <td>0</td>\n",
       "      <td>0</td>\n",
       "      <td>0</td>\n",
       "      <td>0</td>\n",
       "      <td>0</td>\n",
       "      <td>0</td>\n",
       "      <td>1</td>\n",
       "      <td>0</td>\n",
       "      <td>0</td>\n",
       "      <td>0</td>\n",
       "      <td>0</td>\n",
       "      <td>0</td>\n",
       "      <td>0</td>\n",
       "      <td>0</td>\n",
       "      <td>0</td>\n",
       "      <td>1</td>\n",
       "      <td>0</td>\n",
       "      <td>0</td>\n",
       "      <td>0</td>\n",
       "      <td>1</td>\n",
       "      <td>0</td>\n",
       "      <td>0</td>\n",
       "      <td>0</td>\n",
       "      <td>0</td>\n",
       "      <td>1</td>\n",
       "      <td>0</td>\n",
       "      <td>1</td>\n",
       "      <td>0</td>\n",
       "      <td>0</td>\n",
       "      <td>0</td>\n",
       "      <td>0</td>\n",
       "    </tr>\n",
       "  </tbody>\n",
       "</table>\n",
       "</div>"
      ],
      "text/plain": [
       "   nationality_AS  nationality_EU  nationality_NA  nationality_OC  \\\n",
       "0               0               1               0               0   \n",
       "3               0               1               0               0   \n",
       "4               0               1               0               0   \n",
       "5               1               0               0               0   \n",
       "7               0               1               0               0   \n",
       "\n",
       "   nationality_SA  bp_CB  bp_CDM  bp_CF  bp_CM  bp_GK  bp_LB  bp_LM  bp_LW  \\\n",
       "0               0      0       0      0      1      0      0      0      0   \n",
       "3               0      0       1      0      0      0      0      0      0   \n",
       "4               0      0       1      0      0      0      0      0      0   \n",
       "5               0      0       0      0      0      0      0      1      0   \n",
       "7               0      0       0      0      0      0      0      1      0   \n",
       "\n",
       "   bp_LWB  bp_RB  bp_RM  bp_RW  bp_RWB  bp_ST  foot_Right  w/f_2  w/f_3  \\\n",
       "0       0      0      0      0       0      0           1      0      0   \n",
       "3       0      0      0      0       0      0           1      1      0   \n",
       "4       0      0      0      0       0      0           1      1      0   \n",
       "5       0      0      0      0       0      0           1      0      0   \n",
       "7       0      0      0      0       0      0           0      1      0   \n",
       "\n",
       "   w/f_4  w/f_5  sm_2  sm_3  sm_4  sm_5  a/w_Low  a/w_Medium  d/w_Low  \\\n",
       "0      1      0     1     0     0     0        0           0        0   \n",
       "3      0      0     1     0     0     0        0           1        0   \n",
       "4      0      0     0     1     0     0        1           0        0   \n",
       "5      1      0     0     1     0     0        0           0        1   \n",
       "7      0      0     1     0     0     0        0           1        0   \n",
       "\n",
       "   d/w_Medium  ir_2  ir_3  ir_4  ir_5  \n",
       "0           1     0     0     0     0  \n",
       "3           1     0     0     0     0  \n",
       "4           1     0     0     0     0  \n",
       "5           0     0     0     0     0  \n",
       "7           1     0     0     0     0  "
      ]
     },
     "execution_count": 877,
     "metadata": {},
     "output_type": "execute_result"
    }
   ],
   "source": [
    "one_hot_data=pd.get_dummies(data[categorical_col], drop_first=True)   # one hot encoding categorical variables\n",
    "\n",
    "one_hot_data.head()"
   ]
  },
  {
   "cell_type": "markdown",
   "metadata": {},
   "source": [
    "## Concat numerical and categorical DataFrames"
   ]
  },
  {
   "cell_type": "code",
   "execution_count": 878,
   "metadata": {},
   "outputs": [
    {
     "data": {
      "text/html": [
       "<div>\n",
       "<style scoped>\n",
       "    .dataframe tbody tr th:only-of-type {\n",
       "        vertical-align: middle;\n",
       "    }\n",
       "\n",
       "    .dataframe tbody tr th {\n",
       "        vertical-align: top;\n",
       "    }\n",
       "\n",
       "    .dataframe thead th {\n",
       "        text-align: right;\n",
       "    }\n",
       "</style>\n",
       "<table border=\"1\" class=\"dataframe\">\n",
       "  <thead>\n",
       "    <tr style=\"text-align: right;\">\n",
       "      <th></th>\n",
       "      <th>age</th>\n",
       "      <th>height</th>\n",
       "      <th>weight</th>\n",
       "      <th>growth</th>\n",
       "      <th>joined</th>\n",
       "      <th>value</th>\n",
       "      <th>wage</th>\n",
       "      <th>release_clause</th>\n",
       "      <th>attacking</th>\n",
       "      <th>crossing</th>\n",
       "      <th>finishing</th>\n",
       "      <th>heading_accuracy</th>\n",
       "      <th>short_passing</th>\n",
       "      <th>volleys</th>\n",
       "      <th>skill</th>\n",
       "      <th>dribbling</th>\n",
       "      <th>curve</th>\n",
       "      <th>fk_accuracy</th>\n",
       "      <th>long_passing</th>\n",
       "      <th>ball_control</th>\n",
       "      <th>movement</th>\n",
       "      <th>acceleration</th>\n",
       "      <th>sprint_speed</th>\n",
       "      <th>agility</th>\n",
       "      <th>reactions</th>\n",
       "      <th>balance</th>\n",
       "      <th>power</th>\n",
       "      <th>shot_power</th>\n",
       "      <th>jumping</th>\n",
       "      <th>stamina</th>\n",
       "      <th>strength</th>\n",
       "      <th>long_shots</th>\n",
       "      <th>mentality</th>\n",
       "      <th>aggression</th>\n",
       "      <th>interceptions</th>\n",
       "      <th>positioning</th>\n",
       "      <th>vision</th>\n",
       "      <th>penalties</th>\n",
       "      <th>composure</th>\n",
       "      <th>defending</th>\n",
       "      <th>marking</th>\n",
       "      <th>standing_tackle</th>\n",
       "      <th>sliding_tackle</th>\n",
       "      <th>goalkeeping</th>\n",
       "      <th>gk_diving</th>\n",
       "      <th>gk_handling</th>\n",
       "      <th>gk_kicking</th>\n",
       "      <th>gk_positioning</th>\n",
       "      <th>gk_reflexes</th>\n",
       "      <th>total_stats</th>\n",
       "      <th>base_stats</th>\n",
       "      <th>pac</th>\n",
       "      <th>sho</th>\n",
       "      <th>pas</th>\n",
       "      <th>dri</th>\n",
       "      <th>def</th>\n",
       "      <th>phy</th>\n",
       "      <th>hits</th>\n",
       "      <th>ls</th>\n",
       "      <th>st</th>\n",
       "      <th>rs</th>\n",
       "      <th>lw</th>\n",
       "      <th>lf</th>\n",
       "      <th>cf</th>\n",
       "      <th>rf</th>\n",
       "      <th>rw</th>\n",
       "      <th>lam</th>\n",
       "      <th>cam</th>\n",
       "      <th>ram</th>\n",
       "      <th>lm</th>\n",
       "      <th>lcm</th>\n",
       "      <th>cm</th>\n",
       "      <th>rcm</th>\n",
       "      <th>rm</th>\n",
       "      <th>lwb</th>\n",
       "      <th>ldm</th>\n",
       "      <th>cdm</th>\n",
       "      <th>rdm</th>\n",
       "      <th>rwb</th>\n",
       "      <th>lb</th>\n",
       "      <th>lcb</th>\n",
       "      <th>cb</th>\n",
       "      <th>rcb</th>\n",
       "      <th>rb</th>\n",
       "      <th>gk</th>\n",
       "      <th>ova</th>\n",
       "      <th>ls_2</th>\n",
       "      <th>st_2</th>\n",
       "      <th>rs_2</th>\n",
       "      <th>lw_2</th>\n",
       "      <th>lf_2</th>\n",
       "      <th>cf_2</th>\n",
       "      <th>rf_2</th>\n",
       "      <th>rw_2</th>\n",
       "      <th>lam_2</th>\n",
       "      <th>cam_2</th>\n",
       "      <th>ram_2</th>\n",
       "      <th>lm_2</th>\n",
       "      <th>lcm_2</th>\n",
       "      <th>cm_2</th>\n",
       "      <th>rcm_2</th>\n",
       "      <th>rm_2</th>\n",
       "      <th>lwb_2</th>\n",
       "      <th>ldm_2</th>\n",
       "      <th>cdm_2</th>\n",
       "      <th>rdm_2</th>\n",
       "      <th>rwb_2</th>\n",
       "      <th>lb_2</th>\n",
       "      <th>lcb_2</th>\n",
       "      <th>cb_2</th>\n",
       "      <th>rcb_2</th>\n",
       "      <th>rb_2</th>\n",
       "      <th>gk_2</th>\n",
       "      <th>nationality_AS</th>\n",
       "      <th>nationality_EU</th>\n",
       "      <th>nationality_NA</th>\n",
       "      <th>nationality_OC</th>\n",
       "      <th>nationality_SA</th>\n",
       "      <th>bp_CB</th>\n",
       "      <th>bp_CDM</th>\n",
       "      <th>bp_CF</th>\n",
       "      <th>bp_CM</th>\n",
       "      <th>bp_GK</th>\n",
       "      <th>bp_LB</th>\n",
       "      <th>bp_LM</th>\n",
       "      <th>bp_LW</th>\n",
       "      <th>bp_LWB</th>\n",
       "      <th>bp_RB</th>\n",
       "      <th>bp_RM</th>\n",
       "      <th>bp_RW</th>\n",
       "      <th>bp_RWB</th>\n",
       "      <th>bp_ST</th>\n",
       "      <th>foot_Right</th>\n",
       "      <th>w/f_2</th>\n",
       "      <th>w/f_3</th>\n",
       "      <th>w/f_4</th>\n",
       "      <th>w/f_5</th>\n",
       "      <th>sm_2</th>\n",
       "      <th>sm_3</th>\n",
       "      <th>sm_4</th>\n",
       "      <th>sm_5</th>\n",
       "      <th>a/w_Low</th>\n",
       "      <th>a/w_Medium</th>\n",
       "      <th>d/w_Low</th>\n",
       "      <th>d/w_Medium</th>\n",
       "      <th>ir_2</th>\n",
       "      <th>ir_3</th>\n",
       "      <th>ir_4</th>\n",
       "      <th>ir_5</th>\n",
       "    </tr>\n",
       "  </thead>\n",
       "  <tbody>\n",
       "    <tr>\n",
       "      <th>0</th>\n",
       "      <td>0.178228</td>\n",
       "      <td>-0.868062</td>\n",
       "      <td>-0.282955</td>\n",
       "      <td>-0.827914</td>\n",
       "      <td>-1.219843</td>\n",
       "      <td>-0.474575</td>\n",
       "      <td>-0.196013</td>\n",
       "      <td>-0.468961</td>\n",
       "      <td>0.115811</td>\n",
       "      <td>0.248179</td>\n",
       "      <td>0.038312</td>\n",
       "      <td>-0.561822</td>\n",
       "      <td>0.854232</td>\n",
       "      <td>0.044159</td>\n",
       "      <td>0.394915</td>\n",
       "      <td>0.293729</td>\n",
       "      <td>-0.205364</td>\n",
       "      <td>0.728581</td>\n",
       "      <td>0.744070</td>\n",
       "      <td>0.280058</td>\n",
       "      <td>0.538222</td>\n",
       "      <td>-0.030593</td>\n",
       "      <td>0.588062</td>\n",
       "      <td>-0.174695</td>\n",
       "      <td>0.641227</td>\n",
       "      <td>1.284548</td>\n",
       "      <td>0.216302</td>\n",
       "      <td>0.314842</td>\n",
       "      <td>0.722269</td>\n",
       "      <td>0.605559</td>\n",
       "      <td>-0.751232</td>\n",
       "      <td>-0.116169</td>\n",
       "      <td>0.602219</td>\n",
       "      <td>-0.090568</td>\n",
       "      <td>0.324048</td>\n",
       "      <td>0.623612</td>\n",
       "      <td>1.122564</td>\n",
       "      <td>0.322689</td>\n",
       "      <td>-0.359687</td>\n",
       "      <td>0.183130</td>\n",
       "      <td>0.170934</td>\n",
       "      <td>0.439643</td>\n",
       "      <td>-0.087330</td>\n",
       "      <td>-0.373578</td>\n",
       "      <td>-0.520524</td>\n",
       "      <td>-0.222248</td>\n",
       "      <td>-0.098611</td>\n",
       "      <td>-0.406704</td>\n",
       "      <td>-0.580543</td>\n",
       "      <td>0.383749</td>\n",
       "      <td>0.121574</td>\n",
       "      <td>0.165547</td>\n",
       "      <td>-0.173719</td>\n",
       "      <td>0.630803</td>\n",
       "      <td>0.056780</td>\n",
       "      <td>0.136263</td>\n",
       "      <td>-0.401508</td>\n",
       "      <td>-0.162636</td>\n",
       "      <td>0.255949</td>\n",
       "      <td>0.255949</td>\n",
       "      <td>0.255949</td>\n",
       "      <td>0.391366</td>\n",
       "      <td>0.491253</td>\n",
       "      <td>0.491253</td>\n",
       "      <td>0.491253</td>\n",
       "      <td>0.391366</td>\n",
       "      <td>0.554499</td>\n",
       "      <td>0.554499</td>\n",
       "      <td>0.554499</td>\n",
       "      <td>0.515443</td>\n",
       "      <td>0.673142</td>\n",
       "      <td>0.673142</td>\n",
       "      <td>0.673142</td>\n",
       "      <td>0.515443</td>\n",
       "      <td>0.425467</td>\n",
       "      <td>0.453400</td>\n",
       "      <td>0.453400</td>\n",
       "      <td>0.453400</td>\n",
       "      <td>0.425467</td>\n",
       "      <td>0.393915</td>\n",
       "      <td>0.151686</td>\n",
       "      <td>0.151686</td>\n",
       "      <td>0.151686</td>\n",
       "      <td>0.393915</td>\n",
       "      <td>-0.387849</td>\n",
       "      <td>64</td>\n",
       "      <td>-1.284429</td>\n",
       "      <td>-1.284429</td>\n",
       "      <td>-1.284429</td>\n",
       "      <td>0.091373</td>\n",
       "      <td>0.060882</td>\n",
       "      <td>0.060882</td>\n",
       "      <td>0.060882</td>\n",
       "      <td>0.091373</td>\n",
       "      <td>-1.161948</td>\n",
       "      <td>-1.161948</td>\n",
       "      <td>-1.161948</td>\n",
       "      <td>-1.245833</td>\n",
       "      <td>-1.567690</td>\n",
       "      <td>-1.567690</td>\n",
       "      <td>-1.567690</td>\n",
       "      <td>-1.245833</td>\n",
       "      <td>-1.697533</td>\n",
       "      <td>-1.440897</td>\n",
       "      <td>-1.440897</td>\n",
       "      <td>-1.440897</td>\n",
       "      <td>-1.697533</td>\n",
       "      <td>-1.938320</td>\n",
       "      <td>-1.061606</td>\n",
       "      <td>-1.061606</td>\n",
       "      <td>-1.061606</td>\n",
       "      <td>-1.938320</td>\n",
       "      <td>-2.167185</td>\n",
       "      <td>0</td>\n",
       "      <td>1</td>\n",
       "      <td>0</td>\n",
       "      <td>0</td>\n",
       "      <td>0</td>\n",
       "      <td>0</td>\n",
       "      <td>0</td>\n",
       "      <td>0</td>\n",
       "      <td>1</td>\n",
       "      <td>0</td>\n",
       "      <td>0</td>\n",
       "      <td>0</td>\n",
       "      <td>0</td>\n",
       "      <td>0</td>\n",
       "      <td>0</td>\n",
       "      <td>0</td>\n",
       "      <td>0</td>\n",
       "      <td>0</td>\n",
       "      <td>0</td>\n",
       "      <td>1</td>\n",
       "      <td>0</td>\n",
       "      <td>0</td>\n",
       "      <td>1</td>\n",
       "      <td>0</td>\n",
       "      <td>1</td>\n",
       "      <td>0</td>\n",
       "      <td>0</td>\n",
       "      <td>0</td>\n",
       "      <td>0</td>\n",
       "      <td>0</td>\n",
       "      <td>0</td>\n",
       "      <td>1</td>\n",
       "      <td>0</td>\n",
       "      <td>0</td>\n",
       "      <td>0</td>\n",
       "      <td>0</td>\n",
       "    </tr>\n",
       "    <tr>\n",
       "      <th>3</th>\n",
       "      <td>-0.605197</td>\n",
       "      <td>-0.499616</td>\n",
       "      <td>-0.854998</td>\n",
       "      <td>1.175846</td>\n",
       "      <td>-0.806054</td>\n",
       "      <td>-0.711205</td>\n",
       "      <td>-0.196013</td>\n",
       "      <td>-0.524952</td>\n",
       "      <td>-0.115757</td>\n",
       "      <td>-0.334341</td>\n",
       "      <td>-0.227815</td>\n",
       "      <td>0.343072</td>\n",
       "      <td>0.255292</td>\n",
       "      <td>-0.428214</td>\n",
       "      <td>0.026046</td>\n",
       "      <td>-0.107837</td>\n",
       "      <td>-0.379144</td>\n",
       "      <td>0.191880</td>\n",
       "      <td>0.324454</td>\n",
       "      <td>0.149154</td>\n",
       "      <td>-0.644765</td>\n",
       "      <td>-0.710006</td>\n",
       "      <td>-0.377643</td>\n",
       "      <td>-0.314451</td>\n",
       "      <td>-0.744062</td>\n",
       "      <td>-0.647978</td>\n",
       "      <td>-0.389635</td>\n",
       "      <td>-0.070001</td>\n",
       "      <td>-0.377904</td>\n",
       "      <td>0.144419</td>\n",
       "      <td>-0.516001</td>\n",
       "      <td>-0.497432</td>\n",
       "      <td>0.053699</td>\n",
       "      <td>0.328119</td>\n",
       "      <td>0.571609</td>\n",
       "      <td>-1.061152</td>\n",
       "      <td>0.038895</td>\n",
       "      <td>0.322689</td>\n",
       "      <td>-0.915394</td>\n",
       "      <td>0.517645</td>\n",
       "      <td>0.476699</td>\n",
       "      <td>0.535312</td>\n",
       "      <td>0.497525</td>\n",
       "      <td>-0.448351</td>\n",
       "      <td>-0.460451</td>\n",
       "      <td>-0.410137</td>\n",
       "      <td>-0.602079</td>\n",
       "      <td>-0.530218</td>\n",
       "      <td>-0.226091</td>\n",
       "      <td>-0.251860</td>\n",
       "      <td>-0.666421</td>\n",
       "      <td>-0.926752</td>\n",
       "      <td>-0.702710</td>\n",
       "      <td>-0.331469</td>\n",
       "      <td>-0.608193</td>\n",
       "      <td>0.505273</td>\n",
       "      <td>-0.401508</td>\n",
       "      <td>-0.110042</td>\n",
       "      <td>-0.385030</td>\n",
       "      <td>-0.385030</td>\n",
       "      <td>-0.385030</td>\n",
       "      <td>-0.352723</td>\n",
       "      <td>-0.352380</td>\n",
       "      <td>-0.352380</td>\n",
       "      <td>-0.352380</td>\n",
       "      <td>-0.352723</td>\n",
       "      <td>-0.222095</td>\n",
       "      <td>-0.222095</td>\n",
       "      <td>-0.222095</td>\n",
       "      <td>-0.260950</td>\n",
       "      <td>0.091145</td>\n",
       "      <td>0.091145</td>\n",
       "      <td>0.091145</td>\n",
       "      <td>-0.260950</td>\n",
       "      <td>0.189872</td>\n",
       "      <td>0.376067</td>\n",
       "      <td>0.376067</td>\n",
       "      <td>0.376067</td>\n",
       "      <td>0.189872</td>\n",
       "      <td>0.317314</td>\n",
       "      <td>0.435001</td>\n",
       "      <td>0.435001</td>\n",
       "      <td>0.435001</td>\n",
       "      <td>0.317314</td>\n",
       "      <td>-0.457249</td>\n",
       "      <td>59</td>\n",
       "      <td>0.380471</td>\n",
       "      <td>0.380471</td>\n",
       "      <td>0.380471</td>\n",
       "      <td>0.091373</td>\n",
       "      <td>0.060882</td>\n",
       "      <td>0.060882</td>\n",
       "      <td>0.060882</td>\n",
       "      <td>0.091373</td>\n",
       "      <td>0.367599</td>\n",
       "      <td>0.367599</td>\n",
       "      <td>0.367599</td>\n",
       "      <td>0.380764</td>\n",
       "      <td>0.333053</td>\n",
       "      <td>0.333053</td>\n",
       "      <td>0.333053</td>\n",
       "      <td>0.380764</td>\n",
       "      <td>0.308408</td>\n",
       "      <td>0.321473</td>\n",
       "      <td>0.321473</td>\n",
       "      <td>0.321473</td>\n",
       "      <td>0.308408</td>\n",
       "      <td>0.280374</td>\n",
       "      <td>0.377676</td>\n",
       "      <td>0.377676</td>\n",
       "      <td>0.377676</td>\n",
       "      <td>0.280374</td>\n",
       "      <td>0.299948</td>\n",
       "      <td>0</td>\n",
       "      <td>1</td>\n",
       "      <td>0</td>\n",
       "      <td>0</td>\n",
       "      <td>0</td>\n",
       "      <td>0</td>\n",
       "      <td>1</td>\n",
       "      <td>0</td>\n",
       "      <td>0</td>\n",
       "      <td>0</td>\n",
       "      <td>0</td>\n",
       "      <td>0</td>\n",
       "      <td>0</td>\n",
       "      <td>0</td>\n",
       "      <td>0</td>\n",
       "      <td>0</td>\n",
       "      <td>0</td>\n",
       "      <td>0</td>\n",
       "      <td>0</td>\n",
       "      <td>1</td>\n",
       "      <td>1</td>\n",
       "      <td>0</td>\n",
       "      <td>0</td>\n",
       "      <td>0</td>\n",
       "      <td>1</td>\n",
       "      <td>0</td>\n",
       "      <td>0</td>\n",
       "      <td>0</td>\n",
       "      <td>0</td>\n",
       "      <td>1</td>\n",
       "      <td>0</td>\n",
       "      <td>1</td>\n",
       "      <td>0</td>\n",
       "      <td>0</td>\n",
       "      <td>0</td>\n",
       "      <td>0</td>\n",
       "    </tr>\n",
       "    <tr>\n",
       "      <th>4</th>\n",
       "      <td>-0.409341</td>\n",
       "      <td>-0.131169</td>\n",
       "      <td>-0.982119</td>\n",
       "      <td>0.340946</td>\n",
       "      <td>0.021525</td>\n",
       "      <td>-0.285270</td>\n",
       "      <td>-0.443673</td>\n",
       "      <td>-0.155516</td>\n",
       "      <td>-0.014446</td>\n",
       "      <td>-0.043081</td>\n",
       "      <td>-0.493943</td>\n",
       "      <td>0.524051</td>\n",
       "      <td>0.704497</td>\n",
       "      <td>-0.546307</td>\n",
       "      <td>0.312944</td>\n",
       "      <td>0.465829</td>\n",
       "      <td>-0.205364</td>\n",
       "      <td>0.132247</td>\n",
       "      <td>0.604198</td>\n",
       "      <td>0.476414</td>\n",
       "      <td>0.131570</td>\n",
       "      <td>0.105289</td>\n",
       "      <td>0.105209</td>\n",
       "      <td>-0.174695</td>\n",
       "      <td>0.137486</td>\n",
       "      <td>0.354072</td>\n",
       "      <td>-0.326952</td>\n",
       "      <td>0.237873</td>\n",
       "      <td>-2.578249</td>\n",
       "      <td>1.264331</td>\n",
       "      <td>-0.280770</td>\n",
       "      <td>-0.225101</td>\n",
       "      <td>0.668706</td>\n",
       "      <td>0.627180</td>\n",
       "      <td>0.720145</td>\n",
       "      <td>0.243182</td>\n",
       "      <td>0.812944</td>\n",
       "      <td>-0.003714</td>\n",
       "      <td>0.010785</td>\n",
       "      <td>0.801983</td>\n",
       "      <td>0.629582</td>\n",
       "      <td>0.678816</td>\n",
       "      <td>1.033642</td>\n",
       "      <td>-0.323729</td>\n",
       "      <td>-0.460451</td>\n",
       "      <td>-0.410137</td>\n",
       "      <td>-0.035677</td>\n",
       "      <td>-0.653732</td>\n",
       "      <td>-0.048866</td>\n",
       "      <td>0.309937</td>\n",
       "      <td>0.206002</td>\n",
       "      <td>-0.107527</td>\n",
       "      <td>-0.702710</td>\n",
       "      <td>0.310045</td>\n",
       "      <td>0.167609</td>\n",
       "      <td>0.689778</td>\n",
       "      <td>0.227852</td>\n",
       "      <td>-0.149487</td>\n",
       "      <td>0.095704</td>\n",
       "      <td>0.095704</td>\n",
       "      <td>0.095704</td>\n",
       "      <td>0.242548</td>\n",
       "      <td>0.261171</td>\n",
       "      <td>0.261171</td>\n",
       "      <td>0.261171</td>\n",
       "      <td>0.242548</td>\n",
       "      <td>0.399180</td>\n",
       "      <td>0.399180</td>\n",
       "      <td>0.399180</td>\n",
       "      <td>0.437804</td>\n",
       "      <td>0.673142</td>\n",
       "      <td>0.673142</td>\n",
       "      <td>0.673142</td>\n",
       "      <td>0.437804</td>\n",
       "      <td>0.818126</td>\n",
       "      <td>0.840066</td>\n",
       "      <td>0.840066</td>\n",
       "      <td>0.840066</td>\n",
       "      <td>0.818126</td>\n",
       "      <td>0.776918</td>\n",
       "      <td>0.647487</td>\n",
       "      <td>0.647487</td>\n",
       "      <td>0.647487</td>\n",
       "      <td>0.776918</td>\n",
       "      <td>-0.387849</td>\n",
       "      <td>65</td>\n",
       "      <td>0.380471</td>\n",
       "      <td>0.380471</td>\n",
       "      <td>0.380471</td>\n",
       "      <td>0.091373</td>\n",
       "      <td>0.060882</td>\n",
       "      <td>0.060882</td>\n",
       "      <td>0.060882</td>\n",
       "      <td>0.091373</td>\n",
       "      <td>0.367599</td>\n",
       "      <td>0.367599</td>\n",
       "      <td>0.367599</td>\n",
       "      <td>0.380764</td>\n",
       "      <td>0.333053</td>\n",
       "      <td>0.333053</td>\n",
       "      <td>0.333053</td>\n",
       "      <td>0.380764</td>\n",
       "      <td>0.308408</td>\n",
       "      <td>0.321473</td>\n",
       "      <td>0.321473</td>\n",
       "      <td>0.321473</td>\n",
       "      <td>0.308408</td>\n",
       "      <td>0.280374</td>\n",
       "      <td>0.377676</td>\n",
       "      <td>0.377676</td>\n",
       "      <td>0.377676</td>\n",
       "      <td>0.280374</td>\n",
       "      <td>0.299948</td>\n",
       "      <td>0</td>\n",
       "      <td>1</td>\n",
       "      <td>0</td>\n",
       "      <td>0</td>\n",
       "      <td>0</td>\n",
       "      <td>0</td>\n",
       "      <td>1</td>\n",
       "      <td>0</td>\n",
       "      <td>0</td>\n",
       "      <td>0</td>\n",
       "      <td>0</td>\n",
       "      <td>0</td>\n",
       "      <td>0</td>\n",
       "      <td>0</td>\n",
       "      <td>0</td>\n",
       "      <td>0</td>\n",
       "      <td>0</td>\n",
       "      <td>0</td>\n",
       "      <td>0</td>\n",
       "      <td>1</td>\n",
       "      <td>1</td>\n",
       "      <td>0</td>\n",
       "      <td>0</td>\n",
       "      <td>0</td>\n",
       "      <td>0</td>\n",
       "      <td>1</td>\n",
       "      <td>0</td>\n",
       "      <td>0</td>\n",
       "      <td>1</td>\n",
       "      <td>0</td>\n",
       "      <td>0</td>\n",
       "      <td>1</td>\n",
       "      <td>0</td>\n",
       "      <td>0</td>\n",
       "      <td>0</td>\n",
       "      <td>0</td>\n",
       "    </tr>\n",
       "    <tr>\n",
       "      <th>5</th>\n",
       "      <td>1.549221</td>\n",
       "      <td>-0.499616</td>\n",
       "      <td>-0.727877</td>\n",
       "      <td>-0.994894</td>\n",
       "      <td>0.849104</td>\n",
       "      <td>0.353633</td>\n",
       "      <td>0.670800</td>\n",
       "      <td>0.263109</td>\n",
       "      <td>1.128919</td>\n",
       "      <td>1.121961</td>\n",
       "      <td>0.943143</td>\n",
       "      <td>0.705030</td>\n",
       "      <td>1.003967</td>\n",
       "      <td>0.929857</td>\n",
       "      <td>1.037021</td>\n",
       "      <td>0.867395</td>\n",
       "      <td>0.837312</td>\n",
       "      <td>1.265282</td>\n",
       "      <td>0.814006</td>\n",
       "      <td>0.869126</td>\n",
       "      <td>0.760032</td>\n",
       "      <td>0.580878</td>\n",
       "      <td>0.657041</td>\n",
       "      <td>0.803596</td>\n",
       "      <td>1.019033</td>\n",
       "      <td>0.210922</td>\n",
       "      <td>0.529718</td>\n",
       "      <td>0.545747</td>\n",
       "      <td>-0.124018</td>\n",
       "      <td>0.539682</td>\n",
       "      <td>-0.045538</td>\n",
       "      <td>0.646356</td>\n",
       "      <td>0.768437</td>\n",
       "      <td>0.029057</td>\n",
       "      <td>-0.369121</td>\n",
       "      <td>0.949695</td>\n",
       "      <td>1.586994</td>\n",
       "      <td>0.975497</td>\n",
       "      <td>1.214818</td>\n",
       "      <td>-0.569528</td>\n",
       "      <td>-0.746363</td>\n",
       "      <td>-0.612720</td>\n",
       "      <td>-0.331020</td>\n",
       "      <td>-0.161720</td>\n",
       "      <td>0.020132</td>\n",
       "      <td>-0.347507</td>\n",
       "      <td>-0.035677</td>\n",
       "      <td>-0.468461</td>\n",
       "      <td>0.010210</td>\n",
       "      <td>0.900438</td>\n",
       "      <td>0.740712</td>\n",
       "      <td>0.620672</td>\n",
       "      <td>0.733125</td>\n",
       "      <td>1.379237</td>\n",
       "      <td>0.943410</td>\n",
       "      <td>-0.724760</td>\n",
       "      <td>0.018066</td>\n",
       "      <td>-0.123191</td>\n",
       "      <td>0.977049</td>\n",
       "      <td>0.977049</td>\n",
       "      <td>0.977049</td>\n",
       "      <td>1.061046</td>\n",
       "      <td>1.028110</td>\n",
       "      <td>1.028110</td>\n",
       "      <td>1.028110</td>\n",
       "      <td>1.061046</td>\n",
       "      <td>1.098114</td>\n",
       "      <td>1.098114</td>\n",
       "      <td>1.098114</td>\n",
       "      <td>1.058918</td>\n",
       "      <td>0.922570</td>\n",
       "      <td>0.922570</td>\n",
       "      <td>0.922570</td>\n",
       "      <td>1.058918</td>\n",
       "      <td>0.346936</td>\n",
       "      <td>0.144067</td>\n",
       "      <td>0.144067</td>\n",
       "      <td>0.144067</td>\n",
       "      <td>0.346936</td>\n",
       "      <td>0.164113</td>\n",
       "      <td>-0.202457</td>\n",
       "      <td>-0.202457</td>\n",
       "      <td>-0.202457</td>\n",
       "      <td>0.164113</td>\n",
       "      <td>-0.110246</td>\n",
       "      <td>71</td>\n",
       "      <td>0.380471</td>\n",
       "      <td>0.380471</td>\n",
       "      <td>0.380471</td>\n",
       "      <td>0.091373</td>\n",
       "      <td>0.060882</td>\n",
       "      <td>0.060882</td>\n",
       "      <td>0.060882</td>\n",
       "      <td>0.091373</td>\n",
       "      <td>-1.161948</td>\n",
       "      <td>-1.161948</td>\n",
       "      <td>-1.161948</td>\n",
       "      <td>-1.245833</td>\n",
       "      <td>0.333053</td>\n",
       "      <td>0.333053</td>\n",
       "      <td>0.333053</td>\n",
       "      <td>-1.245833</td>\n",
       "      <td>0.308408</td>\n",
       "      <td>0.321473</td>\n",
       "      <td>0.321473</td>\n",
       "      <td>0.321473</td>\n",
       "      <td>0.308408</td>\n",
       "      <td>0.280374</td>\n",
       "      <td>0.377676</td>\n",
       "      <td>0.377676</td>\n",
       "      <td>0.377676</td>\n",
       "      <td>0.280374</td>\n",
       "      <td>0.299948</td>\n",
       "      <td>1</td>\n",
       "      <td>0</td>\n",
       "      <td>0</td>\n",
       "      <td>0</td>\n",
       "      <td>0</td>\n",
       "      <td>0</td>\n",
       "      <td>0</td>\n",
       "      <td>0</td>\n",
       "      <td>0</td>\n",
       "      <td>0</td>\n",
       "      <td>0</td>\n",
       "      <td>1</td>\n",
       "      <td>0</td>\n",
       "      <td>0</td>\n",
       "      <td>0</td>\n",
       "      <td>0</td>\n",
       "      <td>0</td>\n",
       "      <td>0</td>\n",
       "      <td>0</td>\n",
       "      <td>1</td>\n",
       "      <td>0</td>\n",
       "      <td>0</td>\n",
       "      <td>1</td>\n",
       "      <td>0</td>\n",
       "      <td>0</td>\n",
       "      <td>1</td>\n",
       "      <td>0</td>\n",
       "      <td>0</td>\n",
       "      <td>0</td>\n",
       "      <td>0</td>\n",
       "      <td>1</td>\n",
       "      <td>0</td>\n",
       "      <td>0</td>\n",
       "      <td>0</td>\n",
       "      <td>0</td>\n",
       "      <td>0</td>\n",
       "    </tr>\n",
       "    <tr>\n",
       "      <th>7</th>\n",
       "      <td>-0.605197</td>\n",
       "      <td>-0.499616</td>\n",
       "      <td>-0.282955</td>\n",
       "      <td>0.173966</td>\n",
       "      <td>0.435314</td>\n",
       "      <td>-0.687542</td>\n",
       "      <td>-0.592270</td>\n",
       "      <td>-0.605537</td>\n",
       "      <td>0.173703</td>\n",
       "      <td>0.481188</td>\n",
       "      <td>0.517340</td>\n",
       "      <td>-0.622148</td>\n",
       "      <td>0.704497</td>\n",
       "      <td>-0.310121</td>\n",
       "      <td>0.217312</td>\n",
       "      <td>0.236362</td>\n",
       "      <td>0.431826</td>\n",
       "      <td>-0.225554</td>\n",
       "      <td>0.744070</td>\n",
       "      <td>-0.178106</td>\n",
       "      <td>0.113086</td>\n",
       "      <td>-0.166476</td>\n",
       "      <td>-0.170706</td>\n",
       "      <td>0.244573</td>\n",
       "      <td>-0.114385</td>\n",
       "      <td>0.568798</td>\n",
       "      <td>-1.162728</td>\n",
       "      <td>-0.608782</td>\n",
       "      <td>-0.801047</td>\n",
       "      <td>-0.316721</td>\n",
       "      <td>-1.064874</td>\n",
       "      <td>-1.096559</td>\n",
       "      <td>-0.145762</td>\n",
       "      <td>-0.628879</td>\n",
       "      <td>-0.616681</td>\n",
       "      <td>0.677959</td>\n",
       "      <td>0.890349</td>\n",
       "      <td>-0.656521</td>\n",
       "      <td>-0.730159</td>\n",
       "      <td>-0.134659</td>\n",
       "      <td>-0.236754</td>\n",
       "      <td>0.104800</td>\n",
       "      <td>-0.282282</td>\n",
       "      <td>-0.336191</td>\n",
       "      <td>-0.580597</td>\n",
       "      <td>-0.096988</td>\n",
       "      <td>-0.224478</td>\n",
       "      <td>-0.344947</td>\n",
       "      <td>-0.403317</td>\n",
       "      <td>-0.268262</td>\n",
       "      <td>-0.722707</td>\n",
       "      <td>-0.471627</td>\n",
       "      <td>-0.400429</td>\n",
       "      <td>0.630803</td>\n",
       "      <td>-0.275706</td>\n",
       "      <td>-0.417251</td>\n",
       "      <td>-1.240654</td>\n",
       "      <td>-0.149487</td>\n",
       "      <td>0.015582</td>\n",
       "      <td>0.015582</td>\n",
       "      <td>0.015582</td>\n",
       "      <td>0.242548</td>\n",
       "      <td>0.184477</td>\n",
       "      <td>0.184477</td>\n",
       "      <td>0.184477</td>\n",
       "      <td>0.242548</td>\n",
       "      <td>0.321521</td>\n",
       "      <td>0.321521</td>\n",
       "      <td>0.321521</td>\n",
       "      <td>0.360165</td>\n",
       "      <td>0.340573</td>\n",
       "      <td>0.340573</td>\n",
       "      <td>0.340573</td>\n",
       "      <td>0.360165</td>\n",
       "      <td>-0.124255</td>\n",
       "      <td>-0.087933</td>\n",
       "      <td>-0.087933</td>\n",
       "      <td>-0.087933</td>\n",
       "      <td>-0.124255</td>\n",
       "      <td>-0.218890</td>\n",
       "      <td>-0.414943</td>\n",
       "      <td>-0.414943</td>\n",
       "      <td>-0.414943</td>\n",
       "      <td>-0.218890</td>\n",
       "      <td>-0.387849</td>\n",
       "      <td>60</td>\n",
       "      <td>0.380471</td>\n",
       "      <td>0.380471</td>\n",
       "      <td>0.380471</td>\n",
       "      <td>0.091373</td>\n",
       "      <td>0.060882</td>\n",
       "      <td>0.060882</td>\n",
       "      <td>0.060882</td>\n",
       "      <td>0.091373</td>\n",
       "      <td>0.367599</td>\n",
       "      <td>0.367599</td>\n",
       "      <td>0.367599</td>\n",
       "      <td>0.380764</td>\n",
       "      <td>0.333053</td>\n",
       "      <td>0.333053</td>\n",
       "      <td>0.333053</td>\n",
       "      <td>0.380764</td>\n",
       "      <td>0.308408</td>\n",
       "      <td>0.321473</td>\n",
       "      <td>0.321473</td>\n",
       "      <td>0.321473</td>\n",
       "      <td>0.308408</td>\n",
       "      <td>0.280374</td>\n",
       "      <td>0.377676</td>\n",
       "      <td>0.377676</td>\n",
       "      <td>0.377676</td>\n",
       "      <td>0.280374</td>\n",
       "      <td>0.299948</td>\n",
       "      <td>0</td>\n",
       "      <td>1</td>\n",
       "      <td>0</td>\n",
       "      <td>0</td>\n",
       "      <td>0</td>\n",
       "      <td>0</td>\n",
       "      <td>0</td>\n",
       "      <td>0</td>\n",
       "      <td>0</td>\n",
       "      <td>0</td>\n",
       "      <td>0</td>\n",
       "      <td>1</td>\n",
       "      <td>0</td>\n",
       "      <td>0</td>\n",
       "      <td>0</td>\n",
       "      <td>0</td>\n",
       "      <td>0</td>\n",
       "      <td>0</td>\n",
       "      <td>0</td>\n",
       "      <td>0</td>\n",
       "      <td>1</td>\n",
       "      <td>0</td>\n",
       "      <td>0</td>\n",
       "      <td>0</td>\n",
       "      <td>1</td>\n",
       "      <td>0</td>\n",
       "      <td>0</td>\n",
       "      <td>0</td>\n",
       "      <td>0</td>\n",
       "      <td>1</td>\n",
       "      <td>0</td>\n",
       "      <td>1</td>\n",
       "      <td>0</td>\n",
       "      <td>0</td>\n",
       "      <td>0</td>\n",
       "      <td>0</td>\n",
       "    </tr>\n",
       "  </tbody>\n",
       "</table>\n",
       "</div>"
      ],
      "text/plain": [
       "        age    height    weight    growth    joined     value      wage  \\\n",
       "0  0.178228 -0.868062 -0.282955 -0.827914 -1.219843 -0.474575 -0.196013   \n",
       "3 -0.605197 -0.499616 -0.854998  1.175846 -0.806054 -0.711205 -0.196013   \n",
       "4 -0.409341 -0.131169 -0.982119  0.340946  0.021525 -0.285270 -0.443673   \n",
       "5  1.549221 -0.499616 -0.727877 -0.994894  0.849104  0.353633  0.670800   \n",
       "7 -0.605197 -0.499616 -0.282955  0.173966  0.435314 -0.687542 -0.592270   \n",
       "\n",
       "   release_clause  attacking  crossing  finishing  heading_accuracy  \\\n",
       "0       -0.468961   0.115811  0.248179   0.038312         -0.561822   \n",
       "3       -0.524952  -0.115757 -0.334341  -0.227815          0.343072   \n",
       "4       -0.155516  -0.014446 -0.043081  -0.493943          0.524051   \n",
       "5        0.263109   1.128919  1.121961   0.943143          0.705030   \n",
       "7       -0.605537   0.173703  0.481188   0.517340         -0.622148   \n",
       "\n",
       "   short_passing   volleys     skill  dribbling     curve  fk_accuracy  \\\n",
       "0       0.854232  0.044159  0.394915   0.293729 -0.205364     0.728581   \n",
       "3       0.255292 -0.428214  0.026046  -0.107837 -0.379144     0.191880   \n",
       "4       0.704497 -0.546307  0.312944   0.465829 -0.205364     0.132247   \n",
       "5       1.003967  0.929857  1.037021   0.867395  0.837312     1.265282   \n",
       "7       0.704497 -0.310121  0.217312   0.236362  0.431826    -0.225554   \n",
       "\n",
       "   long_passing  ball_control  movement  acceleration  sprint_speed   agility  \\\n",
       "0      0.744070      0.280058  0.538222     -0.030593      0.588062 -0.174695   \n",
       "3      0.324454      0.149154 -0.644765     -0.710006     -0.377643 -0.314451   \n",
       "4      0.604198      0.476414  0.131570      0.105289      0.105209 -0.174695   \n",
       "5      0.814006      0.869126  0.760032      0.580878      0.657041  0.803596   \n",
       "7      0.744070     -0.178106  0.113086     -0.166476     -0.170706  0.244573   \n",
       "\n",
       "   reactions   balance     power  shot_power   jumping   stamina  strength  \\\n",
       "0   0.641227  1.284548  0.216302    0.314842  0.722269  0.605559 -0.751232   \n",
       "3  -0.744062 -0.647978 -0.389635   -0.070001 -0.377904  0.144419 -0.516001   \n",
       "4   0.137486  0.354072 -0.326952    0.237873 -2.578249  1.264331 -0.280770   \n",
       "5   1.019033  0.210922  0.529718    0.545747 -0.124018  0.539682 -0.045538   \n",
       "7  -0.114385  0.568798 -1.162728   -0.608782 -0.801047 -0.316721 -1.064874   \n",
       "\n",
       "   long_shots  mentality  aggression  interceptions  positioning    vision  \\\n",
       "0   -0.116169   0.602219   -0.090568       0.324048     0.623612  1.122564   \n",
       "3   -0.497432   0.053699    0.328119       0.571609    -1.061152  0.038895   \n",
       "4   -0.225101   0.668706    0.627180       0.720145     0.243182  0.812944   \n",
       "5    0.646356   0.768437    0.029057      -0.369121     0.949695  1.586994   \n",
       "7   -1.096559  -0.145762   -0.628879      -0.616681     0.677959  0.890349   \n",
       "\n",
       "   penalties  composure  defending   marking  standing_tackle  sliding_tackle  \\\n",
       "0   0.322689  -0.359687   0.183130  0.170934         0.439643       -0.087330   \n",
       "3   0.322689  -0.915394   0.517645  0.476699         0.535312        0.497525   \n",
       "4  -0.003714   0.010785   0.801983  0.629582         0.678816        1.033642   \n",
       "5   0.975497   1.214818  -0.569528 -0.746363        -0.612720       -0.331020   \n",
       "7  -0.656521  -0.730159  -0.134659 -0.236754         0.104800       -0.282282   \n",
       "\n",
       "   goalkeeping  gk_diving  gk_handling  gk_kicking  gk_positioning  \\\n",
       "0    -0.373578  -0.520524    -0.222248   -0.098611       -0.406704   \n",
       "3    -0.448351  -0.460451    -0.410137   -0.602079       -0.530218   \n",
       "4    -0.323729  -0.460451    -0.410137   -0.035677       -0.653732   \n",
       "5    -0.161720   0.020132    -0.347507   -0.035677       -0.468461   \n",
       "7    -0.336191  -0.580597    -0.096988   -0.224478       -0.344947   \n",
       "\n",
       "   gk_reflexes  total_stats  base_stats       pac       sho       pas  \\\n",
       "0    -0.580543     0.383749    0.121574  0.165547 -0.173719  0.630803   \n",
       "3    -0.226091    -0.251860   -0.666421 -0.926752 -0.702710 -0.331469   \n",
       "4    -0.048866     0.309937    0.206002 -0.107527 -0.702710  0.310045   \n",
       "5     0.010210     0.900438    0.740712  0.620672  0.733125  1.379237   \n",
       "7    -0.403317    -0.268262   -0.722707 -0.471627 -0.400429  0.630803   \n",
       "\n",
       "        dri       def       phy      hits        ls        st        rs  \\\n",
       "0  0.056780  0.136263 -0.401508 -0.162636  0.255949  0.255949  0.255949   \n",
       "3 -0.608193  0.505273 -0.401508 -0.110042 -0.385030 -0.385030 -0.385030   \n",
       "4  0.167609  0.689778  0.227852 -0.149487  0.095704  0.095704  0.095704   \n",
       "5  0.943410 -0.724760  0.018066 -0.123191  0.977049  0.977049  0.977049   \n",
       "7 -0.275706 -0.417251 -1.240654 -0.149487  0.015582  0.015582  0.015582   \n",
       "\n",
       "         lw        lf        cf        rf        rw       lam       cam  \\\n",
       "0  0.391366  0.491253  0.491253  0.491253  0.391366  0.554499  0.554499   \n",
       "3 -0.352723 -0.352380 -0.352380 -0.352380 -0.352723 -0.222095 -0.222095   \n",
       "4  0.242548  0.261171  0.261171  0.261171  0.242548  0.399180  0.399180   \n",
       "5  1.061046  1.028110  1.028110  1.028110  1.061046  1.098114  1.098114   \n",
       "7  0.242548  0.184477  0.184477  0.184477  0.242548  0.321521  0.321521   \n",
       "\n",
       "        ram        lm       lcm        cm       rcm        rm       lwb  \\\n",
       "0  0.554499  0.515443  0.673142  0.673142  0.673142  0.515443  0.425467   \n",
       "3 -0.222095 -0.260950  0.091145  0.091145  0.091145 -0.260950  0.189872   \n",
       "4  0.399180  0.437804  0.673142  0.673142  0.673142  0.437804  0.818126   \n",
       "5  1.098114  1.058918  0.922570  0.922570  0.922570  1.058918  0.346936   \n",
       "7  0.321521  0.360165  0.340573  0.340573  0.340573  0.360165 -0.124255   \n",
       "\n",
       "        ldm       cdm       rdm       rwb        lb       lcb        cb  \\\n",
       "0  0.453400  0.453400  0.453400  0.425467  0.393915  0.151686  0.151686   \n",
       "3  0.376067  0.376067  0.376067  0.189872  0.317314  0.435001  0.435001   \n",
       "4  0.840066  0.840066  0.840066  0.818126  0.776918  0.647487  0.647487   \n",
       "5  0.144067  0.144067  0.144067  0.346936  0.164113 -0.202457 -0.202457   \n",
       "7 -0.087933 -0.087933 -0.087933 -0.124255 -0.218890 -0.414943 -0.414943   \n",
       "\n",
       "        rcb        rb        gk  ova      ls_2      st_2      rs_2      lw_2  \\\n",
       "0  0.151686  0.393915 -0.387849   64 -1.284429 -1.284429 -1.284429  0.091373   \n",
       "3  0.435001  0.317314 -0.457249   59  0.380471  0.380471  0.380471  0.091373   \n",
       "4  0.647487  0.776918 -0.387849   65  0.380471  0.380471  0.380471  0.091373   \n",
       "5 -0.202457  0.164113 -0.110246   71  0.380471  0.380471  0.380471  0.091373   \n",
       "7 -0.414943 -0.218890 -0.387849   60  0.380471  0.380471  0.380471  0.091373   \n",
       "\n",
       "       lf_2      cf_2      rf_2      rw_2     lam_2     cam_2     ram_2  \\\n",
       "0  0.060882  0.060882  0.060882  0.091373 -1.161948 -1.161948 -1.161948   \n",
       "3  0.060882  0.060882  0.060882  0.091373  0.367599  0.367599  0.367599   \n",
       "4  0.060882  0.060882  0.060882  0.091373  0.367599  0.367599  0.367599   \n",
       "5  0.060882  0.060882  0.060882  0.091373 -1.161948 -1.161948 -1.161948   \n",
       "7  0.060882  0.060882  0.060882  0.091373  0.367599  0.367599  0.367599   \n",
       "\n",
       "       lm_2     lcm_2      cm_2     rcm_2      rm_2     lwb_2     ldm_2  \\\n",
       "0 -1.245833 -1.567690 -1.567690 -1.567690 -1.245833 -1.697533 -1.440897   \n",
       "3  0.380764  0.333053  0.333053  0.333053  0.380764  0.308408  0.321473   \n",
       "4  0.380764  0.333053  0.333053  0.333053  0.380764  0.308408  0.321473   \n",
       "5 -1.245833  0.333053  0.333053  0.333053 -1.245833  0.308408  0.321473   \n",
       "7  0.380764  0.333053  0.333053  0.333053  0.380764  0.308408  0.321473   \n",
       "\n",
       "      cdm_2     rdm_2     rwb_2      lb_2     lcb_2      cb_2     rcb_2  \\\n",
       "0 -1.440897 -1.440897 -1.697533 -1.938320 -1.061606 -1.061606 -1.061606   \n",
       "3  0.321473  0.321473  0.308408  0.280374  0.377676  0.377676  0.377676   \n",
       "4  0.321473  0.321473  0.308408  0.280374  0.377676  0.377676  0.377676   \n",
       "5  0.321473  0.321473  0.308408  0.280374  0.377676  0.377676  0.377676   \n",
       "7  0.321473  0.321473  0.308408  0.280374  0.377676  0.377676  0.377676   \n",
       "\n",
       "       rb_2      gk_2  nationality_AS  nationality_EU  nationality_NA  \\\n",
       "0 -1.938320 -2.167185               0               1               0   \n",
       "3  0.280374  0.299948               0               1               0   \n",
       "4  0.280374  0.299948               0               1               0   \n",
       "5  0.280374  0.299948               1               0               0   \n",
       "7  0.280374  0.299948               0               1               0   \n",
       "\n",
       "   nationality_OC  nationality_SA  bp_CB  bp_CDM  bp_CF  bp_CM  bp_GK  bp_LB  \\\n",
       "0               0               0      0       0      0      1      0      0   \n",
       "3               0               0      0       1      0      0      0      0   \n",
       "4               0               0      0       1      0      0      0      0   \n",
       "5               0               0      0       0      0      0      0      0   \n",
       "7               0               0      0       0      0      0      0      0   \n",
       "\n",
       "   bp_LM  bp_LW  bp_LWB  bp_RB  bp_RM  bp_RW  bp_RWB  bp_ST  foot_Right  \\\n",
       "0      0      0       0      0      0      0       0      0           1   \n",
       "3      0      0       0      0      0      0       0      0           1   \n",
       "4      0      0       0      0      0      0       0      0           1   \n",
       "5      1      0       0      0      0      0       0      0           1   \n",
       "7      1      0       0      0      0      0       0      0           0   \n",
       "\n",
       "   w/f_2  w/f_3  w/f_4  w/f_5  sm_2  sm_3  sm_4  sm_5  a/w_Low  a/w_Medium  \\\n",
       "0      0      0      1      0     1     0     0     0        0           0   \n",
       "3      1      0      0      0     1     0     0     0        0           1   \n",
       "4      1      0      0      0     0     1     0     0        1           0   \n",
       "5      0      0      1      0     0     1     0     0        0           0   \n",
       "7      1      0      0      0     1     0     0     0        0           1   \n",
       "\n",
       "   d/w_Low  d/w_Medium  ir_2  ir_3  ir_4  ir_5  \n",
       "0        0           1     0     0     0     0  \n",
       "3        0           1     0     0     0     0  \n",
       "4        0           1     0     0     0     0  \n",
       "5        1           0     0     0     0     0  \n",
       "7        0           1     0     0     0     0  "
      ]
     },
     "execution_count": 878,
     "metadata": {},
     "output_type": "execute_result"
    }
   ],
   "source": [
    "data=pd.concat([data, one_hot_data], axis=1)   # concat dataframes\n",
    "data.drop(columns=categorical_col, inplace=True)\n",
    "data.head()"
   ]
  },
  {
   "cell_type": "markdown",
   "metadata": {},
   "source": [
    "## Splitting into train set and test set"
   ]
  },
  {
   "cell_type": "code",
   "execution_count": 879,
   "metadata": {},
   "outputs": [
    {
     "name": "stdout",
     "output_type": "stream",
     "text": [
      "(11688, 148)\n",
      "(11688,)\n"
     ]
    }
   ],
   "source": [
    "# first, split X-y (learning-target data)\n",
    "X=data.drop(columns=['ova'])\n",
    "y=data['ova']\n",
    "\n",
    "# checking shape\n",
    "print(X.shape)\n",
    "print(y.shape)"
   ]
  },
  {
   "cell_type": "code",
   "execution_count": 880,
   "metadata": {},
   "outputs": [],
   "source": [
    "# train_test_split\n",
    "from sklearn.model_selection import train_test_split as tts"
   ]
  },
  {
   "cell_type": "code",
   "execution_count": 881,
   "metadata": {},
   "outputs": [],
   "source": [
    "# train-test-split (4 sets)\n",
    "\n",
    "X_train, X_test, y_train, y_test = tts(X, y, test_size=0.2, random_state=42)  # random state fixed sample"
   ]
  },
  {
   "cell_type": "markdown",
   "metadata": {
    "tags": []
   },
   "source": [
    "## Modeling"
   ]
  },
  {
   "cell_type": "markdown",
   "metadata": {},
   "source": [
    "### Linear Regression"
   ]
  },
  {
   "cell_type": "code",
   "execution_count": 882,
   "metadata": {},
   "outputs": [],
   "source": [
    "from sklearn.linear_model import LinearRegression as LinReg\n",
    "linreg=LinReg()    # model\n",
    "linreg.fit(X_train, y_train)   # model train\n",
    "y_pred_linreg=linreg.predict(X_test)   # model prediction"
   ]
  },
  {
   "cell_type": "markdown",
   "metadata": {},
   "source": [
    "### Regulation"
   ]
  },
  {
   "cell_type": "code",
   "execution_count": 883,
   "metadata": {},
   "outputs": [],
   "source": [
    "from sklearn.linear_model import Lasso       # L1\n",
    "from sklearn.linear_model import Ridge       # L2\n",
    "from sklearn.linear_model import ElasticNet  # L1+L2"
   ]
  },
  {
   "cell_type": "code",
   "execution_count": 884,
   "metadata": {},
   "outputs": [],
   "source": [
    "# Lasso L1\n",
    "\n",
    "lasso=Lasso()\n",
    "lasso.fit(X_train, y_train)\n",
    "\n",
    "y_pred_lasso = lasso.predict(X_test)"
   ]
  },
  {
   "cell_type": "code",
   "execution_count": 885,
   "metadata": {},
   "outputs": [],
   "source": [
    "# Ridge L2\n",
    "\n",
    "ridge=Ridge()\n",
    "ridge.fit(X_train, y_train)\n",
    "\n",
    "y_pred_ridge = ridge.predict(X_test)"
   ]
  },
  {
   "cell_type": "code",
   "execution_count": 886,
   "metadata": {},
   "outputs": [],
   "source": [
    "# ElasticNet L1+L2\n",
    "\n",
    "elastic=ElasticNet()\n",
    "elastic.fit(X_train, y_train)\n",
    "\n",
    "y_pred_elastic = elastic.predict(X_test)"
   ]
  },
  {
   "cell_type": "markdown",
   "metadata": {},
   "source": [
    "### Random Forest Regressor"
   ]
  },
  {
   "cell_type": "code",
   "execution_count": 887,
   "metadata": {},
   "outputs": [],
   "source": [
    "from sklearn.ensemble import RandomForestRegressor as RFR\n",
    "\n",
    "rfr=RFR()\n",
    "rfr.fit(X_train, y_train)\n",
    "\n",
    "y_pred_rfr = rfr.predict(X_test)"
   ]
  },
  {
   "cell_type": "markdown",
   "metadata": {},
   "source": [
    "### XGBoost"
   ]
  },
  {
   "cell_type": "code",
   "execution_count": 888,
   "metadata": {},
   "outputs": [],
   "source": [
    "# conda install -c conda-forge xgboost\n",
    "\n",
    "from xgboost import XGBRegressor as XGBR\n",
    "\n",
    "xgbr=XGBR()\n",
    "xgbr.fit(X_train, y_train)\n",
    "\n",
    "y_pred_xgbr = xgbr.predict(X_test)"
   ]
  },
  {
   "cell_type": "markdown",
   "metadata": {},
   "source": [
    "### LightGBM"
   ]
  },
  {
   "cell_type": "code",
   "execution_count": 889,
   "metadata": {},
   "outputs": [],
   "source": [
    "# conda install -c conda-forge lightgbm\n",
    "from lightgbm import LGBMRegressor as LGBMR\n",
    "\n",
    "lgbmr=LGBMR()\n",
    "lgbmr.fit(X_train, y_train)\n",
    "\n",
    "y_pred_lgbmr = lgbmr.predict(X_test)"
   ]
  },
  {
   "cell_type": "markdown",
   "metadata": {},
   "source": [
    "## Model Validation"
   ]
  },
  {
   "cell_type": "code",
   "execution_count": 890,
   "metadata": {},
   "outputs": [],
   "source": [
    "models=[linreg, lasso, ridge, elastic, rfr, xgbr, lgbmr]\n",
    "model_names=['linreg', 'lasso', 'ridge', 'elastic', 'rfr', 'xgbr', 'lgbmr']\n",
    "preds=[y_pred_linreg, y_pred_lasso, y_pred_ridge, y_pred_elastic, y_pred_rfr, y_pred_xgbr, y_pred_lgbmr]"
   ]
  },
  {
   "cell_type": "markdown",
   "metadata": {},
   "source": [
    "### R2"
   ]
  },
  {
   "cell_type": "code",
   "execution_count": 891,
   "metadata": {},
   "outputs": [
    {
     "name": "stdout",
     "output_type": "stream",
     "text": [
      "Model: linreg, train R2: 0.904786952538319 -- test R2: 0.9031203910500897\n",
      "Model: lasso, train R2: 0.7887251553180703 -- test R2: 0.7844956210142218\n",
      "Model: ridge, train R2: 0.908814706485694 -- test R2: 0.906602106974465\n",
      "Model: elastic, train R2: 0.8083215719687117 -- test R2: 0.8026960618836403\n",
      "Model: rfr, train R2: 0.9978112096435336 -- test R2: 0.9895412706470104\n",
      "Model: xgbr, train R2: 0.9988243971705129 -- test R2: 0.989364918324218\n",
      "Model: lgbmr, train R2: 0.9965825677533793 -- test R2: 0.9925894829719214\n"
     ]
    }
   ],
   "source": [
    "for i in range(len(models)):\n",
    "\n",
    "    train_score=models[i].score(X_train, y_train) #R2\n",
    "    test_score=models[i].score(X_test, y_test)\n",
    "\n",
    "    print ('Model: {}, train R2: {} -- test R2: {}'.format(model_names[i], train_score, test_score))"
   ]
  },
  {
   "cell_type": "markdown",
   "metadata": {},
   "source": [
    "### MSE"
   ]
  },
  {
   "cell_type": "code",
   "execution_count": 892,
   "metadata": {},
   "outputs": [
    {
     "name": "stdout",
     "output_type": "stream",
     "text": [
      "Model: linreg, train MSE: 3.077249240234954 -- test MSE: 3.288400728560264\n",
      "Model: lasso, train MSE: 6.828322090413929 -- test MSE: 7.314901087505019\n",
      "Model: ridge, train MSE: 2.947073774741097 -- test MSE: 3.1702202641007573\n",
      "Model: elastic, train MSE: 6.194973407043795 -- test MSE: 6.697120486779657\n",
      "Model: rfr, train MSE: 0.0707408663101604 -- test MSE: 0.3550023952095808\n",
      "Model: xgbr, train MSE: 0.037995033352053724 -- test MSE: 0.36098835152215797\n",
      "Model: lgbmr, train MSE: 0.11045010179618789 -- test MSE: 0.2515364157460766\n"
     ]
    }
   ],
   "source": [
    "from sklearn.metrics import mean_squared_error as mse\n",
    "\n",
    "for i in range(len(models)):\n",
    "\n",
    "    train_mse=mse(models[i].predict(X_train), y_train) #MSE\n",
    "    test_mse=mse(preds[i], y_test)\n",
    "\n",
    "    print ('Model: {}, train MSE: {} -- test MSE: {}'.format(model_names[i], train_mse, test_mse))"
   ]
  },
  {
   "cell_type": "markdown",
   "metadata": {},
   "source": [
    "### RMSE"
   ]
  },
  {
   "cell_type": "code",
   "execution_count": 893,
   "metadata": {},
   "outputs": [
    {
     "name": "stdout",
     "output_type": "stream",
     "text": [
      "Model: linreg, train RMSE: 1.7542090069985827 -- test RMSE: 1.8133948076908857\n",
      "Model: lasso, train RMSE: 2.613105832226075 -- test RMSE: 2.7046073813966083\n",
      "Model: ridge, train RMSE: 1.7167043352718303 -- test RMSE: 1.7805112367240925\n",
      "Model: elastic, train RMSE: 2.4889703507763596 -- test RMSE: 2.5878795348276276\n",
      "Model: rfr, train RMSE: 0.26597155169333503 -- test RMSE: 0.5958207744024883\n",
      "Model: xgbr, train RMSE: 0.19492314729670698 -- test RMSE: 0.6008230617429378\n",
      "Model: lgbmr, train RMSE: 0.3323403403082266 -- test RMSE: 0.5015340623986337\n"
     ]
    }
   ],
   "source": [
    "for i in range(len(models)):\n",
    "\n",
    "    train_rmse=mse(models[i].predict(X_train), y_train)**0.5 #RMSE\n",
    "    test_rmse=mse(preds[i], y_test)**0.5\n",
    "\n",
    "    print ('Model: {}, train RMSE: {} -- test RMSE: {}'.format(model_names[i], train_rmse, test_rmse))"
   ]
  },
  {
   "cell_type": "markdown",
   "metadata": {},
   "source": [
    "### MAE"
   ]
  },
  {
   "cell_type": "code",
   "execution_count": 894,
   "metadata": {},
   "outputs": [
    {
     "name": "stdout",
     "output_type": "stream",
     "text": [
      "Model: linreg, train MAE: 1.3477751060453886 -- test MAE: 1.391103913874618\n",
      "Model: lasso, train MAE: 1.9597877830052304 -- test MAE: 2.043125084297288\n",
      "Model: ridge, train MAE: 1.3133914313086152 -- test MAE: 1.3586934522429666\n",
      "Model: elastic, train MAE: 1.8522678450200445 -- test MAE: 1.9369710443852557\n",
      "Model: rfr, train MAE: 0.1206149732620323 -- test MAE: 0.3109324208725408\n",
      "Model: xgbr, train MAE: 0.14672828878310912 -- test MAE: 0.36301069202537306\n",
      "Model: lgbmr, train MAE: 0.22371631692296481 -- test MAE: 0.30278152845130035\n"
     ]
    }
   ],
   "source": [
    "from sklearn.metrics import mean_absolute_error as mae\n",
    "for i in range(len(models)):\n",
    "    train_mae=mae(models[i].predict(X_train), y_train) #MAE\n",
    "    test_mae=mae(preds[i], y_test)\n",
    "\n",
    "    print ('Model: {}, train MAE: {} -- test MAE: {}'.format(model_names[i], train_mae, test_mae))"
   ]
  }
 ],
 "metadata": {
  "colab": {
   "provenance": []
  },
  "kernelspec": {
   "display_name": "Python 3 (ipykernel)",
   "language": "python",
   "name": "python3"
  },
  "language_info": {
   "codemirror_mode": {
    "name": "ipython",
    "version": 3
   },
   "file_extension": ".py",
   "mimetype": "text/x-python",
   "name": "python",
   "nbconvert_exporter": "python",
   "pygments_lexer": "ipython3",
   "version": "3.9.12"
  }
 },
 "nbformat": 4,
 "nbformat_minor": 4
}
