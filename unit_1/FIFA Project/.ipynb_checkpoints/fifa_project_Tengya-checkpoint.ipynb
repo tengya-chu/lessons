{
 "cells": [
  {
   "cell_type": "markdown",
   "metadata": {
    "id": "guGX16JO2WH5"
   },
   "source": [
    "# FIFA 21 IRONHACK COMPETITION\n",
    "\n",
    "# PART (I)\n",
    "\n",
    "**Link to repo: https://github.com/ironhack-edu/data_project_FIFA_21**\n",
    "\n",
    "\n",
    "You will use the fifa21_trainning.csv dataset provided to predict the position ('OVA') of each player. The competition will take place from monday morning to tuesday. \n",
    "<br><br>\n",
    "Your model will be saved in a pickle file.\n",
    "<br><br>\n",
    "The ranking of the competitors will be calculated according to the highest Mean Average Error (MAE), rounded to 2 decimals.\n",
    "<br><br>\n",
    "Ties will be broken using, respectively: R2 Score (rounded to 2 decimals), Root Mean Squared Error (rounded to 2 decimals), time to run the code (using timeit)\n",
    "<br>\n",
    "\n",
    "## DELIVERABLES:\n",
    "\n",
    "Your group should deliver a `group Jupyter notebook` with all the preprocessing functions alongside with the model.\n",
    "\n",
    "Everything must be delivered until 12am on Tuesday. \n",
    "<br><br>\n",
    "Be prepared to share your work on Tuesday morning, the best scores will have the opportunity to show their notebook and go through their pipeline (~10 min).\n",
    "<br><br>\n",
    "\n",
    "To deliver:\n",
    "* A notebook with your work and model (group_number.ipynb);\n",
    "* Pickle file with the model (group_number.pkl). \n",
    "<br><br>\n",
    "\n",
    "The instructor will use your `group Jupyter notebook` to load a new dataset and use your functions and\n",
    "your model to make a prediction in unseen data.\n",
    "\n",
    "\n",
    "<br><br>\n",
    "\n",
    "For this small project you are going to work in groups to put in practice some of the concepts of the previous week.\n",
    "\n",
    "With your group mates, open the file in `file_for_project/fifa21_training.csv`. The objective is to create the best linear model to predict the column `OVA`.\n",
    "\n",
    "You can find some documentation about the meaning of each column in the following links:\n",
    "\n",
    "- [link - 0](https://sofifa.com/)\n",
    "- [link - 1](https://gaming.stackexchange.com/questions/167318/what-do-fifa-14-position-acronyms-mean)\n",
    "- [link - 2](https://www.fifauteam.com/fifa-ultimate-team-positions-and-tactics/)\n",
    "\n",
    "### 1\n",
    "\n",
    "Each member of the team should have his/her own _juypter_ notebook. In addition, each group should have a `group jupyter notebook`.\n",
    "\n",
    "### 2\n",
    "\n",
    "Decide which columns can be predictive and which ones can be directly dropped and take the needed actions.\n",
    "\n",
    "### 3\n",
    "\n",
    "Decide among the members of the group who is going to take care of inspecting the remaining columns\n",
    "of the dataset. For example:\n",
    "Member 1: cols 1 -> 5\n",
    "Member 2: cols 6 -> 10\n",
    "...\n",
    "and so on\n",
    "\n",
    "### 4\n",
    "\n",
    "Each member must do:\n",
    "\n",
    "- Explore their assigned columns and write python code to perform any cleanup operation that the assigned columns may need.\n",
    "- Perform any scaling operation that the assigned column may need.\n",
    "\n",
    "### 5\n",
    "\n",
    "Put all the code of each member into the `group jupyter notebook`."
   ]
  },
  {
   "cell_type": "markdown",
   "metadata": {
    "id": "dYa_Gdwt2WH9"
   },
   "source": [
    "Your FIFA project goes here:"
   ]
  },
  {
   "cell_type": "markdown",
   "metadata": {
    "id": "-yBfnSQs2WH-"
   },
   "source": [
    "## Entender datos"
   ]
  },
  {
   "cell_type": "code",
   "execution_count": 268,
   "metadata": {
    "id": "c5Jp_PC52WH_"
   },
   "outputs": [],
   "source": [
    "import pandas as pd\n",
    "import numpy as np"
   ]
  },
  {
   "cell_type": "code",
   "execution_count": 269,
   "metadata": {
    "id": "RVD3v8YX2WIB"
   },
   "outputs": [],
   "source": [
    "data = pd.read_csv(\"./file_for_project/fifa21_training.csv\")"
   ]
  },
  {
   "cell_type": "code",
   "execution_count": 270,
   "metadata": {
    "id": "1r3wQ21f2WIB",
    "outputId": "87309fc5-852a-422c-e9b5-81208a7b5f62"
   },
   "outputs": [
    {
     "data": {
      "text/plain": [
       "Index(['Unnamed: 0', 'ID', 'Name', 'Age', 'Nationality', 'Club', 'BP',\n",
       "       'Position', 'Team & Contract', 'Height',\n",
       "       ...\n",
       "       'CDM', 'RDM', 'RWB', 'LB', 'LCB', 'CB', 'RCB', 'RB', 'GK', 'OVA'],\n",
       "      dtype='object', length=102)"
      ]
     },
     "execution_count": 270,
     "metadata": {},
     "output_type": "execute_result"
    }
   ],
   "source": [
    "data.columns"
   ]
  },
  {
   "cell_type": "code",
   "execution_count": 271,
   "metadata": {
    "id": "Ydm4XrYy2WIC",
    "outputId": "8f90f499-be99-4d71-a54c-070e41491c6c"
   },
   "outputs": [
    {
     "data": {
      "text/html": [
       "<div>\n",
       "<style scoped>\n",
       "    .dataframe tbody tr th:only-of-type {\n",
       "        vertical-align: middle;\n",
       "    }\n",
       "\n",
       "    .dataframe tbody tr th {\n",
       "        vertical-align: top;\n",
       "    }\n",
       "\n",
       "    .dataframe thead th {\n",
       "        text-align: right;\n",
       "    }\n",
       "</style>\n",
       "<table border=\"1\" class=\"dataframe\">\n",
       "  <thead>\n",
       "    <tr style=\"text-align: right;\">\n",
       "      <th></th>\n",
       "      <th>Unnamed: 0</th>\n",
       "      <th>ID</th>\n",
       "      <th>Name</th>\n",
       "      <th>Age</th>\n",
       "      <th>Nationality</th>\n",
       "      <th>Club</th>\n",
       "      <th>BP</th>\n",
       "      <th>Position</th>\n",
       "      <th>Team &amp; Contract</th>\n",
       "      <th>Height</th>\n",
       "      <th>Weight</th>\n",
       "      <th>foot</th>\n",
       "      <th>Growth</th>\n",
       "      <th>Joined</th>\n",
       "      <th>Loan Date End</th>\n",
       "      <th>Value</th>\n",
       "      <th>Wage</th>\n",
       "      <th>Release Clause</th>\n",
       "      <th>Contract</th>\n",
       "      <th>Attacking</th>\n",
       "      <th>Crossing</th>\n",
       "      <th>Finishing</th>\n",
       "      <th>Heading Accuracy</th>\n",
       "      <th>Short Passing</th>\n",
       "      <th>Volleys</th>\n",
       "      <th>Skill</th>\n",
       "      <th>Dribbling</th>\n",
       "      <th>Curve</th>\n",
       "      <th>FK Accuracy</th>\n",
       "      <th>Long Passing</th>\n",
       "      <th>Ball Control</th>\n",
       "      <th>Movement</th>\n",
       "      <th>Acceleration</th>\n",
       "      <th>Sprint Speed</th>\n",
       "      <th>Agility</th>\n",
       "      <th>Reactions</th>\n",
       "      <th>Balance</th>\n",
       "      <th>Power</th>\n",
       "      <th>Shot Power</th>\n",
       "      <th>Jumping</th>\n",
       "      <th>Stamina</th>\n",
       "      <th>Strength</th>\n",
       "      <th>Long Shots</th>\n",
       "      <th>Mentality</th>\n",
       "      <th>Aggression</th>\n",
       "      <th>Interceptions</th>\n",
       "      <th>Positioning</th>\n",
       "      <th>Vision</th>\n",
       "      <th>Penalties</th>\n",
       "      <th>Composure</th>\n",
       "      <th>Defending</th>\n",
       "      <th>Marking</th>\n",
       "      <th>Standing Tackle</th>\n",
       "      <th>Sliding Tackle</th>\n",
       "      <th>Goalkeeping</th>\n",
       "      <th>GK Diving</th>\n",
       "      <th>GK Handling</th>\n",
       "      <th>GK Kicking</th>\n",
       "      <th>GK Positioning</th>\n",
       "      <th>GK Reflexes</th>\n",
       "      <th>Total Stats</th>\n",
       "      <th>Base Stats</th>\n",
       "      <th>W/F</th>\n",
       "      <th>SM</th>\n",
       "      <th>A/W</th>\n",
       "      <th>D/W</th>\n",
       "      <th>IR</th>\n",
       "      <th>PAC</th>\n",
       "      <th>SHO</th>\n",
       "      <th>PAS</th>\n",
       "      <th>DRI</th>\n",
       "      <th>DEF</th>\n",
       "      <th>PHY</th>\n",
       "      <th>Hits</th>\n",
       "      <th>LS</th>\n",
       "      <th>ST</th>\n",
       "      <th>RS</th>\n",
       "      <th>LW</th>\n",
       "      <th>LF</th>\n",
       "      <th>CF</th>\n",
       "      <th>RF</th>\n",
       "      <th>RW</th>\n",
       "      <th>LAM</th>\n",
       "      <th>CAM</th>\n",
       "      <th>RAM</th>\n",
       "      <th>LM</th>\n",
       "      <th>LCM</th>\n",
       "      <th>CM</th>\n",
       "      <th>RCM</th>\n",
       "      <th>RM</th>\n",
       "      <th>LWB</th>\n",
       "      <th>LDM</th>\n",
       "      <th>CDM</th>\n",
       "      <th>RDM</th>\n",
       "      <th>RWB</th>\n",
       "      <th>LB</th>\n",
       "      <th>LCB</th>\n",
       "      <th>CB</th>\n",
       "      <th>RCB</th>\n",
       "      <th>RB</th>\n",
       "      <th>GK</th>\n",
       "      <th>OVA</th>\n",
       "    </tr>\n",
       "  </thead>\n",
       "  <tbody>\n",
       "    <tr>\n",
       "      <th>0</th>\n",
       "      <td>1954</td>\n",
       "      <td>184383</td>\n",
       "      <td>A. Pasche</td>\n",
       "      <td>26</td>\n",
       "      <td>Switzerland</td>\n",
       "      <td>FC Lausanne-Sport</td>\n",
       "      <td>CM</td>\n",
       "      <td>CM CDM</td>\n",
       "      <td>FC Lausanne-Sport 2015 ~ 2020</td>\n",
       "      <td>5'9\"</td>\n",
       "      <td>161lbs</td>\n",
       "      <td>Right</td>\n",
       "      <td>1</td>\n",
       "      <td>Jul 1, 2015</td>\n",
       "      <td>NaN</td>\n",
       "      <td>€525K</td>\n",
       "      <td>€4K</td>\n",
       "      <td>€801K</td>\n",
       "      <td>2015 ~ 2020</td>\n",
       "      <td>258</td>\n",
       "      <td>54</td>\n",
       "      <td>47</td>\n",
       "      <td>43</td>\n",
       "      <td>70</td>\n",
       "      <td>44.0</td>\n",
       "      <td>286</td>\n",
       "      <td>61</td>\n",
       "      <td>44.0</td>\n",
       "      <td>55</td>\n",
       "      <td>63</td>\n",
       "      <td>63</td>\n",
       "      <td>346</td>\n",
       "      <td>64</td>\n",
       "      <td>73</td>\n",
       "      <td>61.0</td>\n",
       "      <td>66</td>\n",
       "      <td>82.0</td>\n",
       "      <td>306</td>\n",
       "      <td>62</td>\n",
       "      <td>73.0</td>\n",
       "      <td>71</td>\n",
       "      <td>55</td>\n",
       "      <td>45</td>\n",
       "      <td>290</td>\n",
       "      <td>54</td>\n",
       "      <td>52.0</td>\n",
       "      <td>62.0</td>\n",
       "      <td>68.0</td>\n",
       "      <td>54</td>\n",
       "      <td>54.0</td>\n",
       "      <td>148</td>\n",
       "      <td>49</td>\n",
       "      <td>56</td>\n",
       "      <td>43.0</td>\n",
       "      <td>48</td>\n",
       "      <td>7</td>\n",
       "      <td>12</td>\n",
       "      <td>14</td>\n",
       "      <td>9</td>\n",
       "      <td>6</td>\n",
       "      <td>1682</td>\n",
       "      <td>357</td>\n",
       "      <td>4 ★</td>\n",
       "      <td>2★</td>\n",
       "      <td>High</td>\n",
       "      <td>Medium</td>\n",
       "      <td>1 ★</td>\n",
       "      <td>69</td>\n",
       "      <td>51</td>\n",
       "      <td>63</td>\n",
       "      <td>63</td>\n",
       "      <td>51</td>\n",
       "      <td>60</td>\n",
       "      <td>3</td>\n",
       "      <td>58+1</td>\n",
       "      <td>58+1</td>\n",
       "      <td>58+1</td>\n",
       "      <td>61+0</td>\n",
       "      <td>62+0</td>\n",
       "      <td>62+0</td>\n",
       "      <td>62+0</td>\n",
       "      <td>61+0</td>\n",
       "      <td>63+1</td>\n",
       "      <td>63+1</td>\n",
       "      <td>63+1</td>\n",
       "      <td>63+1</td>\n",
       "      <td>63+1</td>\n",
       "      <td>63+1</td>\n",
       "      <td>63+1</td>\n",
       "      <td>63+1</td>\n",
       "      <td>59+1</td>\n",
       "      <td>59+1</td>\n",
       "      <td>59+1</td>\n",
       "      <td>59+1</td>\n",
       "      <td>59+1</td>\n",
       "      <td>58+1</td>\n",
       "      <td>54+1</td>\n",
       "      <td>54+1</td>\n",
       "      <td>54+1</td>\n",
       "      <td>58+1</td>\n",
       "      <td>15+1</td>\n",
       "      <td>64</td>\n",
       "    </tr>\n",
       "    <tr>\n",
       "      <th>1</th>\n",
       "      <td>2225</td>\n",
       "      <td>188044</td>\n",
       "      <td>Alan Carvalho</td>\n",
       "      <td>30</td>\n",
       "      <td>China PR</td>\n",
       "      <td>Beijing Sinobo Guoan FC</td>\n",
       "      <td>ST</td>\n",
       "      <td>ST LW LM</td>\n",
       "      <td>Beijing Sinobo Guoan FC Dec 31, 2020 On Loan</td>\n",
       "      <td>6'0\"</td>\n",
       "      <td>159lbs</td>\n",
       "      <td>Right</td>\n",
       "      <td>0</td>\n",
       "      <td>Jan 16, 2015</td>\n",
       "      <td>Dec 31, 2020</td>\n",
       "      <td>€8.5M</td>\n",
       "      <td>€23K</td>\n",
       "      <td>€0</td>\n",
       "      <td>Dec 31, 2020 On Loan</td>\n",
       "      <td>365</td>\n",
       "      <td>66</td>\n",
       "      <td>79</td>\n",
       "      <td>76</td>\n",
       "      <td>68</td>\n",
       "      <td>76.0</td>\n",
       "      <td>375</td>\n",
       "      <td>83</td>\n",
       "      <td>78.0</td>\n",
       "      <td>72</td>\n",
       "      <td>63</td>\n",
       "      <td>79</td>\n",
       "      <td>404</td>\n",
       "      <td>83</td>\n",
       "      <td>83</td>\n",
       "      <td>88.0</td>\n",
       "      <td>75</td>\n",
       "      <td>75.0</td>\n",
       "      <td>372</td>\n",
       "      <td>74</td>\n",
       "      <td>81.0</td>\n",
       "      <td>75</td>\n",
       "      <td>74</td>\n",
       "      <td>68</td>\n",
       "      <td>313</td>\n",
       "      <td>54</td>\n",
       "      <td>33.0</td>\n",
       "      <td>78.0</td>\n",
       "      <td>72.0</td>\n",
       "      <td>76</td>\n",
       "      <td>70.0</td>\n",
       "      <td>77</td>\n",
       "      <td>35</td>\n",
       "      <td>20</td>\n",
       "      <td>22.0</td>\n",
       "      <td>55</td>\n",
       "      <td>11</td>\n",
       "      <td>7</td>\n",
       "      <td>14</td>\n",
       "      <td>7</td>\n",
       "      <td>16</td>\n",
       "      <td>1961</td>\n",
       "      <td>412</td>\n",
       "      <td>3 ★</td>\n",
       "      <td>4★</td>\n",
       "      <td>High</td>\n",
       "      <td>Low</td>\n",
       "      <td>2 ★</td>\n",
       "      <td>83</td>\n",
       "      <td>75</td>\n",
       "      <td>68</td>\n",
       "      <td>82</td>\n",
       "      <td>33</td>\n",
       "      <td>71</td>\n",
       "      <td>44</td>\n",
       "      <td>77+0</td>\n",
       "      <td>77+0</td>\n",
       "      <td>77+0</td>\n",
       "      <td>77+0</td>\n",
       "      <td>77+0</td>\n",
       "      <td>77+0</td>\n",
       "      <td>77+0</td>\n",
       "      <td>77+0</td>\n",
       "      <td>76+1</td>\n",
       "      <td>76+1</td>\n",
       "      <td>76+1</td>\n",
       "      <td>76+1</td>\n",
       "      <td>68+2</td>\n",
       "      <td>68+2</td>\n",
       "      <td>68+2</td>\n",
       "      <td>76+1</td>\n",
       "      <td>57+2</td>\n",
       "      <td>53+2</td>\n",
       "      <td>53+2</td>\n",
       "      <td>53+2</td>\n",
       "      <td>57+2</td>\n",
       "      <td>53+2</td>\n",
       "      <td>48+2</td>\n",
       "      <td>48+2</td>\n",
       "      <td>48+2</td>\n",
       "      <td>53+2</td>\n",
       "      <td>18+2</td>\n",
       "      <td>77</td>\n",
       "    </tr>\n",
       "  </tbody>\n",
       "</table>\n",
       "</div>"
      ],
      "text/plain": [
       "   Unnamed: 0      ID           Name  Age  Nationality  \\\n",
       "0        1954  184383      A. Pasche   26  Switzerland   \n",
       "1        2225  188044  Alan Carvalho   30     China PR   \n",
       "\n",
       "                      Club  BP  Position  \\\n",
       "0        FC Lausanne-Sport  CM    CM CDM   \n",
       "1  Beijing Sinobo Guoan FC  ST  ST LW LM   \n",
       "\n",
       "                                Team & Contract Height  Weight   foot  Growth  \\\n",
       "0                 FC Lausanne-Sport 2015 ~ 2020   5'9\"  161lbs  Right       1   \n",
       "1  Beijing Sinobo Guoan FC Dec 31, 2020 On Loan   6'0\"  159lbs  Right       0   \n",
       "\n",
       "         Joined Loan Date End  Value  Wage Release Clause  \\\n",
       "0   Jul 1, 2015           NaN  €525K   €4K          €801K   \n",
       "1  Jan 16, 2015  Dec 31, 2020  €8.5M  €23K             €0   \n",
       "\n",
       "               Contract  Attacking  Crossing  Finishing  Heading Accuracy  \\\n",
       "0           2015 ~ 2020        258        54         47                43   \n",
       "1  Dec 31, 2020 On Loan        365        66         79                76   \n",
       "\n",
       "   Short Passing  Volleys  Skill  Dribbling  Curve  FK Accuracy  Long Passing  \\\n",
       "0             70     44.0    286         61   44.0           55            63   \n",
       "1             68     76.0    375         83   78.0           72            63   \n",
       "\n",
       "   Ball Control  Movement  Acceleration  Sprint Speed  Agility  Reactions  \\\n",
       "0            63       346            64            73     61.0         66   \n",
       "1            79       404            83            83     88.0         75   \n",
       "\n",
       "   Balance  Power  Shot Power  Jumping  Stamina  Strength  Long Shots  \\\n",
       "0     82.0    306          62     73.0       71        55          45   \n",
       "1     75.0    372          74     81.0       75        74          68   \n",
       "\n",
       "   Mentality  Aggression  Interceptions  Positioning  Vision  Penalties  \\\n",
       "0        290          54           52.0         62.0    68.0         54   \n",
       "1        313          54           33.0         78.0    72.0         76   \n",
       "\n",
       "   Composure  Defending  Marking  Standing Tackle  Sliding Tackle  \\\n",
       "0       54.0        148       49               56            43.0   \n",
       "1       70.0         77       35               20            22.0   \n",
       "\n",
       "   Goalkeeping  GK Diving  GK Handling  GK Kicking  GK Positioning  \\\n",
       "0           48          7           12          14               9   \n",
       "1           55         11            7          14               7   \n",
       "\n",
       "   GK Reflexes  Total Stats  Base Stats  W/F  SM   A/W     D/W   IR  PAC  SHO  \\\n",
       "0            6         1682         357  4 ★  2★  High  Medium  1 ★   69   51   \n",
       "1           16         1961         412  3 ★  4★  High     Low  2 ★   83   75   \n",
       "\n",
       "   PAS  DRI  DEF  PHY Hits    LS    ST    RS    LW    LF    CF    RF    RW  \\\n",
       "0   63   63   51   60    3  58+1  58+1  58+1  61+0  62+0  62+0  62+0  61+0   \n",
       "1   68   82   33   71   44  77+0  77+0  77+0  77+0  77+0  77+0  77+0  77+0   \n",
       "\n",
       "    LAM   CAM   RAM    LM   LCM    CM   RCM    RM   LWB   LDM   CDM   RDM  \\\n",
       "0  63+1  63+1  63+1  63+1  63+1  63+1  63+1  63+1  59+1  59+1  59+1  59+1   \n",
       "1  76+1  76+1  76+1  76+1  68+2  68+2  68+2  76+1  57+2  53+2  53+2  53+2   \n",
       "\n",
       "    RWB    LB   LCB    CB   RCB    RB    GK  OVA  \n",
       "0  59+1  58+1  54+1  54+1  54+1  58+1  15+1   64  \n",
       "1  57+2  53+2  48+2  48+2  48+2  53+2  18+2   77  "
      ]
     },
     "execution_count": 271,
     "metadata": {},
     "output_type": "execute_result"
    }
   ],
   "source": [
    "pd.set_option ('display.max_columns', None)\n",
    "data.head(2)"
   ]
  },
  {
   "cell_type": "code",
   "execution_count": 272,
   "metadata": {
    "id": "RRRNzqhG2WIC",
    "outputId": "06d62b4e-fb6e-46e5-c8f9-dc220ef22fc9"
   },
   "outputs": [
    {
     "data": {
      "text/plain": [
       "Index(['unnamed:_0', 'id', 'name', 'age', 'nationality', 'club', 'bp',\n",
       "       'position', 'team_&_contract', 'height',\n",
       "       ...\n",
       "       'cdm', 'rdm', 'rwb', 'lb', 'lcb', 'cb', 'rcb', 'rb', 'gk', 'ova'],\n",
       "      dtype='object', length=102)"
      ]
     },
     "execution_count": 272,
     "metadata": {},
     "output_type": "execute_result"
    }
   ],
   "source": [
    "data.columns=[e.lower().replace(' ', '_') for e in data.columns]   # lower and replace\n",
    "data.columns"
   ]
  },
  {
   "cell_type": "markdown",
   "metadata": {
    "id": "NQEWSQi22WID",
    "jp-MarkdownHeadingCollapsed": true,
    "tags": []
   },
   "source": [
    "## Comprobar NaN"
   ]
  },
  {
   "cell_type": "code",
   "execution_count": 273,
   "metadata": {
    "id": "eNdNW6XU2WIE",
    "outputId": "0440d929-9034-4a23-d6f1-1b1fc8d462a1"
   },
   "outputs": [
    {
     "data": {
      "text/plain": [
       "12961"
      ]
     },
     "execution_count": 273,
     "metadata": {},
     "output_type": "execute_result"
    }
   ],
   "source": [
    "#Comprobando NaN\n",
    "data['loan_date_end'].isna().sum()"
   ]
  },
  {
   "cell_type": "code",
   "execution_count": 274,
   "metadata": {
    "id": "JKgBbvT52WIE",
    "outputId": "66224a45-83a4-4ba1-b0f6-ba5951e41871"
   },
   "outputs": [
    {
     "data": {
      "text/plain": [
       "67"
      ]
     },
     "execution_count": 274,
     "metadata": {},
     "output_type": "execute_result"
    }
   ],
   "source": [
    "#Comprobando NaN\n",
    "data['a/w'].isna().sum()"
   ]
  },
  {
   "cell_type": "code",
   "execution_count": 275,
   "metadata": {
    "id": "huza9qUK2WIF",
    "outputId": "06bb1e52-646d-4e90-c4e3-8abf8ed91048"
   },
   "outputs": [
    {
     "data": {
      "text/plain": [
       "unnamed:_0     0\n",
       "id             0\n",
       "name           0\n",
       "age            0\n",
       "nationality    0\n",
       "              ..\n",
       "cb             0\n",
       "rcb            0\n",
       "rb             0\n",
       "gk             0\n",
       "ova            0\n",
       "Length: 102, dtype: int64"
      ]
     },
     "execution_count": 275,
     "metadata": {},
     "output_type": "execute_result"
    }
   ],
   "source": [
    "#Comprobando NaN\n",
    "data.isna().sum()"
   ]
  },
  {
   "cell_type": "markdown",
   "metadata": {
    "id": "H1sjn4nS2WIF",
    "tags": []
   },
   "source": [
    "## Clasificación de columnas"
   ]
  },
  {
   "cell_type": "code",
   "execution_count": 276,
   "metadata": {
    "id": "JPGC0meT2WIF"
   },
   "outputs": [],
   "source": [
    "col_to_trash = [\"unnamed:_0\", \"id\", \"name\", \"club\", \"loan_date_end\", \"position\", \"team_&_contract\", \"contract\"]\n",
    "col_money = [\"value\", \"wage\", \"release_clause\"]\n",
    "col_star = [\"w/f\", \"sm\", \"ir\"]\n",
    "col_cat = [\"nationality\", \"bp\", \"foot\", \"a/w\", 'd/w']\n",
    "col_num = ['age', \"height\", \"weight\", \"growth\", \"attacking\", 'crossing', 'finishing', 'heading_accuracy', 'short_passing', 'volleys', 'skill', 'dribbling', 'curve', 'fk_accuracy', 'long_passing', 'ball_control', 'movement', 'acceleration', 'sprint_speed', 'agility', 'reactions', 'balance', 'power', 'shot_power', 'jumping', 'stamina', 'strenght', 'long_shots', 'mentality', 'agression', 'interceptions', 'positioning', 'vision', 'penalties', 'composure', 'defending', 'marking', 'standing_tackle', 'sliding_tackle', 'goalkeeping', 'gk_diving', 'gk_handling', 'gk_positioning', 'gk_reflexes', 'total_stats', 'base_stats', 'pac', 'sho', 'pas', 'dri', 'def', 'phy', 'hits', 'ova'] \n",
    "col_date = [\"joined\"]\n",
    "col_split = ['ls', 'st', 'rs', 'lw', 'lf', 'cf', 'rf', 'rw', 'lam', 'cam', 'ram', 'lm', 'lcm', 'cm', 'rcm', 'rm', 'lwb', 'ldm', 'cdm', 'rdm', 'rwb', 'lb', 'lcb', 'cb', 'rcb', 'rb', 'gk']"
   ]
  },
  {
   "cell_type": "markdown",
   "metadata": {
    "id": "iY8V0KRL2WIG",
    "tags": []
   },
   "source": [
    "## Transformations"
   ]
  },
  {
   "cell_type": "markdown",
   "metadata": {
    "tags": []
   },
   "source": [
    "### Col_money transformation & hits"
   ]
  },
  {
   "cell_type": "code",
   "execution_count": 277,
   "metadata": {
    "tags": []
   },
   "outputs": [],
   "source": [
    "def transform_money(c):\n",
    "    c = c[1:]\n",
    "    if c[-1] == 'K':\n",
    "        res = float(c[:-1]) * 1000\n",
    "    elif c[-1] == 'M':\n",
    "        res = float(c[:-1]) * 1000000\n",
    "    else:\n",
    "        res = float(c)\n",
    "    return res"
   ]
  },
  {
   "cell_type": "code",
   "execution_count": 278,
   "metadata": {},
   "outputs": [],
   "source": [
    "for c in col_money:\n",
    "    data[c] = list(map(transform_money, data[c]))"
   ]
  },
  {
   "cell_type": "code",
   "execution_count": 279,
   "metadata": {},
   "outputs": [
    {
     "data": {
      "text/plain": [
       "0          801000.0\n",
       "1               0.0\n",
       "2        15300000.0\n",
       "3          694000.0\n",
       "4         1400000.0\n",
       "            ...    \n",
       "13695      731000.0\n",
       "13696      285000.0\n",
       "13697    12000000.0\n",
       "13698      245000.0\n",
       "13699      946000.0\n",
       "Name: release_clause, Length: 13700, dtype: float64"
      ]
     },
     "execution_count": 279,
     "metadata": {},
     "output_type": "execute_result"
    }
   ],
   "source": [
    "data['release_clause']"
   ]
  },
  {
   "cell_type": "code",
   "execution_count": 280,
   "metadata": {},
   "outputs": [
    {
     "data": {
      "text/plain": [
       "0         525000.0\n",
       "1        8500000.0\n",
       "2        9000000.0\n",
       "3         275000.0\n",
       "4         725000.0\n",
       "           ...    \n",
       "13695     325000.0\n",
       "13696     190000.0\n",
       "13697    8000000.0\n",
       "13698     140000.0\n",
       "13699     425000.0\n",
       "Name: value, Length: 13700, dtype: float64"
      ]
     },
     "execution_count": 280,
     "metadata": {},
     "output_type": "execute_result"
    }
   ],
   "source": [
    "data['value']"
   ]
  },
  {
   "cell_type": "code",
   "execution_count": 281,
   "metadata": {},
   "outputs": [],
   "source": [
    "def transform_hits(c):\n",
    "    if c[-1] == 'K':\n",
    "        res = float(c[:-1]) * 1000\n",
    "    elif c[-1] == 'M':\n",
    "        res = float(c[:-1]) * 1000000\n",
    "    else:\n",
    "        res = float(c)\n",
    "    return res"
   ]
  },
  {
   "cell_type": "code",
   "execution_count": 282,
   "metadata": {},
   "outputs": [],
   "source": [
    "data['hits'] = list(map(transform_hits, data['hits']))"
   ]
  },
  {
   "cell_type": "markdown",
   "metadata": {
    "tags": []
   },
   "source": [
    "### Col_star transformation"
   ]
  },
  {
   "cell_type": "code",
   "execution_count": 283,
   "metadata": {
    "tags": []
   },
   "outputs": [
    {
     "data": {
      "text/plain": [
       "dtype('O')"
      ]
     },
     "execution_count": 283,
     "metadata": {},
     "output_type": "execute_result"
    }
   ],
   "source": [
    "data['w/f'].dtype"
   ]
  },
  {
   "cell_type": "code",
   "execution_count": 284,
   "metadata": {},
   "outputs": [],
   "source": [
    "data['w/f'] = data['w/f'].astype(str).str[:-2]\n",
    "data['sm'] = data['sm'].astype(str).str[:-1]\n",
    "data['ir'] = data['ir'].astype(str).str[:-2]"
   ]
  },
  {
   "cell_type": "code",
   "execution_count": 285,
   "metadata": {
    "tags": []
   },
   "outputs": [
    {
     "data": {
      "text/plain": [
       "0        1\n",
       "1        2\n",
       "2        2\n",
       "3        1\n",
       "4        1\n",
       "        ..\n",
       "13695    1\n",
       "13696    1\n",
       "13697    2\n",
       "13698    1\n",
       "13699    1\n",
       "Name: ir, Length: 13700, dtype: int32"
      ]
     },
     "execution_count": 285,
     "metadata": {},
     "output_type": "execute_result"
    }
   ],
   "source": [
    "data['w/f'].apply(str).astype(int)\n",
    "data['sm'].apply(str).astype(int)\n",
    "data['ir'].apply(str).astype(int)"
   ]
  },
  {
   "cell_type": "markdown",
   "metadata": {
    "tags": []
   },
   "source": [
    "### col_cat transformation"
   ]
  },
  {
   "cell_type": "markdown",
   "metadata": {
    "tags": []
   },
   "source": [
    "#### Transform nationality"
   ]
  },
  {
   "cell_type": "code",
   "execution_count": 286,
   "metadata": {},
   "outputs": [],
   "source": [
    "import pycountry_convert as pc # needed to intall pycountry_convert pip first"
   ]
  },
  {
   "cell_type": "code",
   "execution_count": 287,
   "metadata": {},
   "outputs": [],
   "source": [
    "def country_to_continent(country_name):\n",
    "    country_alpha2 = pc.country_name_to_country_alpha2(country_name)\n",
    "    country_continent_code = pc.country_alpha2_to_continent_code(country_alpha2)\n",
    "    return country_continent_code"
   ]
  },
  {
   "cell_type": "code",
   "execution_count": 288,
   "metadata": {},
   "outputs": [],
   "source": [
    "data['nationality'] = data['nationality'].replace(['China PR'], 'China')\n",
    "data['nationality'] = data['nationality'].replace(['Wales'], 'United Kingdom')\n",
    "data['nationality'] = data['nationality'].replace(['Bosnia Herzegovina'], 'Bosnia and Herzegovina')\n",
    "data['nationality'] = data['nationality'].replace(['England'], 'United Kingdom')\n",
    "data['nationality'] = data['nationality'].replace(['Republic of Ireland'], 'Ireland')\n",
    "data['nationality'] = data['nationality'].replace(['Korea Republic'], 'South Korea')\n",
    "data['nationality'] = data['nationality'].replace(['Kosovo'], 'Serbia')\n",
    "data['nationality'] = data['nationality'].replace(['Scotland'], 'United Kingdom')\n",
    "data['nationality'] = data['nationality'].replace(['Northern Ireland'], 'Ireland')\n",
    "data['nationality'] = data['nationality'].replace(['DR Congo'], 'Congo')\n",
    "data['nationality'] = data['nationality'].replace(['Curacao'], 'Venezuela')\n",
    "data['nationality'] = data['nationality'].replace(['Carib'], 'Venezuela')\n",
    "data['nationality'] = data['nationality'].replace(['Korea DPR'], 'North Korea')\n",
    "data['nationality'] = data['nationality'].replace(['Chinese Taipei'], 'China')\n",
    "data['nationality'] = data['nationality'].replace(['Taipei'], 'China')\n",
    "data['nationality'] = data['nationality'].replace(['Trinidad &amp; Tobago'], 'Trinidad and Tobago')\n",
    "data['nationality'] = data['nationality'].replace(['Antigua &amp; Barbuda'], 'Antigua and Barbuda')\n",
    "data['nationality'] = data['nationality'].replace(['Guinea Bissau'], 'Guinea-Bisáu')\n",
    "data['nationality'] = data['nationality'].replace(['Guinea-Bisáu'], 'Guinea-Bissau')\n",
    "data['nationality'] = data['nationality'].replace(['São Tomé &amp; Príncipe'], 'Saint Thomas and Prince')\n",
    "data['nationality'] = data['nationality'].replace(['Saint Thomas and Prince'], 'Nigeria')"
   ]
  },
  {
   "cell_type": "code",
   "execution_count": 289,
   "metadata": {
    "tags": []
   },
   "outputs": [],
   "source": [
    "data['nationality'] = list(map(country_to_continent, data['nationality']))"
   ]
  },
  {
   "cell_type": "code",
   "execution_count": 290,
   "metadata": {},
   "outputs": [
    {
     "data": {
      "text/plain": [
       "array(['EU', 'AS', 'SA', 'NA', 'AF', 'OC'], dtype=object)"
      ]
     },
     "execution_count": 290,
     "metadata": {},
     "output_type": "execute_result"
    }
   ],
   "source": [
    "data['nationality'].unique()"
   ]
  },
  {
   "cell_type": "markdown",
   "metadata": {
    "tags": []
   },
   "source": [
    "### Col_date transformation"
   ]
  },
  {
   "cell_type": "code",
   "execution_count": 291,
   "metadata": {},
   "outputs": [],
   "source": [
    "data['joined'] = pd.to_datetime(data['joined'], errors='coerce')"
   ]
  },
  {
   "cell_type": "code",
   "execution_count": 292,
   "metadata": {},
   "outputs": [],
   "source": [
    "data['joined']=pd.DatetimeIndex(data['joined']).year"
   ]
  },
  {
   "cell_type": "code",
   "execution_count": 293,
   "metadata": {},
   "outputs": [
    {
     "data": {
      "text/plain": [
       "0        2015.0\n",
       "1        2015.0\n",
       "2        2019.0\n",
       "3        2016.0\n",
       "4        2018.0\n",
       "          ...  \n",
       "13695    2020.0\n",
       "13696    2017.0\n",
       "13697    2019.0\n",
       "13698    2020.0\n",
       "13699    2020.0\n",
       "Name: joined, Length: 13700, dtype: float64"
      ]
     },
     "execution_count": 293,
     "metadata": {},
     "output_type": "execute_result"
    }
   ],
   "source": [
    "data['joined']"
   ]
  },
  {
   "cell_type": "markdown",
   "metadata": {
    "tags": []
   },
   "source": [
    "### Col_split transformation"
   ]
  },
  {
   "cell_type": "code",
   "execution_count": 294,
   "metadata": {},
   "outputs": [],
   "source": [
    "list_of_splits = [[i, i + '_2'] for i in col_split]\n",
    "\n",
    "for pair in list_of_splits:\n",
    "    data[pair] = data[pair[0]].str.split(\"+\",expand=True,).astype(float)"
   ]
  },
  {
   "cell_type": "code",
   "execution_count": 295,
   "metadata": {},
   "outputs": [
    {
     "data": {
      "text/plain": [
       "Index(['unnamed:_0', 'id', 'name', 'age', 'nationality', 'club', 'bp',\n",
       "       'position', 'team_&_contract', 'height',\n",
       "       ...\n",
       "       'ldm_2', 'cdm_2', 'rdm_2', 'rwb_2', 'lb_2', 'lcb_2', 'cb_2', 'rcb_2',\n",
       "       'rb_2', 'gk_2'],\n",
       "      dtype='object', length=129)"
      ]
     },
     "execution_count": 295,
     "metadata": {},
     "output_type": "execute_result"
    }
   ],
   "source": [
    "data.columns"
   ]
  },
  {
   "cell_type": "markdown",
   "metadata": {
    "tags": []
   },
   "source": [
    "### Transform height & weight"
   ]
  },
  {
   "cell_type": "code",
   "execution_count": 296,
   "metadata": {},
   "outputs": [],
   "source": [
    "def transform_height(c):\n",
    "    return float(c.split(\"'\")[0]) * 30.48 + float(c.split(\"'\")[1][:-1]) * 2.54"
   ]
  },
  {
   "cell_type": "code",
   "execution_count": 297,
   "metadata": {},
   "outputs": [
    {
     "data": {
      "text/plain": [
       "175.26"
      ]
     },
     "execution_count": 297,
     "metadata": {},
     "output_type": "execute_result"
    }
   ],
   "source": [
    "transform_height('5\\'9\\\"')"
   ]
  },
  {
   "cell_type": "code",
   "execution_count": 298,
   "metadata": {},
   "outputs": [],
   "source": [
    "data['height'] = list(map(transform_height, data['height']))"
   ]
  },
  {
   "cell_type": "code",
   "execution_count": 299,
   "metadata": {},
   "outputs": [],
   "source": [
    "def transform_weight(c):\n",
    "    return float(c.split('lbs')[0]) * 0.453592"
   ]
  },
  {
   "cell_type": "code",
   "execution_count": 300,
   "metadata": {},
   "outputs": [],
   "source": [
    "data['weight'] = list(map(transform_weight, data['weight']))"
   ]
  },
  {
   "cell_type": "markdown",
   "metadata": {
    "tags": []
   },
   "source": [
    "### Col_drop"
   ]
  },
  {
   "cell_type": "code",
   "execution_count": 301,
   "metadata": {},
   "outputs": [],
   "source": [
    "data = data.drop([\"unnamed:_0\", \"id\", \"name\", \"club\", \"loan_date_end\", \"position\", \"team_&_contract\", \"contract\"], axis=1)"
   ]
  },
  {
   "cell_type": "markdown",
   "metadata": {
    "tags": []
   },
   "source": [
    "## Deal with NaN"
   ]
  },
  {
   "cell_type": "code",
   "execution_count": 302,
   "metadata": {
    "tags": []
   },
   "outputs": [
    {
     "name": "stdout",
     "output_type": "stream",
     "text": [
      "[0, 0, 0, 0, 0, 0, 0, 44, 0, 0, 0, 0, 0, 0, 0, 0, 44, 0, 0, 44, 0, 0, 0, 0, 0, 0, 44, 0, 44, 0, 0, 44, 0, 0, 0, 0, 0, 7, 7, 44, 0, 329, 0, 0, 0, 44, 0, 0, 0, 0, 0, 0, 0, 0, 0, 0, 67, 67, 0, 0, 0, 0, 0, 0, 0, 0, 0, 0, 0, 0, 0, 0, 0, 0, 0, 0, 0, 0, 0, 0, 0, 0, 0, 0, 0, 0, 0, 0, 0, 0, 0, 0, 0, 0, 0, 0, 0, 0, 0, 0, 0, 0, 0, 0, 0, 0, 0, 0, 0, 0, 0, 0, 0, 0, 0, 0, 0, 0, 0, 0, 0]\n"
     ]
    }
   ],
   "source": [
    "print(list(data.isna().sum()))"
   ]
  },
  {
   "cell_type": "code",
   "execution_count": 303,
   "metadata": {
    "tags": []
   },
   "outputs": [
    {
     "name": "stdout",
     "output_type": "stream",
     "text": [
      "['joined', 'volleys', 'curve', 'agility', 'balance', 'jumping', 'interceptions', 'positioning', 'vision', 'composure', 'sliding_tackle', 'a/w', 'd/w']\n"
     ]
    }
   ],
   "source": [
    "print(list(data.columns[data.isna().any()]))"
   ]
  },
  {
   "cell_type": "code",
   "execution_count": 304,
   "metadata": {},
   "outputs": [
    {
     "name": "stdout",
     "output_type": "stream",
     "text": [
      "['nationality', 'bp', 'foot', 'w/f', 'sm', 'a/w', 'd/w', 'ir']\n"
     ]
    }
   ],
   "source": [
    "print(list(data.select_dtypes('object')))"
   ]
  },
  {
   "cell_type": "code",
   "execution_count": 305,
   "metadata": {
    "tags": []
   },
   "outputs": [],
   "source": [
    "col_num_with_Nan = ['joined', 'value', 'wage', 'volleys', 'curve', 'agility', 'balance', 'jumping', 'interceptions', 'positioning', 'vision', 'composure', 'sliding_tackle']\n",
    "col_num_with_Nan = ['a/w', 'd/w']"
   ]
  },
  {
   "cell_type": "markdown",
   "metadata": {
    "tags": []
   },
   "source": [
    "### Deal with numerical NaNs "
   ]
  },
  {
   "cell_type": "code",
   "execution_count": 306,
   "metadata": {},
   "outputs": [
    {
     "name": "stderr",
     "output_type": "stream",
     "text": [
      "C:\\Users\\SR133EX\\AppData\\Local\\Temp\\ipykernel_37824\\2189148093.py:2: FutureWarning: Dropping of nuisance columns in DataFrame reductions (with 'numeric_only=None') is deprecated; in a future version this will raise TypeError.  Select only valid columns before calling the reduction.\n",
      "  data = data.fillna(data.median())\n"
     ]
    }
   ],
   "source": [
    "# This code replaces all the nans with their respective columns' median\n",
    "data = data.fillna(data.median())"
   ]
  },
  {
   "cell_type": "markdown",
   "metadata": {
    "tags": []
   },
   "source": [
    "### Deal with categorical NaNs"
   ]
  },
  {
   "cell_type": "code",
   "execution_count": 307,
   "metadata": {},
   "outputs": [
    {
     "name": "stdout",
     "output_type": "stream",
     "text": [
      "['a/w', 'd/w']\n"
     ]
    }
   ],
   "source": [
    "print(list(data.columns[data.isna().any()]))"
   ]
  },
  {
   "cell_type": "code",
   "execution_count": 308,
   "metadata": {},
   "outputs": [
    {
     "data": {
      "text/plain": [
       "Medium    8808\n",
       "High      4143\n",
       "Low        682\n",
       "Name: a/w, dtype: int64"
      ]
     },
     "execution_count": 308,
     "metadata": {},
     "output_type": "execute_result"
    }
   ],
   "source": [
    "data['a/w'].value_counts()"
   ]
  },
  {
   "cell_type": "code",
   "execution_count": 309,
   "metadata": {},
   "outputs": [],
   "source": [
    "# filling with most common class\n",
    "data['a/w'] = data['a/w'].fillna('Medium')"
   ]
  },
  {
   "cell_type": "code",
   "execution_count": 310,
   "metadata": {},
   "outputs": [
    {
     "data": {
      "text/plain": [
       "Medium    9814\n",
       "High      2360\n",
       "Low       1459\n",
       "Name: d/w, dtype: int64"
      ]
     },
     "execution_count": 310,
     "metadata": {},
     "output_type": "execute_result"
    }
   ],
   "source": [
    "data['d/w'].value_counts()"
   ]
  },
  {
   "cell_type": "code",
   "execution_count": 311,
   "metadata": {},
   "outputs": [],
   "source": [
    "data['d/w'] = data['d/w'].fillna('Medium')"
   ]
  },
  {
   "cell_type": "markdown",
   "metadata": {
    "tags": []
   },
   "source": [
    "## Deal with Outliers"
   ]
  },
  {
   "cell_type": "code",
   "execution_count": 312,
   "metadata": {},
   "outputs": [
    {
     "name": "stdout",
     "output_type": "stream",
     "text": [
      "['nationality', 'bp', 'foot', 'w/f', 'sm', 'a/w', 'd/w', 'ir']\n"
     ]
    }
   ],
   "source": [
    "print(list(data.select_dtypes('object')))"
   ]
  },
  {
   "cell_type": "code",
   "execution_count": 313,
   "metadata": {},
   "outputs": [
    {
     "name": "stdout",
     "output_type": "stream",
     "text": [
      "['age', 'height', 'weight', 'growth', 'joined', 'value', 'wage', 'release_clause', 'attacking', 'crossing', 'finishing', 'heading_accuracy', 'short_passing', 'volleys', 'skill', 'dribbling', 'curve', 'fk_accuracy', 'long_passing', 'ball_control', 'movement', 'acceleration', 'sprint_speed', 'agility', 'reactions', 'balance', 'power', 'shot_power', 'jumping', 'stamina', 'strength', 'long_shots', 'mentality', 'aggression', 'interceptions', 'positioning', 'vision', 'penalties', 'composure', 'defending', 'marking', 'standing_tackle', 'sliding_tackle', 'goalkeeping', 'gk_diving', 'gk_handling', 'gk_kicking', 'gk_positioning', 'gk_reflexes', 'total_stats', 'base_stats', 'pac', 'sho', 'pas', 'dri', 'def', 'phy', 'hits', 'ls', 'st', 'rs', 'lw', 'lf', 'cf', 'rf', 'rw', 'lam', 'cam', 'ram', 'lm', 'lcm', 'cm', 'rcm', 'rm', 'lwb', 'ldm', 'cdm', 'rdm', 'rwb', 'lb', 'lcb', 'cb', 'rcb', 'rb', 'gk', 'ova', 'ls_2', 'st_2', 'rs_2', 'lw_2', 'lf_2', 'cf_2', 'rf_2', 'rw_2', 'lam_2', 'cam_2', 'ram_2', 'lm_2', 'lcm_2', 'cm_2', 'rcm_2', 'rm_2', 'lwb_2', 'ldm_2', 'cdm_2', 'rdm_2', 'rwb_2', 'lb_2', 'lcb_2', 'cb_2', 'rcb_2', 'rb_2', 'gk_2']\n"
     ]
    }
   ],
   "source": [
    "print(list(data._get_numeric_data()))"
   ]
  },
  {
   "cell_type": "code",
   "execution_count": 314,
   "metadata": {},
   "outputs": [],
   "source": [
    "categorical_col = ['nationality', 'bp', 'foot', 'w/f', 'sm', 'a/w', 'd/w', 'ir']\n",
    "numerical_col = ['age', 'height', 'weight', 'growth', 'joined', 'value', 'wage', 'release_clause', 'attacking', 'crossing', 'finishing', 'heading_accuracy', 'short_passing', 'volleys', 'skill', 'dribbling', 'curve', 'fk_accuracy', 'long_passing', 'ball_control', 'movement', 'acceleration', 'sprint_speed', 'agility', 'reactions', 'balance', 'power', 'shot_power', 'jumping', 'stamina', 'strength', 'long_shots', 'mentality', 'aggression', 'interceptions', 'positioning', 'vision', 'penalties', 'composure', 'defending', 'marking', 'standing_tackle', 'sliding_tackle', 'goalkeeping', 'gk_diving', 'gk_handling', 'gk_kicking', 'gk_positioning', 'gk_reflexes', 'total_stats', 'base_stats', 'pac', 'sho', 'pas', 'dri', 'def', 'phy', 'hits', 'ls', 'st', 'rs', 'lw', 'lf', 'cf', 'rf', 'rw', 'lam', 'cam', 'ram', 'lm', 'lcm', 'cm', 'rcm', 'rm', 'lwb', 'ldm', 'cdm', 'rdm', 'rwb', 'lb', 'lcb', 'cb', 'rcb', 'rb', 'gk', 'ls_2', 'st_2', 'rs_2', 'lw_2', 'lf_2', 'cf_2', 'rf_2', 'rw_2', 'lam_2', 'cam_2', 'ram_2', 'lm_2', 'lcm_2', 'cm_2', 'rcm_2', 'rm_2', 'lwb_2', 'ldm_2', 'cdm_2', 'rdm_2', 'rwb_2', 'lb_2', 'lcb_2', 'cb_2', 'rcb_2', 'rb_2', 'gk_2', 'ova']"
   ]
  },
  {
   "cell_type": "code",
   "execution_count": 315,
   "metadata": {},
   "outputs": [
    {
     "data": {
      "text/plain": [
       "<AxesSubplot:>"
      ]
     },
     "execution_count": 315,
     "metadata": {},
     "output_type": "execute_result"
    },
    {
     "data": {
      "image/png": "[encoded data removed]",
      "text/plain": [
       "<Figure size 432x288 with 1 Axes>"
      ]
     },
     "metadata": {
      "needs_background": "light"
     },
     "output_type": "display_data"
    }
   ],
   "source": [
    "data.boxplot(numerical_col)"
   ]
  },
  {
   "cell_type": "code",
   "execution_count": 316,
   "metadata": {},
   "outputs": [
    {
     "data": {
      "text/plain": [
       "<AxesSubplot:>"
      ]
     },
     "execution_count": 316,
     "metadata": {},
     "output_type": "execute_result"
    },
    {
     "data": {
      "image/png": "[encoded data removed]",
      "text/plain": [
       "<Figure size 432x288 with 1 Axes>"
      ]
     },
     "metadata": {
      "needs_background": "light"
     },
     "output_type": "display_data"
    }
   ],
   "source": [
    "numerical_col_v2 = ['age', 'height', 'weight', 'growth', 'joined', 'value', 'wage', 'release_clause','attacking', 'crossing']\n",
    "data.boxplot(numerical_col_v2)"
   ]
  },
  {
   "cell_type": "code",
   "execution_count": 317,
   "metadata": {},
   "outputs": [],
   "source": [
    "for x in ['value']:\n",
    "    q75,q25 = np.percentile(data.loc[:,x],[75,25])\n",
    "    intr_qr = q75-q25\n",
    " \n",
    "    max = q75+(1.5*intr_qr)\n",
    "    min = q25-(1.5*intr_qr)\n",
    " \n",
    "    data.loc[data[x] < min,x] = np.nan\n",
    "    data.loc[data[x] > max,x] = np.nan"
   ]
  },
  {
   "cell_type": "code",
   "execution_count": 318,
   "metadata": {},
   "outputs": [],
   "source": [
    "for x in ['release_clause']:\n",
    "    q75,q25 = np.percentile(data.loc[:,x],[75,25])\n",
    "    intr_qr = q75-q25\n",
    " \n",
    "    max = q75+(1.5*intr_qr)\n",
    "    min = q25-(1.5*intr_qr)\n",
    " \n",
    "    data.loc[data[x] < min,x] = np.nan\n",
    "    data.loc[data[x] > max,x] = np.nan"
   ]
  },
  {
   "cell_type": "code",
   "execution_count": 319,
   "metadata": {},
   "outputs": [
    {
     "name": "stdout",
     "output_type": "stream",
     "text": [
      "['value', 'release_clause']\n"
     ]
    }
   ],
   "source": [
    "print(list(data.columns[data.isna().any()]))"
   ]
  },
  {
   "cell_type": "code",
   "execution_count": 320,
   "metadata": {},
   "outputs": [
    {
     "data": {
      "text/plain": [
       "(13700, 121)"
      ]
     },
     "execution_count": 320,
     "metadata": {},
     "output_type": "execute_result"
    }
   ],
   "source": [
    "data.shape"
   ]
  },
  {
   "cell_type": "code",
   "execution_count": 321,
   "metadata": {},
   "outputs": [
    {
     "name": "stdout",
     "output_type": "stream",
     "text": [
      "[0, 0, 0, 0, 0, 0, 0, 0, 1835, 0, 1866, 0, 0, 0, 0, 0, 0, 0, 0, 0, 0, 0, 0, 0, 0, 0, 0, 0, 0, 0, 0, 0, 0, 0, 0, 0, 0, 0, 0, 0, 0, 0, 0, 0, 0, 0, 0, 0, 0, 0, 0, 0, 0, 0, 0, 0, 0, 0, 0, 0, 0, 0, 0, 0, 0, 0, 0, 0, 0, 0, 0, 0, 0, 0, 0, 0, 0, 0, 0, 0, 0, 0, 0, 0, 0, 0, 0, 0, 0, 0, 0, 0, 0, 0, 0, 0, 0, 0, 0, 0, 0, 0, 0, 0, 0, 0, 0, 0, 0, 0, 0, 0, 0, 0, 0, 0, 0, 0, 0, 0, 0]\n"
     ]
    }
   ],
   "source": [
    "print(list(data.isna().sum()))"
   ]
  },
  {
   "cell_type": "code",
   "execution_count": 322,
   "metadata": {},
   "outputs": [],
   "source": [
    "data = data.dropna(axis = 0)"
   ]
  },
  {
   "cell_type": "code",
   "execution_count": 323,
   "metadata": {},
   "outputs": [
    {
     "name": "stdout",
     "output_type": "stream",
     "text": [
      "[0, 0, 0, 0, 0, 0, 0, 0, 0, 0, 0, 0, 0, 0, 0, 0, 0, 0, 0, 0, 0, 0, 0, 0, 0, 0, 0, 0, 0, 0, 0, 0, 0, 0, 0, 0, 0, 0, 0, 0, 0, 0, 0, 0, 0, 0, 0, 0, 0, 0, 0, 0, 0, 0, 0, 0, 0, 0, 0, 0, 0, 0, 0, 0, 0, 0, 0, 0, 0, 0, 0, 0, 0, 0, 0, 0, 0, 0, 0, 0, 0, 0, 0, 0, 0, 0, 0, 0, 0, 0, 0, 0, 0, 0, 0, 0, 0, 0, 0, 0, 0, 0, 0, 0, 0, 0, 0, 0, 0, 0, 0, 0, 0, 0, 0, 0, 0, 0, 0, 0, 0]\n"
     ]
    }
   ],
   "source": [
    "print(list(data.isna().sum()))"
   ]
  },
  {
   "cell_type": "code",
   "execution_count": 324,
   "metadata": {},
   "outputs": [
    {
     "data": {
      "text/plain": [
       "<AxesSubplot:>"
      ]
     },
     "execution_count": 324,
     "metadata": {},
     "output_type": "execute_result"
    },
    {
     "data": {
      "image/png": "[encoded data removed]",
      "text/plain": [
       "<Figure size 432x288 with 1 Axes>"
      ]
     },
     "metadata": {
      "needs_background": "light"
     },
     "output_type": "display_data"
    }
   ],
   "source": [
    "numerical_col_v2 = ['age', 'height', 'weight', 'growth', 'joined', 'value', 'wage', 'release_clause','attacking', 'crossing']\n",
    "data.boxplot(numerical_col_v2)"
   ]
  },
  {
   "cell_type": "code",
   "execution_count": 325,
   "metadata": {},
   "outputs": [],
   "source": [
    "for x in ['value']:\n",
    "    q75,q25 = np.percentile(data.loc[:,x],[75,25])\n",
    "    intr_qr = q75-q25\n",
    " \n",
    "    max = q75+(1.5*intr_qr)\n",
    "    min = q25-(1.5*intr_qr)\n",
    " \n",
    "    data.loc[data[x] < min,x] = np.nan\n",
    "    data.loc[data[x] > max,x] = np.nan"
   ]
  },
  {
   "cell_type": "code",
   "execution_count": 326,
   "metadata": {},
   "outputs": [],
   "source": [
    "for x in ['release_clause']:\n",
    "    q75,q25 = np.percentile(data.loc[:,x],[75,25])\n",
    "    intr_qr = q75-q25\n",
    " \n",
    "    max = q75+(1.5*intr_qr)\n",
    "    min = q25-(1.5*intr_qr)\n",
    " \n",
    "    data.loc[data[x] < min,x] = np.nan\n",
    "    data.loc[data[x] > max,x] = np.nan"
   ]
  },
  {
   "cell_type": "code",
   "execution_count": 327,
   "metadata": {},
   "outputs": [],
   "source": [
    "data = data.dropna(axis = 0)"
   ]
  },
  {
   "cell_type": "code",
   "execution_count": 328,
   "metadata": {},
   "outputs": [
    {
     "data": {
      "text/plain": [
       "<AxesSubplot:>"
      ]
     },
     "execution_count": 328,
     "metadata": {},
     "output_type": "execute_result"
    },
    {
     "data": {
      "image/png": "[encoded data removed]",
      "text/plain": [
       "<Figure size 432x288 with 1 Axes>"
      ]
     },
     "metadata": {
      "needs_background": "light"
     },
     "output_type": "display_data"
    }
   ],
   "source": [
    "numerical_col_v2 = ['age', 'height', 'weight', 'growth', 'joined', 'value', 'wage', 'release_clause','attacking', 'crossing']\n",
    "data.boxplot(numerical_col_v2)"
   ]
  },
  {
   "cell_type": "code",
   "execution_count": 329,
   "metadata": {},
   "outputs": [],
   "source": [
    "for x in numerical_col_v2:\n",
    "    q75,q25 = np.percentile(data.loc[:,x],[75,25])\n",
    "    intr_qr = q75-q25\n",
    " \n",
    "    max = q75+(1.5*intr_qr)\n",
    "    min = q25-(1.5*intr_qr)\n",
    " \n",
    "    data.loc[data[x] < min,x] = np.nan\n",
    "    data.loc[data[x] > max,x] = np.nan\n"
   ]
  },
  {
   "cell_type": "code",
   "execution_count": 330,
   "metadata": {},
   "outputs": [],
   "source": [
    "data = data.dropna(axis = 0)"
   ]
  },
  {
   "cell_type": "markdown",
   "metadata": {
    "tags": []
   },
   "source": [
    "## Standarize"
   ]
  },
  {
   "cell_type": "code",
   "execution_count": 331,
   "metadata": {},
   "outputs": [],
   "source": [
    "from sklearn.preprocessing import StandardScaler"
   ]
  },
  {
   "cell_type": "code",
   "execution_count": 332,
   "metadata": {},
   "outputs": [],
   "source": [
    "for c in numerical_col[:-1]:   # we'll normalize all column except the last one (the target column)\n",
    "    data[c]=StandardScaler().fit_transform(data[c].values.reshape(-1, 1))"
   ]
  },
  {
   "cell_type": "markdown",
   "metadata": {
    "tags": []
   },
   "source": [
    "## Encoding Categorical Data"
   ]
  },
  {
   "cell_type": "code",
   "execution_count": 333,
   "metadata": {},
   "outputs": [
    {
     "data": {
      "text/html": [
       "<div>\n",
       "<style scoped>\n",
       "    .dataframe tbody tr th:only-of-type {\n",
       "        vertical-align: middle;\n",
       "    }\n",
       "\n",
       "    .dataframe tbody tr th {\n",
       "        vertical-align: top;\n",
       "    }\n",
       "\n",
       "    .dataframe thead th {\n",
       "        text-align: right;\n",
       "    }\n",
       "</style>\n",
       "<table border=\"1\" class=\"dataframe\">\n",
       "  <thead>\n",
       "    <tr style=\"text-align: right;\">\n",
       "      <th></th>\n",
       "      <th>nationality_AS</th>\n",
       "      <th>nationality_EU</th>\n",
       "      <th>nationality_NA</th>\n",
       "      <th>nationality_OC</th>\n",
       "      <th>nationality_SA</th>\n",
       "      <th>bp_CB</th>\n",
       "      <th>bp_CDM</th>\n",
       "      <th>bp_CF</th>\n",
       "      <th>bp_CM</th>\n",
       "      <th>bp_GK</th>\n",
       "      <th>bp_LB</th>\n",
       "      <th>bp_LM</th>\n",
       "      <th>bp_LW</th>\n",
       "      <th>bp_LWB</th>\n",
       "      <th>bp_RB</th>\n",
       "      <th>bp_RM</th>\n",
       "      <th>bp_RW</th>\n",
       "      <th>bp_RWB</th>\n",
       "      <th>bp_ST</th>\n",
       "      <th>foot_Right</th>\n",
       "      <th>w/f_2</th>\n",
       "      <th>w/f_3</th>\n",
       "      <th>w/f_4</th>\n",
       "      <th>w/f_5</th>\n",
       "      <th>sm_2</th>\n",
       "      <th>sm_3</th>\n",
       "      <th>sm_4</th>\n",
       "      <th>sm_5</th>\n",
       "      <th>a/w_Low</th>\n",
       "      <th>a/w_Medium</th>\n",
       "      <th>d/w_Low</th>\n",
       "      <th>d/w_Medium</th>\n",
       "      <th>ir_2</th>\n",
       "      <th>ir_3</th>\n",
       "      <th>ir_4</th>\n",
       "      <th>ir_5</th>\n",
       "    </tr>\n",
       "  </thead>\n",
       "  <tbody>\n",
       "    <tr>\n",
       "      <th>0</th>\n",
       "      <td>0</td>\n",
       "      <td>1</td>\n",
       "      <td>0</td>\n",
       "      <td>0</td>\n",
       "      <td>0</td>\n",
       "      <td>0</td>\n",
       "      <td>0</td>\n",
       "      <td>0</td>\n",
       "      <td>1</td>\n",
       "      <td>0</td>\n",
       "      <td>0</td>\n",
       "      <td>0</td>\n",
       "      <td>0</td>\n",
       "      <td>0</td>\n",
       "      <td>0</td>\n",
       "      <td>0</td>\n",
       "      <td>0</td>\n",
       "      <td>0</td>\n",
       "      <td>0</td>\n",
       "      <td>1</td>\n",
       "      <td>0</td>\n",
       "      <td>0</td>\n",
       "      <td>1</td>\n",
       "      <td>0</td>\n",
       "      <td>1</td>\n",
       "      <td>0</td>\n",
       "      <td>0</td>\n",
       "      <td>0</td>\n",
       "      <td>0</td>\n",
       "      <td>0</td>\n",
       "      <td>0</td>\n",
       "      <td>1</td>\n",
       "      <td>0</td>\n",
       "      <td>0</td>\n",
       "      <td>0</td>\n",
       "      <td>0</td>\n",
       "    </tr>\n",
       "    <tr>\n",
       "      <th>3</th>\n",
       "      <td>0</td>\n",
       "      <td>1</td>\n",
       "      <td>0</td>\n",
       "      <td>0</td>\n",
       "      <td>0</td>\n",
       "      <td>0</td>\n",
       "      <td>1</td>\n",
       "      <td>0</td>\n",
       "      <td>0</td>\n",
       "      <td>0</td>\n",
       "      <td>0</td>\n",
       "      <td>0</td>\n",
       "      <td>0</td>\n",
       "      <td>0</td>\n",
       "      <td>0</td>\n",
       "      <td>0</td>\n",
       "      <td>0</td>\n",
       "      <td>0</td>\n",
       "      <td>0</td>\n",
       "      <td>1</td>\n",
       "      <td>1</td>\n",
       "      <td>0</td>\n",
       "      <td>0</td>\n",
       "      <td>0</td>\n",
       "      <td>1</td>\n",
       "      <td>0</td>\n",
       "      <td>0</td>\n",
       "      <td>0</td>\n",
       "      <td>0</td>\n",
       "      <td>1</td>\n",
       "      <td>0</td>\n",
       "      <td>1</td>\n",
       "      <td>0</td>\n",
       "      <td>0</td>\n",
       "      <td>0</td>\n",
       "      <td>0</td>\n",
       "    </tr>\n",
       "    <tr>\n",
       "      <th>4</th>\n",
       "      <td>0</td>\n",
       "      <td>1</td>\n",
       "      <td>0</td>\n",
       "      <td>0</td>\n",
       "      <td>0</td>\n",
       "      <td>0</td>\n",
       "      <td>1</td>\n",
       "      <td>0</td>\n",
       "      <td>0</td>\n",
       "      <td>0</td>\n",
       "      <td>0</td>\n",
       "      <td>0</td>\n",
       "      <td>0</td>\n",
       "      <td>0</td>\n",
       "      <td>0</td>\n",
       "      <td>0</td>\n",
       "      <td>0</td>\n",
       "      <td>0</td>\n",
       "      <td>0</td>\n",
       "      <td>1</td>\n",
       "      <td>1</td>\n",
       "      <td>0</td>\n",
       "      <td>0</td>\n",
       "      <td>0</td>\n",
       "      <td>0</td>\n",
       "      <td>1</td>\n",
       "      <td>0</td>\n",
       "      <td>0</td>\n",
       "      <td>1</td>\n",
       "      <td>0</td>\n",
       "      <td>0</td>\n",
       "      <td>1</td>\n",
       "      <td>0</td>\n",
       "      <td>0</td>\n",
       "      <td>0</td>\n",
       "      <td>0</td>\n",
       "    </tr>\n",
       "    <tr>\n",
       "      <th>5</th>\n",
       "      <td>1</td>\n",
       "      <td>0</td>\n",
       "      <td>0</td>\n",
       "      <td>0</td>\n",
       "      <td>0</td>\n",
       "      <td>0</td>\n",
       "      <td>0</td>\n",
       "      <td>0</td>\n",
       "      <td>0</td>\n",
       "      <td>0</td>\n",
       "      <td>0</td>\n",
       "      <td>1</td>\n",
       "      <td>0</td>\n",
       "      <td>0</td>\n",
       "      <td>0</td>\n",
       "      <td>0</td>\n",
       "      <td>0</td>\n",
       "      <td>0</td>\n",
       "      <td>0</td>\n",
       "      <td>1</td>\n",
       "      <td>0</td>\n",
       "      <td>0</td>\n",
       "      <td>1</td>\n",
       "      <td>0</td>\n",
       "      <td>0</td>\n",
       "      <td>1</td>\n",
       "      <td>0</td>\n",
       "      <td>0</td>\n",
       "      <td>0</td>\n",
       "      <td>0</td>\n",
       "      <td>1</td>\n",
       "      <td>0</td>\n",
       "      <td>0</td>\n",
       "      <td>0</td>\n",
       "      <td>0</td>\n",
       "      <td>0</td>\n",
       "    </tr>\n",
       "    <tr>\n",
       "      <th>7</th>\n",
       "      <td>0</td>\n",
       "      <td>1</td>\n",
       "      <td>0</td>\n",
       "      <td>0</td>\n",
       "      <td>0</td>\n",
       "      <td>0</td>\n",
       "      <td>0</td>\n",
       "      <td>0</td>\n",
       "      <td>0</td>\n",
       "      <td>0</td>\n",
       "      <td>0</td>\n",
       "      <td>1</td>\n",
       "      <td>0</td>\n",
       "      <td>0</td>\n",
       "      <td>0</td>\n",
       "      <td>0</td>\n",
       "      <td>0</td>\n",
       "      <td>0</td>\n",
       "      <td>0</td>\n",
       "      <td>0</td>\n",
       "      <td>1</td>\n",
       "      <td>0</td>\n",
       "      <td>0</td>\n",
       "      <td>0</td>\n",
       "      <td>1</td>\n",
       "      <td>0</td>\n",
       "      <td>0</td>\n",
       "      <td>0</td>\n",
       "      <td>0</td>\n",
       "      <td>1</td>\n",
       "      <td>0</td>\n",
       "      <td>1</td>\n",
       "      <td>0</td>\n",
       "      <td>0</td>\n",
       "      <td>0</td>\n",
       "      <td>0</td>\n",
       "    </tr>\n",
       "  </tbody>\n",
       "</table>\n",
       "</div>"
      ],
      "text/plain": [
       "   nationality_AS  nationality_EU  nationality_NA  nationality_OC  \\\n",
       "0               0               1               0               0   \n",
       "3               0               1               0               0   \n",
       "4               0               1               0               0   \n",
       "5               1               0               0               0   \n",
       "7               0               1               0               0   \n",
       "\n",
       "   nationality_SA  bp_CB  bp_CDM  bp_CF  bp_CM  bp_GK  bp_LB  bp_LM  bp_LW  \\\n",
       "0               0      0       0      0      1      0      0      0      0   \n",
       "3               0      0       1      0      0      0      0      0      0   \n",
       "4               0      0       1      0      0      0      0      0      0   \n",
       "5               0      0       0      0      0      0      0      1      0   \n",
       "7               0      0       0      0      0      0      0      1      0   \n",
       "\n",
       "   bp_LWB  bp_RB  bp_RM  bp_RW  bp_RWB  bp_ST  foot_Right  w/f_2  w/f_3  \\\n",
       "0       0      0      0      0       0      0           1      0      0   \n",
       "3       0      0      0      0       0      0           1      1      0   \n",
       "4       0      0      0      0       0      0           1      1      0   \n",
       "5       0      0      0      0       0      0           1      0      0   \n",
       "7       0      0      0      0       0      0           0      1      0   \n",
       "\n",
       "   w/f_4  w/f_5  sm_2  sm_3  sm_4  sm_5  a/w_Low  a/w_Medium  d/w_Low  \\\n",
       "0      1      0     1     0     0     0        0           0        0   \n",
       "3      0      0     1     0     0     0        0           1        0   \n",
       "4      0      0     0     1     0     0        1           0        0   \n",
       "5      1      0     0     1     0     0        0           0        1   \n",
       "7      0      0     1     0     0     0        0           1        0   \n",
       "\n",
       "   d/w_Medium  ir_2  ir_3  ir_4  ir_5  \n",
       "0           1     0     0     0     0  \n",
       "3           1     0     0     0     0  \n",
       "4           1     0     0     0     0  \n",
       "5           0     0     0     0     0  \n",
       "7           1     0     0     0     0  "
      ]
     },
     "execution_count": 333,
     "metadata": {},
     "output_type": "execute_result"
    }
   ],
   "source": [
    "one_hot_data=pd.get_dummies(data[categorical_col], drop_first=True)   # one hot encoding categorical variables\n",
    "\n",
    "one_hot_data.head()"
   ]
  },
  {
   "cell_type": "markdown",
   "metadata": {},
   "source": [
    "## Concat numerical and categorical DataFrames"
   ]
  },
  {
   "cell_type": "code",
   "execution_count": 334,
   "metadata": {},
   "outputs": [
    {
     "data": {
      "text/html": [
       "<div>\n",
       "<style scoped>\n",
       "    .dataframe tbody tr th:only-of-type {\n",
       "        vertical-align: middle;\n",
       "    }\n",
       "\n",
       "    .dataframe tbody tr th {\n",
       "        vertical-align: top;\n",
       "    }\n",
       "\n",
       "    .dataframe thead th {\n",
       "        text-align: right;\n",
       "    }\n",
       "</style>\n",
       "<table border=\"1\" class=\"dataframe\">\n",
       "  <thead>\n",
       "    <tr style=\"text-align: right;\">\n",
       "      <th></th>\n",
       "      <th>age</th>\n",
       "      <th>height</th>\n",
       "      <th>weight</th>\n",
       "      <th>growth</th>\n",
       "      <th>joined</th>\n",
       "      <th>value</th>\n",
       "      <th>wage</th>\n",
       "      <th>release_clause</th>\n",
       "      <th>attacking</th>\n",
       "      <th>crossing</th>\n",
       "      <th>finishing</th>\n",
       "      <th>heading_accuracy</th>\n",
       "      <th>short_passing</th>\n",
       "      <th>volleys</th>\n",
       "      <th>skill</th>\n",
       "      <th>dribbling</th>\n",
       "      <th>curve</th>\n",
       "      <th>fk_accuracy</th>\n",
       "      <th>long_passing</th>\n",
       "      <th>ball_control</th>\n",
       "      <th>movement</th>\n",
       "      <th>acceleration</th>\n",
       "      <th>sprint_speed</th>\n",
       "      <th>agility</th>\n",
       "      <th>reactions</th>\n",
       "      <th>balance</th>\n",
       "      <th>power</th>\n",
       "      <th>shot_power</th>\n",
       "      <th>jumping</th>\n",
       "      <th>stamina</th>\n",
       "      <th>strength</th>\n",
       "      <th>long_shots</th>\n",
       "      <th>mentality</th>\n",
       "      <th>aggression</th>\n",
       "      <th>interceptions</th>\n",
       "      <th>positioning</th>\n",
       "      <th>vision</th>\n",
       "      <th>penalties</th>\n",
       "      <th>composure</th>\n",
       "      <th>defending</th>\n",
       "      <th>marking</th>\n",
       "      <th>standing_tackle</th>\n",
       "      <th>sliding_tackle</th>\n",
       "      <th>goalkeeping</th>\n",
       "      <th>gk_diving</th>\n",
       "      <th>gk_handling</th>\n",
       "      <th>gk_kicking</th>\n",
       "      <th>gk_positioning</th>\n",
       "      <th>gk_reflexes</th>\n",
       "      <th>total_stats</th>\n",
       "      <th>base_stats</th>\n",
       "      <th>pac</th>\n",
       "      <th>sho</th>\n",
       "      <th>pas</th>\n",
       "      <th>dri</th>\n",
       "      <th>def</th>\n",
       "      <th>phy</th>\n",
       "      <th>hits</th>\n",
       "      <th>ls</th>\n",
       "      <th>st</th>\n",
       "      <th>rs</th>\n",
       "      <th>lw</th>\n",
       "      <th>lf</th>\n",
       "      <th>cf</th>\n",
       "      <th>rf</th>\n",
       "      <th>rw</th>\n",
       "      <th>lam</th>\n",
       "      <th>cam</th>\n",
       "      <th>ram</th>\n",
       "      <th>lm</th>\n",
       "      <th>lcm</th>\n",
       "      <th>cm</th>\n",
       "      <th>rcm</th>\n",
       "      <th>rm</th>\n",
       "      <th>lwb</th>\n",
       "      <th>ldm</th>\n",
       "      <th>cdm</th>\n",
       "      <th>rdm</th>\n",
       "      <th>rwb</th>\n",
       "      <th>lb</th>\n",
       "      <th>lcb</th>\n",
       "      <th>cb</th>\n",
       "      <th>rcb</th>\n",
       "      <th>rb</th>\n",
       "      <th>gk</th>\n",
       "      <th>ova</th>\n",
       "      <th>ls_2</th>\n",
       "      <th>st_2</th>\n",
       "      <th>rs_2</th>\n",
       "      <th>lw_2</th>\n",
       "      <th>lf_2</th>\n",
       "      <th>cf_2</th>\n",
       "      <th>rf_2</th>\n",
       "      <th>rw_2</th>\n",
       "      <th>lam_2</th>\n",
       "      <th>cam_2</th>\n",
       "      <th>ram_2</th>\n",
       "      <th>lm_2</th>\n",
       "      <th>lcm_2</th>\n",
       "      <th>cm_2</th>\n",
       "      <th>rcm_2</th>\n",
       "      <th>rm_2</th>\n",
       "      <th>lwb_2</th>\n",
       "      <th>ldm_2</th>\n",
       "      <th>cdm_2</th>\n",
       "      <th>rdm_2</th>\n",
       "      <th>rwb_2</th>\n",
       "      <th>lb_2</th>\n",
       "      <th>lcb_2</th>\n",
       "      <th>cb_2</th>\n",
       "      <th>rcb_2</th>\n",
       "      <th>rb_2</th>\n",
       "      <th>gk_2</th>\n",
       "      <th>nationality_AS</th>\n",
       "      <th>nationality_EU</th>\n",
       "      <th>nationality_NA</th>\n",
       "      <th>nationality_OC</th>\n",
       "      <th>nationality_SA</th>\n",
       "      <th>bp_CB</th>\n",
       "      <th>bp_CDM</th>\n",
       "      <th>bp_CF</th>\n",
       "      <th>bp_CM</th>\n",
       "      <th>bp_GK</th>\n",
       "      <th>bp_LB</th>\n",
       "      <th>bp_LM</th>\n",
       "      <th>bp_LW</th>\n",
       "      <th>bp_LWB</th>\n",
       "      <th>bp_RB</th>\n",
       "      <th>bp_RM</th>\n",
       "      <th>bp_RW</th>\n",
       "      <th>bp_RWB</th>\n",
       "      <th>bp_ST</th>\n",
       "      <th>foot_Right</th>\n",
       "      <th>w/f_2</th>\n",
       "      <th>w/f_3</th>\n",
       "      <th>w/f_4</th>\n",
       "      <th>w/f_5</th>\n",
       "      <th>sm_2</th>\n",
       "      <th>sm_3</th>\n",
       "      <th>sm_4</th>\n",
       "      <th>sm_5</th>\n",
       "      <th>a/w_Low</th>\n",
       "      <th>a/w_Medium</th>\n",
       "      <th>d/w_Low</th>\n",
       "      <th>d/w_Medium</th>\n",
       "      <th>ir_2</th>\n",
       "      <th>ir_3</th>\n",
       "      <th>ir_4</th>\n",
       "      <th>ir_5</th>\n",
       "    </tr>\n",
       "  </thead>\n",
       "  <tbody>\n",
       "    <tr>\n",
       "      <th>0</th>\n",
       "      <td>0.411633</td>\n",
       "      <td>-0.791387</td>\n",
       "      <td>-0.136872</td>\n",
       "      <td>-0.984786</td>\n",
       "      <td>-2.092802</td>\n",
       "      <td>-0.190234</td>\n",
       "      <td>0.493752</td>\n",
       "      <td>-0.256785</td>\n",
       "      <td>-0.023253</td>\n",
       "      <td>0.196431</td>\n",
       "      <td>-0.088800</td>\n",
       "      <td>-1.074754</td>\n",
       "      <td>1.220990</td>\n",
       "      <td>-0.050041</td>\n",
       "      <td>0.446861</td>\n",
       "      <td>0.213930</td>\n",
       "      <td>-0.374965</td>\n",
       "      <td>0.833476</td>\n",
       "      <td>0.885375</td>\n",
       "      <td>0.243711</td>\n",
       "      <td>0.511583</td>\n",
       "      <td>-0.309861</td>\n",
       "      <td>0.511452</td>\n",
       "      <td>-0.394645</td>\n",
       "      <td>1.008935</td>\n",
       "      <td>1.339358</td>\n",
       "      <td>0.224353</td>\n",
       "      <td>0.405211</td>\n",
       "      <td>0.763528</td>\n",
       "      <td>0.623353</td>\n",
       "      <td>-0.682377</td>\n",
       "      <td>-0.254737</td>\n",
       "      <td>0.855222</td>\n",
       "      <td>-0.184425</td>\n",
       "      <td>0.299641</td>\n",
       "      <td>0.694148</td>\n",
       "      <td>1.320200</td>\n",
       "      <td>0.291347</td>\n",
       "      <td>-0.379742</td>\n",
       "      <td>0.108456</td>\n",
       "      <td>0.103591</td>\n",
       "      <td>0.400179</td>\n",
       "      <td>-0.205595</td>\n",
       "      <td>-0.374202</td>\n",
       "      <td>-0.986396</td>\n",
       "      <td>0.459163</td>\n",
       "      <td>0.692719</td>\n",
       "      <td>-0.412462</td>\n",
       "      <td>-1.281447</td>\n",
       "      <td>0.504681</td>\n",
       "      <td>0.406154</td>\n",
       "      <td>0.144641</td>\n",
       "      <td>0.048660</td>\n",
       "      <td>0.958706</td>\n",
       "      <td>0.284217</td>\n",
       "      <td>0.172403</td>\n",
       "      <td>-0.256216</td>\n",
       "      <td>-0.209388</td>\n",
       "      <td>0.218047</td>\n",
       "      <td>0.218047</td>\n",
       "      <td>0.218047</td>\n",
       "      <td>0.412891</td>\n",
       "      <td>0.584640</td>\n",
       "      <td>0.584640</td>\n",
       "      <td>0.584640</td>\n",
       "      <td>0.412891</td>\n",
       "      <td>0.695299</td>\n",
       "      <td>0.695299</td>\n",
       "      <td>0.695299</td>\n",
       "      <td>0.643165</td>\n",
       "      <td>0.962911</td>\n",
       "      <td>0.962911</td>\n",
       "      <td>0.962911</td>\n",
       "      <td>0.643165</td>\n",
       "      <td>0.473112</td>\n",
       "      <td>0.520748</td>\n",
       "      <td>0.520748</td>\n",
       "      <td>0.520748</td>\n",
       "      <td>0.473112</td>\n",
       "      <td>0.403085</td>\n",
       "      <td>0.083774</td>\n",
       "      <td>0.083774</td>\n",
       "      <td>0.083774</td>\n",
       "      <td>0.403085</td>\n",
       "      <td>-0.337649</td>\n",
       "      <td>64</td>\n",
       "      <td>-1.399108</td>\n",
       "      <td>-1.399108</td>\n",
       "      <td>-1.399108</td>\n",
       "      <td>0.108053</td>\n",
       "      <td>0.082854</td>\n",
       "      <td>0.082854</td>\n",
       "      <td>0.082854</td>\n",
       "      <td>0.108053</td>\n",
       "      <td>-1.359828</td>\n",
       "      <td>-1.359828</td>\n",
       "      <td>-1.359828</td>\n",
       "      <td>-1.361197</td>\n",
       "      <td>-1.807878</td>\n",
       "      <td>-1.807878</td>\n",
       "      <td>-1.807878</td>\n",
       "      <td>-1.361197</td>\n",
       "      <td>-1.925319</td>\n",
       "      <td>-1.665799</td>\n",
       "      <td>-1.665799</td>\n",
       "      <td>-1.665799</td>\n",
       "      <td>-1.925319</td>\n",
       "      <td>-2.199355</td>\n",
       "      <td>-1.218575</td>\n",
       "      <td>-1.218575</td>\n",
       "      <td>-1.218575</td>\n",
       "      <td>-2.199355</td>\n",
       "      <td>-2.922193</td>\n",
       "      <td>0</td>\n",
       "      <td>1</td>\n",
       "      <td>0</td>\n",
       "      <td>0</td>\n",
       "      <td>0</td>\n",
       "      <td>0</td>\n",
       "      <td>0</td>\n",
       "      <td>0</td>\n",
       "      <td>1</td>\n",
       "      <td>0</td>\n",
       "      <td>0</td>\n",
       "      <td>0</td>\n",
       "      <td>0</td>\n",
       "      <td>0</td>\n",
       "      <td>0</td>\n",
       "      <td>0</td>\n",
       "      <td>0</td>\n",
       "      <td>0</td>\n",
       "      <td>0</td>\n",
       "      <td>1</td>\n",
       "      <td>0</td>\n",
       "      <td>0</td>\n",
       "      <td>1</td>\n",
       "      <td>0</td>\n",
       "      <td>1</td>\n",
       "      <td>0</td>\n",
       "      <td>0</td>\n",
       "      <td>0</td>\n",
       "      <td>0</td>\n",
       "      <td>0</td>\n",
       "      <td>0</td>\n",
       "      <td>1</td>\n",
       "      <td>0</td>\n",
       "      <td>0</td>\n",
       "      <td>0</td>\n",
       "      <td>0</td>\n",
       "    </tr>\n",
       "    <tr>\n",
       "      <th>3</th>\n",
       "      <td>-0.435593</td>\n",
       "      <td>-0.398222</td>\n",
       "      <td>-0.755695</td>\n",
       "      <td>0.975039</td>\n",
       "      <td>-1.472428</td>\n",
       "      <td>-0.783030</td>\n",
       "      <td>0.493752</td>\n",
       "      <td>-0.392347</td>\n",
       "      <td>-0.434132</td>\n",
       "      <td>-0.606066</td>\n",
       "      <td>-0.416270</td>\n",
       "      <td>0.312303</td>\n",
       "      <td>0.248799</td>\n",
       "      <td>-0.659584</td>\n",
       "      <td>-0.129436</td>\n",
       "      <td>-0.435670</td>\n",
       "      <td>-0.602123</td>\n",
       "      <td>0.165203</td>\n",
       "      <td>0.358081</td>\n",
       "      <td>0.002827</td>\n",
       "      <td>-1.051580</td>\n",
       "      <td>-1.208237</td>\n",
       "      <td>-0.773234</td>\n",
       "      <td>-0.565084</td>\n",
       "      <td>-0.568375</td>\n",
       "      <td>-0.957189</td>\n",
       "      <td>-0.557035</td>\n",
       "      <td>-0.004378</td>\n",
       "      <td>-0.393505</td>\n",
       "      <td>-0.015019</td>\n",
       "      <td>-0.447192</td>\n",
       "      <td>-0.742021</td>\n",
       "      <td>-0.072342</td>\n",
       "      <td>0.330205</td>\n",
       "      <td>0.577469</td>\n",
       "      <td>-1.695978</td>\n",
       "      <td>0.071771</td>\n",
       "      <td>0.291347</td>\n",
       "      <td>-1.076981</td>\n",
       "      <td>0.497101</td>\n",
       "      <td>0.462622</td>\n",
       "      <td>0.510011</td>\n",
       "      <td>0.461791</td>\n",
       "      <td>-0.937332</td>\n",
       "      <td>-0.691981</td>\n",
       "      <td>-0.424553</td>\n",
       "      <td>-0.956137</td>\n",
       "      <td>-0.991346</td>\n",
       "      <td>0.459538</td>\n",
       "      <td>-0.457232</td>\n",
       "      <td>-0.446735</td>\n",
       "      <td>-0.982142</td>\n",
       "      <td>-0.496178</td>\n",
       "      <td>-0.062613</td>\n",
       "      <td>-0.402068</td>\n",
       "      <td>0.556931</td>\n",
       "      <td>-0.256216</td>\n",
       "      <td>-0.112772</td>\n",
       "      <td>-0.803802</td>\n",
       "      <td>-0.803802</td>\n",
       "      <td>-0.803802</td>\n",
       "      <td>-0.792666</td>\n",
       "      <td>-0.745995</td>\n",
       "      <td>-0.745995</td>\n",
       "      <td>-0.745995</td>\n",
       "      <td>-0.792666</td>\n",
       "      <td>-0.534717</td>\n",
       "      <td>-0.534717</td>\n",
       "      <td>-0.534717</td>\n",
       "      <td>-0.670156</td>\n",
       "      <td>-0.011436</td>\n",
       "      <td>-0.011436</td>\n",
       "      <td>-0.011436</td>\n",
       "      <td>-0.670156</td>\n",
       "      <td>0.097403</td>\n",
       "      <td>0.411215</td>\n",
       "      <td>0.411215</td>\n",
       "      <td>0.411215</td>\n",
       "      <td>0.097403</td>\n",
       "      <td>0.287891</td>\n",
       "      <td>0.448718</td>\n",
       "      <td>0.448718</td>\n",
       "      <td>0.448718</td>\n",
       "      <td>0.287891</td>\n",
       "      <td>-0.789937</td>\n",
       "      <td>59</td>\n",
       "      <td>0.362479</td>\n",
       "      <td>0.362479</td>\n",
       "      <td>0.362479</td>\n",
       "      <td>0.108053</td>\n",
       "      <td>0.082854</td>\n",
       "      <td>0.082854</td>\n",
       "      <td>0.082854</td>\n",
       "      <td>0.108053</td>\n",
       "      <td>0.341869</td>\n",
       "      <td>0.341869</td>\n",
       "      <td>0.341869</td>\n",
       "      <td>0.360506</td>\n",
       "      <td>0.310217</td>\n",
       "      <td>0.310217</td>\n",
       "      <td>0.310217</td>\n",
       "      <td>0.360506</td>\n",
       "      <td>0.296566</td>\n",
       "      <td>0.301957</td>\n",
       "      <td>0.301957</td>\n",
       "      <td>0.301957</td>\n",
       "      <td>0.296566</td>\n",
       "      <td>0.270448</td>\n",
       "      <td>0.359366</td>\n",
       "      <td>0.359366</td>\n",
       "      <td>0.359366</td>\n",
       "      <td>0.270448</td>\n",
       "      <td>0.234091</td>\n",
       "      <td>0</td>\n",
       "      <td>1</td>\n",
       "      <td>0</td>\n",
       "      <td>0</td>\n",
       "      <td>0</td>\n",
       "      <td>0</td>\n",
       "      <td>1</td>\n",
       "      <td>0</td>\n",
       "      <td>0</td>\n",
       "      <td>0</td>\n",
       "      <td>0</td>\n",
       "      <td>0</td>\n",
       "      <td>0</td>\n",
       "      <td>0</td>\n",
       "      <td>0</td>\n",
       "      <td>0</td>\n",
       "      <td>0</td>\n",
       "      <td>0</td>\n",
       "      <td>0</td>\n",
       "      <td>1</td>\n",
       "      <td>1</td>\n",
       "      <td>0</td>\n",
       "      <td>0</td>\n",
       "      <td>0</td>\n",
       "      <td>1</td>\n",
       "      <td>0</td>\n",
       "      <td>0</td>\n",
       "      <td>0</td>\n",
       "      <td>0</td>\n",
       "      <td>1</td>\n",
       "      <td>0</td>\n",
       "      <td>1</td>\n",
       "      <td>0</td>\n",
       "      <td>0</td>\n",
       "      <td>0</td>\n",
       "      <td>0</td>\n",
       "    </tr>\n",
       "    <tr>\n",
       "      <th>4</th>\n",
       "      <td>-0.223787</td>\n",
       "      <td>-0.005056</td>\n",
       "      <td>-0.893212</td>\n",
       "      <td>0.158445</td>\n",
       "      <td>-0.231681</td>\n",
       "      <td>0.284003</td>\n",
       "      <td>-0.344679</td>\n",
       "      <td>0.502113</td>\n",
       "      <td>-0.254372</td>\n",
       "      <td>-0.204818</td>\n",
       "      <td>-0.743740</td>\n",
       "      <td>0.589714</td>\n",
       "      <td>0.977942</td>\n",
       "      <td>-0.811970</td>\n",
       "      <td>0.318795</td>\n",
       "      <td>0.492331</td>\n",
       "      <td>-0.374965</td>\n",
       "      <td>0.090950</td>\n",
       "      <td>0.709610</td>\n",
       "      <td>0.605037</td>\n",
       "      <td>-0.025754</td>\n",
       "      <td>-0.130185</td>\n",
       "      <td>-0.130891</td>\n",
       "      <td>-0.394645</td>\n",
       "      <td>0.435368</td>\n",
       "      <td>0.233613</td>\n",
       "      <td>-0.476202</td>\n",
       "      <td>0.323293</td>\n",
       "      <td>-2.707570</td>\n",
       "      <td>1.535314</td>\n",
       "      <td>-0.212006</td>\n",
       "      <td>-0.393961</td>\n",
       "      <td>0.967655</td>\n",
       "      <td>0.697798</td>\n",
       "      <td>0.744166</td>\n",
       "      <td>0.154442</td>\n",
       "      <td>0.963506</td>\n",
       "      <td>-0.139440</td>\n",
       "      <td>0.085084</td>\n",
       "      <td>0.827449</td>\n",
       "      <td>0.642137</td>\n",
       "      <td>0.674761</td>\n",
       "      <td>1.073561</td>\n",
       "      <td>0.001219</td>\n",
       "      <td>-0.691981</td>\n",
       "      <td>-0.424553</td>\n",
       "      <td>0.898826</td>\n",
       "      <td>-1.570231</td>\n",
       "      <td>1.330031</td>\n",
       "      <td>0.392975</td>\n",
       "      <td>0.497535</td>\n",
       "      <td>-0.137055</td>\n",
       "      <td>-0.496178</td>\n",
       "      <td>0.618266</td>\n",
       "      <td>0.398597</td>\n",
       "      <td>0.749195</td>\n",
       "      <td>0.370009</td>\n",
       "      <td>-0.185234</td>\n",
       "      <td>-0.037415</td>\n",
       "      <td>-0.037415</td>\n",
       "      <td>-0.037415</td>\n",
       "      <td>0.171779</td>\n",
       "      <td>0.221740</td>\n",
       "      <td>0.221740</td>\n",
       "      <td>0.221740</td>\n",
       "      <td>0.171779</td>\n",
       "      <td>0.449296</td>\n",
       "      <td>0.449296</td>\n",
       "      <td>0.449296</td>\n",
       "      <td>0.511833</td>\n",
       "      <td>0.962911</td>\n",
       "      <td>0.962911</td>\n",
       "      <td>0.962911</td>\n",
       "      <td>0.511833</td>\n",
       "      <td>1.099294</td>\n",
       "      <td>1.068411</td>\n",
       "      <td>1.068411</td>\n",
       "      <td>1.068411</td>\n",
       "      <td>1.099294</td>\n",
       "      <td>0.979053</td>\n",
       "      <td>0.722425</td>\n",
       "      <td>0.722425</td>\n",
       "      <td>0.722425</td>\n",
       "      <td>0.979053</td>\n",
       "      <td>-0.337649</td>\n",
       "      <td>65</td>\n",
       "      <td>0.362479</td>\n",
       "      <td>0.362479</td>\n",
       "      <td>0.362479</td>\n",
       "      <td>0.108053</td>\n",
       "      <td>0.082854</td>\n",
       "      <td>0.082854</td>\n",
       "      <td>0.082854</td>\n",
       "      <td>0.108053</td>\n",
       "      <td>0.341869</td>\n",
       "      <td>0.341869</td>\n",
       "      <td>0.341869</td>\n",
       "      <td>0.360506</td>\n",
       "      <td>0.310217</td>\n",
       "      <td>0.310217</td>\n",
       "      <td>0.310217</td>\n",
       "      <td>0.360506</td>\n",
       "      <td>0.296566</td>\n",
       "      <td>0.301957</td>\n",
       "      <td>0.301957</td>\n",
       "      <td>0.301957</td>\n",
       "      <td>0.296566</td>\n",
       "      <td>0.270448</td>\n",
       "      <td>0.359366</td>\n",
       "      <td>0.359366</td>\n",
       "      <td>0.359366</td>\n",
       "      <td>0.270448</td>\n",
       "      <td>0.234091</td>\n",
       "      <td>0</td>\n",
       "      <td>1</td>\n",
       "      <td>0</td>\n",
       "      <td>0</td>\n",
       "      <td>0</td>\n",
       "      <td>0</td>\n",
       "      <td>1</td>\n",
       "      <td>0</td>\n",
       "      <td>0</td>\n",
       "      <td>0</td>\n",
       "      <td>0</td>\n",
       "      <td>0</td>\n",
       "      <td>0</td>\n",
       "      <td>0</td>\n",
       "      <td>0</td>\n",
       "      <td>0</td>\n",
       "      <td>0</td>\n",
       "      <td>0</td>\n",
       "      <td>0</td>\n",
       "      <td>1</td>\n",
       "      <td>1</td>\n",
       "      <td>0</td>\n",
       "      <td>0</td>\n",
       "      <td>0</td>\n",
       "      <td>0</td>\n",
       "      <td>1</td>\n",
       "      <td>0</td>\n",
       "      <td>0</td>\n",
       "      <td>1</td>\n",
       "      <td>0</td>\n",
       "      <td>0</td>\n",
       "      <td>1</td>\n",
       "      <td>0</td>\n",
       "      <td>0</td>\n",
       "      <td>0</td>\n",
       "      <td>0</td>\n",
       "    </tr>\n",
       "    <tr>\n",
       "      <th>5</th>\n",
       "      <td>1.894278</td>\n",
       "      <td>-0.398222</td>\n",
       "      <td>-0.618179</td>\n",
       "      <td>-1.148105</td>\n",
       "      <td>1.009065</td>\n",
       "      <td>1.884552</td>\n",
       "      <td>3.428258</td>\n",
       "      <td>1.515666</td>\n",
       "      <td>1.774344</td>\n",
       "      <td>1.400177</td>\n",
       "      <td>1.024598</td>\n",
       "      <td>0.867125</td>\n",
       "      <td>1.464038</td>\n",
       "      <td>1.092854</td>\n",
       "      <td>1.450046</td>\n",
       "      <td>1.141931</td>\n",
       "      <td>0.987980</td>\n",
       "      <td>1.501749</td>\n",
       "      <td>0.973258</td>\n",
       "      <td>1.327690</td>\n",
       "      <td>0.804676</td>\n",
       "      <td>0.498678</td>\n",
       "      <td>0.603216</td>\n",
       "      <td>0.798429</td>\n",
       "      <td>1.439111</td>\n",
       "      <td>0.063498</td>\n",
       "      <td>0.628519</td>\n",
       "      <td>0.650964</td>\n",
       "      <td>-0.126497</td>\n",
       "      <td>0.532157</td>\n",
       "      <td>0.023179</td>\n",
       "      <td>0.719832</td>\n",
       "      <td>1.136303</td>\n",
       "      <td>-0.037388</td>\n",
       "      <td>-0.478278</td>\n",
       "      <td>1.156753</td>\n",
       "      <td>1.855242</td>\n",
       "      <td>1.152920</td>\n",
       "      <td>1.595767</td>\n",
       "      <td>-0.765996</td>\n",
       "      <td>-0.973502</td>\n",
       "      <td>-0.807982</td>\n",
       "      <td>-0.483672</td>\n",
       "      <td>1.221335</td>\n",
       "      <td>1.663342</td>\n",
       "      <td>-0.129981</td>\n",
       "      <td>0.898826</td>\n",
       "      <td>-0.701904</td>\n",
       "      <td>1.620195</td>\n",
       "      <td>1.286623</td>\n",
       "      <td>1.076280</td>\n",
       "      <td>0.614133</td>\n",
       "      <td>0.982666</td>\n",
       "      <td>1.753065</td>\n",
       "      <td>1.199263</td>\n",
       "      <td>-0.724828</td>\n",
       "      <td>0.161267</td>\n",
       "      <td>-0.136926</td>\n",
       "      <td>1.367627</td>\n",
       "      <td>1.367627</td>\n",
       "      <td>1.367627</td>\n",
       "      <td>1.497892</td>\n",
       "      <td>1.431408</td>\n",
       "      <td>1.431408</td>\n",
       "      <td>1.431408</td>\n",
       "      <td>1.497892</td>\n",
       "      <td>1.556310</td>\n",
       "      <td>1.556310</td>\n",
       "      <td>1.556310</td>\n",
       "      <td>1.562490</td>\n",
       "      <td>1.380488</td>\n",
       "      <td>1.380488</td>\n",
       "      <td>1.380488</td>\n",
       "      <td>1.562490</td>\n",
       "      <td>0.347876</td>\n",
       "      <td>0.082618</td>\n",
       "      <td>0.082618</td>\n",
       "      <td>0.082618</td>\n",
       "      <td>0.347876</td>\n",
       "      <td>0.057503</td>\n",
       "      <td>-0.372405</td>\n",
       "      <td>-0.372405</td>\n",
       "      <td>-0.372405</td>\n",
       "      <td>0.057503</td>\n",
       "      <td>1.471503</td>\n",
       "      <td>71</td>\n",
       "      <td>0.362479</td>\n",
       "      <td>0.362479</td>\n",
       "      <td>0.362479</td>\n",
       "      <td>0.108053</td>\n",
       "      <td>0.082854</td>\n",
       "      <td>0.082854</td>\n",
       "      <td>0.082854</td>\n",
       "      <td>0.108053</td>\n",
       "      <td>-1.359828</td>\n",
       "      <td>-1.359828</td>\n",
       "      <td>-1.359828</td>\n",
       "      <td>-1.361197</td>\n",
       "      <td>0.310217</td>\n",
       "      <td>0.310217</td>\n",
       "      <td>0.310217</td>\n",
       "      <td>-1.361197</td>\n",
       "      <td>0.296566</td>\n",
       "      <td>0.301957</td>\n",
       "      <td>0.301957</td>\n",
       "      <td>0.301957</td>\n",
       "      <td>0.296566</td>\n",
       "      <td>0.270448</td>\n",
       "      <td>0.359366</td>\n",
       "      <td>0.359366</td>\n",
       "      <td>0.359366</td>\n",
       "      <td>0.270448</td>\n",
       "      <td>0.234091</td>\n",
       "      <td>1</td>\n",
       "      <td>0</td>\n",
       "      <td>0</td>\n",
       "      <td>0</td>\n",
       "      <td>0</td>\n",
       "      <td>0</td>\n",
       "      <td>0</td>\n",
       "      <td>0</td>\n",
       "      <td>0</td>\n",
       "      <td>0</td>\n",
       "      <td>0</td>\n",
       "      <td>1</td>\n",
       "      <td>0</td>\n",
       "      <td>0</td>\n",
       "      <td>0</td>\n",
       "      <td>0</td>\n",
       "      <td>0</td>\n",
       "      <td>0</td>\n",
       "      <td>0</td>\n",
       "      <td>1</td>\n",
       "      <td>0</td>\n",
       "      <td>0</td>\n",
       "      <td>1</td>\n",
       "      <td>0</td>\n",
       "      <td>0</td>\n",
       "      <td>1</td>\n",
       "      <td>0</td>\n",
       "      <td>0</td>\n",
       "      <td>0</td>\n",
       "      <td>0</td>\n",
       "      <td>1</td>\n",
       "      <td>0</td>\n",
       "      <td>0</td>\n",
       "      <td>0</td>\n",
       "      <td>0</td>\n",
       "      <td>0</td>\n",
       "    </tr>\n",
       "    <tr>\n",
       "      <th>7</th>\n",
       "      <td>-0.435593</td>\n",
       "      <td>-0.398222</td>\n",
       "      <td>-0.136872</td>\n",
       "      <td>-0.004874</td>\n",
       "      <td>0.388692</td>\n",
       "      <td>-0.723750</td>\n",
       "      <td>-0.847737</td>\n",
       "      <td>-0.587456</td>\n",
       "      <td>0.079467</td>\n",
       "      <td>0.517430</td>\n",
       "      <td>0.500646</td>\n",
       "      <td>-1.167224</td>\n",
       "      <td>0.977942</td>\n",
       "      <td>-0.507198</td>\n",
       "      <td>0.169385</td>\n",
       "      <td>0.121130</td>\n",
       "      <td>0.457946</td>\n",
       "      <td>-0.354566</td>\n",
       "      <td>0.885375</td>\n",
       "      <td>-0.599383</td>\n",
       "      <td>-0.050178</td>\n",
       "      <td>-0.489536</td>\n",
       "      <td>-0.497944</td>\n",
       "      <td>0.116673</td>\n",
       "      <td>0.148584</td>\n",
       "      <td>0.488785</td>\n",
       "      <td>-1.553977</td>\n",
       "      <td>-0.577802</td>\n",
       "      <td>-0.838517</td>\n",
       "      <td>-0.653391</td>\n",
       "      <td>-0.995958</td>\n",
       "      <td>-1.507754</td>\n",
       "      <td>-0.409639</td>\n",
       "      <td>-0.846092</td>\n",
       "      <td>-0.756107</td>\n",
       "      <td>0.771249</td>\n",
       "      <td>1.052680</td>\n",
       "      <td>-1.001013</td>\n",
       "      <td>-0.844568</td>\n",
       "      <td>-0.260757</td>\n",
       "      <td>-0.375117</td>\n",
       "      <td>0.015764</td>\n",
       "      <td>-0.428056</td>\n",
       "      <td>-0.092636</td>\n",
       "      <td>-1.280812</td>\n",
       "      <td>1.048307</td>\n",
       "      <td>0.280505</td>\n",
       "      <td>-0.123019</td>\n",
       "      <td>-0.410954</td>\n",
       "      <td>-0.482056</td>\n",
       "      <td>-0.507655</td>\n",
       "      <td>-0.512649</td>\n",
       "      <td>-0.184842</td>\n",
       "      <td>0.958706</td>\n",
       "      <td>-0.058926</td>\n",
       "      <td>-0.404389</td>\n",
       "      <td>-1.091183</td>\n",
       "      <td>-0.185234</td>\n",
       "      <td>-0.165146</td>\n",
       "      <td>-0.165146</td>\n",
       "      <td>-0.165146</td>\n",
       "      <td>0.171779</td>\n",
       "      <td>0.100773</td>\n",
       "      <td>0.100773</td>\n",
       "      <td>0.100773</td>\n",
       "      <td>0.171779</td>\n",
       "      <td>0.326294</td>\n",
       "      <td>0.326294</td>\n",
       "      <td>0.326294</td>\n",
       "      <td>0.380501</td>\n",
       "      <td>0.406141</td>\n",
       "      <td>0.406141</td>\n",
       "      <td>0.406141</td>\n",
       "      <td>0.380501</td>\n",
       "      <td>-0.403543</td>\n",
       "      <td>-0.245980</td>\n",
       "      <td>-0.245980</td>\n",
       "      <td>-0.245980</td>\n",
       "      <td>-0.403543</td>\n",
       "      <td>-0.518465</td>\n",
       "      <td>-0.646113</td>\n",
       "      <td>-0.646113</td>\n",
       "      <td>-0.646113</td>\n",
       "      <td>-0.518465</td>\n",
       "      <td>-0.337649</td>\n",
       "      <td>60</td>\n",
       "      <td>0.362479</td>\n",
       "      <td>0.362479</td>\n",
       "      <td>0.362479</td>\n",
       "      <td>0.108053</td>\n",
       "      <td>0.082854</td>\n",
       "      <td>0.082854</td>\n",
       "      <td>0.082854</td>\n",
       "      <td>0.108053</td>\n",
       "      <td>0.341869</td>\n",
       "      <td>0.341869</td>\n",
       "      <td>0.341869</td>\n",
       "      <td>0.360506</td>\n",
       "      <td>0.310217</td>\n",
       "      <td>0.310217</td>\n",
       "      <td>0.310217</td>\n",
       "      <td>0.360506</td>\n",
       "      <td>0.296566</td>\n",
       "      <td>0.301957</td>\n",
       "      <td>0.301957</td>\n",
       "      <td>0.301957</td>\n",
       "      <td>0.296566</td>\n",
       "      <td>0.270448</td>\n",
       "      <td>0.359366</td>\n",
       "      <td>0.359366</td>\n",
       "      <td>0.359366</td>\n",
       "      <td>0.270448</td>\n",
       "      <td>0.234091</td>\n",
       "      <td>0</td>\n",
       "      <td>1</td>\n",
       "      <td>0</td>\n",
       "      <td>0</td>\n",
       "      <td>0</td>\n",
       "      <td>0</td>\n",
       "      <td>0</td>\n",
       "      <td>0</td>\n",
       "      <td>0</td>\n",
       "      <td>0</td>\n",
       "      <td>0</td>\n",
       "      <td>1</td>\n",
       "      <td>0</td>\n",
       "      <td>0</td>\n",
       "      <td>0</td>\n",
       "      <td>0</td>\n",
       "      <td>0</td>\n",
       "      <td>0</td>\n",
       "      <td>0</td>\n",
       "      <td>0</td>\n",
       "      <td>1</td>\n",
       "      <td>0</td>\n",
       "      <td>0</td>\n",
       "      <td>0</td>\n",
       "      <td>1</td>\n",
       "      <td>0</td>\n",
       "      <td>0</td>\n",
       "      <td>0</td>\n",
       "      <td>0</td>\n",
       "      <td>1</td>\n",
       "      <td>0</td>\n",
       "      <td>1</td>\n",
       "      <td>0</td>\n",
       "      <td>0</td>\n",
       "      <td>0</td>\n",
       "      <td>0</td>\n",
       "    </tr>\n",
       "  </tbody>\n",
       "</table>\n",
       "</div>"
      ],
      "text/plain": [
       "        age    height    weight    growth    joined     value      wage  \\\n",
       "0  0.411633 -0.791387 -0.136872 -0.984786 -2.092802 -0.190234  0.493752   \n",
       "3 -0.435593 -0.398222 -0.755695  0.975039 -1.472428 -0.783030  0.493752   \n",
       "4 -0.223787 -0.005056 -0.893212  0.158445 -0.231681  0.284003 -0.344679   \n",
       "5  1.894278 -0.398222 -0.618179 -1.148105  1.009065  1.884552  3.428258   \n",
       "7 -0.435593 -0.398222 -0.136872 -0.004874  0.388692 -0.723750 -0.847737   \n",
       "\n",
       "   release_clause  attacking  crossing  finishing  heading_accuracy  \\\n",
       "0       -0.256785  -0.023253  0.196431  -0.088800         -1.074754   \n",
       "3       -0.392347  -0.434132 -0.606066  -0.416270          0.312303   \n",
       "4        0.502113  -0.254372 -0.204818  -0.743740          0.589714   \n",
       "5        1.515666   1.774344  1.400177   1.024598          0.867125   \n",
       "7       -0.587456   0.079467  0.517430   0.500646         -1.167224   \n",
       "\n",
       "   short_passing   volleys     skill  dribbling     curve  fk_accuracy  \\\n",
       "0       1.220990 -0.050041  0.446861   0.213930 -0.374965     0.833476   \n",
       "3       0.248799 -0.659584 -0.129436  -0.435670 -0.602123     0.165203   \n",
       "4       0.977942 -0.811970  0.318795   0.492331 -0.374965     0.090950   \n",
       "5       1.464038  1.092854  1.450046   1.141931  0.987980     1.501749   \n",
       "7       0.977942 -0.507198  0.169385   0.121130  0.457946    -0.354566   \n",
       "\n",
       "   long_passing  ball_control  movement  acceleration  sprint_speed   agility  \\\n",
       "0      0.885375      0.243711  0.511583     -0.309861      0.511452 -0.394645   \n",
       "3      0.358081      0.002827 -1.051580     -1.208237     -0.773234 -0.565084   \n",
       "4      0.709610      0.605037 -0.025754     -0.130185     -0.130891 -0.394645   \n",
       "5      0.973258      1.327690  0.804676      0.498678      0.603216  0.798429   \n",
       "7      0.885375     -0.599383 -0.050178     -0.489536     -0.497944  0.116673   \n",
       "\n",
       "   reactions   balance     power  shot_power   jumping   stamina  strength  \\\n",
       "0   1.008935  1.339358  0.224353    0.405211  0.763528  0.623353 -0.682377   \n",
       "3  -0.568375 -0.957189 -0.557035   -0.004378 -0.393505 -0.015019 -0.447192   \n",
       "4   0.435368  0.233613 -0.476202    0.323293 -2.707570  1.535314 -0.212006   \n",
       "5   1.439111  0.063498  0.628519    0.650964 -0.126497  0.532157  0.023179   \n",
       "7   0.148584  0.488785 -1.553977   -0.577802 -0.838517 -0.653391 -0.995958   \n",
       "\n",
       "   long_shots  mentality  aggression  interceptions  positioning    vision  \\\n",
       "0   -0.254737   0.855222   -0.184425       0.299641     0.694148  1.320200   \n",
       "3   -0.742021  -0.072342    0.330205       0.577469    -1.695978  0.071771   \n",
       "4   -0.393961   0.967655    0.697798       0.744166     0.154442  0.963506   \n",
       "5    0.719832   1.136303   -0.037388      -0.478278     1.156753  1.855242   \n",
       "7   -1.507754  -0.409639   -0.846092      -0.756107     0.771249  1.052680   \n",
       "\n",
       "   penalties  composure  defending   marking  standing_tackle  sliding_tackle  \\\n",
       "0   0.291347  -0.379742   0.108456  0.103591         0.400179       -0.205595   \n",
       "3   0.291347  -1.076981   0.497101  0.462622         0.510011        0.461791   \n",
       "4  -0.139440   0.085084   0.827449  0.642137         0.674761        1.073561   \n",
       "5   1.152920   1.595767  -0.765996 -0.973502        -0.807982       -0.483672   \n",
       "7  -1.001013  -0.844568  -0.260757 -0.375117         0.015764       -0.428056   \n",
       "\n",
       "   goalkeeping  gk_diving  gk_handling  gk_kicking  gk_positioning  \\\n",
       "0    -0.374202  -0.986396     0.459163    0.692719       -0.412462   \n",
       "3    -0.937332  -0.691981    -0.424553   -0.956137       -0.991346   \n",
       "4     0.001219  -0.691981    -0.424553    0.898826       -1.570231   \n",
       "5     1.221335   1.663342    -0.129981    0.898826       -0.701904   \n",
       "7    -0.092636  -1.280812     1.048307    0.280505       -0.123019   \n",
       "\n",
       "   gk_reflexes  total_stats  base_stats       pac       sho       pas  \\\n",
       "0    -1.281447     0.504681    0.406154  0.144641  0.048660  0.958706   \n",
       "3     0.459538    -0.457232   -0.446735 -0.982142 -0.496178 -0.062613   \n",
       "4     1.330031     0.392975    0.497535 -0.137055 -0.496178  0.618266   \n",
       "5     1.620195     1.286623    1.076280  0.614133  0.982666  1.753065   \n",
       "7    -0.410954    -0.482056   -0.507655 -0.512649 -0.184842  0.958706   \n",
       "\n",
       "        dri       def       phy      hits        ls        st        rs  \\\n",
       "0  0.284217  0.172403 -0.256216 -0.209388  0.218047  0.218047  0.218047   \n",
       "3 -0.402068  0.556931 -0.256216 -0.112772 -0.803802 -0.803802 -0.803802   \n",
       "4  0.398597  0.749195  0.370009 -0.185234 -0.037415 -0.037415 -0.037415   \n",
       "5  1.199263 -0.724828  0.161267 -0.136926  1.367627  1.367627  1.367627   \n",
       "7 -0.058926 -0.404389 -1.091183 -0.185234 -0.165146 -0.165146 -0.165146   \n",
       "\n",
       "         lw        lf        cf        rf        rw       lam       cam  \\\n",
       "0  0.412891  0.584640  0.584640  0.584640  0.412891  0.695299  0.695299   \n",
       "3 -0.792666 -0.745995 -0.745995 -0.745995 -0.792666 -0.534717 -0.534717   \n",
       "4  0.171779  0.221740  0.221740  0.221740  0.171779  0.449296  0.449296   \n",
       "5  1.497892  1.431408  1.431408  1.431408  1.497892  1.556310  1.556310   \n",
       "7  0.171779  0.100773  0.100773  0.100773  0.171779  0.326294  0.326294   \n",
       "\n",
       "        ram        lm       lcm        cm       rcm        rm       lwb  \\\n",
       "0  0.695299  0.643165  0.962911  0.962911  0.962911  0.643165  0.473112   \n",
       "3 -0.534717 -0.670156 -0.011436 -0.011436 -0.011436 -0.670156  0.097403   \n",
       "4  0.449296  0.511833  0.962911  0.962911  0.962911  0.511833  1.099294   \n",
       "5  1.556310  1.562490  1.380488  1.380488  1.380488  1.562490  0.347876   \n",
       "7  0.326294  0.380501  0.406141  0.406141  0.406141  0.380501 -0.403543   \n",
       "\n",
       "        ldm       cdm       rdm       rwb        lb       lcb        cb  \\\n",
       "0  0.520748  0.520748  0.520748  0.473112  0.403085  0.083774  0.083774   \n",
       "3  0.411215  0.411215  0.411215  0.097403  0.287891  0.448718  0.448718   \n",
       "4  1.068411  1.068411  1.068411  1.099294  0.979053  0.722425  0.722425   \n",
       "5  0.082618  0.082618  0.082618  0.347876  0.057503 -0.372405 -0.372405   \n",
       "7 -0.245980 -0.245980 -0.245980 -0.403543 -0.518465 -0.646113 -0.646113   \n",
       "\n",
       "        rcb        rb        gk  ova      ls_2      st_2      rs_2      lw_2  \\\n",
       "0  0.083774  0.403085 -0.337649   64 -1.399108 -1.399108 -1.399108  0.108053   \n",
       "3  0.448718  0.287891 -0.789937   59  0.362479  0.362479  0.362479  0.108053   \n",
       "4  0.722425  0.979053 -0.337649   65  0.362479  0.362479  0.362479  0.108053   \n",
       "5 -0.372405  0.057503  1.471503   71  0.362479  0.362479  0.362479  0.108053   \n",
       "7 -0.646113 -0.518465 -0.337649   60  0.362479  0.362479  0.362479  0.108053   \n",
       "\n",
       "       lf_2      cf_2      rf_2      rw_2     lam_2     cam_2     ram_2  \\\n",
       "0  0.082854  0.082854  0.082854  0.108053 -1.359828 -1.359828 -1.359828   \n",
       "3  0.082854  0.082854  0.082854  0.108053  0.341869  0.341869  0.341869   \n",
       "4  0.082854  0.082854  0.082854  0.108053  0.341869  0.341869  0.341869   \n",
       "5  0.082854  0.082854  0.082854  0.108053 -1.359828 -1.359828 -1.359828   \n",
       "7  0.082854  0.082854  0.082854  0.108053  0.341869  0.341869  0.341869   \n",
       "\n",
       "       lm_2     lcm_2      cm_2     rcm_2      rm_2     lwb_2     ldm_2  \\\n",
       "0 -1.361197 -1.807878 -1.807878 -1.807878 -1.361197 -1.925319 -1.665799   \n",
       "3  0.360506  0.310217  0.310217  0.310217  0.360506  0.296566  0.301957   \n",
       "4  0.360506  0.310217  0.310217  0.310217  0.360506  0.296566  0.301957   \n",
       "5 -1.361197  0.310217  0.310217  0.310217 -1.361197  0.296566  0.301957   \n",
       "7  0.360506  0.310217  0.310217  0.310217  0.360506  0.296566  0.301957   \n",
       "\n",
       "      cdm_2     rdm_2     rwb_2      lb_2     lcb_2      cb_2     rcb_2  \\\n",
       "0 -1.665799 -1.665799 -1.925319 -2.199355 -1.218575 -1.218575 -1.218575   \n",
       "3  0.301957  0.301957  0.296566  0.270448  0.359366  0.359366  0.359366   \n",
       "4  0.301957  0.301957  0.296566  0.270448  0.359366  0.359366  0.359366   \n",
       "5  0.301957  0.301957  0.296566  0.270448  0.359366  0.359366  0.359366   \n",
       "7  0.301957  0.301957  0.296566  0.270448  0.359366  0.359366  0.359366   \n",
       "\n",
       "       rb_2      gk_2  nationality_AS  nationality_EU  nationality_NA  \\\n",
       "0 -2.199355 -2.922193               0               1               0   \n",
       "3  0.270448  0.234091               0               1               0   \n",
       "4  0.270448  0.234091               0               1               0   \n",
       "5  0.270448  0.234091               1               0               0   \n",
       "7  0.270448  0.234091               0               1               0   \n",
       "\n",
       "   nationality_OC  nationality_SA  bp_CB  bp_CDM  bp_CF  bp_CM  bp_GK  bp_LB  \\\n",
       "0               0               0      0       0      0      1      0      0   \n",
       "3               0               0      0       1      0      0      0      0   \n",
       "4               0               0      0       1      0      0      0      0   \n",
       "5               0               0      0       0      0      0      0      0   \n",
       "7               0               0      0       0      0      0      0      0   \n",
       "\n",
       "   bp_LM  bp_LW  bp_LWB  bp_RB  bp_RM  bp_RW  bp_RWB  bp_ST  foot_Right  \\\n",
       "0      0      0       0      0      0      0       0      0           1   \n",
       "3      0      0       0      0      0      0       0      0           1   \n",
       "4      0      0       0      0      0      0       0      0           1   \n",
       "5      1      0       0      0      0      0       0      0           1   \n",
       "7      1      0       0      0      0      0       0      0           0   \n",
       "\n",
       "   w/f_2  w/f_3  w/f_4  w/f_5  sm_2  sm_3  sm_4  sm_5  a/w_Low  a/w_Medium  \\\n",
       "0      0      0      1      0     1     0     0     0        0           0   \n",
       "3      1      0      0      0     1     0     0     0        0           1   \n",
       "4      1      0      0      0     0     1     0     0        1           0   \n",
       "5      0      0      1      0     0     1     0     0        0           0   \n",
       "7      1      0      0      0     1     0     0     0        0           1   \n",
       "\n",
       "   d/w_Low  d/w_Medium  ir_2  ir_3  ir_4  ir_5  \n",
       "0        0           1     0     0     0     0  \n",
       "3        0           1     0     0     0     0  \n",
       "4        0           1     0     0     0     0  \n",
       "5        1           0     0     0     0     0  \n",
       "7        0           1     0     0     0     0  "
      ]
     },
     "execution_count": 334,
     "metadata": {},
     "output_type": "execute_result"
    }
   ],
   "source": [
    "data=pd.concat([data, one_hot_data], axis=1)   # concat dataframes\n",
    "data.drop(columns=categorical_col, inplace=True)\n",
    "data.head()"
   ]
  },
  {
   "cell_type": "markdown",
   "metadata": {},
   "source": [
    "## Splitting into train set and test set"
   ]
  },
  {
   "cell_type": "code",
   "execution_count": 335,
   "metadata": {},
   "outputs": [
    {
     "name": "stdout",
     "output_type": "stream",
     "text": [
      "(8009, 148)\n",
      "(8009,)\n"
     ]
    }
   ],
   "source": [
    "# first, split X-y (learning-target data)\n",
    "X=data.drop(columns=['ova'])\n",
    "y=data['ova']\n",
    "\n",
    "# checking shape\n",
    "print(X.shape)\n",
    "print(y.shape)"
   ]
  },
  {
   "cell_type": "code",
   "execution_count": 336,
   "metadata": {},
   "outputs": [],
   "source": [
    "# train_test_split\n",
    "from sklearn.model_selection import train_test_split as tts"
   ]
  },
  {
   "cell_type": "code",
   "execution_count": 337,
   "metadata": {},
   "outputs": [],
   "source": [
    "# train-test-split (4 sets)\n",
    "\n",
    "X_train, X_test, y_train, y_test = tts(X, y, test_size=0.2, random_state=42)  # random state fixed sample"
   ]
  },
  {
   "cell_type": "markdown",
   "metadata": {
    "tags": []
   },
   "source": [
    "## Modeling"
   ]
  },
  {
   "cell_type": "markdown",
   "metadata": {},
   "source": [
    "### Linear Regression"
   ]
  },
  {
   "cell_type": "code",
   "execution_count": 338,
   "metadata": {},
   "outputs": [],
   "source": [
    "from sklearn.linear_model import LinearRegression as LinReg\n",
    "linreg=LinReg()    # model\n",
    "linreg.fit(X_train, y_train)   # model train\n",
    "y_pred_linreg=linreg.predict(X_test)   # model prediction"
   ]
  },
  {
   "cell_type": "markdown",
   "metadata": {},
   "source": [
    "### Regulation"
   ]
  },
  {
   "cell_type": "code",
   "execution_count": 339,
   "metadata": {},
   "outputs": [],
   "source": [
    "from sklearn.linear_model import Lasso       # L1\n",
    "from sklearn.linear_model import Ridge       # L2\n",
    "from sklearn.linear_model import ElasticNet  # L1+L2"
   ]
  },
  {
   "cell_type": "code",
   "execution_count": 340,
   "metadata": {},
   "outputs": [],
   "source": [
    "# Lasso L1\n",
    "\n",
    "lasso=Lasso()\n",
    "lasso.fit(X_train, y_train)\n",
    "\n",
    "y_pred_lasso = lasso.predict(X_test)"
   ]
  },
  {
   "cell_type": "code",
   "execution_count": 341,
   "metadata": {},
   "outputs": [],
   "source": [
    "# Ridge L2\n",
    "\n",
    "ridge=Ridge()\n",
    "ridge.fit(X_train, y_train)\n",
    "\n",
    "y_pred_ridge = ridge.predict(X_test)"
   ]
  },
  {
   "cell_type": "code",
   "execution_count": 342,
   "metadata": {},
   "outputs": [],
   "source": [
    "# ElasticNet L1+L2\n",
    "\n",
    "elastic=ElasticNet()\n",
    "elastic.fit(X_train, y_train)\n",
    "\n",
    "y_pred_elastic = elastic.predict(X_test)"
   ]
  },
  {
   "cell_type": "markdown",
   "metadata": {},
   "source": [
    "### Random Forest Regressor"
   ]
  },
  {
   "cell_type": "code",
   "execution_count": 343,
   "metadata": {},
   "outputs": [],
   "source": [
    "from sklearn.ensemble import RandomForestRegressor as RFR\n",
    "\n",
    "rfr=RFR()\n",
    "rfr.fit(X_train, y_train)\n",
    "\n",
    "y_pred_rfr = rfr.predict(X_test)"
   ]
  },
  {
   "cell_type": "markdown",
   "metadata": {},
   "source": [
    "### XGBoost"
   ]
  },
  {
   "cell_type": "code",
   "execution_count": 344,
   "metadata": {},
   "outputs": [],
   "source": [
    "# conda install -c conda-forge xgboost\n",
    "\n",
    "from xgboost import XGBRegressor as XGBR\n",
    "\n",
    "xgbr=XGBR()\n",
    "xgbr.fit(X_train, y_train)\n",
    "\n",
    "y_pred_xgbr = xgbr.predict(X_test)"
   ]
  },
  {
   "cell_type": "markdown",
   "metadata": {},
   "source": [
    "### LightGBM"
   ]
  },
  {
   "cell_type": "code",
   "execution_count": 345,
   "metadata": {},
   "outputs": [],
   "source": [
    "# conda install -c conda-forge lightgbm\n",
    "from lightgbm import LGBMRegressor as LGBMR\n",
    "\n",
    "lgbmr=LGBMR()\n",
    "lgbmr.fit(X_train, y_train)\n",
    "\n",
    "y_pred_lgbmr = lgbmr.predict(X_test)"
   ]
  },
  {
   "cell_type": "markdown",
   "metadata": {},
   "source": [
    "## Model Validation"
   ]
  },
  {
   "cell_type": "code",
   "execution_count": 346,
   "metadata": {},
   "outputs": [],
   "source": [
    "models=[linreg, lasso, ridge, elastic, rfr, xgbr, lgbmr]\n",
    "model_names=['linreg', 'lasso', 'ridge', 'elastic', 'rfr', 'xgbr', 'lgbmr']\n",
    "preds=[y_pred_linreg, y_pred_lasso, y_pred_ridge, y_pred_elastic, y_pred_rfr, y_pred_xgbr, y_pred_lgbmr]"
   ]
  },
  {
   "cell_type": "markdown",
   "metadata": {},
   "source": [
    "### R2"
   ]
  },
  {
   "cell_type": "code",
   "execution_count": 347,
   "metadata": {},
   "outputs": [
    {
     "name": "stdout",
     "output_type": "stream",
     "text": [
      "Model: linreg, train R2: 0.8851831585414569 -- test R2: 0.8786212591203002\n",
      "Model: lasso, train R2: 0.74270871604046 -- test R2: 0.7486615929382011\n",
      "Model: ridge, train R2: 0.8932896079807042 -- test R2: 0.8875380908029052\n",
      "Model: elastic, train R2: 0.7846619710866842 -- test R2: 0.7894793342873037\n",
      "Model: rfr, train R2: 0.9970684152351855 -- test R2: 0.9851679124333035\n",
      "Model: xgbr, train R2: 0.9993808137972181 -- test R2: 0.9883501610067117\n",
      "Model: lgbmr, train R2: 0.9961780037342037 -- test R2: 0.9913878569886407\n"
     ]
    }
   ],
   "source": [
    "for i in range(len(models)):\n",
    "\n",
    "    train_score=models[i].score(X_train, y_train) #R2\n",
    "    test_score=models[i].score(X_test, y_test)\n",
    "\n",
    "    print ('Model: {}, train R2: {} -- test R2: {}'.format(model_names[i], train_score, test_score))"
   ]
  },
  {
   "cell_type": "markdown",
   "metadata": {},
   "source": [
    "### MSE"
   ]
  },
  {
   "cell_type": "code",
   "execution_count": 348,
   "metadata": {},
   "outputs": [
    {
     "name": "stdout",
     "output_type": "stream",
     "text": [
      "Model: linreg, train MSE: 2.8215678987217263 -- test MSE: 2.8870153847928353\n",
      "Model: lasso, train MSE: 6.322807858316311 -- test MSE: 5.978129635534019\n",
      "Model: ridge, train MSE: 2.6223558561343174 -- test MSE: 2.6749269246167406\n",
      "Model: elastic, train MSE: 5.2918270702926895 -- test MSE: 5.007272248208275\n",
      "Model: rfr, train MSE: 0.07204226627126582 -- test MSE: 0.352783895131086\n",
      "Model: xgbr, train MSE: 0.015216199042818214 -- test MSE: 0.2770935351629428\n",
      "Model: lgbmr, train MSE: 0.0939236947786877 -- test MSE: 0.20484138482267453\n"
     ]
    }
   ],
   "source": [
    "from sklearn.metrics import mean_squared_error as mse\n",
    "\n",
    "for i in range(len(models)):\n",
    "\n",
    "    train_mse=mse(models[i].predict(X_train), y_train) #MSE\n",
    "    test_mse=mse(preds[i], y_test)\n",
    "\n",
    "    print ('Model: {}, train MSE: {} -- test MSE: {}'.format(model_names[i], train_mse, test_mse))"
   ]
  },
  {
   "cell_type": "markdown",
   "metadata": {},
   "source": [
    "### RMSE"
   ]
  },
  {
   "cell_type": "code",
   "execution_count": 349,
   "metadata": {},
   "outputs": [
    {
     "name": "stdout",
     "output_type": "stream",
     "text": [
      "Model: linreg, train RMSE: 1.6797523325543342 -- test RMSE: 1.6991219452390212\n",
      "Model: lasso, train RMSE: 2.5145194090156298 -- test RMSE: 2.4450213977660846\n",
      "Model: ridge, train RMSE: 1.6193689684980126 -- test RMSE: 1.6355203834305279\n",
      "Model: elastic, train RMSE: 2.300397154904494 -- test RMSE: 2.237693510784771\n",
      "Model: rfr, train RMSE: 0.26840690429134983 -- test RMSE: 0.5939561390633874\n",
      "Model: xgbr, train RMSE: 0.1233539583589364 -- test RMSE: 0.5263967469152357\n",
      "Model: lgbmr, train RMSE: 0.30646972897610575 -- test RMSE: 0.452594061850876\n"
     ]
    }
   ],
   "source": [
    "for i in range(len(models)):\n",
    "\n",
    "    train_rmse=mse(models[i].predict(X_train), y_train)**0.5 #RMSE\n",
    "    test_rmse=mse(preds[i], y_test)**0.5\n",
    "\n",
    "    print ('Model: {}, train RMSE: {} -- test RMSE: {}'.format(model_names[i], train_rmse, test_rmse))"
   ]
  },
  {
   "cell_type": "markdown",
   "metadata": {},
   "source": [
    "### MAE"
   ]
  },
  {
   "cell_type": "code",
   "execution_count": 350,
   "metadata": {},
   "outputs": [
    {
     "name": "stdout",
     "output_type": "stream",
     "text": [
      "Model: linreg, train MAE: 1.2533145509793975 -- test MAE: 1.2730773849582553\n",
      "Model: lasso, train MAE: 1.7861190122425226 -- test MAE: 1.7818841748661085\n",
      "Model: ridge, train MAE: 1.1968151537376837 -- test MAE: 1.2196388808852543\n",
      "Model: elastic, train MAE: 1.6468328206189675 -- test MAE: 1.6478779824869907\n",
      "Model: rfr, train MAE: 0.1194349929764322 -- test MAE: 0.30500624219725353\n",
      "Model: xgbr, train MAE: 0.0912360567486154 -- test MAE: 0.3144216120763962\n",
      "Model: lgbmr, train MAE: 0.19532431664105304 -- test MAE: 0.27895914255409404\n"
     ]
    }
   ],
   "source": [
    "from sklearn.metrics import mean_absolute_error as mae\n",
    "for i in range(len(models)):\n",
    "    train_mae=mae(models[i].predict(X_train), y_train) #MAE\n",
    "    test_mae=mae(preds[i], y_test)\n",
    "\n",
    "    print ('Model: {}, train MAE: {} -- test MAE: {}'.format(model_names[i], train_mae, test_mae))"
   ]
  }
 ],
 "metadata": {
  "colab": {
   "provenance": []
  },
  "kernelspec": {
   "display_name": "Python 3 (ipykernel)",
   "language": "python",
   "name": "python3"
  },
  "language_info": {
   "codemirror_mode": {
    "name": "ipython",
    "version": 3
   },
   "file_extension": ".py",
   "mimetype": "text/x-python",
   "name": "python",
   "nbconvert_exporter": "python",
   "pygments_lexer": "ipython3",
   "version": "3.9.12"
  }
 },
 "nbformat": 4,
 "nbformat_minor": 4
}
