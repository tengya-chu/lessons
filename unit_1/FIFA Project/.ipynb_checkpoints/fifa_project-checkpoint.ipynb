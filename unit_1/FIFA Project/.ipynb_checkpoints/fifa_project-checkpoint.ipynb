{
 "cells": [
  {
   "cell_type": "markdown",
   "metadata": {},
   "source": [
    "Your FIFA project goes here:"
   ]
  },
  {
   "cell_type": "code",
   "execution_count": 1,
   "metadata": {},
   "outputs": [],
   "source": [
    "import pandas as pd\n",
    "import numpy as np"
   ]
  },
  {
   "cell_type": "code",
   "execution_count": 2,
   "metadata": {},
   "outputs": [],
   "source": [
    "data = pd.read_csv(\"./file_for_project/fifa21_training.csv\")"
   ]
  },
  {
   "cell_type": "code",
   "execution_count": 6,
   "metadata": {},
   "outputs": [
    {
     "data": {
      "text/plain": [
       "['Unnamed: 0',\n",
       " 'ID',\n",
       " 'Name',\n",
       " 'Age',\n",
       " 'Nationality',\n",
       " 'Club',\n",
       " 'BP',\n",
       " 'Position',\n",
       " 'Team & Contract',\n",
       " 'Height',\n",
       " 'Weight',\n",
       " 'foot',\n",
       " 'Growth',\n",
       " 'Joined',\n",
       " 'Loan Date End',\n",
       " 'Value',\n",
       " 'Wage',\n",
       " 'Release Clause',\n",
       " 'Contract',\n",
       " 'Attacking',\n",
       " 'Crossing',\n",
       " 'Finishing',\n",
       " 'Heading Accuracy',\n",
       " 'Short Passing',\n",
       " 'Volleys',\n",
       " 'Skill',\n",
       " 'Dribbling',\n",
       " 'Curve',\n",
       " 'FK Accuracy',\n",
       " 'Long Passing',\n",
       " 'Ball Control',\n",
       " 'Movement',\n",
       " 'Acceleration',\n",
       " 'Sprint Speed',\n",
       " 'Agility',\n",
       " 'Reactions',\n",
       " 'Balance',\n",
       " 'Power',\n",
       " 'Shot Power',\n",
       " 'Jumping',\n",
       " 'Stamina',\n",
       " 'Strength',\n",
       " 'Long Shots',\n",
       " 'Mentality',\n",
       " 'Aggression',\n",
       " 'Interceptions',\n",
       " 'Positioning',\n",
       " 'Vision',\n",
       " 'Penalties',\n",
       " 'Composure',\n",
       " 'Defending',\n",
       " 'Marking',\n",
       " 'Standing Tackle',\n",
       " 'Sliding Tackle',\n",
       " 'Goalkeeping',\n",
       " 'GK Diving',\n",
       " 'GK Handling',\n",
       " 'GK Kicking',\n",
       " 'GK Positioning',\n",
       " 'GK Reflexes',\n",
       " 'Total Stats',\n",
       " 'Base Stats',\n",
       " 'W/F',\n",
       " 'SM',\n",
       " 'A/W',\n",
       " 'D/W',\n",
       " 'IR',\n",
       " 'PAC',\n",
       " 'SHO',\n",
       " 'PAS',\n",
       " 'DRI',\n",
       " 'DEF',\n",
       " 'PHY',\n",
       " 'Hits',\n",
       " 'LS',\n",
       " 'ST',\n",
       " 'RS',\n",
       " 'LW',\n",
       " 'LF',\n",
       " 'CF',\n",
       " 'RF',\n",
       " 'RW',\n",
       " 'LAM',\n",
       " 'CAM',\n",
       " 'RAM',\n",
       " 'LM',\n",
       " 'LCM',\n",
       " 'CM',\n",
       " 'RCM',\n",
       " 'RM',\n",
       " 'LWB',\n",
       " 'LDM',\n",
       " 'CDM',\n",
       " 'RDM',\n",
       " 'RWB',\n",
       " 'LB',\n",
       " 'LCB',\n",
       " 'CB',\n",
       " 'RCB',\n",
       " 'RB',\n",
       " 'GK',\n",
       " 'OVA']"
      ]
     },
     "execution_count": 6,
     "metadata": {},
     "output_type": "execute_result"
    }
   ],
   "source": [
    "list(data.columns)"
   ]
  },
  {
   "cell_type": "code",
   "execution_count": null,
   "metadata": {},
   "outputs": [],
   "source": []
  }
 ],
 "metadata": {
  "kernelspec": {
   "display_name": "Python 3",
   "language": "python",
   "name": "python3"
  },
  "language_info": {
   "codemirror_mode": {
    "name": "ipython",
    "version": 3
   },
   "file_extension": ".py",
   "mimetype": "text/x-python",
   "name": "python",
   "nbconvert_exporter": "python",
   "pygments_lexer": "ipython3",
   "version": "3.7.0"
  }
 },
 "nbformat": 4,
 "nbformat_minor": 4
}
