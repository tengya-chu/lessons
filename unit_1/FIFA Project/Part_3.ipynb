{
 "cells": [
  {
   "cell_type": "markdown",
   "metadata": {},
   "source": [
    "# FIFA 21 PROJECT (III)\n",
    "\n",
    "<br><br>\n",
    "\n",
    "Now you will work only in the `group jupyter notebook`.\n",
    "\n",
    "It is s time to train a linear model and save it. Please take a look to the following [resource](https://machinelearningmastery.com/save-load-machine-learning-models-python-scikit-learn/) to know how to do it.\n",
    "\n",
    "In addition you will need to create functions to make predictions with your group model and to evaluate the model's results on your `group jupyter notebook`.\n",
    "\n",
    "Later, the LT will pick your `group jupyter notebook`, it will load another dataset and it will apply/call your functions to clean the dataset, make predictions with your model and then evaluate your group model into the new unseen data."
   ]
  },
  {
   "cell_type": "code",
   "execution_count": null,
   "metadata": {},
   "outputs": [],
   "source": []
  }
 ],
 "metadata": {
  "kernelspec": {
   "display_name": "Python 3",
   "language": "python",
   "name": "python3"
  },
  "language_info": {
   "codemirror_mode": {
    "name": "ipython",
    "version": 3
   },
   "file_extension": ".py",
   "mimetype": "text/x-python",
   "name": "python",
   "nbconvert_exporter": "python",
   "pygments_lexer": "ipython3",
   "version": "3.7.0"
  }
 },
 "nbformat": 4,
 "nbformat_minor": 4
}
