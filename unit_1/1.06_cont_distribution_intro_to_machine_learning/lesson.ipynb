{
 "cells": [
  {
   "cell_type": "markdown",
   "metadata": {},
   "source": [
    "# Lesson 1.6: Intro to Machine Learning\n",
    "\n",
    "### Lesson Duration: 3 hours\n",
    "\n",
    "> Purpose: The purpose of this lesson is to understand the concept of data distributions, mainly the continuous distributions. Besides that, we will build a simple linear regression model to predict a numerical target variable and then talk about some of the other concepts including assumptions of the model and how can we check if our data follows those assumptions or not.\n",
    "\n",
    "> :exclamation: Note for instructor: In this lesson we will show the students how to build a simple linear regression model without performing data pre-processing steps such as scaling numerical features, checking the distribution of data, and using transformations to bring the distributions closer to normal distribution. The model will perform badly as will be seen from the r2 measure. This will help the students understand that different models are based on different assumptions and we have to check those assumptions and make the data more suitable for that model to get better results. GARBAGE IN, GARBAGE OUT!\n",
    "\n",
    "> [**Slides for this lesson**](https://docs.google.com/presentation/d/1I3M1_9pV777ifCrx67xlIFMnbOJQfAsULapB5_QpWCA/edit?usp=sharing)\n",
    "\n",
    "---\n",
    "\n",
    "### Setup\n",
    "\n",
    "To start this lesson, students should have:\n",
    "\n",
    "- Completed lesson 1.5\n",
    "- All previous Setup\n",
    "\n",
    "### Learning Objectives\n",
    "\n",
    "After this lesson, students will be able to:\n",
    "\n",
    "- Explain data distributions (continuous)\n",
    "- Describe linear regression, its parameters, and optimization methods\n",
    "- Apply various data transformations to bring non-normal distribution/behavior closer to a normal distribution\n",
    "- Train the model and prepare to test the accuracy of the model\n",
    "\n",
    "---\n",
    "\n",
    "### Lesson 1 key concepts\n",
    "\n",
    "> :clock10: 20 min\n",
    "\n",
    "- Introduction to data distributions\n",
    "\n",
    "  - Random variables (continuous and discrete)\n",
    "  - Normal distribution and its characteristics\n",
    "  - Standard normal distribution\n",
    "\n",
    "- Working with `SciPy` and `NumPy` to generate random numbers and plot using `Matplotlib` and `Seaborn`\n",
    "\n",
    "\n",
    ":exclamation: Note: Keep using `merged_clean_ver2.csv` file."
   ]
  },
  {
   "cell_type": "code",
   "execution_count": 1,
   "metadata": {},
   "outputs": [],
   "source": [
    "import numpy as np\n",
    "from scipy.stats import norm\n",
    "import math\n",
    "import matplotlib.pyplot as plt\n",
    "%matplotlib inline"
   ]
  },
  {
   "cell_type": "code",
   "execution_count": 2,
   "metadata": {},
   "outputs": [
    {
     "data": {
      "image/png": "[encoded data removed]",
      "text/plain": [
       "<Figure size 432x288 with 1 Axes>"
      ]
     },
     "metadata": {
      "needs_background": "light"
     },
     "output_type": "display_data"
    }
   ],
   "source": [
    "plt.hist(np.random.randn(10000), bins=40)\n",
    "plt.show()"
   ]
  },
  {
   "cell_type": "code",
   "execution_count": 3,
   "metadata": {},
   "outputs": [],
   "source": [
    "from scipy.stats import norm, uniform\n",
    "import math\n",
    "\n",
    "normal = norm(0, math.sqrt(9))\n",
    "# print(normal.pdf(4))\n",
    "# print(normal.cdf(2))\n",
    "# print(normal.rvs())"
   ]
  },
  {
   "cell_type": "code",
   "execution_count": 4,
   "metadata": {},
   "outputs": [
    {
     "data": {
      "image/png": "[encoded data removed]",
      "text/plain": [
       "<Figure size 432x288 with 1 Axes>"
      ]
     },
     "metadata": {
      "needs_background": "light"
     },
     "output_type": "display_data"
    }
   ],
   "source": [
    "fig, ax = plt.subplots(1, 1)\n",
    "x = np.linspace(-3,3,1000) # Generating evenly spaced numbers (1000)  between -3 and 3.\n",
    "y = norm.pdf(x) # Generating a plot of the 'Normal distribution' using the points in x.\n",
    "ax.plot(x,y)\n",
    "plt.show()"
   ]
  },
  {
   "cell_type": "markdown",
   "metadata": {},
   "source": [
    "#### :pencil2: Check for Understanding - Class activity/quick quiz\n",
    "\n",
    "> :clock10: 10 min (+ 10 min Review)"
   ]
  },
  {
   "cell_type": "markdown",
   "metadata": {},
   "source": [
    "# 1.06 Activity 1\n",
    "\n",
    "### Debate\n",
    "\n",
    "1. What is the difference between a normal distribution and standard normal distribution?\n",
    "2. Go through the documentation on [uniform distribution](https://docs.scipy.org/doc/scipy/reference/generated/scipy.stats.uniform.html).\n",
    "3. Discuss the use of uniform distribution in generating random numbers.\n",
    "\n",
    "### Code\n",
    "\n",
    "4. Plot a uniform distribution - [documentation](https://docs.scipy.org/doc/numpy-1.14.0/reference/generated/numpy.random.rand.html#numpy.random.rand)."
   ]
  },
  {
   "cell_type": "markdown",
   "metadata": {},
   "source": [
    "### Class debate\n",
    "\n",
    "1. The standard normal distribution (z distribution) is a normal distribution with a mean of 0 and a standard deviation of 1.\n",
    "   Any point (x) from a normal distribution can be converted to the standard normal distribution (z) with the formula z = (x-mean) / standard deviation. z for any particular x value shows how many standard deviations x is away from the mean for all x values.\n",
    "\n",
    "2. Documentation - [here](https://docs.scipy.org/doc/scipy/reference/generated/scipy.stats.uniform.html)\n",
    "\n",
    "3. Discuss pseudo-random number generators - [documentation](https://www.random.org/randomness/)"
   ]
  },
  {
   "cell_type": "code",
   "execution_count": 5,
   "metadata": {},
   "outputs": [
    {
     "data": {
      "image/png": "[encoded data removed]",
      "text/plain": [
       "<Figure size 432x288 with 1 Axes>"
      ]
     },
     "metadata": {
      "needs_background": "light"
     },
     "output_type": "display_data"
    }
   ],
   "source": [
    "### Code\n",
    "\n",
    "# 4\n",
    "plt.hist(np.random.rand(10000), bins=40)\n",
    "plt.show()"
   ]
  },
  {
   "cell_type": "markdown",
   "metadata": {},
   "source": [
    "### Lesson 2 key concepts\n",
    "\n",
    "> :clock10: 20 min\n",
    "\n",
    "- Introduction to Machine learning\n",
    "  - _Supervised_ vs. _unsupervised_ learning\n",
    "  - Supervised learning: Prediction vs. Classification Problems\n",
    "  - Introduction to linear regression\n",
    "  - Features/independent variables/X's vs. labels/dependent variable/Y"
   ]
  },
  {
   "cell_type": "markdown",
   "metadata": {},
   "source": [
    "#### :pencil2: Check for Understanding - Class activity/quick quiz\n",
    "\n",
    "> :clock10: 10 min (+ 10 min Review)"
   ]
  },
  {
   "cell_type": "markdown",
   "metadata": {},
   "source": [
    "# 1.06 Activity 2\n",
    "\n",
    "### Debate\n",
    "\n",
    "1. What kind of problems we can solve with supervised learning? List down some examples with the factors and the target.\n",
    "2. What kind of problems we can solve with unsupervised learning? List down some examples with the factors and the target."
   ]
  },
  {
   "cell_type": "markdown",
   "metadata": {},
   "source": [
    "### Lesson 3 key concepts\n",
    "\n",
    "> :clock10: 20 min\n",
    "\n",
    "- Introduction to libraries: `sklearn` and `statsmodels`\n",
    "- Building a simple linear regression model"
   ]
  },
  {
   "cell_type": "code",
   "execution_count": 6,
   "metadata": {},
   "outputs": [],
   "source": [
    "import pandas as pd\n",
    "\n",
    "from sklearn import linear_model\n",
    "from sklearn.metrics import mean_squared_error, r2_score\n",
    "\n",
    "import statsmodels.api as sm\n",
    "from statsmodels.formula.api import ols"
   ]
  },
  {
   "cell_type": "code",
   "execution_count": 7,
   "metadata": {},
   "outputs": [
    {
     "data": {
      "text/html": [
       "<div>\n",
       "<style scoped>\n",
       "    .dataframe tbody tr th:only-of-type {\n",
       "        vertical-align: middle;\n",
       "    }\n",
       "\n",
       "    .dataframe tbody tr th {\n",
       "        vertical-align: top;\n",
       "    }\n",
       "\n",
       "    .dataframe thead th {\n",
       "        text-align: right;\n",
       "    }\n",
       "</style>\n",
       "<table border=\"1\" class=\"dataframe\">\n",
       "  <thead>\n",
       "    <tr style=\"text-align: right;\">\n",
       "      <th></th>\n",
       "      <th>HV1</th>\n",
       "      <th>IC1</th>\n",
       "      <th>IC2</th>\n",
       "      <th>IC3</th>\n",
       "      <th>IC4</th>\n",
       "      <th>IC5</th>\n",
       "      <th>AVGGIFT</th>\n",
       "      <th>TARGET_D</th>\n",
       "    </tr>\n",
       "  </thead>\n",
       "  <tbody>\n",
       "    <tr>\n",
       "      <th>0</th>\n",
       "      <td>2346</td>\n",
       "      <td>420</td>\n",
       "      <td>446</td>\n",
       "      <td>468</td>\n",
       "      <td>503</td>\n",
       "      <td>14552</td>\n",
       "      <td>15.500000</td>\n",
       "      <td>21.0</td>\n",
       "    </tr>\n",
       "    <tr>\n",
       "      <th>1</th>\n",
       "      <td>497</td>\n",
       "      <td>350</td>\n",
       "      <td>364</td>\n",
       "      <td>357</td>\n",
       "      <td>384</td>\n",
       "      <td>11696</td>\n",
       "      <td>3.080000</td>\n",
       "      <td>3.0</td>\n",
       "    </tr>\n",
       "    <tr>\n",
       "      <th>2</th>\n",
       "      <td>1229</td>\n",
       "      <td>469</td>\n",
       "      <td>502</td>\n",
       "      <td>507</td>\n",
       "      <td>544</td>\n",
       "      <td>17313</td>\n",
       "      <td>7.500000</td>\n",
       "      <td>20.0</td>\n",
       "    </tr>\n",
       "    <tr>\n",
       "      <th>3</th>\n",
       "      <td>325</td>\n",
       "      <td>148</td>\n",
       "      <td>181</td>\n",
       "      <td>171</td>\n",
       "      <td>209</td>\n",
       "      <td>6334</td>\n",
       "      <td>6.700000</td>\n",
       "      <td>5.0</td>\n",
       "    </tr>\n",
       "    <tr>\n",
       "      <th>4</th>\n",
       "      <td>768</td>\n",
       "      <td>174</td>\n",
       "      <td>201</td>\n",
       "      <td>220</td>\n",
       "      <td>249</td>\n",
       "      <td>7802</td>\n",
       "      <td>8.785714</td>\n",
       "      <td>10.0</td>\n",
       "    </tr>\n",
       "  </tbody>\n",
       "</table>\n",
       "</div>"
      ],
      "text/plain": [
       "    HV1  IC1  IC2  IC3  IC4    IC5    AVGGIFT  TARGET_D\n",
       "0  2346  420  446  468  503  14552  15.500000      21.0\n",
       "1   497  350  364  357  384  11696   3.080000       3.0\n",
       "2  1229  469  502  507  544  17313   7.500000      20.0\n",
       "3   325  148  181  171  209   6334   6.700000       5.0\n",
       "4   768  174  201  220  249   7802   8.785714      10.0"
      ]
     },
     "execution_count": 7,
     "metadata": {},
     "output_type": "execute_result"
    }
   ],
   "source": [
    "# apply linear regression on the following data\n",
    "data = pd.read_csv('./files_for_lesson_and_activities/regression_data1.csv') # this file is inside files_for_lesson_and_activities folder\n",
    "data.head()"
   ]
  },
  {
   "cell_type": "code",
   "execution_count": 8,
   "metadata": {},
   "outputs": [],
   "source": [
    "Y = data['TARGET_D']\n",
    "X = data.drop(['TARGET_D'], axis=1)\n",
    "# The linear model has the formula Y = a * X + b, with 'add_constant' we force the model\n",
    "# to have an intercept because by default on statsmodel library the `linear models`\n",
    "# doesn't have intercept!!!"
   ]
  },
  {
   "cell_type": "code",
   "execution_count": 9,
   "metadata": {},
   "outputs": [],
   "source": [
    "X = sm.add_constant(X)"
   ]
  },
  {
   "cell_type": "code",
   "execution_count": 10,
   "metadata": {},
   "outputs": [],
   "source": [
    "model = sm.OLS(Y,X).fit()"
   ]
  },
  {
   "cell_type": "code",
   "execution_count": 11,
   "metadata": {},
   "outputs": [
    {
     "name": "stdout",
     "output_type": "stream",
     "text": [
      "                            OLS Regression Results                            \n",
      "==============================================================================\n",
      "Dep. Variable:               TARGET_D   R-squared:                       0.272\n",
      "Model:                            OLS   Adj. R-squared:                  0.271\n",
      "Method:                 Least Squares   F-statistic:                     258.2\n",
      "Date:                Wed, 05 Oct 2022   Prob (F-statistic):               0.00\n",
      "Time:                        16:44:50   Log-Likelihood:                -18313.\n",
      "No. Observations:                4843   AIC:                         3.664e+04\n",
      "Df Residuals:                    4835   BIC:                         3.669e+04\n",
      "Df Model:                           7                                         \n",
      "Covariance Type:            nonrobust                                         \n",
      "==============================================================================\n",
      "                 coef    std err          t      P>|t|      [0.025      0.975]\n",
      "------------------------------------------------------------------------------\n",
      "const          6.2092      0.503     12.346      0.000       5.223       7.195\n",
      "HV1         9.693e-05      0.000      0.417      0.677      -0.000       0.001\n",
      "IC1           -0.0020      0.007     -0.306      0.759      -0.015       0.011\n",
      "IC2         9.846e-05      0.006      0.017      0.986      -0.011       0.011\n",
      "IC3           -0.0022      0.009     -0.248      0.804      -0.020       0.015\n",
      "IC4            0.0067      0.008      0.895      0.371      -0.008       0.021\n",
      "IC5         3.092e-05   3.56e-05      0.869      0.385   -3.88e-05       0.000\n",
      "AVGGIFT        0.6211      0.015     40.799      0.000       0.591       0.651\n",
      "==============================================================================\n",
      "Omnibus:                     3372.304   Durbin-Watson:                   2.061\n",
      "Prob(Omnibus):                  0.000   Jarque-Bera (JB):          4377337.881\n",
      "Skew:                           1.854   Prob(JB):                         0.00\n",
      "Kurtosis:                     150.237   Cond. No.                     6.29e+04\n",
      "==============================================================================\n",
      "\n",
      "Notes:\n",
      "[1] Standard Errors assume that the covariance matrix of the errors is correctly specified.\n",
      "[2] The condition number is large, 6.29e+04. This might indicate that there are\n",
      "strong multicollinearity or other numerical problems.\n"
     ]
    }
   ],
   "source": [
    "print(model.summary())"
   ]
  },
  {
   "cell_type": "code",
   "execution_count": 12,
   "metadata": {},
   "outputs": [],
   "source": [
    "# Using sklearn\n",
    "from sklearn import linear_model\n",
    "from sklearn.metrics import mean_squared_error, r2_score"
   ]
  },
  {
   "cell_type": "code",
   "execution_count": 13,
   "metadata": {},
   "outputs": [],
   "source": [
    "Y = data['TARGET_D']\n",
    "X = data.drop(['TARGET_D'], axis=1)"
   ]
  },
  {
   "cell_type": "code",
   "execution_count": 14,
   "metadata": {},
   "outputs": [],
   "source": [
    "lm = linear_model.LinearRegression()"
   ]
  },
  {
   "cell_type": "code",
   "execution_count": 15,
   "metadata": {},
   "outputs": [],
   "source": [
    "model = lm.fit(X,Y)"
   ]
  },
  {
   "cell_type": "code",
   "execution_count": 16,
   "metadata": {},
   "outputs": [
    {
     "name": "stdout",
     "output_type": "stream",
     "text": [
      "R2 value is =  0.27\n"
     ]
    }
   ],
   "source": [
    "print(\"R2 value is = \",round(lm.score(X,Y),2))"
   ]
  },
  {
   "cell_type": "code",
   "execution_count": 17,
   "metadata": {},
   "outputs": [],
   "source": [
    "predictions = lm.predict(X)"
   ]
  },
  {
   "cell_type": "code",
   "execution_count": 18,
   "metadata": {},
   "outputs": [
    {
     "name": "stdout",
     "output_type": "stream",
     "text": [
      "R2 value is =  0.27\n",
      "The intercept of the model is =  6.2092238731566365\n",
      "The coefficients of the model are =  [ 9.69296995e-05 -2.00305674e-03  9.84630309e-05 -2.21132354e-03\n",
      "  6.71311365e-03  3.09166582e-05  6.21136417e-01]\n"
     ]
    }
   ],
   "source": [
    "print(\"R2 value is = \",round(r2_score(Y, predictions),2))\n",
    "print(\"The intercept of the model is = \",lm.intercept_)\n",
    "print(\"The coefficients of the model are = \",lm.coef_)"
   ]
  },
  {
   "cell_type": "code",
   "execution_count": 19,
   "metadata": {},
   "outputs": [
    {
     "name": "stdout",
     "output_type": "stream",
     "text": [
      "The mse of the model is =  112.71352812617637\n"
     ]
    }
   ],
   "source": [
    "predictions = lm.predict(X)\n",
    "mse = mean_squared_error(Y, predictions)\n",
    "print(\"The mse of the model is = \", mse)"
   ]
  },
  {
   "cell_type": "markdown",
   "metadata": {},
   "source": [
    "#### :pencil2: Check for Understanding - Class activity/quick quiz\n",
    "\n",
    "> :clock10: 10 min (+ 10 min Review)"
   ]
  },
  {
   "cell_type": "markdown",
   "metadata": {},
   "source": [
    "# 1.06 Activity 3\n",
    "\n",
    "**_Individual Reading_**\n",
    "\n",
    "- Read the article [medium article](https://medium.com/@venkateshpnk22/ten-minutes-to-learn-linear-regression-for-dummies-5469038f4781).\n",
    "- List down some of the keywords that you identified in the article. Do not worry about understanding what do the terms mean right now. We will discuss linear regression in greater detail as we go on."
   ]
  },
  {
   "cell_type": "markdown",
   "metadata": {},
   "source": [
    "### Lesson 4 key concepts\n",
    "\n",
    "> :clock10: 20 min\n",
    "\n",
    "- More on linear regression\n",
    "  - Coefficients in a linear regression equation\n",
    "  - Ordinary least squares method\n",
    "  - Assumptions in a linear regression model\n",
    "    - (for reference:)\n",
    "      - The true relationship is linear\n",
    "      - Errors are normally distributed\n",
    "      - Homoscedasticity of errors (or, equal variance around the line).\n",
    "      - Independence of the observations\n",
    "- Multicollinearity\n",
    "  - Using heatmap to check multicollinearity"
   ]
  },
  {
   "cell_type": "code",
   "execution_count": 20,
   "metadata": {},
   "outputs": [],
   "source": [
    "import seaborn as sns"
   ]
  },
  {
   "cell_type": "code",
   "execution_count": 21,
   "metadata": {},
   "outputs": [],
   "source": [
    "correlations_matrix = data.corr()"
   ]
  },
  {
   "cell_type": "code",
   "execution_count": 22,
   "metadata": {},
   "outputs": [],
   "source": [
    "mask = np.zeros_like(correlations_matrix)"
   ]
  },
  {
   "cell_type": "code",
   "execution_count": 23,
   "metadata": {},
   "outputs": [],
   "source": [
    "mask[np.triu_indices_from(mask)] = True"
   ]
  },
  {
   "cell_type": "code",
   "execution_count": 24,
   "metadata": {},
   "outputs": [
    {
     "data": {
      "image/png": "[encoded data removed]",
      "text/plain": [
       "<Figure size 720x576 with 2 Axes>"
      ]
     },
     "metadata": {
      "needs_background": "light"
     },
     "output_type": "display_data"
    }
   ],
   "source": [
    "fig, ax = plt.subplots(figsize=(10, 8))\n",
    "ax = sns.heatmap(correlations_matrix, mask=mask, annot=True)\n",
    "plt.show()"
   ]
  },
  {
   "cell_type": "code",
   "execution_count": 25,
   "metadata": {},
   "outputs": [],
   "source": [
    "# We can see that there is a very strong positive correlation between IC1 and IC2, IC2 and IC3, IC3 and IC4\n",
    "# using the concept of multicollinearity, let's drop IC2, IC3 and IC4\n",
    "data = data.drop(['IC2', 'IC3', 'IC4'],axis=1)"
   ]
  },
  {
   "cell_type": "markdown",
   "metadata": {},
   "source": [
    "#### :pencil2: Check for Understanding - Class activity/quick quiz\n",
    "\n",
    "> :clock10: 10 min (+ 10 min Review)"
   ]
  },
  {
   "cell_type": "markdown",
   "metadata": {},
   "source": [
    "# 1.06 Activity 4 (Optional)\n",
    "\n",
    "Display the OLS summary using Statmodels library and conduct your research to find out the different statistics in the table. What does each element in the table mean? (_There is a summary table in the output when you use linear regression with Statmodels._)"
   ]
  },
  {
   "cell_type": "markdown",
   "metadata": {},
   "source": [
    "Solution to activity 4: https://www.datarobot.com/blog/ordinary-least-squares-in-python/"
   ]
  },
  {
   "cell_type": "markdown",
   "metadata": {},
   "source": [
    "# Lab | Customer Analysis Round 4\n",
    "\n",
    "In today's lesson we talked about continuous distributions (mainly normal distribution), linear regression and how multicollinearity can impact the model. In this lab, we will test your knowledge on those things using the `marketing_customer_analysis.csv` file. You have been using the same data in the previous labs (round 2 and 3). You can continue using the same jupyter file. The file can be found in the `files_for_lab` folder.\n",
    "\n",
    "### Get the data \n",
    "\n",
    "Use the jupyter file from the last lab (Customer Analysis Round 3)\n",
    "\n",
    "### Complete the following task \n",
    "\n",
    "- Check the data types of the columns. Get the numeric data into dataframe called `numerical` and categorical columns in a dataframe called `categoricals`.\n",
    "(You can use np.number and np.object to select the numerical data types and categorical data types respectively)\n",
    "- Now we will try to check the normality of the numerical variables visually\n",
    "  - Use seaborn library to construct distribution plots for the numerical variables\n",
    "  - Use Matplotlib to construct histograms\n",
    "  - Do the distributions for different numerical variables look like a normal distribution \n",
    "- For the numerical variables, check the multicollinearity between the features. Please note that we will use the column `total_claim_amount` later as the target variable. \n",
    "- Drop one of the two features that show a high correlation between them (greater than 0.9). Write code for both the correlation matrix and for seaborn heatmap. If there is no pair of features that have a high correlation, then do not drop any features"
   ]
  },
  {
   "cell_type": "markdown",
   "metadata": {},
   "source": [
    "### Additional Readings\n",
    "\n",
    "- [Assumptions of linear regression model](https://www.jmp.com/en_us/statistics-knowledge-portal/what-is-regression/simple-linear-regression-assumptions.html)\n",
    "- [Transformations](https://aegis4048.github.io/transforming-non-normal-distribution-to-normal-distribution)\n",
    "- [SciPy - cheat sheet](https://s3.amazonaws.com/assets.datacamp.com/blog_assets/Python_SciPy_Cheat_Sheet_Linear_Algebra.pdf)\n",
    "- [NumPy - cheat sheet](https://s3.amazonaws.com/assets.datacamp.com/blog_assets/Numpy_Python_Cheat_Sheet.pdf)\n",
    "- [Sklearn - cheat sheet](https://s3.amazonaws.com/assets.datacamp.com/blog_assets/Scikit_Learn_Cheat_Sheet_Python.pdf)"
   ]
  },
  {
   "cell_type": "code",
   "execution_count": null,
   "metadata": {},
   "outputs": [],
   "source": []
  }
 ],
 "metadata": {
  "kernelspec": {
   "display_name": "Python 3 (ipykernel)",
   "language": "python",
   "name": "python3"
  },
  "language_info": {
   "codemirror_mode": {
    "name": "ipython",
    "version": 3
   },
   "file_extension": ".py",
   "mimetype": "text/x-python",
   "name": "python",
   "nbconvert_exporter": "python",
   "pygments_lexer": "ipython3",
   "version": "3.9.12"
  }
 },
 "nbformat": 4,
 "nbformat_minor": 4
}
