{
 "cells": [
  {
   "cell_type": "code",
   "execution_count": null,
   "id": "7563ae4e-a4d4-4327-97a6-cbc060395f22",
   "metadata": {},
   "outputs": [],
   "source": [
    "   ```sql\n",
    "    drop table if exists house_price_data;\n",
    "    CREATE TABLE house_price_data (\n",
    "    `id` int(11) NOT NULL,\n",
    "    `date` date DEFAULT NULL,\n",
    "    `bedrooms` int(4) DEFAULT NULL,\n",
    "    `bathrooms` float DEFAULT NULL,\n",
    "    `sqft_living` float DEFAULT NULL,\n",
    "    `sqft_lot` float DEFAULT NULL,\n",
    "    `floors` int(4) DEFAULT NULL,\n",
    "    `waterfront` int(4) DEFAULT NULL,\n",
    "    `view` int(4) DEFAULT NULL,\n",
    "    `condition` int(4) DEFAULT NULL,\n",
    "    `grade` int(4) DEFAULT NULL,\n",
    "    `sqft_above` float DEFAULT NULL,\n",
    "    `sqft_basement` float DEFAULT NULL,\n",
    "    `yr_built` int(11) DEFAULT NULL,\n",
    "    `yr_renovated` int(11) DEFAULT NULL,\n",
    "    `zip_code` int(11) DEFAULT NULL,\n",
    "    `lat` float DEFAULT NULL,\n",
    "    `lon` float DEFAULT NULL,\n",
    "    `sqft_living15` float DEFAULT NULL,\n",
    "    `sqft_lot15` float DEFAULT NULL,\n",
    "    `price` float DEFAULT NULL,\n",
    "    PRIMARY KEY (`id`)\n",
    "    );\n",
    "    ```"
   ]
  }
 ],
 "metadata": {
  "kernelspec": {
   "display_name": "Python 3 (ipykernel)",
   "language": "python",
   "name": "python3"
  },
  "language_info": {
   "codemirror_mode": {
    "name": "ipython",
    "version": 3
   },
   "file_extension": ".py",
   "mimetype": "text/x-python",
   "name": "python",
   "nbconvert_exporter": "python",
   "pygments_lexer": "ipython3",
   "version": "3.9.12"
  }
 },
 "nbformat": 4,
 "nbformat_minor": 5
}
