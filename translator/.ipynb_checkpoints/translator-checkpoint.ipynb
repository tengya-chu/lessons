{
 "cells": [
  {
   "cell_type": "markdown",
   "metadata": {},
   "source": [
    "***Instalar librería para editar docs Excel:***\n",
    "\n",
    "pip install openpyxl"
   ]
  },
  {
   "cell_type": "code",
   "execution_count": 19,
   "metadata": {},
   "outputs": [],
   "source": [
    "from openpyxl import load_workbook\n",
    "from openpyxl.utils.cell import coordinate_to_tuple"
   ]
  },
  {
   "cell_type": "markdown",
   "metadata": {},
   "source": [
    "***Instalar en Anaconda Prompt:***\n",
    "\n",
    "pip install -U deep-translator"
   ]
  },
  {
   "cell_type": "code",
   "execution_count": 20,
   "metadata": {},
   "outputs": [],
   "source": [
    "from deep_translator import GoogleTranslator"
   ]
  },
  {
   "cell_type": "code",
   "execution_count": 21,
   "metadata": {},
   "outputs": [],
   "source": [
    "documento = \"DATA2020_midbc_rubrics_ey.xlsx\""
   ]
  },
  {
   "cell_type": "code",
   "execution_count": 22,
   "metadata": {},
   "outputs": [],
   "source": [
    "workbook = load_workbook(filename=documento)"
   ]
  },
  {
   "cell_type": "code",
   "execution_count": 23,
   "metadata": {},
   "outputs": [
    {
     "data": {
      "text/plain": [
       "['Sheet1']"
      ]
     },
     "execution_count": 23,
     "metadata": {},
     "output_type": "execute_result"
    }
   ],
   "source": [
    "workbook.sheetnames"
   ]
  },
  {
   "cell_type": "code",
   "execution_count": 24,
   "metadata": {},
   "outputs": [],
   "source": [
    "sheet = workbook[workbook.sheetnames[0]]"
   ]
  },
  {
   "cell_type": "code",
   "execution_count": 25,
   "metadata": {},
   "outputs": [],
   "source": [
    "src='en'\n",
    "dest = 'es'"
   ]
  },
  {
   "cell_type": "code",
   "execution_count": 26,
   "metadata": {},
   "outputs": [],
   "source": [
    "sheet_copy = workbook.copy_worksheet(sheet)"
   ]
  },
  {
   "cell_type": "code",
   "execution_count": 27,
   "metadata": {},
   "outputs": [
    {
     "name": "stdout",
     "output_type": "stream",
     "text": [
      "Completed cell: A1. Text: Artefacto\n",
      "Completed cell: B1. Text: Criterios\n",
      "Completed cell: C1. Text: 1-Necesita mejorar\n",
      "Completed cell: D1. Text: 2-Cumple con las expectativas\n",
      "Completed cell: E1. Text: 3-Supera las expectativas\n",
      "Completed cell: A2. Text: sql\n",
      "Completed cell: B2. Text: Consultas SQL\n",
      "Completed cell: C2. Text: Completa menos del 60% de las consultas\n",
      "Completed cell: D2. Text: Completa entre el 60% y el 90% de las consultas\n",
      "Completed cell: E2. Text: Completa el 100% de las consultas\n",
      "Completed cell: A3. Text: Pitón\n",
      "Completed cell: B3. Text: Documentación del proceso\n",
      "Completed cell: C3. Text: Los comentarios sobre el código son escasos o inexistentes.\n",
      "Completed cell: D3. Text: En puntos razonables del código, hay comentarios que señalan el fundamento, la lógica o las ideas principales detrás del código, especialmente con las operaciones de limpieza y preprocesamiento de datos.\n",
      "Completed cell: E3. Text: Los comentarios en el código ayudan a navegar por el proceso de análisis de datos, haciéndolo más comprensible, accesible y coherente. Los comentarios agregan valor al ejercicio y son prueba de un profundo pensamiento y reflexión sobre el trabajo.\n",
      "None\n",
      "Completed cell: B4. Text: Organización de archivos / GitHub Repo\n",
      "Completed cell: C4. Text: La estructura dada al repositorio de GitHub es descuidada o caótica. Algunos indicadores: archivos no colocados correctamente en carpetas apropiadas, ningún documento LÉAME, Léame mal escrito, convenciones de nomenclatura deficientes, nombres inaccesibles, inconsistencias, dificultad para localizar recursos, etc.\n",
      "Completed cell: D4. Text: La estructura del repositorio sigue las mejores prácticas revisadas en clase, el documento LÉAME explica un poco el proyecto y la estructura del documento, y los archivos se colocan en las carpetas adecuadas con las convenciones de nomenclatura correctas.\n",
      "Completed cell: E4. Text: La estructura del repositorio creado para este proyecto es robusta. El archivo README define detalladamente el propósito del proyecto, habla brevemente sobre la metodología utilizada para construir el modelo y la estructura del repositorio también es clara. El uso de nombres semánticos es abundante, haciendo elecciones muy inteligentes para economizar pasos y optimizar la comprensión.\n",
      "None\n",
      "Completed cell: B5. Text: Legibilidad del código\n",
      "Completed cell: C5. Text: El código es desordenado, con fallas, errores y se utilizan líneas de código repetidas. El código no está organizado correctamente en bloques de código (si usa pycharm o algún otro IDE) o celdas diferentes (si usa jupyter)\n",
      "Completed cell: D5. Text: Uso de estándares de código limpio, diferentes bloques/celdas de código utilizados para diferentes operaciones, y el código sigue un flujo de trabajo de análisis de datos adecuado\n",
      "Completed cell: E5. Text: Código refactorizado y elegante. El código se organiza en bloques de código como funciones (además de usar bloques/celdas de código para diferentes conjuntos de operaciones). Su efectividad no dificulta el acceso y la comprensión.\n",
      "None\n",
      "Completed cell: B6. Text: Proceso - EDA, limpieza, preprocesamiento, modelado\n",
      "Completed cell: C6. Text: El trabajo muestra \"agujeros\" porque algunas partes del flujo de trabajo de análisis de datos no se completaron.\n",
      "Completed cell: D6. Text: El proceso completo de análisis de datos está bien implementado con cada paso del proceso cubierto en buena medida (referencia a las cosas cubiertas en clase). Cada paso se basa en el anterior. Todos arrojan luz y orientan los siguientes pasos.\n",
      "Completed cell: E6. Text: Además de implementar el proceso completo de análisis de datos, el estudiante también reflexionó sobre su trabajo anterior y lo repitió para mejorar la precisión de sus resultados. Su trabajo adicional se destaca en la documentación.\n",
      "None\n",
      "Completed cell: B7. Text: Número de modelos comparados\n",
      "1\n",
      "2\n",
      "Completed cell: E7. Text: 3 o más\n",
      "Completed cell: A8. Text: PowerBI\n",
      "Completed cell: B8. Text: Informe de una página de múltiples gráficos: claridad e interpretación\n",
      "Completed cell: C8. Text: El informe no está bien organizado, está repleto de demasiada información o se proporciona muy poca información. La información está dispersa y desvinculada, lo que hace que los gráficos sean difíciles de leer y menos útiles para extraer conclusiones.\n",
      "Completed cell: D8. Text: El informe es claro y fácil de entender, bien organizado con el uso de una visualización y representación adecuadas de la información relevante.\n",
      "Completed cell: E8. Text: El informe es visualmente atractivo, presenta visualizaciones e información adecuadas que justifican el informe como herramienta para la toma de decisiones. Las parcelas están bien etiquetadas con la profundidad de información correcta, tienen títulos significativos, usan filtros, etc.\n",
      "None\n",
      "Completed cell: B9. Text: KPI\n",
      "Completed cell: C9. Text: Los KPI no son claros o son ineficaces para el problema que definieron.\n",
      "Completed cell: D9. Text: Los KPI son identificables (bastante personalizados). Ayudan a resolver bien el problema.\n",
      "Completed cell: E9. Text: KPIs creativos y útiles para el problema que definieron.\n",
      "None\n",
      "Completed cell: B10. Text: Diseño visual claro e informativo.\n",
      "Completed cell: C10. Text: Las tramas no están bien detalladas, faltan títulos o los ejes no están bien formateados.\n",
      "Completed cell: D10. Text: Las tramas están bien detalladas, el título está presente, los ejes están formateados. Las etiquetas y descripciones son efectivas para entender de un vistazo.\n",
      "Completed cell: E10. Text: El diseño visual es un valor añadido a la trama. Las tramas están bien detalladas, con títulos presentes y ejes formateados. El tipo de letra se eligió bien y la jerarquía del texto es sólida. El texto es claro y legible. Las etiquetas y descripciones son fáciles de entender de un vistazo.\n",
      "None\n",
      "Completed cell: B11. Text: Todas las métricas claramente identificadas y trazadas\n",
      "Completed cell: C11. Text: Métricas escasas. Algunas métricas descritas no están representadas. Las comparaciones son anecdóticas o no brindan información sobre el problema,\n",
      "Completed cell: D11. Text: Todas las métricas descritas están presentes en los gráficos y tienen una o más representaciones donde se contrastan.\n",
      "Completed cell: E11. Text: La correlación entre la información es excepcional. La información conduce a la comprensión de un punto de vista. Es eficiente, no sólo eficaz.\n",
      "None\n",
      "Completed cell: B12. Text: Responde las preguntas del desafío\n",
      "Completed cell: C12. Text: Más del 50% de las preguntas no fueron respondidas o no fueron respondidas en su totalidad.\n",
      "Completed cell: D12. Text: Entre el 50% y el 90% de las preguntas fueron respondidas. Las respuestas son personalizadas y esperables.\n",
      "Completed cell: E12. Text: El 100% de las preguntas son respondidas completamente. También se propusieron y respondieron otras preguntas secundarias. Las preguntas se pueden poner en otra perspectiva. El pensamiento crítico está en su mejor momento.\n",
      "Completed cell: A13. Text: Presentación\n",
      "Completed cell: B13. Text: Tiempo\n",
      "Completed cell: C13. Text: Más de 10 minutos o más de 10 diapositivas.\n",
      "Completed cell: D13. Text: Entre 6-10 min y 6-10 portaobjetos. Emplea una estructura como: 1. Introducción, 2. Breve, 3. Problema, 4. Desafío, 5. Proceso, 6. Salida, 7. Aprendizajes 8. Próximos pasos, 9. Gracias / Contacto.\n",
      "Completed cell: E13. Text: Presentación de 5 minutos con 5 diapositivas. Emplea una estructura como la descrita en el nivel anterior.\n",
      "None\n",
      "Completed cell: B14. Text: Cuentacuentos\n",
      "Completed cell: C14. Text: La historia o narrativa no está definida. La información se entrega sin una intención clara. El compromiso es bajo.\n",
      "Completed cell: D14. Text: Hay una historia apropiada que impregna toda la presentación. La historia es a menudo sobre su propio proceso o detalles en la sesión informativa del proyecto.\n",
      "Completed cell: E14. Text: Historia convincente contada a lo largo de la presentación. El enfoque no está en el trabajo que han realizado, sino en cómo esta solución afectará al negocio oa los usuarios. El 70% de su tiempo se dedica a dirigirse directamente a la audiencia. Las figuras se muestran para provocar una reacción de la audiencia.\n",
      "None\n",
      "Completed cell: B15. Text: Diseño Visual: visualmente atractivo\n",
      "Completed cell: C15. Text: No hay una plantilla de diapositivas maestras o un estilo visual que estén siguiendo. La presentación parece desordenada, poco profesional e impide que el contenido se absorba bien.\n",
      "Completed cell: D15. Text: El uso de diapositivas maestras o plantillas es apropiado. La presentación es limpia y profesional sin ser aburrida. Hay un esfuerzo en la elección de la tipografía para la legibilidad (accesibilidad), en el contraste en su paleta de colores principal y alguna idea de una línea visual.\n",
      "Completed cell: E15. Text: La presentación está muy bien cuidada. Crearon su propia plantilla de diapositivas para acompañar el proyecto. Hay trabajo en las imágenes, agregando filtros o gráficos para hacer que estas imágenes sean aún más claras y atractivas.\n",
      "None\n",
      "Completed cell: B16. Text: Equilibrio texto + imagen\n",
      "Completed cell: C16. Text: Grandes cantidades de texto sin soporte o formato, la jerarquía de títulos, subtítulos y bloque de texto o código no está clara.\n",
      "Completed cell: D16. Text: Hay un formato de texto apropiado (estándar) que sigue las pautas para los encabezados y el texto. Hacen uso de viñetas y listas numeradas. Las imágenes que muestran más contenido visual se emplean para explicar conceptos o procesos abstractos.\n",
      "Completed cell: E16. Text: Presentación muy atractiva. Tiene una combinación de diferentes formatos de texto con jerarquías e imágenes claras. Las imágenes no son solo instantáneas de código y tramas. Además, hay algunas imágenes que tienen un propósito superior, como explicar metáforas abstractas o hacer bromas.\n",
      "None\n",
      "Completed cell: B17. Text: uso de vocabulario\n",
      "Completed cell: C17. Text: El vocabulario elegido no es apropiado o claro. Parece poco profesional.\n",
      "Completed cell: D17. Text: La elección del vocabulario es adecuada y ayuda a comprender fácilmente los conceptos explicados. El flujo del discurso es fluido.\n",
      "Completed cell: E17. Text: El lenguaje elegido es eficaz y eficiente. Incluye términos técnicos específicos, pero también los equilibra con términos más accesibles para un acceso más amplio.\n"
     ]
    }
   ],
   "source": [
    "from copy import copy\n",
    "\n",
    "for row in sheet.rows:\n",
    "    for cell in row:\n",
    "        try:\n",
    "            translated_text = GoogleTranslator(source='auto', target='es').translate(cell.value)\n",
    "            (r, c) = coordinate_to_tuple(cell.coordinate)\n",
    "            new_cell = sheet_copy.cell(row=r, column=c, value= translated_text)\n",
    "            print(f\"Completed cell: {cell.coordinate}. Text: {translated_text}\")\n",
    "        except:\n",
    "            print(cell.value)\n",
    "            pass"
   ]
  },
  {
   "cell_type": "code",
   "execution_count": 28,
   "metadata": {},
   "outputs": [],
   "source": [
    "nombre_doc = documento.split('.')[0]\n",
    "extension_doc = documento.split('.')[-1]\n",
    "workbook.save(nombre_doc + '_traducido' + '.' + extension_doc)"
   ]
  },
  {
   "cell_type": "code",
   "execution_count": null,
   "metadata": {},
   "outputs": [],
   "source": []
  }
 ],
 "metadata": {
  "kernelspec": {
   "display_name": "Python 3",
   "language": "python",
   "name": "python3"
  },
  "language_info": {
   "codemirror_mode": {
    "name": "ipython",
    "version": 3
   },
   "file_extension": ".py",
   "mimetype": "text/x-python",
   "name": "python",
   "nbconvert_exporter": "python",
   "pygments_lexer": "ipython3",
   "version": "3.7.0"
  }
 },
 "nbformat": 4,
 "nbformat_minor": 4
}
