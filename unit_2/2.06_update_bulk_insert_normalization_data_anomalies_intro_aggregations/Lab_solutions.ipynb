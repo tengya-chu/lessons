{
 "cells": [
  {
   "cell_type": "markdown",
   "metadata": {},
   "source": [
    "# Lab | SQL Queries 6\n",
    "\n",
    "In this activity we are going to do some database maintenance. In the current database we only have information on movies for the year 2006. Now we have received the film catalog for 2020 as well. For this new data we will create another table and bulk insert all the data there. Code to create a new table has been provided below.\n",
    "\n",
    "```sql\n",
    "drop table if exists films_2020;\n",
    "CREATE TABLE `films_2020` (\n",
    "  `film_id` smallint(5) unsigned NOT NULL AUTO_INCREMENT,\n",
    "  `title` varchar(255) NOT NULL,\n",
    "  `description` text,\n",
    "  `release_year` year(4) DEFAULT NULL,\n",
    "  `language_id` tinyint(3) unsigned NOT NULL,\n",
    "  `original_language_id` tinyint(3) unsigned DEFAULT NULL,\n",
    "  `rental_duration` int(6),\n",
    "  `rental_rate` decimal(4,2),\n",
    "  `length` smallint(5) unsigned DEFAULT NULL,\n",
    "  `replacement_cost` decimal(5,2) DEFAULT NULL,\n",
    "  `rating` enum('G','PG','PG-13','R','NC-17') DEFAULT NULL,\n",
    "  PRIMARY KEY (`film_id`),\n",
    "  CONSTRAINT FOREIGN KEY (`original_language_id`) REFERENCES `language` (`language_id`) ON DELETE RESTRICT ON UPDATE CASCADE\n",
    ") ENGINE=InnoDB AUTO_INCREMENT=1003 DEFAULT CHARSET=utf8;\n",
    "```\n",
    "\n",
    "<br>\n",
    "\n",
    "We have just one item for each film, and all will be placed in the new table. For 2020, the rental duration will be 3 days, with an offer price of `2.99€` and a replacement cost of `8.99€` (these are all fixed values for all movies for this year). The catalog is in a CSV file named **films_2020.csv** that can be found at `files_for_lab` folder.\n",
    "\n",
    "### Instructions\n",
    "\n",
    "- Add the new films to the database.\n",
    "- Update information on `rental_duration`, `rental_rate`, and `replacement_cost`.\n",
    "\n",
    "### Hint\n",
    "\n",
    "- You might have to use the following commands to set bulk import option to `ON`:\n",
    "\n",
    "```sql\n",
    "show variables like 'local_infile';\n",
    "set global local_infile = 1;\n",
    "```\n",
    "\n",
    "- If bulk import gives an unexpected error, you can also use the `data_import_wizard` to insert data into the new table."
   ]
  },
  {
   "cell_type": "markdown",
   "metadata": {},
   "source": [
    "## Lab Solution (check that it works!!):\n",
    "\n",
    "```sql\n",
    "show variables like 'local_infile';\n",
    "set global local_infile = 1;\n",
    "\n",
    "load data local infile './films_2020.csv' -- provide the complete path of the file\n",
    "into table films_2020\n",
    "fields terminated BY ',';\n",
    "```\n",
    "Please note: If there's an error while using the above sql query, please try and use the import wizard. Select the table and then In the file tab, go to \"Import\" and follow the steps there. Also make sure that while importing, select the option to ignore the first row in the csv file, as that contains headers of the table.\n",
    "\n",
    "```sql\n",
    "update films_2020\n",
    "set rental_duration = 3, rental_rate = 2.99, replacement_cost = 8.99\n",
    "where description = 2020;\n",
    "```\n",
    "\n",
    "You might not see the results right away. You might have to click on another table and then click back on the `films_2020` to see the changes implemented. This is one way to refresh the table. You can also use the refresh button to see the changes."
   ]
  },
  {
   "cell_type": "code",
   "execution_count": null,
   "metadata": {},
   "outputs": [],
   "source": []
  }
 ],
 "metadata": {
  "kernelspec": {
   "display_name": "Python 3 (ipykernel)",
   "language": "python",
   "name": "python3"
  },
  "language_info": {
   "codemirror_mode": {
    "name": "ipython",
    "version": 3
   },
   "file_extension": ".py",
   "mimetype": "text/x-python",
   "name": "python",
   "nbconvert_exporter": "python",
   "pygments_lexer": "ipython3",
   "version": "3.9.12"
  }
 },
 "nbformat": 4,
 "nbformat_minor": 4
}
