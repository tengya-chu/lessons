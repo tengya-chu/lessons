{
 "cells": [
  {
   "cell_type": "markdown",
   "metadata": {},
   "source": [
    "# Lesson 2.1: Intro to Databases & SQL\n",
    "\n",
    "### Lesson Duration: 3 hours\n",
    "\n",
    "> Purpose: The purpose of this lesson is to make students aware of the different data sources that data analysts come across, how to write simple queries in SQL, and extract information from SQL databases. Students will also be introduced to a different case study (case study related to the _Banking_) that we will be using during this week and the following weeks for SQL.\n",
    "\n",
    "---\n",
    "\n",
    "### Setup\n",
    "\n",
    "> :exclamation: Note: Please make sure that the students have the following tools set up before the start of the lecture. If there is any student that has not installed them yet, please ask the student to take help from the TA at the end of class.\n",
    "\n",
    "- Sequel Pro - For students using Mac\n",
    "- MySQL Workbench - For students using Windows and Linux\n",
    "\n",
    "### Learning Objectives\n",
    "\n",
    "After this lesson, students will be able to:\n",
    "\n",
    "- Identify the different tools/technologies for storing and manipulating structured and unstructured data\n",
    "- Explain the difference between database and data warehouse\n",
    "- Connect to a SQL database and write simple queries in SQL to extract relevant information\n",
    "- Develop business acumen for different business scenarios\n",
    "\n",
    "---\n",
    "\n",
    "### Lesson 1 key concepts \n",
    "\n",
    "> :clock10: 20 min\n",
    "> [**Slides - Databases**](https://docs.google.com/presentation/d/1BIVhxnoca6v4mUf3kClUTWRPduLjID-uaVILdCzmHgU/edit?usp=sharing)\n",
    "\n",
    "- Potential data sources available\n",
    "- Tools and technologies used\n",
    "- Structured vs. unstructured data\n",
    "\n",
    "> :exclamation: Note: The instructor does not need to get in depth of the topic for eg the difference between structured and unstructured data. For the moment it would be enough to just have an overview of the differences.\n",
    "---\n",
    "\n",
    ":coffee: **BREAK**\n",
    "\n",
    "---\n",
    "\n",
    "#### :pencil2: Check for Understanding - Class activity/quick quiz\n",
    "\n",
    "> :clock10: 10 min (+ 10 min Review)\n"
   ]
  },
  {
   "cell_type": "markdown",
   "metadata": {},
   "source": [
    "# 2.01 Activity 1\n",
    "\n",
    "Conduct some research on the differences between structured and unstructured data. You can use the following link for reference: [https://www.datamation.com/big-data/structured-vs-unstructured-data.html](https://www.datamation.com/big-data/structured-vs-unstructured-data.html). Feel free to use any other resource as well.\n",
    "\n",
    "Every student would explain one difference to the other students in class."
   ]
  },
  {
   "cell_type": "markdown",
   "metadata": {},
   "source": [
    "### Lesson 2 key concepts (use ppt intro to SQL)\n",
    "\n",
    "> :clock10: 20 min\n",
    "> [**Slides - Intro to SQL**](https://docs.google.com/presentation/d/1q-P3sxtKOaSWHf2V381RRY-mC-A2JOqD1KSjq8Db4I4/edit?usp=sharing)\n",
    "\n",
    "- Introduction to relational databases\n",
    "- Introduction to SQL\n",
    "- Different standards used for querying (MySQL, T-SQL, PL/SQL) - a high-level overview\n",
    "\n",
    "---"
   ]
  },
  {
   "cell_type": "markdown",
   "metadata": {},
   "source": [
    "#### :pencil2: Check for Understanding - Class activity/quick quiz\n",
    "\n",
    "> :clock10: 10 min (+ 10 min Review)"
   ]
  },
  {
   "cell_type": "markdown",
   "metadata": {},
   "source": [
    "# 2.01 Activity 2\n",
    "\n",
    "List at least three advantages of relational databases over data stored in for eg. excel sheets, google spreadsheets, and other files such as `.txt`, `.csv`, etc.\n",
    "\n",
    "\n",
    "**Hint**: For eg., different tools have been developed to work with relational databases to query data. You can also talk about ACID principles (_Google is your friend. :wink:_)."
   ]
  },
  {
   "cell_type": "markdown",
   "metadata": {},
   "source": [
    "**Solution**\n",
    "\n",
    "Some of the advantages of relational databases over file or spreadsheet data storage are mentioned below:\n",
    "\n",
    "- _Simple data storage model_: The structure in which data is stored in a relational database is simple, with information stored in tables that are linked to each other. There is no hierarchy in the tables.\n",
    "- _No data redundancy / Normalized tables_: Data is stored just once, eliminating data duplication. This is accomplished with the use of primary and foreign keys. (we will discuss this in the later lessons).\n",
    "- Large amounts of data can be stored in databases as compared to spreadsheets.\n",
    "- _Standardized Language_: There are tools that can be used by relational databases for querying large amounts of data, quickly and reliably. SQL provides a uniform platform worldwide to all its users. A large amount of data is retrieved quickly and efficiently. Operations, like insert, delete, manipulation of data are also done in almost no time."
   ]
  },
  {
   "cell_type": "markdown",
   "metadata": {},
   "source": [
    "### Lesson 3 key concepts\n",
    "\n",
    "> :clock10: 20 min\n",
    "\n",
    ":exclamation: Note for instructor: Please refer to the `files_for_lesson_and_activities/case_study_bank.md` file where we have described the business scenario\n",
    "- Introduction to the case study database\n",
    "- Connecting to SQL database (_workbench/Sequel Pro_)\n",
    "- Structure of the database, information available in different tables\n",
    "- Some business questions that we are looking to answer\n",
    "\n",
    "> The main objective to improve business by identifying customers that would be beneficial to the company. Some other ad-hoc analyses that can be performed using SQL queries have been mentioned at the end of the document.\n",
    "\n",
    "### :pencil2: Check for Understanding - Class activity/quick quiz\n",
    "\n",
    "> :clock10: 30 min"
   ]
  },
  {
   "cell_type": "markdown",
   "metadata": {},
   "source": [
    "# 2.01 Activity 3\n",
    "\n",
    "Refer to the bank database case study using `files_for_activities/case_study_bank.md` file.\n",
    "\n",
    "- Brainstorm on some questions that could be answered throught the information available in the database. You can check what kind of information can you extract from different tables provided in the database. To give you a couple of simple examples :\n",
    "    - Using the accounts table, you can find how many customers are there with the bank\n",
    "    - Using the cards table, you can find what are the different types of card services that are provided by the bank for eg classic, junior and gold\n",
    "    \n",
    "Note at this point we are only interested on the insights that could be found using the information, and not about how you will write the SQL queries to get those results."
   ]
  },
  {
   "cell_type": "markdown",
   "metadata": {},
   "source": [
    "**Solution**\n",
    "\n",
    "Some of the questions that can be answered using the information available in the database are:\n",
    "- Using the district table, we can find which are the geographic locations where the customers are from\n",
    "- Using the loan table, we can find the customers who are defaulters and who are not (using the status column); find debts on various customers (amounts-payments); categorize customers based on the payments made (for eg., customers who have paid a specific percentage of the borrowed amount or not)\n",
    "- Using the cards table, we can find the customers who have been using card services for a certain amount of time (note among these, the customers who are not defaulters can be offered other services with less risk)\n",
    "- Other analyses that we can conduct include checking most profitable customers, most active customers, customer risk analysis, and card fraud analyses"
   ]
  },
  {
   "cell_type": "markdown",
   "metadata": {},
   "source": [
    "### Lesson 4 key concepts\n",
    "\n",
    "> :clock10: 20 min\n",
    "\n",
    "- The basic structure of SQL queries\n",
    "- Simple select queries\n",
    "- Selecting columns and aliasing\n",
    "\n",
    ":exclamation: Note to instructor: Use `files_for_lesson_and_activities/mysql_dump.sql` database. Load it to Sequel Pro, and there you will find a `bank` database which we will use for the following example.\n",
    "\n",
    "```sql\n",
    "use bank;\n",
    "select * from trans;\n",
    "select * from bank.trans;\n",
    "```\n",
    "\n",
    "It is a good practice to use the name of the database followed by the name of the table since, as an analyst, you might be working with multiple databases on a server.\n",
    "\n",
    "```sql\n",
    "-- to select some columns instead of all\n",
    "select trans_id, account_id, date, type\n",
    "from bank.trans;\n",
    "\n",
    "-- to select some columns instead of all\n",
    "select bank.trans.trans_id, bank.trans.account_id, bank.trans.date, bank.trans.type\n",
    "from bank.trans;\n",
    "\n",
    "-- aliasing columns\n",
    "select trans_id as Transaction_ID, account_id as Account_ID, date as Date, type as Type_of_account\n",
    "from bank.trans;\n",
    "\n",
    "-- aliasing columns and table\n",
    "select bt.trans_id as Transaction_ID, bt.account_id as Account_ID, bt.date as Date, bt.type as Type\n",
    "from bank.trans as bt;\n",
    "\n",
    "-- limiting the number of rows in the results\n",
    "select bt.trans_id as Transaction_ID, bt.account_id as Account_ID, bt.date as Date, bt.type as Type\n",
    "from bank.trans as bt\n",
    "limit 10;\n",
    "\n",
    "-- check the number of records in a table\n",
    "select count(*) from bank.trans_id;\n",
    "```"
   ]
  },
  {
   "cell_type": "markdown",
   "metadata": {},
   "source": [
    "#### :pencil2: Check for Understanding - Class activity/quick quiz\n",
    "\n",
    "> :clock10: 10 min (+ 10 min Review)"
   ]
  },
  {
   "cell_type": "markdown",
   "metadata": {},
   "source": [
    "# 2.01 Activity 4\n",
    "\n",
    "Refer to `files_for_activities/mysql_dump.sql` database. Load it to Sequel Pro, and there you will find a `bank` database which we will use for the following exercise. This is the same database used for the class example. Keep using the `bank` database for iterations that are related to it (3 and 4).\n",
    "\n",
    "1. The `select` statement is used as a print command in SQL. Use the `select` statement to print \"Hello World\".\n",
    "2. Use the select statement to perform a simple mathematical calculation to add two numbers. \n",
    "3. Use an appropriate `select` statement to retrieve a list of unique card types from the `bank` database. (**Hint**: You can use DISTINCT function here.)\n",
    "4. Get a list of all the district names in the bank database. Suggestion is to use the `files_for_activities/case_study_extended` here to work out which column is required here because we are looking for the names of places, not just the IDs. It would be great to see the results under the heading `district_name`. (**Hint**: Use an alias.). You should have 77 rows.\n",
    "5. Bonus: Revise your query to also show the Region, and limit the results to just 30 rows. Sort the results alphabetically by district name A>Z before selecting the 30."
   ]
  },
  {
   "cell_type": "markdown",
   "metadata": {},
   "source": []
  },
  {
   "cell_type": "markdown",
   "metadata": {},
   "source": [
    "### :pencil2: Practice on key concepts - Lab\n",
    "\n",
    "> :clock10: 30 min"
   ]
  },
  {
   "cell_type": "markdown",
   "metadata": {},
   "source": [
    "![](erd.png \"Title\")"
   ]
  },
  {
   "cell_type": "markdown",
   "metadata": {},
   "source": [
    "# Lab | SQL Intro\n",
    "\n",
    "In this lab, you will be using the [Sakila](https://dev.mysql.com/doc/sakila/en/) database of movie rentals. You can follow the steps listed here to get the data locally: [Sakila sample database - installation](https://dev.mysql.com/doc/sakila/en/sakila-installation.html). You can work with two sql query files - `sakila-schema.sql` (creates the schema) + `sakila-data.sql` which inserts the data.\n",
    "\n",
    "The ERD is pictured below - not all tables are shown, but many of the key fields you will be using are visible:\n",
    "\n",
    "<br>\n",
    "\n",
    "![DB schema](https://education-team-2020.s3-eu-west-1.amazonaws.com/data-analytics/database-sakila-schema.png)\n",
    "\n",
    "<br><br>\n",
    "\n",
    "### Instructions\n",
    "\n",
    "1. Use sakila database.\n",
    "2. Get all the data from tables `actor`, `film` and `customer`.\n",
    "3. Get film titles.\n",
    "4. Get unique list of film languages under the alias `language`. Note that we are not asking you to obtain the language per each film, but this is a good time to think about how you might get that information in the future.\n",
    "5.\n",
    "  - 5.1 Find out how many stores does the company have?\n",
    "  - 5.2 Find out how many employees staff does the company have? \n",
    "  - 5.3 Return a list of employee first names only?"
   ]
  },
  {
   "cell_type": "markdown",
   "metadata": {},
   "source": []
  },
  {
   "cell_type": "markdown",
   "metadata": {},
   "source": [
    "### Additional Resources\n",
    "\n",
    "- [Data warehouse schemas, Facts vs. dimensions table](http://gkmc.utah.edu/ebis_class/2003s/Oracle/DMB26/A73318/schemas.htm)\n",
    "- [Data warehouses vs. Data Marts](https://www.talend.com/resources/what-is-data-mart/)"
   ]
  },
  {
   "cell_type": "code",
   "execution_count": null,
   "metadata": {},
   "outputs": [],
   "source": []
  }
 ],
 "metadata": {
  "kernelspec": {
   "display_name": "Python 3 (ipykernel)",
   "language": "python",
   "name": "python3"
  },
  "language_info": {
   "codemirror_mode": {
    "name": "ipython",
    "version": 3
   },
   "file_extension": ".py",
   "mimetype": "text/x-python",
   "name": "python",
   "nbconvert_exporter": "python",
   "pygments_lexer": "ipython3",
   "version": "3.9.12"
  }
 },
 "nbformat": 4,
 "nbformat_minor": 4
}
