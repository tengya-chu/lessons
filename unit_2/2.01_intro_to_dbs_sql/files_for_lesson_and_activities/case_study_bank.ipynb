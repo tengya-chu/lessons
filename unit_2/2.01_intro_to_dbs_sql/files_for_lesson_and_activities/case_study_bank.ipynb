{
 "cells": [
  {
   "cell_type": "markdown",
   "metadata": {},
   "source": [
    "# Case study: Guide to the Financial Data Set\n",
    "\n",
    "**Note**: The data provided is real anonymized Czech bank transactions, account info, and loan records released for the PKDD'99 Discovery Challenge.\n",
    "\n",
    "### Scenario\n",
    "\n",
    "You are working as an analyst for a bank. The bank offers services to the private sector. The services include managing accounts, offering loans, etc.\n",
    "\n",
    "### Objective\n",
    "\n",
    "The bank stores information about the clients, including accounts held, transactions over the last few months, loans granted, cards issued, etc. The bank managers hope to improve their understanding of customers and seek specific actions to improve services.\n",
    "\n",
    "### Tasks\n",
    "\n",
    "- Identify the good clients to whom we can offer services\n",
    "- Identify the bad clients that have to watch carefully to minimize the losses\n",
    "\n",
    "### E-R Diagram\n",
    "\n",
    "![bank schema](https://education-team-2020.s3-eu-west-1.amazonaws.com/data-analytics/case_study_bank_schema.png)\n",
    "\n",
    "Here are some details about the relations:\n",
    "\n",
    "- Relation \"client\" describes the characteristics of people who can manipulate with accounts. One client can have multiple accounts.\n",
    "- Relation \"disposition\" links related clients and accounts. Multiple clients can manipulate with a single account.\n",
    "- Relations \"loan\" and \"credit card\" describe some services which the bank offers to its clients; more credit cards can be issued to an account, at most one loan can be granted for an account.\n",
    "- Relation \"demographic data\" gives some publicly available information about the districts (e.g. the unemployment rate); additional information about the clients can be deduced from this.\n",
    "\n",
    "For more details about the relations and the attribute descriptions, please refer to the pdf document (`case_study_extended.pdf`).\n",
    "\n",
    "**Other questions that can help improve business:**\n",
    "\n",
    "- What percentage of accounts have more than one client accessing the account? The disposition table, type column.\n",
    "- How much of the cards’ information is available in this database, and what are the different kinds of cards offered by the bank?\n",
    "- Where are most of the customers located (district)?\n"
   ]
  },
  {
   "cell_type": "code",
   "execution_count": null,
   "metadata": {},
   "outputs": [],
   "source": []
  }
 ],
 "metadata": {
  "kernelspec": {
   "display_name": "Python 3",
   "language": "python",
   "name": "python3"
  },
  "language_info": {
   "codemirror_mode": {
    "name": "ipython",
    "version": 3
   },
   "file_extension": ".py",
   "mimetype": "text/x-python",
   "name": "python",
   "nbconvert_exporter": "python",
   "pygments_lexer": "ipython3",
   "version": "3.7.0"
  }
 },
 "nbformat": 4,
 "nbformat_minor": 4
}
