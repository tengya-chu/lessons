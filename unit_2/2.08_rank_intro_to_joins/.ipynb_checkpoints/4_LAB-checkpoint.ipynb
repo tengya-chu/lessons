{
 "cells": [
  {
   "cell_type": "markdown",
   "metadata": {},
   "source": [
    "# Lab | SQL Queries 8\n",
    "\n",
    "In this lab, you will be using the [Sakila](https://dev.mysql.com/doc/sakila/en/) database of movie rentals. You have been using this database for a couple labs already, but if you need to get the data again, refer to the official [installation link](https://dev.mysql.com/doc/sakila/en/sakila-installation.html).\n",
    "\n",
    "The database is structured as follows:\n",
    "![DB schema](https://education-team-2020.s3-eu-west-1.amazonaws.com/data-analytics/database-sakila-schema.png)\n",
    "\n",
    "### Instructions\n",
    "\n",
    "1. Rank films by length (filter out the rows with nulls or zeros in length column). Select only columns title, length and rank in your output.\n",
    "2. Rank films by length within the `rating` category (filter out the rows with nulls or zeros in length column). In your output, only select the columns title, length, rating and rank.  \n",
    "3. How many films are there for each of the categories in the category table? **Hint**: Use appropriate join between the tables \"category\" and \"film_category\".\n",
    "4. Which actor has appeared in the most films? **Hint**: You can create a join between the tables \"actor\" and \"film actor\" and count the number of times an actor appears.\n",
    "5. Which is the most active customer (the customer that has rented the most number of films)? **Hint**: Use appropriate join between the tables \"customer\" and \"rental\" and count the `rental_id` for each customer.\n",
    "\n",
    "**Bonus**: Which is the most rented film? (The answer is Bucket Brotherhood).\n",
    "\n",
    "This query might require using more than one join statement. Give it a try. We will talk about queries with multiple join statements later in the lessons.\n",
    "\n",
    "**Hint**: You can use join between three tables - \"Film\", \"Inventory\", and \"Rental\" and count the *rental ids* for each film."
   ]
  },
  {
   "cell_type": "markdown",
   "metadata": {},
   "source": [
    "# Your solution here:"
   ]
  },
  {
   "cell_type": "code",
   "execution_count": 1,
   "metadata": {},
   "outputs": [],
   "source": [
    "import pymysql\n",
    "from sqlalchemy import create_engine\n",
    "import pandas as pd\n",
    "import getpass  # To get the password without showing the input"
   ]
  },
  {
   "cell_type": "markdown",
   "metadata": {},
   "source": [
    "##### Prepare SQL connection"
   ]
  },
  {
   "cell_type": "code",
   "execution_count": 3,
   "metadata": {},
   "outputs": [
    {
     "name": "stdout",
     "output_type": "stream",
     "text": [
      "The sql extension is already loaded. To reload it, use:\n",
      "  %reload_ext sql\n"
     ]
    },
    {
     "data": {
      "text/plain": [
       "'Connected: root@bank'"
      ]
     },
     "execution_count": 3,
     "metadata": {},
     "output_type": "execute_result"
    }
   ],
   "source": [
    "### password = getpass.getpass()\n",
    "connection_string = 'mysql+pymysql://root:' + password + '@localhost/bank'\n",
    "engine = create_engine(connection_string)\n",
    "%load_ext sql\n",
    "%sql {connection_string}"
   ]
  },
  {
   "cell_type": "code",
   "execution_count": 4,
   "metadata": {},
   "outputs": [],
   "source": [
    "# Your code:"
   ]
  },
  {
   "cell_type": "code",
   "execution_count": null,
   "metadata": {},
   "outputs": [],
   "source": []
  }
 ],
 "metadata": {
  "kernelspec": {
   "display_name": "Python 3",
   "language": "python",
   "name": "python3"
  },
  "language_info": {
   "codemirror_mode": {
    "name": "ipython",
    "version": 3
   },
   "file_extension": ".py",
   "mimetype": "text/x-python",
   "name": "python",
   "nbconvert_exporter": "python",
   "pygments_lexer": "ipython3",
   "version": "3.7.0"
  }
 },
 "nbformat": 4,
 "nbformat_minor": 4
}
